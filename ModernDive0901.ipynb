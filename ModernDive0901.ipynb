{
 "cells": [
  {
   "cell_type": "code",
   "execution_count": 3,
   "metadata": {
    "vscode": {
     "languageId": "r"
    }
   },
   "outputs": [],
   "source": [
    "library(\"tidyverse\")\n",
    "library(\"infer\")\n",
    "library(\"moderndive\")\n",
    "library(\"nycflights13\")\n",
    "library(\"ggplot2movies\")"
   ]
  },
  {
   "cell_type": "code",
   "execution_count": 9,
   "metadata": {
    "vscode": {
     "languageId": "r"
    }
   },
   "outputs": [
    {
     "data": {
      "text/html": [
       "<table class=\"dataframe\">\n",
       "<caption>A tibble: 6 × 3</caption>\n",
       "<thead>\n",
       "\t<tr><th scope=col>id</th><th scope=col>decision</th><th scope=col>gender</th></tr>\n",
       "\t<tr><th scope=col>&lt;int&gt;</th><th scope=col>&lt;fct&gt;</th><th scope=col>&lt;fct&gt;</th></tr>\n",
       "</thead>\n",
       "<tbody>\n",
       "\t<tr><td>12</td><td>promoted</td><td>male  </td></tr>\n",
       "\t<tr><td>28</td><td>promoted</td><td>female</td></tr>\n",
       "\t<tr><td>31</td><td>promoted</td><td>female</td></tr>\n",
       "\t<tr><td>35</td><td>promoted</td><td>female</td></tr>\n",
       "\t<tr><td>40</td><td>not     </td><td>female</td></tr>\n",
       "\t<tr><td>48</td><td>not     </td><td>female</td></tr>\n",
       "</tbody>\n",
       "</table>\n"
      ],
      "text/latex": [
       "A tibble: 6 × 3\n",
       "\\begin{tabular}{lll}\n",
       " id & decision & gender\\\\\n",
       " <int> & <fct> & <fct>\\\\\n",
       "\\hline\n",
       "\t 12 & promoted & male  \\\\\n",
       "\t 28 & promoted & female\\\\\n",
       "\t 31 & promoted & female\\\\\n",
       "\t 35 & promoted & female\\\\\n",
       "\t 40 & not      & female\\\\\n",
       "\t 48 & not      & female\\\\\n",
       "\\end{tabular}\n"
      ],
      "text/markdown": [
       "\n",
       "A tibble: 6 × 3\n",
       "\n",
       "| id &lt;int&gt; | decision &lt;fct&gt; | gender &lt;fct&gt; |\n",
       "|---|---|---|\n",
       "| 12 | promoted | male   |\n",
       "| 28 | promoted | female |\n",
       "| 31 | promoted | female |\n",
       "| 35 | promoted | female |\n",
       "| 40 | not      | female |\n",
       "| 48 | not      | female |\n",
       "\n"
      ],
      "text/plain": [
       "  id decision gender\n",
       "1 12 promoted male  \n",
       "2 28 promoted female\n",
       "3 31 promoted female\n",
       "4 35 promoted female\n",
       "5 40 not      female\n",
       "6 48 not      female"
      ]
     },
     "metadata": {},
     "output_type": "display_data"
    }
   ],
   "source": [
    "promotions |> sample_n(6) |> arrange(id)"
   ]
  },
  {
   "cell_type": "code",
   "execution_count": 7,
   "metadata": {
    "vscode": {
     "languageId": "r"
    }
   },
   "outputs": [
    {
     "data": {
      "image/png": "[encoded data removed]",
      "text/plain": [
       "plot without title"
      ]
     },
     "metadata": {
      "image/png": {
       "height": 420,
       "width": 420
      }
     },
     "output_type": "display_data"
    }
   ],
   "source": [
    "ggplot(promotions, aes(x = gender, fill = decision)) +\n",
    "  geom_bar() +\n",
    "  labs(x = \"Gender of name on résumé\")"
   ]
  },
  {
   "cell_type": "code",
   "execution_count": 11,
   "metadata": {
    "vscode": {
     "languageId": "r"
    }
   },
   "outputs": [
    {
     "data": {
      "image/png": "[encoded data removed]",
      "text/plain": [
       "plot without title"
      ]
     },
     "metadata": {
      "image/png": {
       "height": 420,
       "width": 420
      }
     },
     "output_type": "display_data"
    }
   ],
   "source": [
    "ggplot(promotions_shuffled, aes(x = gender, fill = decision)) +\n",
    "  geom_bar() +\n",
    "  labs(x = \"Gender of name on résumé\")"
   ]
  },
  {
   "cell_type": "code",
   "execution_count": 15,
   "metadata": {
    "vscode": {
     "languageId": "r"
    }
   },
   "outputs": [
    {
     "data": {
      "text/html": [
       "<table class=\"dataframe\">\n",
       "<caption>A grouped_df: 4 × 3</caption>\n",
       "<thead>\n",
       "\t<tr><th scope=col>gender</th><th scope=col>decision</th><th scope=col>n</th></tr>\n",
       "\t<tr><th scope=col>&lt;fct&gt;</th><th scope=col>&lt;fct&gt;</th><th scope=col>&lt;int&gt;</th></tr>\n",
       "</thead>\n",
       "<tbody>\n",
       "\t<tr><td>male  </td><td>not     </td><td> 3</td></tr>\n",
       "\t<tr><td>male  </td><td>promoted</td><td>21</td></tr>\n",
       "\t<tr><td>female</td><td>not     </td><td>10</td></tr>\n",
       "\t<tr><td>female</td><td>promoted</td><td>14</td></tr>\n",
       "</tbody>\n",
       "</table>\n"
      ],
      "text/latex": [
       "A grouped\\_df: 4 × 3\n",
       "\\begin{tabular}{lll}\n",
       " gender & decision & n\\\\\n",
       " <fct> & <fct> & <int>\\\\\n",
       "\\hline\n",
       "\t male   & not      &  3\\\\\n",
       "\t male   & promoted & 21\\\\\n",
       "\t female & not      & 10\\\\\n",
       "\t female & promoted & 14\\\\\n",
       "\\end{tabular}\n"
      ],
      "text/markdown": [
       "\n",
       "A grouped_df: 4 × 3\n",
       "\n",
       "| gender &lt;fct&gt; | decision &lt;fct&gt; | n &lt;int&gt; |\n",
       "|---|---|---|\n",
       "| male   | not      |  3 |\n",
       "| male   | promoted | 21 |\n",
       "| female | not      | 10 |\n",
       "| female | promoted | 14 |\n",
       "\n"
      ],
      "text/plain": [
       "  gender decision n \n",
       "1 male   not       3\n",
       "2 male   promoted 21\n",
       "3 female not      10\n",
       "4 female promoted 14"
      ]
     },
     "metadata": {},
     "output_type": "display_data"
    }
   ],
   "source": [
    "promotions |> group_by(gender, decision) |> tally()"
   ]
  },
  {
   "cell_type": "code",
   "execution_count": 12,
   "metadata": {
    "vscode": {
     "languageId": "r"
    }
   },
   "outputs": [
    {
     "data": {
      "text/html": [
       "<table class=\"dataframe\">\n",
       "<caption>A grouped_df: 4 × 3</caption>\n",
       "<thead>\n",
       "\t<tr><th scope=col>gender</th><th scope=col>decision</th><th scope=col>n</th></tr>\n",
       "\t<tr><th scope=col>&lt;fct&gt;</th><th scope=col>&lt;fct&gt;</th><th scope=col>&lt;int&gt;</th></tr>\n",
       "</thead>\n",
       "<tbody>\n",
       "\t<tr><td>male  </td><td>not     </td><td> 6</td></tr>\n",
       "\t<tr><td>male  </td><td>promoted</td><td>18</td></tr>\n",
       "\t<tr><td>female</td><td>not     </td><td> 7</td></tr>\n",
       "\t<tr><td>female</td><td>promoted</td><td>17</td></tr>\n",
       "</tbody>\n",
       "</table>\n"
      ],
      "text/latex": [
       "A grouped\\_df: 4 × 3\n",
       "\\begin{tabular}{lll}\n",
       " gender & decision & n\\\\\n",
       " <fct> & <fct> & <int>\\\\\n",
       "\\hline\n",
       "\t male   & not      &  6\\\\\n",
       "\t male   & promoted & 18\\\\\n",
       "\t female & not      &  7\\\\\n",
       "\t female & promoted & 17\\\\\n",
       "\\end{tabular}\n"
      ],
      "text/markdown": [
       "\n",
       "A grouped_df: 4 × 3\n",
       "\n",
       "| gender &lt;fct&gt; | decision &lt;fct&gt; | n &lt;int&gt; |\n",
       "|---|---|---|\n",
       "| male   | not      |  6 |\n",
       "| male   | promoted | 18 |\n",
       "| female | not      |  7 |\n",
       "| female | promoted | 17 |\n",
       "\n"
      ],
      "text/plain": [
       "  gender decision n \n",
       "1 male   not       6\n",
       "2 male   promoted 18\n",
       "3 female not       7\n",
       "4 female promoted 17"
      ]
     },
     "metadata": {},
     "output_type": "display_data"
    }
   ],
   "source": [
    "promotions_shuffled |> group_by(gender, decision) |> tally()"
   ]
  },
  {
   "cell_type": "code",
   "execution_count": 23,
   "metadata": {
    "vscode": {
     "languageId": "r"
    }
   },
   "outputs": [
    {
     "data": {
      "text/html": [
       "87.5"
      ],
      "text/latex": [
       "87.5"
      ],
      "text/markdown": [
       "87.5"
      ],
      "text/plain": [
       "[1] 87.5"
      ]
     },
     "metadata": {},
     "output_type": "display_data"
    },
    {
     "data": {
      "text/html": [
       "58.3333333333333"
      ],
      "text/latex": [
       "58.3333333333333"
      ],
      "text/markdown": [
       "58.3333333333333"
      ],
      "text/plain": [
       "[1] 58.33333"
      ]
     },
     "metadata": {},
     "output_type": "display_data"
    },
    {
     "data": {
      "text/html": [
       "75"
      ],
      "text/latex": [
       "75"
      ],
      "text/markdown": [
       "75"
      ],
      "text/plain": [
       "[1] 75"
      ]
     },
     "metadata": {},
     "output_type": "display_data"
    },
    {
     "data": {
      "text/html": [
       "70.8333333333333"
      ],
      "text/latex": [
       "70.8333333333333"
      ],
      "text/markdown": [
       "70.8333333333333"
      ],
      "text/plain": [
       "[1] 70.83333"
      ]
     },
     "metadata": {},
     "output_type": "display_data"
    },
    {
     "data": {
      "text/html": [
       "29.1666666666667"
      ],
      "text/latex": [
       "29.1666666666667"
      ],
      "text/markdown": [
       "29.1666666666667"
      ],
      "text/plain": [
       "[1] 29.16667"
      ]
     },
     "metadata": {},
     "output_type": "display_data"
    },
    {
     "data": {
      "text/html": [
       "4.16666666666666"
      ],
      "text/latex": [
       "4.16666666666666"
      ],
      "text/markdown": [
       "4.16666666666666"
      ],
      "text/plain": [
       "[1] 4.166667"
      ]
     },
     "metadata": {},
     "output_type": "display_data"
    }
   ],
   "source": [
    "(21/24*100)\n",
    "(14/24*100)\n",
    "(18/24*100)\n",
    "(17/24*100)\n",
    "(21/24*100) - (14/24*100)\n",
    "(18/24*100) - (17/24*100)"
   ]
  },
  {
   "cell_type": "markdown",
   "metadata": {},
   "source": [
    "# Conducting hypothesis tests\n",
    "<h4>\n",
    "<ol>\n",
    "<li><b>specify()</b> the variables of interest in your data frame.</li>\n",
    "<li><b>generate()</b> replicates of bootstrap resamples with replacement.</li>\n",
    "<li><b>calculate()</b> the summary statistic of interest.</li>\n",
    "<li><b>visualize()</b> the resulting bootstrap distribution and confidence interval.</li>\n",
    "</ol>\n",
    "</h4>"
   ]
  },
  {
   "cell_type": "code",
   "execution_count": 36,
   "metadata": {
    "vscode": {
     "languageId": "r"
    }
   },
   "outputs": [
    {
     "data": {
      "text/html": [
       "<table class=\"dataframe\">\n",
       "<caption>A infer: 6 × 2</caption>\n",
       "<thead>\n",
       "\t<tr><th scope=col>decision</th><th scope=col>gender</th></tr>\n",
       "\t<tr><th scope=col>&lt;fct&gt;</th><th scope=col>&lt;fct&gt;</th></tr>\n",
       "</thead>\n",
       "<tbody>\n",
       "\t<tr><td>promoted</td><td>male</td></tr>\n",
       "\t<tr><td>promoted</td><td>male</td></tr>\n",
       "\t<tr><td>promoted</td><td>male</td></tr>\n",
       "\t<tr><td>promoted</td><td>male</td></tr>\n",
       "\t<tr><td>promoted</td><td>male</td></tr>\n",
       "\t<tr><td>promoted</td><td>male</td></tr>\n",
       "</tbody>\n",
       "</table>\n"
      ],
      "text/latex": [
       "A infer: 6 × 2\n",
       "\\begin{tabular}{ll}\n",
       " decision & gender\\\\\n",
       " <fct> & <fct>\\\\\n",
       "\\hline\n",
       "\t promoted & male\\\\\n",
       "\t promoted & male\\\\\n",
       "\t promoted & male\\\\\n",
       "\t promoted & male\\\\\n",
       "\t promoted & male\\\\\n",
       "\t promoted & male\\\\\n",
       "\\end{tabular}\n"
      ],
      "text/markdown": [
       "\n",
       "A infer: 6 × 2\n",
       "\n",
       "| decision &lt;fct&gt; | gender &lt;fct&gt; |\n",
       "|---|---|\n",
       "| promoted | male |\n",
       "| promoted | male |\n",
       "| promoted | male |\n",
       "| promoted | male |\n",
       "| promoted | male |\n",
       "| promoted | male |\n",
       "\n"
      ],
      "text/plain": [
       "  decision gender\n",
       "1 promoted male  \n",
       "2 promoted male  \n",
       "3 promoted male  \n",
       "4 promoted male  \n",
       "5 promoted male  \n",
       "6 promoted male  "
      ]
     },
     "metadata": {},
     "output_type": "display_data"
    }
   ],
   "source": [
    "promotions |>\n",
    "  specify(formula = decision ~ gender, success = \"promoted\") |> head()"
   ]
  },
  {
   "cell_type": "code",
   "execution_count": 37,
   "metadata": {
    "vscode": {
     "languageId": "r"
    }
   },
   "outputs": [
    {
     "data": {
      "text/html": [
       "<table class=\"dataframe\">\n",
       "<caption>A infer: 6 × 2</caption>\n",
       "<thead>\n",
       "\t<tr><th scope=col>decision</th><th scope=col>gender</th></tr>\n",
       "\t<tr><th scope=col>&lt;fct&gt;</th><th scope=col>&lt;fct&gt;</th></tr>\n",
       "</thead>\n",
       "<tbody>\n",
       "\t<tr><td>promoted</td><td>male</td></tr>\n",
       "\t<tr><td>promoted</td><td>male</td></tr>\n",
       "\t<tr><td>promoted</td><td>male</td></tr>\n",
       "\t<tr><td>promoted</td><td>male</td></tr>\n",
       "\t<tr><td>promoted</td><td>male</td></tr>\n",
       "\t<tr><td>promoted</td><td>male</td></tr>\n",
       "</tbody>\n",
       "</table>\n"
      ],
      "text/latex": [
       "A infer: 6 × 2\n",
       "\\begin{tabular}{ll}\n",
       " decision & gender\\\\\n",
       " <fct> & <fct>\\\\\n",
       "\\hline\n",
       "\t promoted & male\\\\\n",
       "\t promoted & male\\\\\n",
       "\t promoted & male\\\\\n",
       "\t promoted & male\\\\\n",
       "\t promoted & male\\\\\n",
       "\t promoted & male\\\\\n",
       "\\end{tabular}\n"
      ],
      "text/markdown": [
       "\n",
       "A infer: 6 × 2\n",
       "\n",
       "| decision &lt;fct&gt; | gender &lt;fct&gt; |\n",
       "|---|---|\n",
       "| promoted | male |\n",
       "| promoted | male |\n",
       "| promoted | male |\n",
       "| promoted | male |\n",
       "| promoted | male |\n",
       "| promoted | male |\n",
       "\n"
      ],
      "text/plain": [
       "  decision gender\n",
       "1 promoted male  \n",
       "2 promoted male  \n",
       "3 promoted male  \n",
       "4 promoted male  \n",
       "5 promoted male  \n",
       "6 promoted male  "
      ]
     },
     "metadata": {},
     "output_type": "display_data"
    }
   ],
   "source": [
    "promotions |>\n",
    "  specify(formula = decision ~ gender, success = \"promoted\") |>\n",
    "  hypothesize(\"independence\") |> head()"
   ]
  },
  {
   "cell_type": "code",
   "execution_count": 40,
   "metadata": {
    "vscode": {
     "languageId": "r"
    }
   },
   "outputs": [
    {
     "data": {
      "text/html": [
       "48000"
      ],
      "text/latex": [
       "48000"
      ],
      "text/markdown": [
       "48000"
      ],
      "text/plain": [
       "[1] 48000"
      ]
     },
     "metadata": {},
     "output_type": "display_data"
    }
   ],
   "source": [
    "promotions |>\n",
    "  specify(formula = decision ~ gender, success = \"promoted\") |>\n",
    "  hypothesize(\"independence\") |>\n",
    "  generate(1000,type = \"permute\") |> nrow()"
   ]
  },
  {
   "cell_type": "code",
   "execution_count": 46,
   "metadata": {
    "vscode": {
     "languageId": "r"
    }
   },
   "outputs": [
    {
     "data": {
      "text/html": [
       "<table class=\"dataframe\">\n",
       "<caption>A infer: 6 × 2</caption>\n",
       "<thead>\n",
       "\t<tr><th scope=col>replicate</th><th scope=col>stat</th></tr>\n",
       "\t<tr><th scope=col>&lt;int&gt;</th><th scope=col>&lt;dbl&gt;</th></tr>\n",
       "</thead>\n",
       "<tbody>\n",
       "\t<tr><td>1</td><td>-0.04166667</td></tr>\n",
       "\t<tr><td>2</td><td> 0.04166667</td></tr>\n",
       "\t<tr><td>3</td><td>-0.12500000</td></tr>\n",
       "\t<tr><td>4</td><td> 0.20833333</td></tr>\n",
       "\t<tr><td>5</td><td>-0.12500000</td></tr>\n",
       "\t<tr><td>6</td><td>-0.12500000</td></tr>\n",
       "</tbody>\n",
       "</table>\n"
      ],
      "text/latex": [
       "A infer: 6 × 2\n",
       "\\begin{tabular}{ll}\n",
       " replicate & stat\\\\\n",
       " <int> & <dbl>\\\\\n",
       "\\hline\n",
       "\t 1 & -0.04166667\\\\\n",
       "\t 2 &  0.04166667\\\\\n",
       "\t 3 & -0.12500000\\\\\n",
       "\t 4 &  0.20833333\\\\\n",
       "\t 5 & -0.12500000\\\\\n",
       "\t 6 & -0.12500000\\\\\n",
       "\\end{tabular}\n"
      ],
      "text/markdown": [
       "\n",
       "A infer: 6 × 2\n",
       "\n",
       "| replicate &lt;int&gt; | stat &lt;dbl&gt; |\n",
       "|---|---|\n",
       "| 1 | -0.04166667 |\n",
       "| 2 |  0.04166667 |\n",
       "| 3 | -0.12500000 |\n",
       "| 4 |  0.20833333 |\n",
       "| 5 | -0.12500000 |\n",
       "| 6 | -0.12500000 |\n",
       "\n"
      ],
      "text/plain": [
       "  replicate stat       \n",
       "1 1         -0.04166667\n",
       "2 2          0.04166667\n",
       "3 3         -0.12500000\n",
       "4 4          0.20833333\n",
       "5 5         -0.12500000\n",
       "6 6         -0.12500000"
      ]
     },
     "metadata": {},
     "output_type": "display_data"
    }
   ],
   "source": [
    "null_distribution <- promotions |>\n",
    "  specify(formula = decision ~ gender, success = \"promoted\") |>\n",
    "  hypothesize(\"independence\") |>\n",
    "  generate(1000,type = \"permute\") |>\n",
    "  calculate(stat = \"diff in props\", order = c(\"male\", \"female\"))# ˆp male − ˆp female \n",
    "  \n",
    "null_distribution |> head()"
   ]
  },
  {
   "cell_type": "code",
   "execution_count": 47,
   "metadata": {
    "vscode": {
     "languageId": "r"
    }
   },
   "outputs": [
    {
     "data": {
      "text/html": [
       "<table class=\"dataframe\">\n",
       "<caption>A infer: 1 × 1</caption>\n",
       "<thead>\n",
       "\t<tr><th scope=col>stat</th></tr>\n",
       "\t<tr><th scope=col>&lt;dbl&gt;</th></tr>\n",
       "</thead>\n",
       "<tbody>\n",
       "\t<tr><td>0.2916667</td></tr>\n",
       "</tbody>\n",
       "</table>\n"
      ],
      "text/latex": [
       "A infer: 1 × 1\n",
       "\\begin{tabular}{l}\n",
       " stat\\\\\n",
       " <dbl>\\\\\n",
       "\\hline\n",
       "\t 0.2916667\\\\\n",
       "\\end{tabular}\n"
      ],
      "text/markdown": [
       "\n",
       "A infer: 1 × 1\n",
       "\n",
       "| stat &lt;dbl&gt; |\n",
       "|---|\n",
       "| 0.2916667 |\n",
       "\n"
      ],
      "text/plain": [
       "  stat     \n",
       "1 0.2916667"
      ]
     },
     "metadata": {},
     "output_type": "display_data"
    }
   ],
   "source": [
    "obs_diff_prop <- promotions |>\n",
    "  specify(formula = decision ~ gender, success = \"promoted\") |>\n",
    "  calculate(stat = \"diff in props\", order = c(\"male\", \"female\")) # p male − p female\n",
    "\n",
    "obs_diff_prop"
   ]
  },
  {
   "cell_type": "code",
   "execution_count": 51,
   "metadata": {
    "vscode": {
     "languageId": "r"
    }
   },
   "outputs": [
    {
     "data": {
      "image/png": "[encoded data removed]",
      "text/plain": [
       "plot without title"
      ]
     },
     "metadata": {
      "image/png": {
       "height": 420,
       "width": 420
      }
     },
     "output_type": "display_data"
    }
   ],
   "source": [
    "null_distribution |> visualize(bins = 10) +\n",
    "  shade_p_value(obs_stat = obs_diff_prop, direction = \"right\")"
   ]
  },
  {
   "cell_type": "markdown",
   "metadata": {},
   "source": [
    "# Comparison with confidence intervals"
   ]
  },
  {
   "cell_type": "code",
   "execution_count": 56,
   "metadata": {
    "vscode": {
     "languageId": "r"
    }
   },
   "outputs": [
    {
     "data": {
      "text/html": [
       "<table class=\"dataframe\">\n",
       "<caption>A infer: 6 × 2</caption>\n",
       "<thead>\n",
       "\t<tr><th scope=col>replicate</th><th scope=col>stat</th></tr>\n",
       "\t<tr><th scope=col>&lt;int&gt;</th><th scope=col>&lt;dbl&gt;</th></tr>\n",
       "</thead>\n",
       "<tbody>\n",
       "\t<tr><td>1</td><td>0.13756614</td></tr>\n",
       "\t<tr><td>2</td><td>0.25000000</td></tr>\n",
       "\t<tr><td>3</td><td>0.27142857</td></tr>\n",
       "\t<tr><td>4</td><td>0.42328042</td></tr>\n",
       "\t<tr><td>5</td><td>0.34301270</td></tr>\n",
       "\t<tr><td>6</td><td>0.01212121</td></tr>\n",
       "</tbody>\n",
       "</table>\n"
      ],
      "text/latex": [
       "A infer: 6 × 2\n",
       "\\begin{tabular}{ll}\n",
       " replicate & stat\\\\\n",
       " <int> & <dbl>\\\\\n",
       "\\hline\n",
       "\t 1 & 0.13756614\\\\\n",
       "\t 2 & 0.25000000\\\\\n",
       "\t 3 & 0.27142857\\\\\n",
       "\t 4 & 0.42328042\\\\\n",
       "\t 5 & 0.34301270\\\\\n",
       "\t 6 & 0.01212121\\\\\n",
       "\\end{tabular}\n"
      ],
      "text/markdown": [
       "\n",
       "A infer: 6 × 2\n",
       "\n",
       "| replicate &lt;int&gt; | stat &lt;dbl&gt; |\n",
       "|---|---|\n",
       "| 1 | 0.13756614 |\n",
       "| 2 | 0.25000000 |\n",
       "| 3 | 0.27142857 |\n",
       "| 4 | 0.42328042 |\n",
       "| 5 | 0.34301270 |\n",
       "| 6 | 0.01212121 |\n",
       "\n"
      ],
      "text/plain": [
       "  replicate stat      \n",
       "1 1         0.13756614\n",
       "2 2         0.25000000\n",
       "3 3         0.27142857\n",
       "4 4         0.42328042\n",
       "5 5         0.34301270\n",
       "6 6         0.01212121"
      ]
     },
     "metadata": {},
     "output_type": "display_data"
    }
   ],
   "source": [
    "bootstrap_distribution  <- promotions |>\n",
    "  specify(formula = decision ~ gender, success = \"promoted\") |>\n",
    "  generate(reps = 1000, type = \"bootstrap\") |>\n",
    "  calculate(stat = \"diff in props\", order = c(\"male\", \"female\")) # ˆp male − ˆp female \n",
    "  \n",
    "bootstrap_distribution |> head()"
   ]
  },
  {
   "cell_type": "code",
   "execution_count": 57,
   "metadata": {
    "vscode": {
     "languageId": "r"
    }
   },
   "outputs": [
    {
     "data": {
      "text/html": [
       "<table class=\"dataframe\">\n",
       "<caption>A tibble: 1 × 2</caption>\n",
       "<thead>\n",
       "\t<tr><th scope=col>lower_ci</th><th scope=col>upper_ci</th></tr>\n",
       "\t<tr><th scope=col>&lt;dbl&gt;</th><th scope=col>&lt;dbl&gt;</th></tr>\n",
       "</thead>\n",
       "<tbody>\n",
       "\t<tr><td>0.04283467</td><td>0.5252174</td></tr>\n",
       "</tbody>\n",
       "</table>\n"
      ],
      "text/latex": [
       "A tibble: 1 × 2\n",
       "\\begin{tabular}{ll}\n",
       " lower\\_ci & upper\\_ci\\\\\n",
       " <dbl> & <dbl>\\\\\n",
       "\\hline\n",
       "\t 0.04283467 & 0.5252174\\\\\n",
       "\\end{tabular}\n"
      ],
      "text/markdown": [
       "\n",
       "A tibble: 1 × 2\n",
       "\n",
       "| lower_ci &lt;dbl&gt; | upper_ci &lt;dbl&gt; |\n",
       "|---|---|\n",
       "| 0.04283467 | 0.5252174 |\n",
       "\n"
      ],
      "text/plain": [
       "  lower_ci   upper_ci \n",
       "1 0.04283467 0.5252174"
      ]
     },
     "metadata": {},
     "output_type": "display_data"
    }
   ],
   "source": [
    "percentile_ci <- bootstrap_distribution |> get_confidence_interval(level = 0.95, type = \"percentile\")\n",
    "\n",
    "percentile_ci"
   ]
  },
  {
   "cell_type": "code",
   "execution_count": 60,
   "metadata": {
    "vscode": {
     "languageId": "r"
    }
   },
   "outputs": [
    {
     "data": {
      "image/png": "[encoded data removed]",
      "text/plain": [
       "plot without title"
      ]
     },
     "metadata": {
      "image/png": {
       "height": 420,
       "width": 420
      }
     },
     "output_type": "display_data"
    }
   ],
   "source": [
    "visualize(bootstrap_distribution) + shade_confidence_interval(endpoints = percentile_ci)"
   ]
  },
  {
   "cell_type": "markdown",
   "metadata": {},
   "source": [
    "<h5>Notice a key value that is not included in the 95% confidence interval for <i>p<sub>m</sub> - p<sub>f</sub></i> : the value 0. In other words, a difference of 0 is not included in our net, suggesting that and are truly different! <br /> Furthermore, observe how the entirety of the 95% confidence interval for lies above 0, suggesting that this difference is in favor of men.</h5>"
   ]
  },
  {
   "cell_type": "markdown",
   "metadata": {},
   "source": []
  }
 ],
 "metadata": {
  "kernelspec": {
   "display_name": "R",
   "language": "R",
   "name": "ir"
  },
  "language_info": {
   "codemirror_mode": "r",
   "file_extension": ".r",
   "mimetype": "text/x-r-source",
   "name": "R",
   "pygments_lexer": "r",
   "version": "4.4.1"
  }
 },
 "nbformat": 4,
 "nbformat_minor": 2
}
