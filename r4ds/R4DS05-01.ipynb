{
 "cells": [
  {
   "cell_type": "code",
   "execution_count": 1,
   "id": "861c4127-a700-4ce1-81e7-621d23cae466",
   "metadata": {
    "vscode": {
     "languageId": "r"
    }
   },
   "outputs": [
    {
     "name": "stderr",
     "output_type": "stream",
     "text": [
      "── \u001b[1mAttaching core tidyverse packages\u001b[22m ──────────────────────── tidyverse 2.0.0 ──\n",
      "\u001b[32m✔\u001b[39m \u001b[34mdplyr    \u001b[39m 1.1.4     \u001b[32m✔\u001b[39m \u001b[34mreadr    \u001b[39m 2.1.5\n",
      "\u001b[32m✔\u001b[39m \u001b[34mforcats  \u001b[39m 1.0.0     \u001b[32m✔\u001b[39m \u001b[34mstringr  \u001b[39m 1.5.1\n",
      "\u001b[32m✔\u001b[39m \u001b[34mggplot2  \u001b[39m 3.5.1     \u001b[32m✔\u001b[39m \u001b[34mtibble   \u001b[39m 3.2.1\n",
      "\u001b[32m✔\u001b[39m \u001b[34mlubridate\u001b[39m 1.9.3     \u001b[32m✔\u001b[39m \u001b[34mtidyr    \u001b[39m 1.3.1\n",
      "\u001b[32m✔\u001b[39m \u001b[34mpurrr    \u001b[39m 1.0.2     \n",
      "── \u001b[1mConflicts\u001b[22m ────────────────────────────────────────── tidyverse_conflicts() ──\n",
      "\u001b[31m✖\u001b[39m \u001b[34mdplyr\u001b[39m::\u001b[32mfilter()\u001b[39m masks \u001b[34mstats\u001b[39m::filter()\n",
      "\u001b[31m✖\u001b[39m \u001b[34mdplyr\u001b[39m::\u001b[32mlag()\u001b[39m    masks \u001b[34mstats\u001b[39m::lag()\n",
      "\u001b[36mℹ\u001b[39m Use the conflicted package (\u001b[3m\u001b[34m<http://conflicted.r-lib.org/>\u001b[39m\u001b[23m) to force all conflicts to become errors\n"
     ]
    }
   ],
   "source": [
    "# Exercise from R for Data Science Chapter 5: Data Transformation\n",
    "library(\"tidyverse\")\n",
    "library(\"palmerpenguins\")\n",
    "library(nycflights13)"
   ]
  },
  {
   "cell_type": "code",
   "execution_count": 2,
   "id": "9361f747-9158-44d6-80a9-66abb26a4845",
   "metadata": {
    "scrolled": true,
    "vscode": {
     "languageId": "r"
    }
   },
   "outputs": [
    {
     "data": {
      "text/html": [
       "<table class=\"dataframe\">\n",
       "<caption>A tibble: 6 × 8</caption>\n",
       "<thead>\n",
       "\t<tr><th scope=col>species</th><th scope=col>island</th><th scope=col>bill_length_mm</th><th scope=col>bill_depth_mm</th><th scope=col>flipper_length_mm</th><th scope=col>body_mass_g</th><th scope=col>sex</th><th scope=col>year</th></tr>\n",
       "\t<tr><th scope=col>&lt;fct&gt;</th><th scope=col>&lt;fct&gt;</th><th scope=col>&lt;dbl&gt;</th><th scope=col>&lt;dbl&gt;</th><th scope=col>&lt;int&gt;</th><th scope=col>&lt;int&gt;</th><th scope=col>&lt;fct&gt;</th><th scope=col>&lt;int&gt;</th></tr>\n",
       "</thead>\n",
       "<tbody>\n",
       "\t<tr><td>Adelie</td><td>Torgersen</td><td>39.1</td><td>18.7</td><td>181</td><td>3750</td><td>male  </td><td>2007</td></tr>\n",
       "\t<tr><td>Adelie</td><td>Torgersen</td><td>39.5</td><td>17.4</td><td>186</td><td>3800</td><td>female</td><td>2007</td></tr>\n",
       "\t<tr><td>Adelie</td><td>Torgersen</td><td>40.3</td><td>18.0</td><td>195</td><td>3250</td><td>female</td><td>2007</td></tr>\n",
       "\t<tr><td>Adelie</td><td>Torgersen</td><td>  NA</td><td>  NA</td><td> NA</td><td>  NA</td><td>NA    </td><td>2007</td></tr>\n",
       "\t<tr><td>Adelie</td><td>Torgersen</td><td>36.7</td><td>19.3</td><td>193</td><td>3450</td><td>female</td><td>2007</td></tr>\n",
       "\t<tr><td>Adelie</td><td>Torgersen</td><td>39.3</td><td>20.6</td><td>190</td><td>3650</td><td>male  </td><td>2007</td></tr>\n",
       "</tbody>\n",
       "</table>\n"
      ],
      "text/latex": [
       "A tibble: 6 × 8\n",
       "\\begin{tabular}{llllllll}\n",
       " species & island & bill\\_length\\_mm & bill\\_depth\\_mm & flipper\\_length\\_mm & body\\_mass\\_g & sex & year\\\\\n",
       " <fct> & <fct> & <dbl> & <dbl> & <int> & <int> & <fct> & <int>\\\\\n",
       "\\hline\n",
       "\t Adelie & Torgersen & 39.1 & 18.7 & 181 & 3750 & male   & 2007\\\\\n",
       "\t Adelie & Torgersen & 39.5 & 17.4 & 186 & 3800 & female & 2007\\\\\n",
       "\t Adelie & Torgersen & 40.3 & 18.0 & 195 & 3250 & female & 2007\\\\\n",
       "\t Adelie & Torgersen &   NA &   NA &  NA &   NA & NA     & 2007\\\\\n",
       "\t Adelie & Torgersen & 36.7 & 19.3 & 193 & 3450 & female & 2007\\\\\n",
       "\t Adelie & Torgersen & 39.3 & 20.6 & 190 & 3650 & male   & 2007\\\\\n",
       "\\end{tabular}\n"
      ],
      "text/markdown": [
       "\n",
       "A tibble: 6 × 8\n",
       "\n",
       "| species &lt;fct&gt; | island &lt;fct&gt; | bill_length_mm &lt;dbl&gt; | bill_depth_mm &lt;dbl&gt; | flipper_length_mm &lt;int&gt; | body_mass_g &lt;int&gt; | sex &lt;fct&gt; | year &lt;int&gt; |\n",
       "|---|---|---|---|---|---|---|---|\n",
       "| Adelie | Torgersen | 39.1 | 18.7 | 181 | 3750 | male   | 2007 |\n",
       "| Adelie | Torgersen | 39.5 | 17.4 | 186 | 3800 | female | 2007 |\n",
       "| Adelie | Torgersen | 40.3 | 18.0 | 195 | 3250 | female | 2007 |\n",
       "| Adelie | Torgersen |   NA |   NA |  NA |   NA | NA     | 2007 |\n",
       "| Adelie | Torgersen | 36.7 | 19.3 | 193 | 3450 | female | 2007 |\n",
       "| Adelie | Torgersen | 39.3 | 20.6 | 190 | 3650 | male   | 2007 |\n",
       "\n"
      ],
      "text/plain": [
       "  species island    bill_length_mm bill_depth_mm flipper_length_mm body_mass_g\n",
       "1 Adelie  Torgersen 39.1           18.7          181               3750       \n",
       "2 Adelie  Torgersen 39.5           17.4          186               3800       \n",
       "3 Adelie  Torgersen 40.3           18.0          195               3250       \n",
       "4 Adelie  Torgersen   NA             NA           NA                 NA       \n",
       "5 Adelie  Torgersen 36.7           19.3          193               3450       \n",
       "6 Adelie  Torgersen 39.3           20.6          190               3650       \n",
       "  sex    year\n",
       "1 male   2007\n",
       "2 female 2007\n",
       "3 female 2007\n",
       "4 NA     2007\n",
       "5 female 2007\n",
       "6 male   2007"
      ]
     },
     "metadata": {},
     "output_type": "display_data"
    }
   ],
   "source": [
    "penguins |> head()"
   ]
  },
  {
   "cell_type": "code",
   "execution_count": 3,
   "id": "bfd246ff-d2a1-43bc-b39d-5d9710814ab1",
   "metadata": {
    "scrolled": true,
    "vscode": {
     "languageId": "r"
    }
   },
   "outputs": [
    {
     "name": "stdout",
     "output_type": "stream",
     "text": [
      "Rows: 336,776\n",
      "Columns: 19\n",
      "$ year           \u001b[3m\u001b[90m<int>\u001b[39m\u001b[23m 2013, 2013, 2013, 2013, 2013, 2013, 2013, 2013, 2013, 2…\n",
      "$ month          \u001b[3m\u001b[90m<int>\u001b[39m\u001b[23m 1, 1, 1, 1, 1, 1, 1, 1, 1, 1, 1, 1, 1, 1, 1, 1, 1, 1, 1…\n",
      "$ day            \u001b[3m\u001b[90m<int>\u001b[39m\u001b[23m 1, 1, 1, 1, 1, 1, 1, 1, 1, 1, 1, 1, 1, 1, 1, 1, 1, 1, 1…\n",
      "$ dep_time       \u001b[3m\u001b[90m<int>\u001b[39m\u001b[23m 517, 533, 542, 544, 554, 554, 555, 557, 557, 558, 558, …\n",
      "$ sched_dep_time \u001b[3m\u001b[90m<int>\u001b[39m\u001b[23m 515, 529, 540, 545, 600, 558, 600, 600, 600, 600, 600, …\n",
      "$ dep_delay      \u001b[3m\u001b[90m<dbl>\u001b[39m\u001b[23m 2, 4, 2, -1, -6, -4, -5, -3, -3, -2, -2, -2, -2, -2, -1…\n",
      "$ arr_time       \u001b[3m\u001b[90m<int>\u001b[39m\u001b[23m 830, 850, 923, 1004, 812, 740, 913, 709, 838, 753, 849,…\n",
      "$ sched_arr_time \u001b[3m\u001b[90m<int>\u001b[39m\u001b[23m 819, 830, 850, 1022, 837, 728, 854, 723, 846, 745, 851,…\n",
      "$ arr_delay      \u001b[3m\u001b[90m<dbl>\u001b[39m\u001b[23m 11, 20, 33, -18, -25, 12, 19, -14, -8, 8, -2, -3, 7, -1…\n",
      "$ carrier        \u001b[3m\u001b[90m<chr>\u001b[39m\u001b[23m \"UA\", \"UA\", \"AA\", \"B6\", \"DL\", \"UA\", \"B6\", \"EV\", \"B6\", \"…\n",
      "$ flight         \u001b[3m\u001b[90m<int>\u001b[39m\u001b[23m 1545, 1714, 1141, 725, 461, 1696, 507, 5708, 79, 301, 4…\n",
      "$ tailnum        \u001b[3m\u001b[90m<chr>\u001b[39m\u001b[23m \"N14228\", \"N24211\", \"N619AA\", \"N804JB\", \"N668DN\", \"N394…\n",
      "$ origin         \u001b[3m\u001b[90m<chr>\u001b[39m\u001b[23m \"EWR\", \"LGA\", \"JFK\", \"JFK\", \"LGA\", \"EWR\", \"EWR\", \"LGA\",…\n",
      "$ dest           \u001b[3m\u001b[90m<chr>\u001b[39m\u001b[23m \"IAH\", \"IAH\", \"MIA\", \"BQN\", \"ATL\", \"ORD\", \"FLL\", \"IAD\",…\n",
      "$ air_time       \u001b[3m\u001b[90m<dbl>\u001b[39m\u001b[23m 227, 227, 160, 183, 116, 150, 158, 53, 140, 138, 149, 1…\n",
      "$ distance       \u001b[3m\u001b[90m<dbl>\u001b[39m\u001b[23m 1400, 1416, 1089, 1576, 762, 719, 1065, 229, 944, 733, …\n",
      "$ hour           \u001b[3m\u001b[90m<dbl>\u001b[39m\u001b[23m 5, 5, 5, 5, 6, 5, 6, 6, 6, 6, 6, 6, 6, 6, 6, 5, 6, 6, 6…\n",
      "$ minute         \u001b[3m\u001b[90m<dbl>\u001b[39m\u001b[23m 15, 29, 40, 45, 0, 58, 0, 0, 0, 0, 0, 0, 0, 0, 0, 59, 0…\n",
      "$ time_hour      \u001b[3m\u001b[90m<dttm>\u001b[39m\u001b[23m 2013-01-01 05:00:00, 2013-01-01 05:00:00, 2013-01-01 0…\n"
     ]
    }
   ],
   "source": [
    "glimpse(flights)"
   ]
  },
  {
   "cell_type": "code",
   "execution_count": 7,
   "id": "f84a9288-3bd8-4f5e-bc4c-b50204878496",
   "metadata": {
    "scrolled": true,
    "vscode": {
     "languageId": "r"
    }
   },
   "outputs": [
    {
     "data": {
      "text/html": [
       "<table class=\"dataframe\">\n",
       "<caption>A tibble: 6 × 19</caption>\n",
       "<thead>\n",
       "\t<tr><th scope=col>year</th><th scope=col>month</th><th scope=col>day</th><th scope=col>dep_time</th><th scope=col>sched_dep_time</th><th scope=col>dep_delay</th><th scope=col>arr_time</th><th scope=col>sched_arr_time</th><th scope=col>arr_delay</th><th scope=col>carrier</th><th scope=col>flight</th><th scope=col>tailnum</th><th scope=col>origin</th><th scope=col>dest</th><th scope=col>air_time</th><th scope=col>distance</th><th scope=col>hour</th><th scope=col>minute</th><th scope=col>time_hour</th></tr>\n",
       "\t<tr><th scope=col>&lt;int&gt;</th><th scope=col>&lt;int&gt;</th><th scope=col>&lt;int&gt;</th><th scope=col>&lt;int&gt;</th><th scope=col>&lt;int&gt;</th><th scope=col>&lt;dbl&gt;</th><th scope=col>&lt;int&gt;</th><th scope=col>&lt;int&gt;</th><th scope=col>&lt;dbl&gt;</th><th scope=col>&lt;chr&gt;</th><th scope=col>&lt;int&gt;</th><th scope=col>&lt;chr&gt;</th><th scope=col>&lt;chr&gt;</th><th scope=col>&lt;chr&gt;</th><th scope=col>&lt;dbl&gt;</th><th scope=col>&lt;dbl&gt;</th><th scope=col>&lt;dbl&gt;</th><th scope=col>&lt;dbl&gt;</th><th scope=col>&lt;dttm&gt;</th></tr>\n",
       "</thead>\n",
       "<tbody>\n",
       "\t<tr><td>2013</td><td>11</td><td>28</td><td>514</td><td>515</td><td>-1</td><td> 753</td><td> 808</td><td>-15</td><td>UA</td><td>1032</td><td>N69804</td><td>EWR</td><td>IAH</td><td>197</td><td>1400</td><td>5</td><td>15</td><td>2013-11-28 05:00:00</td></tr>\n",
       "\t<tr><td>2013</td><td>11</td><td>28</td><td>522</td><td>500</td><td>22</td><td> 658</td><td> 651</td><td>  7</td><td>US</td><td>1895</td><td>N169UW</td><td>EWR</td><td>CLT</td><td> 83</td><td> 529</td><td>5</td><td> 0</td><td>2013-11-28 05:00:00</td></tr>\n",
       "\t<tr><td>2013</td><td>11</td><td>28</td><td>538</td><td>540</td><td>-2</td><td> 837</td><td> 850</td><td>-13</td><td>AA</td><td>2243</td><td>N639AA</td><td>JFK</td><td>MIA</td><td>157</td><td>1089</td><td>5</td><td>40</td><td>2013-11-28 05:00:00</td></tr>\n",
       "\t<tr><td>2013</td><td>11</td><td>28</td><td>544</td><td>545</td><td>-1</td><td> 825</td><td> 835</td><td>-10</td><td>UA</td><td>1500</td><td>N76516</td><td>LGA</td><td>IAH</td><td>200</td><td>1416</td><td>5</td><td>45</td><td>2013-11-28 05:00:00</td></tr>\n",
       "\t<tr><td>2013</td><td>11</td><td>28</td><td>545</td><td>550</td><td>-5</td><td>1033</td><td>1027</td><td>  6</td><td>B6</td><td> 939</td><td>N636JB</td><td>JFK</td><td>BQN</td><td>211</td><td>1576</td><td>5</td><td>50</td><td>2013-11-28 05:00:00</td></tr>\n",
       "\t<tr><td>2013</td><td>11</td><td>28</td><td>552</td><td>600</td><td>-8</td><td> 853</td><td> 915</td><td>-22</td><td>AA</td><td>1103</td><td>N3LBAA</td><td>LGA</td><td>DFW</td><td>201</td><td>1389</td><td>6</td><td> 0</td><td>2013-11-28 06:00:00</td></tr>\n",
       "</tbody>\n",
       "</table>\n"
      ],
      "text/latex": [
       "A tibble: 6 × 19\n",
       "\\begin{tabular}{lllllllllllllllllll}\n",
       " year & month & day & dep\\_time & sched\\_dep\\_time & dep\\_delay & arr\\_time & sched\\_arr\\_time & arr\\_delay & carrier & flight & tailnum & origin & dest & air\\_time & distance & hour & minute & time\\_hour\\\\\n",
       " <int> & <int> & <int> & <int> & <int> & <dbl> & <int> & <int> & <dbl> & <chr> & <int> & <chr> & <chr> & <chr> & <dbl> & <dbl> & <dbl> & <dbl> & <dttm>\\\\\n",
       "\\hline\n",
       "\t 2013 & 11 & 28 & 514 & 515 & -1 &  753 &  808 & -15 & UA & 1032 & N69804 & EWR & IAH & 197 & 1400 & 5 & 15 & 2013-11-28 05:00:00\\\\\n",
       "\t 2013 & 11 & 28 & 522 & 500 & 22 &  658 &  651 &   7 & US & 1895 & N169UW & EWR & CLT &  83 &  529 & 5 &  0 & 2013-11-28 05:00:00\\\\\n",
       "\t 2013 & 11 & 28 & 538 & 540 & -2 &  837 &  850 & -13 & AA & 2243 & N639AA & JFK & MIA & 157 & 1089 & 5 & 40 & 2013-11-28 05:00:00\\\\\n",
       "\t 2013 & 11 & 28 & 544 & 545 & -1 &  825 &  835 & -10 & UA & 1500 & N76516 & LGA & IAH & 200 & 1416 & 5 & 45 & 2013-11-28 05:00:00\\\\\n",
       "\t 2013 & 11 & 28 & 545 & 550 & -5 & 1033 & 1027 &   6 & B6 &  939 & N636JB & JFK & BQN & 211 & 1576 & 5 & 50 & 2013-11-28 05:00:00\\\\\n",
       "\t 2013 & 11 & 28 & 552 & 600 & -8 &  853 &  915 & -22 & AA & 1103 & N3LBAA & LGA & DFW & 201 & 1389 & 6 &  0 & 2013-11-28 06:00:00\\\\\n",
       "\\end{tabular}\n"
      ],
      "text/markdown": [
       "\n",
       "A tibble: 6 × 19\n",
       "\n",
       "| year &lt;int&gt; | month &lt;int&gt; | day &lt;int&gt; | dep_time &lt;int&gt; | sched_dep_time &lt;int&gt; | dep_delay &lt;dbl&gt; | arr_time &lt;int&gt; | sched_arr_time &lt;int&gt; | arr_delay &lt;dbl&gt; | carrier &lt;chr&gt; | flight &lt;int&gt; | tailnum &lt;chr&gt; | origin &lt;chr&gt; | dest &lt;chr&gt; | air_time &lt;dbl&gt; | distance &lt;dbl&gt; | hour &lt;dbl&gt; | minute &lt;dbl&gt; | time_hour &lt;dttm&gt; |\n",
       "|---|---|---|---|---|---|---|---|---|---|---|---|---|---|---|---|---|---|---|\n",
       "| 2013 | 11 | 28 | 514 | 515 | -1 |  753 |  808 | -15 | UA | 1032 | N69804 | EWR | IAH | 197 | 1400 | 5 | 15 | 2013-11-28 05:00:00 |\n",
       "| 2013 | 11 | 28 | 522 | 500 | 22 |  658 |  651 |   7 | US | 1895 | N169UW | EWR | CLT |  83 |  529 | 5 |  0 | 2013-11-28 05:00:00 |\n",
       "| 2013 | 11 | 28 | 538 | 540 | -2 |  837 |  850 | -13 | AA | 2243 | N639AA | JFK | MIA | 157 | 1089 | 5 | 40 | 2013-11-28 05:00:00 |\n",
       "| 2013 | 11 | 28 | 544 | 545 | -1 |  825 |  835 | -10 | UA | 1500 | N76516 | LGA | IAH | 200 | 1416 | 5 | 45 | 2013-11-28 05:00:00 |\n",
       "| 2013 | 11 | 28 | 545 | 550 | -5 | 1033 | 1027 |   6 | B6 |  939 | N636JB | JFK | BQN | 211 | 1576 | 5 | 50 | 2013-11-28 05:00:00 |\n",
       "| 2013 | 11 | 28 | 552 | 600 | -8 |  853 |  915 | -22 | AA | 1103 | N3LBAA | LGA | DFW | 201 | 1389 | 6 |  0 | 2013-11-28 06:00:00 |\n",
       "\n"
      ],
      "text/plain": [
       "  year month day dep_time sched_dep_time dep_delay arr_time sched_arr_time\n",
       "1 2013 11    28  514      515            -1         753      808          \n",
       "2 2013 11    28  522      500            22         658      651          \n",
       "3 2013 11    28  538      540            -2         837      850          \n",
       "4 2013 11    28  544      545            -1         825      835          \n",
       "5 2013 11    28  545      550            -5        1033     1027          \n",
       "6 2013 11    28  552      600            -8         853      915          \n",
       "  arr_delay carrier flight tailnum origin dest air_time distance hour minute\n",
       "1 -15       UA      1032   N69804  EWR    IAH  197      1400     5    15    \n",
       "2   7       US      1895   N169UW  EWR    CLT   83       529     5     0    \n",
       "3 -13       AA      2243   N639AA  JFK    MIA  157      1089     5    40    \n",
       "4 -10       UA      1500   N76516  LGA    IAH  200      1416     5    45    \n",
       "5   6       B6       939   N636JB  JFK    BQN  211      1576     5    50    \n",
       "6 -22       AA      1103   N3LBAA  LGA    DFW  201      1389     6     0    \n",
       "  time_hour          \n",
       "1 2013-11-28 05:00:00\n",
       "2 2013-11-28 05:00:00\n",
       "3 2013-11-28 05:00:00\n",
       "4 2013-11-28 05:00:00\n",
       "5 2013-11-28 05:00:00\n",
       "6 2013-11-28 06:00:00"
      ]
     },
     "metadata": {},
     "output_type": "display_data"
    }
   ],
   "source": [
    "#> ::warning FlightFeb28 <- filter(flights, month == 2 | month == 3, day == 28)\n",
    "(FlightFeb28 <- filter(flights, month %in% c(11, 12), day == 28)) |> head()"
   ]
  },
  {
   "cell_type": "code",
   "execution_count": 31,
   "id": "9861ba59-4840-4293-be57-e327d9d7620d",
   "metadata": {
    "vscode": {
     "languageId": "r"
    }
   },
   "outputs": [
    {
     "data": {
      "text/html": [
       "TRUE"
      ],
      "text/latex": [
       "TRUE"
      ],
      "text/markdown": [
       "TRUE"
      ],
      "text/plain": [
       "[1] TRUE"
      ]
     },
     "metadata": {},
     "output_type": "display_data"
    },
    {
     "data": {
      "text/html": [
       "<style>\n",
       ".list-inline {list-style: none; margin:0; padding: 0}\n",
       ".list-inline>li {display: inline-block}\n",
       ".list-inline>li:not(:last-child)::after {content: \"\\00b7\"; padding: 0 .5ex}\n",
       "</style>\n",
       "<ol class=list-inline><li>'year'</li><li>'month'</li><li>'day'</li><li>'dep_time'</li><li>'sched_dep_time'</li><li>'dep_delay'</li><li>'arr_time'</li><li>'sched_arr_time'</li><li>'arr_delay'</li><li>'carrier'</li><li>'flight'</li><li>'tailnum'</li><li>'origin'</li><li>'dest'</li><li>'air_time'</li><li>'distance'</li><li>'hour'</li><li>'minute'</li><li>'time_hour'</li></ol>\n"
      ],
      "text/latex": [
       "\\begin{enumerate*}\n",
       "\\item 'year'\n",
       "\\item 'month'\n",
       "\\item 'day'\n",
       "\\item 'dep\\_time'\n",
       "\\item 'sched\\_dep\\_time'\n",
       "\\item 'dep\\_delay'\n",
       "\\item 'arr\\_time'\n",
       "\\item 'sched\\_arr\\_time'\n",
       "\\item 'arr\\_delay'\n",
       "\\item 'carrier'\n",
       "\\item 'flight'\n",
       "\\item 'tailnum'\n",
       "\\item 'origin'\n",
       "\\item 'dest'\n",
       "\\item 'air\\_time'\n",
       "\\item 'distance'\n",
       "\\item 'hour'\n",
       "\\item 'minute'\n",
       "\\item 'time\\_hour'\n",
       "\\end{enumerate*}\n"
      ],
      "text/markdown": [
       "1. 'year'\n",
       "2. 'month'\n",
       "3. 'day'\n",
       "4. 'dep_time'\n",
       "5. 'sched_dep_time'\n",
       "6. 'dep_delay'\n",
       "7. 'arr_time'\n",
       "8. 'sched_arr_time'\n",
       "9. 'arr_delay'\n",
       "10. 'carrier'\n",
       "11. 'flight'\n",
       "12. 'tailnum'\n",
       "13. 'origin'\n",
       "14. 'dest'\n",
       "15. 'air_time'\n",
       "16. 'distance'\n",
       "17. 'hour'\n",
       "18. 'minute'\n",
       "19. 'time_hour'\n",
       "\n",
       "\n"
      ],
      "text/plain": [
       " [1] \"year\"           \"month\"          \"day\"            \"dep_time\"      \n",
       " [5] \"sched_dep_time\" \"dep_delay\"      \"arr_time\"       \"sched_arr_time\"\n",
       " [9] \"arr_delay\"      \"carrier\"        \"flight\"         \"tailnum\"       \n",
       "[13] \"origin\"         \"dest\"           \"air_time\"       \"distance\"      \n",
       "[17] \"hour\"           \"minute\"         \"time_hour\"     "
      ]
     },
     "metadata": {},
     "output_type": "display_data"
    }
   ],
   "source": [
    "near(sqrt(2) ^ 2, 2)\n",
    "names(flights)"
   ]
  },
  {
   "cell_type": "code",
   "execution_count": 1,
   "id": "cf4153d9-3fed-47f3-8f74-c2760c07d053",
   "metadata": {
    "scrolled": true,
    "vscode": {
     "languageId": "r"
    }
   },
   "outputs": [
    {
     "ename": "ERROR",
     "evalue": "Error in eval(expr, envir, enclos): object 'arr_delay' not found\n",
     "output_type": "error",
     "traceback": [
      "Error in eval(expr, envir, enclos): object 'arr_delay' not found\nTraceback:\n",
      "1. head((NovDec <- filter(flights, dep_delay < 30, arr_delay < 30)))",
      "2. filter(flights, dep_delay < 30, arr_delay < 30)",
      "3. match.arg(method)"
     ]
    }
   ],
   "source": [
    "(NovDec <- filter(flights, dep_delay < 30, arr_delay < 30)) |> head()"
   ]
  },
  {
   "cell_type": "code",
   "execution_count": 38,
   "id": "f49d9ce8-8e5e-4ea2-b39c-69f4d52b72fc",
   "metadata": {
    "vscode": {
     "languageId": "r"
    }
   },
   "outputs": [
    {
     "data": {
      "text/html": [
       "&lt;NA&gt;"
      ],
      "text/latex": [
       "<NA>"
      ],
      "text/markdown": [
       "&lt;NA&gt;"
      ],
      "text/plain": [
       "[1] NA"
      ]
     },
     "metadata": {},
     "output_type": "display_data"
    },
    {
     "data": {
      "text/html": [
       "&lt;NA&gt;"
      ],
      "text/latex": [
       "<NA>"
      ],
      "text/markdown": [
       "&lt;NA&gt;"
      ],
      "text/plain": [
       "[1] NA"
      ]
     },
     "metadata": {},
     "output_type": "display_data"
    },
    {
     "data": {
      "text/html": [
       "&lt;NA&gt;"
      ],
      "text/latex": [
       "<NA>"
      ],
      "text/markdown": [
       "&lt;NA&gt;"
      ],
      "text/plain": [
       "[1] NA"
      ]
     },
     "metadata": {},
     "output_type": "display_data"
    },
    {
     "data": {
      "text/html": [
       "&lt;NA&gt;"
      ],
      "text/latex": [
       "<NA>"
      ],
      "text/markdown": [
       "&lt;NA&gt;"
      ],
      "text/plain": [
       "[1] NA"
      ]
     },
     "metadata": {},
     "output_type": "display_data"
    },
    {
     "data": {
      "text/html": [
       "TRUE"
      ],
      "text/latex": [
       "TRUE"
      ],
      "text/markdown": [
       "TRUE"
      ],
      "text/plain": [
       "[1] TRUE"
      ]
     },
     "metadata": {},
     "output_type": "display_data"
    }
   ],
   "source": [
    "NA > 5\n",
    "10 == NA\n",
    "NA + 10\n",
    "(x <- NA / 2)\n",
    "is.na(x)"
   ]
  },
  {
   "cell_type": "code",
   "execution_count": 2,
   "id": "e63807a7-13d9-452e-bf22-6645454ca955",
   "metadata": {
    "editable": true,
    "scrolled": true,
    "slideshow": {
     "slide_type": ""
    },
    "tags": [],
    "vscode": {
     "languageId": "r"
    }
   },
   "outputs": [
    {
     "ename": "ERROR",
     "evalue": "Error in between(month, 7, 9): could not find function \"between\"\n",
     "output_type": "error",
     "traceback": [
      "Error in between(month, 7, 9): could not find function \"between\"\nTraceback:\n",
      "1. filter(flights, arr_delay > 120, between(month, 7, 9), dest == \n .     \"IAH\" | dest == \"HOU\", carrier == \"UA\" | carrier == \"B6\")",
      "2. match.arg(method)"
     ]
    }
   ],
   "source": [
    "JAS <- filter(flights, arr_delay > 120, \n",
    "       # month %in% c(7, 8, 9),\n",
    "       between(month, 7, 9),\n",
    "       dest == 'IAH' | dest == 'HOU', \n",
    "       carrier == 'UA' | carrier == 'B6'\n",
    "      )\n",
    "(JASArrange <- arrange(JAS, month, day, desc(dep_delay))) |> head()"
   ]
  },
  {
   "cell_type": "code",
   "execution_count": 3,
   "id": "1e64a271-e103-4b51-a019-2288ac5a3734",
   "metadata": {
    "editable": true,
    "scrolled": true,
    "slideshow": {
     "slide_type": ""
    },
    "tags": [],
    "vscode": {
     "languageId": "r"
    }
   },
   "outputs": [
    {
     "ename": "ERROR",
     "evalue": "Error in select(JASArrange, (month:dep_delay), -(sched_dep_time), starts_with(\"arr\"), : could not find function \"select\"\n",
     "output_type": "error",
     "traceback": [
      "Error in select(JASArrange, (month:dep_delay), -(sched_dep_time), starts_with(\"arr\"), : could not find function \"select\"\nTraceback:\n",
      "1. head(select(JASArrange, (month:dep_delay), -(sched_dep_time), \n .     starts_with(\"arr\"), ends_with(\"hour\")))"
     ]
    }
   ],
   "source": [
    "# select(JASArrange, month, day, dep_time, dep_delay)\n",
    "select(JASArrange, \n",
    "       (month:dep_delay), \n",
    "       -(sched_dep_time), \n",
    "       starts_with('arr'), \n",
    "       ends_with('hour')\n",
    "      ) |> head()"
   ]
  },
  {
   "cell_type": "code",
   "execution_count": 4,
   "id": "f7f156a2-603a-4175-87e1-1d8bba10b71d",
   "metadata": {
    "editable": true,
    "scrolled": true,
    "slideshow": {
     "slide_type": ""
    },
    "tags": [],
    "vscode": {
     "languageId": "r"
    }
   },
   "outputs": [
    {
     "ename": "ERROR",
     "evalue": "Error in eval(expr, envir, enclos): object 'flights' not found\n",
     "output_type": "error",
     "traceback": [
      "Error in eval(expr, envir, enclos): object 'flights' not found\nTraceback:\n",
      "1. head(filter(flights, is.na(dep_time)))",
      "2. filter(flights, is.na(dep_time))",
      "3. as.ts(x)"
     ]
    }
   ],
   "source": [
    "filter(flights, is.na(dep_time)) |> head()"
   ]
  },
  {
   "cell_type": "code",
   "execution_count": 5,
   "id": "0361fedd-4097-4a5d-ac11-ea958de1cc21",
   "metadata": {
    "editable": true,
    "scrolled": true,
    "slideshow": {
     "slide_type": ""
    },
    "tags": [],
    "vscode": {
     "languageId": "r"
    }
   },
   "outputs": [
    {
     "ename": "ERROR",
     "evalue": "Error in select(JASArrange, (month:dep_delay), -(sched_dep_time), arr_delay, : could not find function \"select\"\n",
     "output_type": "error",
     "traceback": [
      "Error in select(JASArrange, (month:dep_delay), -(sched_dep_time), arr_delay, : could not find function \"select\"\nTraceback:\n"
     ]
    }
   ],
   "source": [
    "JASCompact <- select(JASArrange, \n",
    "       (month:dep_delay), \n",
    "       -(sched_dep_time),\n",
    "        arr_delay, distance, air_time\n",
    "      )\n",
    "# the columns need to be selected to do mutate\n",
    "# transmute(): same format but will only to keep the new variables\n",
    "mutate(JASCompact, \n",
    "      gain = dep_delay - arr_delay,\n",
    "      speed = distance / air_time * 60) |> head()"
   ]
  },
  {
   "cell_type": "code",
   "execution_count": 6,
   "id": "232df276-eadb-45b7-b8e7-ee3ffe448f1b",
   "metadata": {
    "editable": true,
    "scrolled": true,
    "slideshow": {
     "slide_type": ""
    },
    "tags": [],
    "vscode": {
     "languageId": "r"
    }
   },
   "outputs": [
    {
     "ename": "ERROR",
     "evalue": "Error in transmute(flights, dep_time, hour = dep_time%/%100, minute = dep_time%%100): could not find function \"transmute\"\n",
     "output_type": "error",
     "traceback": [
      "Error in transmute(flights, dep_time, hour = dep_time%/%100, minute = dep_time%%100): could not find function \"transmute\"\nTraceback:\n",
      "1. head(transmute(flights, dep_time, hour = dep_time%/%100, minute = dep_time%%100))"
     ]
    }
   ],
   "source": [
    "transmute(flights, \n",
    "          dep_time, \n",
    "          hour = dep_time %/% 100,\n",
    "          minute = dep_time %% 100)  |> head()"
   ]
  },
  {
   "cell_type": "code",
   "execution_count": 80,
   "id": "f5a2447d-ff7b-49f3-bb00-21f4a7b424aa",
   "metadata": {
    "editable": true,
    "slideshow": {
     "slide_type": ""
    },
    "tags": [],
    "vscode": {
     "languageId": "r"
    }
   },
   "outputs": [
    {
     "data": {
      "text/html": [
       "<style>\n",
       ".list-inline {list-style: none; margin:0; padding: 0}\n",
       ".list-inline>li {display: inline-block}\n",
       ".list-inline>li:not(:last-child)::after {content: \"\\00b7\"; padding: 0 .5ex}\n",
       "</style>\n",
       "<ol class=list-inline><li>&lt;NA&gt;</li><li>2</li><li>3</li><li>1</li><li>3</li><li>5</li></ol>\n"
      ],
      "text/latex": [
       "\\begin{enumerate*}\n",
       "\\item <NA>\n",
       "\\item 2\n",
       "\\item 3\n",
       "\\item 1\n",
       "\\item 3\n",
       "\\item 5\n",
       "\\end{enumerate*}\n"
      ],
      "text/markdown": [
       "1. &lt;NA&gt;\n",
       "2. 2\n",
       "3. 3\n",
       "4. 1\n",
       "5. 3\n",
       "6. 5\n",
       "\n",
       "\n"
      ],
      "text/plain": [
       "[1] NA  2  3  1  3  5"
      ]
     },
     "metadata": {},
     "output_type": "display_data"
    },
    {
     "data": {
      "text/html": [
       "<style>\n",
       ".list-inline {list-style: none; margin:0; padding: 0}\n",
       ".list-inline>li {display: inline-block}\n",
       ".list-inline>li:not(:last-child)::after {content: \"\\00b7\"; padding: 0 .5ex}\n",
       "</style>\n",
       "<ol class=list-inline><li>&lt;NA&gt;</li><li>4</li><li>2</li><li>5</li><li>2</li><li>1</li></ol>\n"
      ],
      "text/latex": [
       "\\begin{enumerate*}\n",
       "\\item <NA>\n",
       "\\item 4\n",
       "\\item 2\n",
       "\\item 5\n",
       "\\item 2\n",
       "\\item 1\n",
       "\\end{enumerate*}\n"
      ],
      "text/markdown": [
       "1. &lt;NA&gt;\n",
       "2. 4\n",
       "3. 2\n",
       "4. 5\n",
       "5. 2\n",
       "6. 1\n",
       "\n",
       "\n"
      ],
      "text/plain": [
       "[1] NA  4  2  5  2  1"
      ]
     },
     "metadata": {},
     "output_type": "display_data"
    }
   ],
   "source": [
    "y <- c(NA, 2, 3, 1, 3, 4)\n",
    "min_rank(y)\n",
    "min_rank(desc(y))\n",
    "# this is useless"
   ]
  },
  {
   "cell_type": "code",
   "execution_count": 7,
   "id": "03e50c50-45bd-4e79-bd04-37a1d18b9b18",
   "metadata": {
    "editable": true,
    "scrolled": true,
    "slideshow": {
     "slide_type": ""
    },
    "tags": [],
    "vscode": {
     "languageId": "r"
    }
   },
   "outputs": [
    {
     "ename": "ERROR",
     "evalue": "Error in group_by(flights, year, month): could not find function \"group_by\"\n",
     "output_type": "error",
     "traceback": [
      "Error in group_by(flights, year, month): could not find function \"group_by\"\nTraceback:\n"
     ]
    }
   ],
   "source": [
    "byDay <- group_by(flights, year, month)\n",
    "# summarise(byDay, delay = mean(dep_delay, na.rm = TRUE), count = n())\n",
    "summarise(flights, delay = mean(dep_delay, na.rm = TRUE), count = n(), groups = c(year, month))  |> head()"
   ]
  },
  {
   "cell_type": "code",
   "execution_count": 10,
   "id": "df420b5b-45e9-4398-9e36-1dae45523e3e",
   "metadata": {
    "collapsed": true,
    "editable": true,
    "jupyter": {
     "outputs_hidden": true
    },
    "scrolled": true,
    "slideshow": {
     "slide_type": ""
    },
    "tags": [],
    "vscode": {
     "languageId": "r"
    }
   },
   "outputs": [
    {
     "name": "stderr",
     "output_type": "stream",
     "text": [
      "\u001b[1m\u001b[22m`summarise()` has grouped output by 'year'. You can override using the `.groups` argument.\n"
     ]
    },
    {
     "data": {
      "text/html": [
       "<table class=\"dataframe\">\n",
       "<caption>A grouped_df: 12 × 4</caption>\n",
       "<thead>\n",
       "\t<tr><th scope=col>year</th><th scope=col>month</th><th scope=col>delay</th><th scope=col>count</th></tr>\n",
       "\t<tr><th scope=col>&lt;int&gt;</th><th scope=col>&lt;int&gt;</th><th scope=col>&lt;dbl&gt;</th><th scope=col>&lt;int&gt;</th></tr>\n",
       "</thead>\n",
       "<tbody>\n",
       "\t<tr><td>2013</td><td> 1</td><td>10.036665</td><td>27004</td></tr>\n",
       "\t<tr><td>2013</td><td> 2</td><td>10.816843</td><td>24951</td></tr>\n",
       "\t<tr><td>2013</td><td> 3</td><td>13.227076</td><td>28834</td></tr>\n",
       "\t<tr><td>2013</td><td> 4</td><td>13.938038</td><td>28330</td></tr>\n",
       "\t<tr><td>2013</td><td> 5</td><td>12.986859</td><td>28796</td></tr>\n",
       "\t<tr><td>2013</td><td> 6</td><td>20.846332</td><td>28243</td></tr>\n",
       "\t<tr><td>2013</td><td> 7</td><td>21.727787</td><td>29425</td></tr>\n",
       "\t<tr><td>2013</td><td> 8</td><td>12.611040</td><td>29327</td></tr>\n",
       "\t<tr><td>2013</td><td> 9</td><td> 6.722476</td><td>27574</td></tr>\n",
       "\t<tr><td>2013</td><td>10</td><td> 6.243988</td><td>28889</td></tr>\n",
       "\t<tr><td>2013</td><td>11</td><td> 5.435362</td><td>27268</td></tr>\n",
       "\t<tr><td>2013</td><td>12</td><td>16.576688</td><td>28135</td></tr>\n",
       "</tbody>\n",
       "</table>\n"
      ],
      "text/latex": [
       "A grouped\\_df: 12 × 4\n",
       "\\begin{tabular}{llll}\n",
       " year & month & delay & count\\\\\n",
       " <int> & <int> & <dbl> & <int>\\\\\n",
       "\\hline\n",
       "\t 2013 &  1 & 10.036665 & 27004\\\\\n",
       "\t 2013 &  2 & 10.816843 & 24951\\\\\n",
       "\t 2013 &  3 & 13.227076 & 28834\\\\\n",
       "\t 2013 &  4 & 13.938038 & 28330\\\\\n",
       "\t 2013 &  5 & 12.986859 & 28796\\\\\n",
       "\t 2013 &  6 & 20.846332 & 28243\\\\\n",
       "\t 2013 &  7 & 21.727787 & 29425\\\\\n",
       "\t 2013 &  8 & 12.611040 & 29327\\\\\n",
       "\t 2013 &  9 &  6.722476 & 27574\\\\\n",
       "\t 2013 & 10 &  6.243988 & 28889\\\\\n",
       "\t 2013 & 11 &  5.435362 & 27268\\\\\n",
       "\t 2013 & 12 & 16.576688 & 28135\\\\\n",
       "\\end{tabular}\n"
      ],
      "text/markdown": [
       "\n",
       "A grouped_df: 12 × 4\n",
       "\n",
       "| year &lt;int&gt; | month &lt;int&gt; | delay &lt;dbl&gt; | count &lt;int&gt; |\n",
       "|---|---|---|---|\n",
       "| 2013 |  1 | 10.036665 | 27004 |\n",
       "| 2013 |  2 | 10.816843 | 24951 |\n",
       "| 2013 |  3 | 13.227076 | 28834 |\n",
       "| 2013 |  4 | 13.938038 | 28330 |\n",
       "| 2013 |  5 | 12.986859 | 28796 |\n",
       "| 2013 |  6 | 20.846332 | 28243 |\n",
       "| 2013 |  7 | 21.727787 | 29425 |\n",
       "| 2013 |  8 | 12.611040 | 29327 |\n",
       "| 2013 |  9 |  6.722476 | 27574 |\n",
       "| 2013 | 10 |  6.243988 | 28889 |\n",
       "| 2013 | 11 |  5.435362 | 27268 |\n",
       "| 2013 | 12 | 16.576688 | 28135 |\n",
       "\n"
      ],
      "text/plain": [
       "   year month delay     count\n",
       "1  2013  1    10.036665 27004\n",
       "2  2013  2    10.816843 24951\n",
       "3  2013  3    13.227076 28834\n",
       "4  2013  4    13.938038 28330\n",
       "5  2013  5    12.986859 28796\n",
       "6  2013  6    20.846332 28243\n",
       "7  2013  7    21.727787 29425\n",
       "8  2013  8    12.611040 29327\n",
       "9  2013  9     6.722476 27574\n",
       "10 2013 10     6.243988 28889\n",
       "11 2013 11     5.435362 27268\n",
       "12 2013 12    16.576688 28135"
      ]
     },
     "metadata": {},
     "output_type": "display_data"
    }
   ],
   "source": [
    "# #1 Way to write it\n",
    "# byDay <- group_by(flights, year, month)\n",
    "#summarise(byDay, delay = mean(dep_delay, na.rm = TRUE), count = n())\n",
    "\n",
    "# #2 way to write it\n",
    "#flights %>% \n",
    "#    group_by(year, month) %>%\n",
    "#        summarise(\n",
    "#            delay = mean(dep_delay, na.rm = TRUE),\n",
    "#            count = n()\n",
    "#        )\n",
    "\n",
    "# #3 way to write it\n",
    "flights |> \n",
    "    group_by(year, month) |> \n",
    "    summarise(delay = mean(dep_delay, na.rm = TRUE), count = n())"
   ]
  },
  {
   "cell_type": "code",
   "execution_count": 12,
   "id": "32d528d0-7583-450e-bc0b-7a15bbf2adc1",
   "metadata": {
    "editable": true,
    "slideshow": {
     "slide_type": ""
    },
    "tags": [],
    "vscode": {
     "languageId": "r"
    }
   },
   "outputs": [
    {
     "name": "stderr",
     "output_type": "stream",
     "text": [
      "\u001b[1m\u001b[22m`geom_smooth()` using method = 'loess' and formula = 'y ~ x'\n"
     ]
    },
    {
     "data": {
      "image/png": "[encoded data removed]",
      "text/plain": [
       "plot without title"
      ]
     },
     "metadata": {
      "image/png": {
       "height": 420,
       "width": 420
      }
     },
     "output_type": "display_data"
    }
   ],
   "source": [
    "FlightsGraph <- flights |>\n",
    "    group_by(dest) |>\n",
    "    summarise(\n",
    "                count = n(),\n",
    "                dist = mean(distance, na.rm = TRUE),\n",
    "                delay = mean(arr_delay, na.rm = TRUE)\n",
    "             ) |>\n",
    "    filter(count > 20, dest != 'HNL')\n",
    "\n",
    "ggplot(FlightsGraph, mapping = aes(x = dist, y = delay)) + \n",
    "        geom_point(aes(size = count), alpha = 1/3) +\n",
    "        geom_smooth(se = FALSE)"
   ]
  },
  {
   "cell_type": "code",
   "execution_count": 22,
   "id": "1f1e2003-1acd-4b36-81c3-9f6b7090f9d6",
   "metadata": {
    "editable": true,
    "slideshow": {
     "slide_type": ""
    },
    "tags": [],
    "vscode": {
     "languageId": "r"
    }
   },
   "outputs": [
    {
     "name": "stderr",
     "output_type": "stream",
     "text": [
      "\u001b[1m\u001b[22m`geom_smooth()` using method = 'loess' and formula = 'y ~ x'\n"
     ]
    },
    {
     "data": {
      "image/png": "[encoded data removed]",
      "text/plain": [
       "plot without title"
      ]
     },
     "metadata": {
      "image/png": {
       "height": 420,
       "width": 420
      }
     },
     "output_type": "display_data"
    }
   ],
   "source": [
    "# HOW TO WRITE IT WITHOUT USING na.rm = TRUE\n",
    "FlightsGraph <- flights |>\n",
    "    filter(! is.na(distance), ! is.na(arr_delay), ! is.na(dep_delay)) |>\n",
    "    group_by(dest) |>\n",
    "    summarise(\n",
    "                count = n(),\n",
    "                dist = mean(distance),\n",
    "                delay = mean(arr_delay)\n",
    "             ) |>\n",
    "    filter(count > 20, dest != 'HNL')\n",
    "    \n",
    "\n",
    "ggplot(FlightsGraph, mapping = aes(x = dist, y = delay)) + \n",
    "        geom_point(aes(size = count), alpha = 1/3) +\n",
    "        geom_smooth(se = FALSE)"
   ]
  },
  {
   "cell_type": "code",
   "execution_count": 8,
   "id": "8c96c87c-466a-4737-bdbf-1534648cd262",
   "metadata": {
    "editable": true,
    "scrolled": true,
    "slideshow": {
     "slide_type": ""
    },
    "tags": [],
    "vscode": {
     "languageId": "r"
    }
   },
   "outputs": [
    {
     "ename": "ERROR",
     "evalue": "Error in arrange(summarise(group_by(filter(flights, !is.na(distance), : could not find function \"arrange\"\n",
     "output_type": "error",
     "traceback": [
      "Error in arrange(summarise(group_by(filter(flights, !is.na(distance), : could not find function \"arrange\"\nTraceback:\n"
     ]
    }
   ],
   "source": [
    "# HOW TO WRITE IT WITHOUT USING na.rm = TRUE, GROUP_BY DIFF VARIABLES \n",
    "FlightsGraph <- flights |>\n",
    "    filter(! is.na(distance), ! is.na(arr_delay), ! is.na(dep_delay)) |>\n",
    "    group_by(year, month, carrier) |>\n",
    "    summarise( depDelay = mean(dep_delay) ) |>\n",
    "    arrange(year, month, desc(depDelay))\n",
    "FlightsGraph  |> head()"
   ]
  },
  {
   "cell_type": "code",
   "execution_count": 35,
   "id": "b0598a6a-1606-4c98-931a-5009e56d9138",
   "metadata": {
    "editable": true,
    "scrolled": true,
    "slideshow": {
     "slide_type": ""
    },
    "tags": [],
    "vscode": {
     "languageId": "r"
    }
   },
   "outputs": [
    {
     "name": "stderr",
     "output_type": "stream",
     "text": [
      "\u001b[1m\u001b[22m`summarise()` has grouped output by 'year'. You can override using the `.groups` argument.\n"
     ]
    },
    {
     "data": {
      "text/html": [
       "<table class=\"dataframe\">\n",
       "<caption>A grouped_df: 12 × 4</caption>\n",
       "<thead>\n",
       "\t<tr><th scope=col>year</th><th scope=col>month</th><th scope=col>meanDepDelay</th><th scope=col>Count</th></tr>\n",
       "\t<tr><th scope=col>&lt;int&gt;</th><th scope=col>&lt;int&gt;</th><th scope=col>&lt;dbl&gt;</th><th scope=col>&lt;int&gt;</th></tr>\n",
       "</thead>\n",
       "<tbody>\n",
       "\t<tr><td>2013</td><td> 1</td><td> 9.985491</td><td>26398</td></tr>\n",
       "\t<tr><td>2013</td><td> 2</td><td>10.760239</td><td>23611</td></tr>\n",
       "\t<tr><td>2013</td><td> 3</td><td>13.164289</td><td>27902</td></tr>\n",
       "\t<tr><td>2013</td><td> 4</td><td>13.849187</td><td>27564</td></tr>\n",
       "\t<tr><td>2013</td><td> 5</td><td>12.891709</td><td>28128</td></tr>\n",
       "\t<tr><td>2013</td><td> 6</td><td>20.725614</td><td>27075</td></tr>\n",
       "\t<tr><td>2013</td><td> 7</td><td>21.522179</td><td>28293</td></tr>\n",
       "\t<tr><td>2013</td><td> 8</td><td>12.570524</td><td>28756</td></tr>\n",
       "\t<tr><td>2013</td><td> 9</td><td> 6.630285</td><td>27010</td></tr>\n",
       "\t<tr><td>2013</td><td>10</td><td> 6.233175</td><td>28618</td></tr>\n",
       "\t<tr><td>2013</td><td>11</td><td> 5.420340</td><td>26971</td></tr>\n",
       "\t<tr><td>2013</td><td>12</td><td>16.482161</td><td>27020</td></tr>\n",
       "</tbody>\n",
       "</table>\n"
      ],
      "text/latex": [
       "A grouped\\_df: 12 × 4\n",
       "\\begin{tabular}{llll}\n",
       " year & month & meanDepDelay & Count\\\\\n",
       " <int> & <int> & <dbl> & <int>\\\\\n",
       "\\hline\n",
       "\t 2013 &  1 &  9.985491 & 26398\\\\\n",
       "\t 2013 &  2 & 10.760239 & 23611\\\\\n",
       "\t 2013 &  3 & 13.164289 & 27902\\\\\n",
       "\t 2013 &  4 & 13.849187 & 27564\\\\\n",
       "\t 2013 &  5 & 12.891709 & 28128\\\\\n",
       "\t 2013 &  6 & 20.725614 & 27075\\\\\n",
       "\t 2013 &  7 & 21.522179 & 28293\\\\\n",
       "\t 2013 &  8 & 12.570524 & 28756\\\\\n",
       "\t 2013 &  9 &  6.630285 & 27010\\\\\n",
       "\t 2013 & 10 &  6.233175 & 28618\\\\\n",
       "\t 2013 & 11 &  5.420340 & 26971\\\\\n",
       "\t 2013 & 12 & 16.482161 & 27020\\\\\n",
       "\\end{tabular}\n"
      ],
      "text/markdown": [
       "\n",
       "A grouped_df: 12 × 4\n",
       "\n",
       "| year &lt;int&gt; | month &lt;int&gt; | meanDepDelay &lt;dbl&gt; | Count &lt;int&gt; |\n",
       "|---|---|---|---|\n",
       "| 2013 |  1 |  9.985491 | 26398 |\n",
       "| 2013 |  2 | 10.760239 | 23611 |\n",
       "| 2013 |  3 | 13.164289 | 27902 |\n",
       "| 2013 |  4 | 13.849187 | 27564 |\n",
       "| 2013 |  5 | 12.891709 | 28128 |\n",
       "| 2013 |  6 | 20.725614 | 27075 |\n",
       "| 2013 |  7 | 21.522179 | 28293 |\n",
       "| 2013 |  8 | 12.570524 | 28756 |\n",
       "| 2013 |  9 |  6.630285 | 27010 |\n",
       "| 2013 | 10 |  6.233175 | 28618 |\n",
       "| 2013 | 11 |  5.420340 | 26971 |\n",
       "| 2013 | 12 | 16.482161 | 27020 |\n",
       "\n"
      ],
      "text/plain": [
       "   year month meanDepDelay Count\n",
       "1  2013  1     9.985491    26398\n",
       "2  2013  2    10.760239    23611\n",
       "3  2013  3    13.164289    27902\n",
       "4  2013  4    13.849187    27564\n",
       "5  2013  5    12.891709    28128\n",
       "6  2013  6    20.725614    27075\n",
       "7  2013  7    21.522179    28293\n",
       "8  2013  8    12.570524    28756\n",
       "9  2013  9     6.630285    27010\n",
       "10 2013 10     6.233175    28618\n",
       "11 2013 11     5.420340    26971\n",
       "12 2013 12    16.482161    27020"
      ]
     },
     "metadata": {},
     "output_type": "display_data"
    }
   ],
   "source": [
    "# HOW TO WRITE IT WITHOUT USING na.rm = TRUE, GROUP_BY DIFF VARIABLES \n",
    "FlightsGraph <- flights |>\n",
    "    filter(! is.na(distance), ! is.na(arr_delay), ! is.na(dep_delay)) |>\n",
    "    group_by(year, month) |>\n",
    "    summarise( meanDepDelay = mean(dep_delay), Count = n() ) |>\n",
    "    arrange(year, month)\n",
    "FlightsGraph"
   ]
  },
  {
   "cell_type": "code",
   "execution_count": 43,
   "id": "d2e6001f-67a5-4e28-8ed6-9a1c02276101",
   "metadata": {
    "vscode": {
     "languageId": "r"
    }
   },
   "outputs": [
    {
     "data": {
      "image/png": "[encoded data removed]",
      "text/plain": [
       "plot without title"
      ]
     },
     "metadata": {
      "image/png": {
       "height": 420,
       "width": 420
      }
     },
     "output_type": "display_data"
    }
   ],
   "source": [
    "ggplot(data = FlightsGraph, mapping = aes(x = meanDepDelay)) +\n",
    "      geom_freqpoly(binwidth = 10)"
   ]
  },
  {
   "cell_type": "code",
   "execution_count": null,
   "id": "c6cd4541-53bd-4a6f-98b4-d9fa02b2e292",
   "metadata": {
    "vscode": {
     "languageId": "r"
    }
   },
   "outputs": [],
   "source": []
  }
 ],
 "metadata": {
  "kernelspec": {
   "display_name": "R",
   "language": "R",
   "name": "ir"
  },
  "language_info": {
   "codemirror_mode": "r",
   "file_extension": ".r",
   "mimetype": "text/x-r-source",
   "name": "R",
   "pygments_lexer": "r",
   "version": "4.4.1"
  }
 },
 "nbformat": 4,
 "nbformat_minor": 5
}
