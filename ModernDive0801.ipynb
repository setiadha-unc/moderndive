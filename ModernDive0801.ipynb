{
 "cells": [
  {
   "cell_type": "code",
   "execution_count": 2,
   "metadata": {
    "vscode": {
     "languageId": "r"
    }
   },
   "outputs": [
    {
     "name": "stderr",
     "output_type": "stream",
     "text": [
      "── \u001b[1mAttaching core tidyverse packages\u001b[22m ──────────────────────── tidyverse 2.0.0 ──\n",
      "\u001b[32m✔\u001b[39m \u001b[34mdplyr    \u001b[39m 1.1.4     \u001b[32m✔\u001b[39m \u001b[34mreadr    \u001b[39m 2.1.5\n",
      "\u001b[32m✔\u001b[39m \u001b[34mforcats  \u001b[39m 1.0.0     \u001b[32m✔\u001b[39m \u001b[34mstringr  \u001b[39m 1.5.1\n",
      "\u001b[32m✔\u001b[39m \u001b[34mggplot2  \u001b[39m 3.5.1     \u001b[32m✔\u001b[39m \u001b[34mtibble   \u001b[39m 3.2.1\n",
      "\u001b[32m✔\u001b[39m \u001b[34mlubridate\u001b[39m 1.9.3     \u001b[32m✔\u001b[39m \u001b[34mtidyr    \u001b[39m 1.3.1\n",
      "\u001b[32m✔\u001b[39m \u001b[34mpurrr    \u001b[39m 1.0.2     \n",
      "── \u001b[1mConflicts\u001b[22m ────────────────────────────────────────── tidyverse_conflicts() ──\n",
      "\u001b[31m✖\u001b[39m \u001b[34mdplyr\u001b[39m::\u001b[32mfilter()\u001b[39m masks \u001b[34mstats\u001b[39m::filter()\n",
      "\u001b[31m✖\u001b[39m \u001b[34mdplyr\u001b[39m::\u001b[32mlag()\u001b[39m    masks \u001b[34mstats\u001b[39m::lag()\n",
      "\u001b[36mℹ\u001b[39m Use the conflicted package (\u001b[3m\u001b[34m<http://conflicted.r-lib.org/>\u001b[39m\u001b[23m) to force all conflicts to become errors\n"
     ]
    }
   ],
   "source": [
    "library(\"tidyverse\")\n",
    "library(\"moderndive\")\n",
    "library(\"infer\")"
   ]
  },
  {
   "cell_type": "code",
   "execution_count": 3,
   "metadata": {
    "vscode": {
     "languageId": "r"
    }
   },
   "outputs": [
    {
     "data": {
      "text/html": [
       "<table class=\"dataframe\">\n",
       "<caption>A tibble: 6 × 2</caption>\n",
       "<thead>\n",
       "\t<tr><th scope=col>ID</th><th scope=col>year</th></tr>\n",
       "\t<tr><th scope=col>&lt;int&gt;</th><th scope=col>&lt;dbl&gt;</th></tr>\n",
       "</thead>\n",
       "<tbody>\n",
       "\t<tr><td>1</td><td>2002</td></tr>\n",
       "\t<tr><td>2</td><td>1986</td></tr>\n",
       "\t<tr><td>3</td><td>2017</td></tr>\n",
       "\t<tr><td>4</td><td>1988</td></tr>\n",
       "\t<tr><td>5</td><td>2008</td></tr>\n",
       "\t<tr><td>6</td><td>1983</td></tr>\n",
       "</tbody>\n",
       "</table>\n"
      ],
      "text/latex": [
       "A tibble: 6 × 2\n",
       "\\begin{tabular}{ll}\n",
       " ID & year\\\\\n",
       " <int> & <dbl>\\\\\n",
       "\\hline\n",
       "\t 1 & 2002\\\\\n",
       "\t 2 & 1986\\\\\n",
       "\t 3 & 2017\\\\\n",
       "\t 4 & 1988\\\\\n",
       "\t 5 & 2008\\\\\n",
       "\t 6 & 1983\\\\\n",
       "\\end{tabular}\n"
      ],
      "text/markdown": [
       "\n",
       "A tibble: 6 × 2\n",
       "\n",
       "| ID &lt;int&gt; | year &lt;dbl&gt; |\n",
       "|---|---|\n",
       "| 1 | 2002 |\n",
       "| 2 | 1986 |\n",
       "| 3 | 2017 |\n",
       "| 4 | 1988 |\n",
       "| 5 | 2008 |\n",
       "| 6 | 1983 |\n",
       "\n"
      ],
      "text/plain": [
       "  ID year\n",
       "1 1  2002\n",
       "2 2  1986\n",
       "3 3  2017\n",
       "4 4  1988\n",
       "5 5  2008\n",
       "6 6  1983"
      ]
     },
     "metadata": {},
     "output_type": "display_data"
    },
    {
     "data": {
      "text/html": [
       "<table class=\"dataframe\">\n",
       "<caption>A tibble: 6 × 2</caption>\n",
       "<thead>\n",
       "\t<tr><th scope=col>ID</th><th scope=col>year</th></tr>\n",
       "\t<tr><th scope=col>&lt;int&gt;</th><th scope=col>&lt;dbl&gt;</th></tr>\n",
       "</thead>\n",
       "<tbody>\n",
       "\t<tr><td>45</td><td>1997</td></tr>\n",
       "\t<tr><td>46</td><td>2017</td></tr>\n",
       "\t<tr><td>47</td><td>1982</td></tr>\n",
       "\t<tr><td>48</td><td>1988</td></tr>\n",
       "\t<tr><td>49</td><td>2006</td></tr>\n",
       "\t<tr><td>50</td><td>2017</td></tr>\n",
       "</tbody>\n",
       "</table>\n"
      ],
      "text/latex": [
       "A tibble: 6 × 2\n",
       "\\begin{tabular}{ll}\n",
       " ID & year\\\\\n",
       " <int> & <dbl>\\\\\n",
       "\\hline\n",
       "\t 45 & 1997\\\\\n",
       "\t 46 & 2017\\\\\n",
       "\t 47 & 1982\\\\\n",
       "\t 48 & 1988\\\\\n",
       "\t 49 & 2006\\\\\n",
       "\t 50 & 2017\\\\\n",
       "\\end{tabular}\n"
      ],
      "text/markdown": [
       "\n",
       "A tibble: 6 × 2\n",
       "\n",
       "| ID &lt;int&gt; | year &lt;dbl&gt; |\n",
       "|---|---|\n",
       "| 45 | 1997 |\n",
       "| 46 | 2017 |\n",
       "| 47 | 1982 |\n",
       "| 48 | 1988 |\n",
       "| 49 | 2006 |\n",
       "| 50 | 2017 |\n",
       "\n"
      ],
      "text/plain": [
       "  ID year\n",
       "1 45 1997\n",
       "2 46 2017\n",
       "3 47 1982\n",
       "4 48 1988\n",
       "5 49 2006\n",
       "6 50 2017"
      ]
     },
     "metadata": {},
     "output_type": "display_data"
    }
   ],
   "source": [
    "pennies_sample |> head()\n",
    "pennies_sample |> tail()"
   ]
  },
  {
   "cell_type": "code",
   "execution_count": 4,
   "metadata": {
    "vscode": {
     "languageId": "r"
    }
   },
   "outputs": [
    {
     "data": {
      "image/png": "[encoded data removed]",
      "text/plain": [
       "plot without title"
      ]
     },
     "metadata": {
      "image/png": {
       "height": 420,
       "width": 420
      }
     },
     "output_type": "display_data"
    }
   ],
   "source": [
    "ggplot(data = pennies_sample, aes(x = year)) +\n",
    "  geom_histogram(binwidth = 10, color = \"blue\", fill = \"yellow\")"
   ]
  },
  {
   "cell_type": "code",
   "execution_count": 5,
   "metadata": {
    "vscode": {
     "languageId": "r"
    }
   },
   "outputs": [],
   "source": [
    "pennies_resample <- tibble(\n",
    "  year = c(1976, 1962, 1976, 1983, 2017, 2015, 2015, 1962, 2016, 1976, \n",
    "           2006, 1997, 1988, 2015, 2015, 1988, 2016, 1978, 1979, 1997, \n",
    "           1974, 2013, 1978, 2015, 2008, 1982, 1986, 1979, 1981, 2004, \n",
    "           2000, 1995, 1999, 2006, 1979, 2015, 1979, 1998, 1981, 2015, \n",
    "           2000, 1999, 1988, 2017, 1992, 1997, 1990, 1988, 2006, 2000)\n",
    ")"
   ]
  },
  {
   "cell_type": "code",
   "execution_count": 6,
   "metadata": {
    "vscode": {
     "languageId": "r"
    }
   },
   "outputs": [
    {
     "data": {
      "text/html": [
       "<table class=\"dataframe\">\n",
       "<caption>A tibble: 1 × 1</caption>\n",
       "<thead>\n",
       "\t<tr><th scope=col>mean_x</th></tr>\n",
       "\t<tr><th scope=col>&lt;dbl&gt;</th></tr>\n",
       "</thead>\n",
       "<tbody>\n",
       "\t<tr><td>1995.44</td></tr>\n",
       "</tbody>\n",
       "</table>\n"
      ],
      "text/latex": [
       "A tibble: 1 × 1\n",
       "\\begin{tabular}{l}\n",
       " mean\\_x\\\\\n",
       " <dbl>\\\\\n",
       "\\hline\n",
       "\t 1995.44\\\\\n",
       "\\end{tabular}\n"
      ],
      "text/markdown": [
       "\n",
       "A tibble: 1 × 1\n",
       "\n",
       "| mean_x &lt;dbl&gt; |\n",
       "|---|\n",
       "| 1995.44 |\n",
       "\n"
      ],
      "text/plain": [
       "  mean_x \n",
       "1 1995.44"
      ]
     },
     "metadata": {},
     "output_type": "display_data"
    },
    {
     "data": {
      "text/html": [
       "<table class=\"dataframe\">\n",
       "<caption>A tibble: 1 × 1</caption>\n",
       "<thead>\n",
       "\t<tr><th scope=col>mean_x</th></tr>\n",
       "\t<tr><th scope=col>&lt;dbl&gt;</th></tr>\n",
       "</thead>\n",
       "<tbody>\n",
       "\t<tr><td>1994.82</td></tr>\n",
       "</tbody>\n",
       "</table>\n"
      ],
      "text/latex": [
       "A tibble: 1 × 1\n",
       "\\begin{tabular}{l}\n",
       " mean\\_x\\\\\n",
       " <dbl>\\\\\n",
       "\\hline\n",
       "\t 1994.82\\\\\n",
       "\\end{tabular}\n"
      ],
      "text/markdown": [
       "\n",
       "A tibble: 1 × 1\n",
       "\n",
       "| mean_x &lt;dbl&gt; |\n",
       "|---|\n",
       "| 1994.82 |\n",
       "\n"
      ],
      "text/plain": [
       "  mean_x \n",
       "1 1994.82"
      ]
     },
     "metadata": {},
     "output_type": "display_data"
    },
    {
     "data": {
      "text/html": [
       "<table class=\"dataframe\">\n",
       "<caption>A tibble: 35 × 2</caption>\n",
       "<thead>\n",
       "\t<tr><th scope=col>name</th><th scope=col>mean_x</th></tr>\n",
       "\t<tr><th scope=col>&lt;chr&gt;</th><th scope=col>&lt;dbl&gt;</th></tr>\n",
       "</thead>\n",
       "<tbody>\n",
       "\t<tr><td>Arianna  </td><td>1992.50</td></tr>\n",
       "\t<tr><td>Artemis  </td><td>1996.42</td></tr>\n",
       "\t<tr><td>Bea      </td><td>1996.32</td></tr>\n",
       "\t<tr><td>Camryn   </td><td>1996.90</td></tr>\n",
       "\t<tr><td>Cassandra</td><td>1991.22</td></tr>\n",
       "\t<tr><td>Cindy    </td><td>1995.48</td></tr>\n",
       "\t<tr><td>Claire   </td><td>1995.52</td></tr>\n",
       "\t<tr><td>Dahlia   </td><td>1998.48</td></tr>\n",
       "\t<tr><td>Dan      </td><td>1993.86</td></tr>\n",
       "\t<tr><td>Eindra   </td><td>1993.56</td></tr>\n",
       "\t<tr><td>Ella     </td><td>1994.76</td></tr>\n",
       "\t<tr><td>Erin     </td><td>1996.68</td></tr>\n",
       "\t<tr><td>Eunice   </td><td>1996.66</td></tr>\n",
       "\t<tr><td>Faith    </td><td>1996.66</td></tr>\n",
       "\t<tr><td>Glenda   </td><td>1994.98</td></tr>\n",
       "\t<tr><td>Grace    </td><td>1998.16</td></tr>\n",
       "\t<tr><td>Hafsa    </td><td>1995.44</td></tr>\n",
       "\t<tr><td>Jenny    </td><td>1996.80</td></tr>\n",
       "\t<tr><td>Karen    </td><td>1993.66</td></tr>\n",
       "\t<tr><td>Logan    </td><td>1993.82</td></tr>\n",
       "\t<tr><td>Mabel    </td><td>1995.88</td></tr>\n",
       "\t<tr><td>Maddie   </td><td>1997.78</td></tr>\n",
       "\t<tr><td>Min      </td><td>1996.54</td></tr>\n",
       "\t<tr><td>Morgan   </td><td>1995.34</td></tr>\n",
       "\t<tr><td>Naoni    </td><td>1992.36</td></tr>\n",
       "\t<tr><td>Noa      </td><td>1989.46</td></tr>\n",
       "\t<tr><td>Nox      </td><td>1995.86</td></tr>\n",
       "\t<tr><td>Olivia   </td><td>1992.40</td></tr>\n",
       "\t<tr><td>Priya    </td><td>1995.88</td></tr>\n",
       "\t<tr><td>Sarah    </td><td>1997.46</td></tr>\n",
       "\t<tr><td>Sofia    </td><td>1998.44</td></tr>\n",
       "\t<tr><td>Sunshihe </td><td>1997.24</td></tr>\n",
       "\t<tr><td>Taylor   </td><td>1999.94</td></tr>\n",
       "\t<tr><td>Tim      </td><td>1997.96</td></tr>\n",
       "\t<tr><td>Tina     </td><td>1994.42</td></tr>\n",
       "</tbody>\n",
       "</table>\n"
      ],
      "text/latex": [
       "A tibble: 35 × 2\n",
       "\\begin{tabular}{ll}\n",
       " name & mean\\_x\\\\\n",
       " <chr> & <dbl>\\\\\n",
       "\\hline\n",
       "\t Arianna   & 1992.50\\\\\n",
       "\t Artemis   & 1996.42\\\\\n",
       "\t Bea       & 1996.32\\\\\n",
       "\t Camryn    & 1996.90\\\\\n",
       "\t Cassandra & 1991.22\\\\\n",
       "\t Cindy     & 1995.48\\\\\n",
       "\t Claire    & 1995.52\\\\\n",
       "\t Dahlia    & 1998.48\\\\\n",
       "\t Dan       & 1993.86\\\\\n",
       "\t Eindra    & 1993.56\\\\\n",
       "\t Ella      & 1994.76\\\\\n",
       "\t Erin      & 1996.68\\\\\n",
       "\t Eunice    & 1996.66\\\\\n",
       "\t Faith     & 1996.66\\\\\n",
       "\t Glenda    & 1994.98\\\\\n",
       "\t Grace     & 1998.16\\\\\n",
       "\t Hafsa     & 1995.44\\\\\n",
       "\t Jenny     & 1996.80\\\\\n",
       "\t Karen     & 1993.66\\\\\n",
       "\t Logan     & 1993.82\\\\\n",
       "\t Mabel     & 1995.88\\\\\n",
       "\t Maddie    & 1997.78\\\\\n",
       "\t Min       & 1996.54\\\\\n",
       "\t Morgan    & 1995.34\\\\\n",
       "\t Naoni     & 1992.36\\\\\n",
       "\t Noa       & 1989.46\\\\\n",
       "\t Nox       & 1995.86\\\\\n",
       "\t Olivia    & 1992.40\\\\\n",
       "\t Priya     & 1995.88\\\\\n",
       "\t Sarah     & 1997.46\\\\\n",
       "\t Sofia     & 1998.44\\\\\n",
       "\t Sunshihe  & 1997.24\\\\\n",
       "\t Taylor    & 1999.94\\\\\n",
       "\t Tim       & 1997.96\\\\\n",
       "\t Tina      & 1994.42\\\\\n",
       "\\end{tabular}\n"
      ],
      "text/markdown": [
       "\n",
       "A tibble: 35 × 2\n",
       "\n",
       "| name &lt;chr&gt; | mean_x &lt;dbl&gt; |\n",
       "|---|---|\n",
       "| Arianna   | 1992.50 |\n",
       "| Artemis   | 1996.42 |\n",
       "| Bea       | 1996.32 |\n",
       "| Camryn    | 1996.90 |\n",
       "| Cassandra | 1991.22 |\n",
       "| Cindy     | 1995.48 |\n",
       "| Claire    | 1995.52 |\n",
       "| Dahlia    | 1998.48 |\n",
       "| Dan       | 1993.86 |\n",
       "| Eindra    | 1993.56 |\n",
       "| Ella      | 1994.76 |\n",
       "| Erin      | 1996.68 |\n",
       "| Eunice    | 1996.66 |\n",
       "| Faith     | 1996.66 |\n",
       "| Glenda    | 1994.98 |\n",
       "| Grace     | 1998.16 |\n",
       "| Hafsa     | 1995.44 |\n",
       "| Jenny     | 1996.80 |\n",
       "| Karen     | 1993.66 |\n",
       "| Logan     | 1993.82 |\n",
       "| Mabel     | 1995.88 |\n",
       "| Maddie    | 1997.78 |\n",
       "| Min       | 1996.54 |\n",
       "| Morgan    | 1995.34 |\n",
       "| Naoni     | 1992.36 |\n",
       "| Noa       | 1989.46 |\n",
       "| Nox       | 1995.86 |\n",
       "| Olivia    | 1992.40 |\n",
       "| Priya     | 1995.88 |\n",
       "| Sarah     | 1997.46 |\n",
       "| Sofia     | 1998.44 |\n",
       "| Sunshihe  | 1997.24 |\n",
       "| Taylor    | 1999.94 |\n",
       "| Tim       | 1997.96 |\n",
       "| Tina      | 1994.42 |\n",
       "\n"
      ],
      "text/plain": [
       "   name      mean_x \n",
       "1  Arianna   1992.50\n",
       "2  Artemis   1996.42\n",
       "3  Bea       1996.32\n",
       "4  Camryn    1996.90\n",
       "5  Cassandra 1991.22\n",
       "6  Cindy     1995.48\n",
       "7  Claire    1995.52\n",
       "8  Dahlia    1998.48\n",
       "9  Dan       1993.86\n",
       "10 Eindra    1993.56\n",
       "11 Ella      1994.76\n",
       "12 Erin      1996.68\n",
       "13 Eunice    1996.66\n",
       "14 Faith     1996.66\n",
       "15 Glenda    1994.98\n",
       "16 Grace     1998.16\n",
       "17 Hafsa     1995.44\n",
       "18 Jenny     1996.80\n",
       "19 Karen     1993.66\n",
       "20 Logan     1993.82\n",
       "21 Mabel     1995.88\n",
       "22 Maddie    1997.78\n",
       "23 Min       1996.54\n",
       "24 Morgan    1995.34\n",
       "25 Naoni     1992.36\n",
       "26 Noa       1989.46\n",
       "27 Nox       1995.86\n",
       "28 Olivia    1992.40\n",
       "29 Priya     1995.88\n",
       "30 Sarah     1997.46\n",
       "31 Sofia     1998.44\n",
       "32 Sunshihe  1997.24\n",
       "33 Taylor    1999.94\n",
       "34 Tim       1997.96\n",
       "35 Tina      1994.42"
      ]
     },
     "metadata": {},
     "output_type": "display_data"
    }
   ],
   "source": [
    "x_bar <- pennies_sample |> summarise(mean_x = mean(year))\n",
    "x_bar\n",
    "\n",
    "x_resample_bar <- pennies_resample |> summarise(mean_x = mean(year))\n",
    "x_resample_bar\n",
    "\n",
    "x_resamples_bars <- pennies_resamples |> summarise(mean_x = mean(year))\n",
    "x_resamples_bars"
   ]
  },
  {
   "cell_type": "code",
   "execution_count": 7,
   "metadata": {
    "vscode": {
     "languageId": "r"
    }
   },
   "outputs": [
    {
     "data": {
      "image/png": "[encoded data removed]",
      "text/plain": [
       "plot without title"
      ]
     },
     "metadata": {
      "image/png": {
       "height": 420,
       "width": 420
      }
     },
     "output_type": "display_data"
    },
    {
     "data": {
      "image/png": "[encoded data removed]",
      "text/plain": [
       "plot without title"
      ]
     },
     "metadata": {
      "image/png": {
       "height": 420,
       "width": 420
      }
     },
     "output_type": "display_data"
    },
    {
     "data": {
      "image/png": "[encoded data removed]",
      "text/plain": [
       "plot without title"
      ]
     },
     "metadata": {
      "image/png": {
       "height": 420,
       "width": 420
      }
     },
     "output_type": "display_data"
    }
   ],
   "source": [
    "ggplot(data = pennies_sample, aes(x = year)) +\n",
    "  geom_histogram(binwidth = 10, color = \"blue\", fill = \"yellow\")\n",
    "ggplot(data = pennies_resample, aes(x = year)) +\n",
    "  geom_histogram(binwidth = 10, color = \"yellow\", fill = \"blue\")\n",
    "ggplot(data = x_resamples_bars, aes(x = mean_x)) +\n",
    "  geom_histogram(binwidth = 1, color = \"red\", fill = \"purple\")"
   ]
  },
  {
   "cell_type": "code",
   "execution_count": 8,
   "metadata": {
    "vscode": {
     "languageId": "r"
    }
   },
   "outputs": [
    {
     "data": {
      "text/html": [
       "<table class=\"dataframe\">\n",
       "<caption>A grouped_df: 6 × 2</caption>\n",
       "<thead>\n",
       "\t<tr><th scope=col>replicate</th><th scope=col>year</th></tr>\n",
       "\t<tr><th scope=col>&lt;int&gt;</th><th scope=col>&lt;dbl&gt;</th></tr>\n",
       "</thead>\n",
       "<tbody>\n",
       "\t<tr><td>1</td><td>1978</td></tr>\n",
       "\t<tr><td>1</td><td>2013</td></tr>\n",
       "\t<tr><td>1</td><td>1979</td></tr>\n",
       "\t<tr><td>1</td><td>2016</td></tr>\n",
       "\t<tr><td>1</td><td>1990</td></tr>\n",
       "\t<tr><td>1</td><td>1981</td></tr>\n",
       "</tbody>\n",
       "</table>\n"
      ],
      "text/latex": [
       "A grouped\\_df: 6 × 2\n",
       "\\begin{tabular}{ll}\n",
       " replicate & year\\\\\n",
       " <int> & <dbl>\\\\\n",
       "\\hline\n",
       "\t 1 & 1978\\\\\n",
       "\t 1 & 2013\\\\\n",
       "\t 1 & 1979\\\\\n",
       "\t 1 & 2016\\\\\n",
       "\t 1 & 1990\\\\\n",
       "\t 1 & 1981\\\\\n",
       "\\end{tabular}\n"
      ],
      "text/markdown": [
       "\n",
       "A grouped_df: 6 × 2\n",
       "\n",
       "| replicate &lt;int&gt; | year &lt;dbl&gt; |\n",
       "|---|---|\n",
       "| 1 | 1978 |\n",
       "| 1 | 2013 |\n",
       "| 1 | 1979 |\n",
       "| 1 | 2016 |\n",
       "| 1 | 1990 |\n",
       "| 1 | 1981 |\n",
       "\n"
      ],
      "text/plain": [
       "  replicate year\n",
       "1 1         1978\n",
       "2 1         2013\n",
       "3 1         1979\n",
       "4 1         2016\n",
       "5 1         1990\n",
       "6 1         1981"
      ]
     },
     "metadata": {},
     "output_type": "display_data"
    },
    {
     "data": {
      "text/html": [
       "<table class=\"dataframe\">\n",
       "<caption>A grouped_df: 6 × 2</caption>\n",
       "<thead>\n",
       "\t<tr><th scope=col>replicate</th><th scope=col>year</th></tr>\n",
       "\t<tr><th scope=col>&lt;int&gt;</th><th scope=col>&lt;dbl&gt;</th></tr>\n",
       "</thead>\n",
       "<tbody>\n",
       "\t<tr><td>35</td><td>1978</td></tr>\n",
       "\t<tr><td>35</td><td>1976</td></tr>\n",
       "\t<tr><td>35</td><td>2015</td></tr>\n",
       "\t<tr><td>35</td><td>2017</td></tr>\n",
       "\t<tr><td>35</td><td>1979</td></tr>\n",
       "\t<tr><td>35</td><td>2004</td></tr>\n",
       "</tbody>\n",
       "</table>\n"
      ],
      "text/latex": [
       "A grouped\\_df: 6 × 2\n",
       "\\begin{tabular}{ll}\n",
       " replicate & year\\\\\n",
       " <int> & <dbl>\\\\\n",
       "\\hline\n",
       "\t 35 & 1978\\\\\n",
       "\t 35 & 1976\\\\\n",
       "\t 35 & 2015\\\\\n",
       "\t 35 & 2017\\\\\n",
       "\t 35 & 1979\\\\\n",
       "\t 35 & 2004\\\\\n",
       "\\end{tabular}\n"
      ],
      "text/markdown": [
       "\n",
       "A grouped_df: 6 × 2\n",
       "\n",
       "| replicate &lt;int&gt; | year &lt;dbl&gt; |\n",
       "|---|---|\n",
       "| 35 | 1978 |\n",
       "| 35 | 1976 |\n",
       "| 35 | 2015 |\n",
       "| 35 | 2017 |\n",
       "| 35 | 1979 |\n",
       "| 35 | 2004 |\n",
       "\n"
      ],
      "text/plain": [
       "  replicate year\n",
       "1 35        1978\n",
       "2 35        1976\n",
       "3 35        2015\n",
       "4 35        2017\n",
       "5 35        1979\n",
       "6 35        2004"
      ]
     },
     "metadata": {},
     "output_type": "display_data"
    }
   ],
   "source": [
    "virtual_resample <- pennies_resample |>\n",
    "  rep_sample_n(size = 50, replace = TRUE, reps = 35)\n",
    "virtual_resample |> head()\n",
    "virtual_resample |> tail()"
   ]
  },
  {
   "cell_type": "code",
   "execution_count": 9,
   "metadata": {
    "vscode": {
     "languageId": "r"
    }
   },
   "outputs": [
    {
     "data": {
      "text/html": [
       "<table class=\"dataframe\">\n",
       "<caption>A tibble: 6 × 2</caption>\n",
       "<thead>\n",
       "\t<tr><th scope=col>replicate</th><th scope=col>mean_x</th></tr>\n",
       "\t<tr><th scope=col>&lt;int&gt;</th><th scope=col>&lt;dbl&gt;</th></tr>\n",
       "</thead>\n",
       "<tbody>\n",
       "\t<tr><td>1</td><td>1993.48</td></tr>\n",
       "\t<tr><td>2</td><td>1990.78</td></tr>\n",
       "\t<tr><td>3</td><td>1993.40</td></tr>\n",
       "\t<tr><td>4</td><td>1994.06</td></tr>\n",
       "\t<tr><td>5</td><td>1996.24</td></tr>\n",
       "\t<tr><td>6</td><td>1996.94</td></tr>\n",
       "</tbody>\n",
       "</table>\n"
      ],
      "text/latex": [
       "A tibble: 6 × 2\n",
       "\\begin{tabular}{ll}\n",
       " replicate & mean\\_x\\\\\n",
       " <int> & <dbl>\\\\\n",
       "\\hline\n",
       "\t 1 & 1993.48\\\\\n",
       "\t 2 & 1990.78\\\\\n",
       "\t 3 & 1993.40\\\\\n",
       "\t 4 & 1994.06\\\\\n",
       "\t 5 & 1996.24\\\\\n",
       "\t 6 & 1996.94\\\\\n",
       "\\end{tabular}\n"
      ],
      "text/markdown": [
       "\n",
       "A tibble: 6 × 2\n",
       "\n",
       "| replicate &lt;int&gt; | mean_x &lt;dbl&gt; |\n",
       "|---|---|\n",
       "| 1 | 1993.48 |\n",
       "| 2 | 1990.78 |\n",
       "| 3 | 1993.40 |\n",
       "| 4 | 1994.06 |\n",
       "| 5 | 1996.24 |\n",
       "| 6 | 1996.94 |\n",
       "\n"
      ],
      "text/plain": [
       "  replicate mean_x \n",
       "1 1         1993.48\n",
       "2 2         1990.78\n",
       "3 3         1993.40\n",
       "4 4         1994.06\n",
       "5 5         1996.24\n",
       "6 6         1996.94"
      ]
     },
     "metadata": {},
     "output_type": "display_data"
    },
    {
     "data": {
      "text/html": [
       "<table class=\"dataframe\">\n",
       "<caption>A tibble: 6 × 2</caption>\n",
       "<thead>\n",
       "\t<tr><th scope=col>replicate</th><th scope=col>mean_x</th></tr>\n",
       "\t<tr><th scope=col>&lt;int&gt;</th><th scope=col>&lt;dbl&gt;</th></tr>\n",
       "</thead>\n",
       "<tbody>\n",
       "\t<tr><td>30</td><td>1992.28</td></tr>\n",
       "\t<tr><td>31</td><td>1993.42</td></tr>\n",
       "\t<tr><td>32</td><td>1992.50</td></tr>\n",
       "\t<tr><td>33</td><td>1996.44</td></tr>\n",
       "\t<tr><td>34</td><td>1998.88</td></tr>\n",
       "\t<tr><td>35</td><td>1992.92</td></tr>\n",
       "</tbody>\n",
       "</table>\n"
      ],
      "text/latex": [
       "A tibble: 6 × 2\n",
       "\\begin{tabular}{ll}\n",
       " replicate & mean\\_x\\\\\n",
       " <int> & <dbl>\\\\\n",
       "\\hline\n",
       "\t 30 & 1992.28\\\\\n",
       "\t 31 & 1993.42\\\\\n",
       "\t 32 & 1992.50\\\\\n",
       "\t 33 & 1996.44\\\\\n",
       "\t 34 & 1998.88\\\\\n",
       "\t 35 & 1992.92\\\\\n",
       "\\end{tabular}\n"
      ],
      "text/markdown": [
       "\n",
       "A tibble: 6 × 2\n",
       "\n",
       "| replicate &lt;int&gt; | mean_x &lt;dbl&gt; |\n",
       "|---|---|\n",
       "| 30 | 1992.28 |\n",
       "| 31 | 1993.42 |\n",
       "| 32 | 1992.50 |\n",
       "| 33 | 1996.44 |\n",
       "| 34 | 1998.88 |\n",
       "| 35 | 1992.92 |\n",
       "\n"
      ],
      "text/plain": [
       "  replicate mean_x \n",
       "1 30        1992.28\n",
       "2 31        1993.42\n",
       "3 32        1992.50\n",
       "4 33        1996.44\n",
       "5 34        1998.88\n",
       "6 35        1992.92"
      ]
     },
     "metadata": {},
     "output_type": "display_data"
    }
   ],
   "source": [
    "virt_resampled_mean <- virtual_resample |>\n",
    "  group_by(replicate) |>\n",
    "  summarise(mean_x = mean(year))\n",
    "\n",
    "virt_resampled_mean |> head()\n",
    "virt_resampled_mean |> tail()"
   ]
  },
  {
   "cell_type": "code",
   "execution_count": 10,
   "metadata": {
    "vscode": {
     "languageId": "r"
    }
   },
   "outputs": [
    {
     "data": {
      "image/png": "[encoded data removed]",
      "text/plain": [
       "plot without title"
      ]
     },
     "metadata": {
      "image/png": {
       "height": 420,
       "width": 420
      }
     },
     "output_type": "display_data"
    }
   ],
   "source": [
    "virt_resampled_mean |> ggplot(aes(x = mean_x)) +\n",
    "  geom_histogram(binwidth = 1, color = \"black\", fill = \"pink\", boundary = 1990)"
   ]
  },
  {
   "cell_type": "code",
   "execution_count": 17,
   "metadata": {
    "vscode": {
     "languageId": "r"
    }
   },
   "outputs": [
    {
     "data": {
      "text/html": [
       "<table class=\"dataframe\">\n",
       "<caption>A grouped_df: 6 × 3</caption>\n",
       "<thead>\n",
       "\t<tr><th scope=col>replicate</th><th scope=col>ID</th><th scope=col>year</th></tr>\n",
       "\t<tr><th scope=col>&lt;int&gt;</th><th scope=col>&lt;int&gt;</th><th scope=col>&lt;dbl&gt;</th></tr>\n",
       "</thead>\n",
       "<tbody>\n",
       "\t<tr><td>1</td><td>35</td><td>1985</td></tr>\n",
       "\t<tr><td>1</td><td>22</td><td>1976</td></tr>\n",
       "\t<tr><td>1</td><td>35</td><td>1985</td></tr>\n",
       "\t<tr><td>1</td><td>36</td><td>2015</td></tr>\n",
       "\t<tr><td>1</td><td>33</td><td>1979</td></tr>\n",
       "\t<tr><td>1</td><td>36</td><td>2015</td></tr>\n",
       "</tbody>\n",
       "</table>\n"
      ],
      "text/latex": [
       "A grouped\\_df: 6 × 3\n",
       "\\begin{tabular}{lll}\n",
       " replicate & ID & year\\\\\n",
       " <int> & <int> & <dbl>\\\\\n",
       "\\hline\n",
       "\t 1 & 35 & 1985\\\\\n",
       "\t 1 & 22 & 1976\\\\\n",
       "\t 1 & 35 & 1985\\\\\n",
       "\t 1 & 36 & 2015\\\\\n",
       "\t 1 & 33 & 1979\\\\\n",
       "\t 1 & 36 & 2015\\\\\n",
       "\\end{tabular}\n"
      ],
      "text/markdown": [
       "\n",
       "A grouped_df: 6 × 3\n",
       "\n",
       "| replicate &lt;int&gt; | ID &lt;int&gt; | year &lt;dbl&gt; |\n",
       "|---|---|---|\n",
       "| 1 | 35 | 1985 |\n",
       "| 1 | 22 | 1976 |\n",
       "| 1 | 35 | 1985 |\n",
       "| 1 | 36 | 2015 |\n",
       "| 1 | 33 | 1979 |\n",
       "| 1 | 36 | 2015 |\n",
       "\n"
      ],
      "text/plain": [
       "  replicate ID year\n",
       "1 1         35 1985\n",
       "2 1         22 1976\n",
       "3 1         35 1985\n",
       "4 1         36 2015\n",
       "5 1         33 1979\n",
       "6 1         36 2015"
      ]
     },
     "metadata": {},
     "output_type": "display_data"
    },
    {
     "data": {
      "text/html": [
       "<table class=\"dataframe\">\n",
       "<caption>A grouped_df: 6 × 3</caption>\n",
       "<thead>\n",
       "\t<tr><th scope=col>replicate</th><th scope=col>ID</th><th scope=col>year</th></tr>\n",
       "\t<tr><th scope=col>&lt;int&gt;</th><th scope=col>&lt;int&gt;</th><th scope=col>&lt;dbl&gt;</th></tr>\n",
       "</thead>\n",
       "<tbody>\n",
       "\t<tr><td>1000</td><td> 3</td><td>2017</td></tr>\n",
       "\t<tr><td>1000</td><td>45</td><td>1997</td></tr>\n",
       "\t<tr><td>1000</td><td>39</td><td>2015</td></tr>\n",
       "\t<tr><td>1000</td><td>37</td><td>1962</td></tr>\n",
       "\t<tr><td>1000</td><td>22</td><td>1976</td></tr>\n",
       "\t<tr><td>1000</td><td>21</td><td>1981</td></tr>\n",
       "</tbody>\n",
       "</table>\n"
      ],
      "text/latex": [
       "A grouped\\_df: 6 × 3\n",
       "\\begin{tabular}{lll}\n",
       " replicate & ID & year\\\\\n",
       " <int> & <int> & <dbl>\\\\\n",
       "\\hline\n",
       "\t 1000 &  3 & 2017\\\\\n",
       "\t 1000 & 45 & 1997\\\\\n",
       "\t 1000 & 39 & 2015\\\\\n",
       "\t 1000 & 37 & 1962\\\\\n",
       "\t 1000 & 22 & 1976\\\\\n",
       "\t 1000 & 21 & 1981\\\\\n",
       "\\end{tabular}\n"
      ],
      "text/markdown": [
       "\n",
       "A grouped_df: 6 × 3\n",
       "\n",
       "| replicate &lt;int&gt; | ID &lt;int&gt; | year &lt;dbl&gt; |\n",
       "|---|---|---|\n",
       "| 1000 |  3 | 2017 |\n",
       "| 1000 | 45 | 1997 |\n",
       "| 1000 | 39 | 2015 |\n",
       "| 1000 | 37 | 1962 |\n",
       "| 1000 | 22 | 1976 |\n",
       "| 1000 | 21 | 1981 |\n",
       "\n"
      ],
      "text/plain": [
       "  replicate ID year\n",
       "1 1000       3 2017\n",
       "2 1000      45 1997\n",
       "3 1000      39 2015\n",
       "4 1000      37 1962\n",
       "5 1000      22 1976\n",
       "6 1000      21 1981"
      ]
     },
     "metadata": {},
     "output_type": "display_data"
    }
   ],
   "source": [
    "resample_1k <- pennies_sample |>\n",
    "  rep_sample_n(size = 50, replace = TRUE, reps = 1000)\n",
    "resample_1k |> head()\n",
    "resample_1k |> tail()"
   ]
  },
  {
   "cell_type": "code",
   "execution_count": 25,
   "metadata": {
    "vscode": {
     "languageId": "r"
    }
   },
   "outputs": [
    {
     "data": {
      "text/html": [
       "<table class=\"dataframe\">\n",
       "<caption>A tibble: 6 × 2</caption>\n",
       "<thead>\n",
       "\t<tr><th scope=col>replicate</th><th scope=col>mean_x</th></tr>\n",
       "\t<tr><th scope=col>&lt;int&gt;</th><th scope=col>&lt;dbl&gt;</th></tr>\n",
       "</thead>\n",
       "<tbody>\n",
       "\t<tr><td>1</td><td>1998.10</td></tr>\n",
       "\t<tr><td>2</td><td>1993.48</td></tr>\n",
       "\t<tr><td>3</td><td>1994.68</td></tr>\n",
       "\t<tr><td>4</td><td>1995.96</td></tr>\n",
       "\t<tr><td>5</td><td>1996.04</td></tr>\n",
       "\t<tr><td>6</td><td>1996.12</td></tr>\n",
       "</tbody>\n",
       "</table>\n"
      ],
      "text/latex": [
       "A tibble: 6 × 2\n",
       "\\begin{tabular}{ll}\n",
       " replicate & mean\\_x\\\\\n",
       " <int> & <dbl>\\\\\n",
       "\\hline\n",
       "\t 1 & 1998.10\\\\\n",
       "\t 2 & 1993.48\\\\\n",
       "\t 3 & 1994.68\\\\\n",
       "\t 4 & 1995.96\\\\\n",
       "\t 5 & 1996.04\\\\\n",
       "\t 6 & 1996.12\\\\\n",
       "\\end{tabular}\n"
      ],
      "text/markdown": [
       "\n",
       "A tibble: 6 × 2\n",
       "\n",
       "| replicate &lt;int&gt; | mean_x &lt;dbl&gt; |\n",
       "|---|---|\n",
       "| 1 | 1998.10 |\n",
       "| 2 | 1993.48 |\n",
       "| 3 | 1994.68 |\n",
       "| 4 | 1995.96 |\n",
       "| 5 | 1996.04 |\n",
       "| 6 | 1996.12 |\n",
       "\n"
      ],
      "text/plain": [
       "  replicate mean_x \n",
       "1 1         1998.10\n",
       "2 2         1993.48\n",
       "3 3         1994.68\n",
       "4 4         1995.96\n",
       "5 5         1996.04\n",
       "6 6         1996.12"
      ]
     },
     "metadata": {},
     "output_type": "display_data"
    },
    {
     "data": {
      "text/html": [
       "<table class=\"dataframe\">\n",
       "<caption>A tibble: 6 × 2</caption>\n",
       "<thead>\n",
       "\t<tr><th scope=col>replicate</th><th scope=col>mean_x</th></tr>\n",
       "\t<tr><th scope=col>&lt;int&gt;</th><th scope=col>&lt;dbl&gt;</th></tr>\n",
       "</thead>\n",
       "<tbody>\n",
       "\t<tr><td> 995</td><td>1994.86</td></tr>\n",
       "\t<tr><td> 996</td><td>1994.54</td></tr>\n",
       "\t<tr><td> 997</td><td>1993.90</td></tr>\n",
       "\t<tr><td> 998</td><td>1997.84</td></tr>\n",
       "\t<tr><td> 999</td><td>1997.20</td></tr>\n",
       "\t<tr><td>1000</td><td>1996.06</td></tr>\n",
       "</tbody>\n",
       "</table>\n"
      ],
      "text/latex": [
       "A tibble: 6 × 2\n",
       "\\begin{tabular}{ll}\n",
       " replicate & mean\\_x\\\\\n",
       " <int> & <dbl>\\\\\n",
       "\\hline\n",
       "\t  995 & 1994.86\\\\\n",
       "\t  996 & 1994.54\\\\\n",
       "\t  997 & 1993.90\\\\\n",
       "\t  998 & 1997.84\\\\\n",
       "\t  999 & 1997.20\\\\\n",
       "\t 1000 & 1996.06\\\\\n",
       "\\end{tabular}\n"
      ],
      "text/markdown": [
       "\n",
       "A tibble: 6 × 2\n",
       "\n",
       "| replicate &lt;int&gt; | mean_x &lt;dbl&gt; |\n",
       "|---|---|\n",
       "|  995 | 1994.86 |\n",
       "|  996 | 1994.54 |\n",
       "|  997 | 1993.90 |\n",
       "|  998 | 1997.84 |\n",
       "|  999 | 1997.20 |\n",
       "| 1000 | 1996.06 |\n",
       "\n"
      ],
      "text/plain": [
       "  replicate mean_x \n",
       "1  995      1994.86\n",
       "2  996      1994.54\n",
       "3  997      1993.90\n",
       "4  998      1997.84\n",
       "5  999      1997.20\n",
       "6 1000      1996.06"
      ]
     },
     "metadata": {},
     "output_type": "display_data"
    },
    {
     "data": {
      "text/html": [
       "<table class=\"dataframe\">\n",
       "<caption>A tibble: 1 × 1</caption>\n",
       "<thead>\n",
       "\t<tr><th scope=col>SE</th></tr>\n",
       "\t<tr><th scope=col>&lt;dbl&gt;</th></tr>\n",
       "</thead>\n",
       "<tbody>\n",
       "\t<tr><td>2.10963</td></tr>\n",
       "</tbody>\n",
       "</table>\n"
      ],
      "text/latex": [
       "A tibble: 1 × 1\n",
       "\\begin{tabular}{l}\n",
       " SE\\\\\n",
       " <dbl>\\\\\n",
       "\\hline\n",
       "\t 2.10963\\\\\n",
       "\\end{tabular}\n"
      ],
      "text/markdown": [
       "\n",
       "A tibble: 1 × 1\n",
       "\n",
       "| SE &lt;dbl&gt; |\n",
       "|---|\n",
       "| 2.10963 |\n",
       "\n"
      ],
      "text/plain": [
       "  SE     \n",
       "1 2.10963"
      ]
     },
     "metadata": {},
     "output_type": "display_data"
    }
   ],
   "source": [
    "virtual_resample_1k <- resample_1k |> group_by(replicate) |>\n",
    "  summarize(mean_x = mean(year))\n",
    "\n",
    "virtual_resample_1k |> head()\n",
    "virtual_resample_1k |> tail()\n",
    "se_resample_1k <- virtual_resample_1k |> summarize(SE = sd(mean_x))\n",
    "se_resample_1k"
   ]
  },
  {
   "cell_type": "code",
   "execution_count": null,
   "metadata": {
    "vscode": {
     "languageId": "r"
    }
   },
   "outputs": [
    {
     "data": {
      "image/png": "[encoded data removed]",
      "text/plain": [
       "plot without title"
      ]
     },
     "metadata": {
      "image/png": {
       "height": 420,
       "width": 420
      }
     },
     "output_type": "display_data"
    }
   ],
   "source": [
    "virtual_resample_1k |> ggplot(aes(x = mean_x)) +\n",
    "  geom_histogram(binwidth = 1, boundary = 1990) +\n",
    "  geom_vline(xintercept = )"
   ]
  },
  {
   "cell_type": "code",
   "execution_count": null,
   "metadata": {
    "vscode": {
     "languageId": "r"
    }
   },
   "outputs": [],
   "source": []
  }
 ],
 "metadata": {
  "kernelspec": {
   "display_name": "R",
   "language": "R",
   "name": "ir"
  },
  "language_info": {
   "codemirror_mode": "r",
   "file_extension": ".r",
   "mimetype": "text/x-r-source",
   "name": "R",
   "pygments_lexer": "r",
   "version": "4.4.1"
  }
 },
 "nbformat": 4,
 "nbformat_minor": 2
}
