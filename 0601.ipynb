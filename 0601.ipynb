{
 "cells": [
  {
   "cell_type": "code",
   "execution_count": 1,
   "id": "16d6ba9d-d3fb-4127-a24b-341480cf8ebf",
   "metadata": {
    "vscode": {
     "languageId": "r"
    }
   },
   "outputs": [
    {
     "name": "stderr",
     "output_type": "stream",
     "text": [
      "── \u001b[1mAttaching core tidyverse packages\u001b[22m ──────────────────────── tidyverse 2.0.0 ──\n",
      "\u001b[32m✔\u001b[39m \u001b[34mdplyr    \u001b[39m 1.1.4     \u001b[32m✔\u001b[39m \u001b[34mreadr    \u001b[39m 2.1.5\n",
      "\u001b[32m✔\u001b[39m \u001b[34mforcats  \u001b[39m 1.0.0     \u001b[32m✔\u001b[39m \u001b[34mstringr  \u001b[39m 1.5.1\n",
      "\u001b[32m✔\u001b[39m \u001b[34mggplot2  \u001b[39m 3.5.1     \u001b[32m✔\u001b[39m \u001b[34mtibble   \u001b[39m 3.2.1\n",
      "\u001b[32m✔\u001b[39m \u001b[34mlubridate\u001b[39m 1.9.3     \u001b[32m✔\u001b[39m \u001b[34mtidyr    \u001b[39m 1.3.1\n",
      "\u001b[32m✔\u001b[39m \u001b[34mpurrr    \u001b[39m 1.0.2     \n",
      "── \u001b[1mConflicts\u001b[22m ────────────────────────────────────────── tidyverse_conflicts() ──\n",
      "\u001b[31m✖\u001b[39m \u001b[34mdplyr\u001b[39m::\u001b[32mfilter()\u001b[39m masks \u001b[34mstats\u001b[39m::filter()\n",
      "\u001b[31m✖\u001b[39m \u001b[34mdplyr\u001b[39m::\u001b[32mlag()\u001b[39m    masks \u001b[34mstats\u001b[39m::lag()\n",
      "\u001b[36mℹ\u001b[39m Use the conflicted package (\u001b[3m\u001b[34m<http://conflicted.r-lib.org/>\u001b[39m\u001b[23m) to force all conflicts to become errors\n",
      "── \u001b[1mAttaching packages\u001b[22m ────────────────────────────────────── tidymodels 1.2.0 ──\n",
      "\n",
      "\u001b[32m✔\u001b[39m \u001b[34mbroom       \u001b[39m 1.0.6     \u001b[32m✔\u001b[39m \u001b[34mrsample     \u001b[39m 1.2.1\n",
      "\u001b[32m✔\u001b[39m \u001b[34mdials       \u001b[39m 1.3.0     \u001b[32m✔\u001b[39m \u001b[34mtune        \u001b[39m 1.2.1\n",
      "\u001b[32m✔\u001b[39m \u001b[34minfer       \u001b[39m 1.0.7     \u001b[32m✔\u001b[39m \u001b[34mworkflows   \u001b[39m 1.1.4\n",
      "\u001b[32m✔\u001b[39m \u001b[34mmodeldata   \u001b[39m 1.4.0     \u001b[32m✔\u001b[39m \u001b[34mworkflowsets\u001b[39m 1.1.0\n",
      "\u001b[32m✔\u001b[39m \u001b[34mparsnip     \u001b[39m 1.2.1     \u001b[32m✔\u001b[39m \u001b[34myardstick   \u001b[39m 1.3.1\n",
      "\u001b[32m✔\u001b[39m \u001b[34mrecipes     \u001b[39m 1.1.0     \n",
      "\n",
      "── \u001b[1mConflicts\u001b[22m ───────────────────────────────────────── tidymodels_conflicts() ──\n",
      "\u001b[31m✖\u001b[39m \u001b[34mscales\u001b[39m::\u001b[32mdiscard()\u001b[39m masks \u001b[34mpurrr\u001b[39m::discard()\n",
      "\u001b[31m✖\u001b[39m \u001b[34mdplyr\u001b[39m::\u001b[32mfilter()\u001b[39m   masks \u001b[34mstats\u001b[39m::filter()\n",
      "\u001b[31m✖\u001b[39m \u001b[34mrecipes\u001b[39m::\u001b[32mfixed()\u001b[39m  masks \u001b[34mstringr\u001b[39m::fixed()\n",
      "\u001b[31m✖\u001b[39m \u001b[34mdplyr\u001b[39m::\u001b[32mlag()\u001b[39m      masks \u001b[34mstats\u001b[39m::lag()\n",
      "\u001b[31m✖\u001b[39m \u001b[34myardstick\u001b[39m::\u001b[32mspec()\u001b[39m masks \u001b[34mreadr\u001b[39m::spec()\n",
      "\u001b[31m✖\u001b[39m \u001b[34mrecipes\u001b[39m::\u001b[32mstep()\u001b[39m   masks \u001b[34mstats\u001b[39m::step()\n",
      "\u001b[34m•\u001b[39m Dig deeper into tidy modeling with R at \u001b[32mhttps://www.tmwr.org\u001b[39m\n",
      "\n"
     ]
    }
   ],
   "source": [
    "library(\"tidyverse\")\n",
    "library(\"tidymodels\")\n",
    "library(\"readr\")\n",
    "library(\"skimr\")\n",
    "library(\"moderndive\")\n",
    "library(\"ISLR\")"
   ]
  },
  {
   "cell_type": "code",
   "execution_count": 4,
   "id": "6dc8da3b",
   "metadata": {
    "vscode": {
     "languageId": "r"
    }
   },
   "outputs": [
    {
     "name": "stdout",
     "output_type": "stream",
     "text": [
      "Rows: 463\n",
      "Columns: 4\n",
      "$ ID     \u001b[3m\u001b[90m<int>\u001b[39m\u001b[23m 1, 2, 3, 4, 5, 6, 7, 8, 9, 10, 11, 12, 13, 14, 15, 16, 17, 18, …\n",
      "$ score  \u001b[3m\u001b[90m<dbl>\u001b[39m\u001b[23m 4.7, 4.1, 3.9, 4.8, 4.6, 4.3, 2.8, 4.1, 3.4, 4.5, 3.8, 4.5, 4.6…\n",
      "$ age    \u001b[3m\u001b[90m<int>\u001b[39m\u001b[23m 36, 36, 36, 36, 59, 59, 59, 51, 51, 40, 40, 40, 40, 40, 40, 40,…\n",
      "$ gender \u001b[3m\u001b[90m<fct>\u001b[39m\u001b[23m female, female, female, female, male, male, male, male, male, f…\n"
     ]
    }
   ],
   "source": [
    "evals_ch6 <- evals |> select(ID, score, age, gender)\n",
    "\n",
    "evals_ch6 |> glimpse()"
   ]
  },
  {
   "cell_type": "code",
   "execution_count": 5,
   "id": "4a90dac1",
   "metadata": {
    "vscode": {
     "languageId": "r"
    }
   },
   "outputs": [
    {
     "data": {
      "text/html": [
       "<table class=\"dataframe\">\n",
       "<caption>A tibble: 8 × 4</caption>\n",
       "<thead>\n",
       "\t<tr><th scope=col>ID</th><th scope=col>score</th><th scope=col>age</th><th scope=col>gender</th></tr>\n",
       "\t<tr><th scope=col>&lt;int&gt;</th><th scope=col>&lt;dbl&gt;</th><th scope=col>&lt;int&gt;</th><th scope=col>&lt;fct&gt;</th></tr>\n",
       "</thead>\n",
       "<tbody>\n",
       "\t<tr><td> 58</td><td>4.7</td><td>47</td><td>male  </td></tr>\n",
       "\t<tr><td>270</td><td>4.6</td><td>33</td><td>female</td></tr>\n",
       "\t<tr><td>394</td><td>4.8</td><td>45</td><td>male  </td></tr>\n",
       "\t<tr><td> 89</td><td>4.4</td><td>56</td><td>female</td></tr>\n",
       "\t<tr><td> 20</td><td>4.6</td><td>31</td><td>female</td></tr>\n",
       "\t<tr><td>372</td><td>4.4</td><td>38</td><td>male  </td></tr>\n",
       "\t<tr><td>276</td><td>4.6</td><td>38</td><td>female</td></tr>\n",
       "\t<tr><td>341</td><td>4.9</td><td>43</td><td>male  </td></tr>\n",
       "</tbody>\n",
       "</table>\n"
      ],
      "text/latex": [
       "A tibble: 8 × 4\n",
       "\\begin{tabular}{llll}\n",
       " ID & score & age & gender\\\\\n",
       " <int> & <dbl> & <int> & <fct>\\\\\n",
       "\\hline\n",
       "\t  58 & 4.7 & 47 & male  \\\\\n",
       "\t 270 & 4.6 & 33 & female\\\\\n",
       "\t 394 & 4.8 & 45 & male  \\\\\n",
       "\t  89 & 4.4 & 56 & female\\\\\n",
       "\t  20 & 4.6 & 31 & female\\\\\n",
       "\t 372 & 4.4 & 38 & male  \\\\\n",
       "\t 276 & 4.6 & 38 & female\\\\\n",
       "\t 341 & 4.9 & 43 & male  \\\\\n",
       "\\end{tabular}\n"
      ],
      "text/markdown": [
       "\n",
       "A tibble: 8 × 4\n",
       "\n",
       "| ID &lt;int&gt; | score &lt;dbl&gt; | age &lt;int&gt; | gender &lt;fct&gt; |\n",
       "|---|---|---|---|\n",
       "|  58 | 4.7 | 47 | male   |\n",
       "| 270 | 4.6 | 33 | female |\n",
       "| 394 | 4.8 | 45 | male   |\n",
       "|  89 | 4.4 | 56 | female |\n",
       "|  20 | 4.6 | 31 | female |\n",
       "| 372 | 4.4 | 38 | male   |\n",
       "| 276 | 4.6 | 38 | female |\n",
       "| 341 | 4.9 | 43 | male   |\n",
       "\n"
      ],
      "text/plain": [
       "  ID  score age gender\n",
       "1  58 4.7   47  male  \n",
       "2 270 4.6   33  female\n",
       "3 394 4.8   45  male  \n",
       "4  89 4.4   56  female\n",
       "5  20 4.6   31  female\n",
       "6 372 4.4   38  male  \n",
       "7 276 4.6   38  female\n",
       "8 341 4.9   43  male  "
      ]
     },
     "metadata": {},
     "output_type": "display_data"
    }
   ],
   "source": [
    "evals_ch6 |> sample_n(8)"
   ]
  },
  {
   "cell_type": "code",
   "execution_count": 6,
   "id": "321b161b",
   "metadata": {
    "vscode": {
     "languageId": "r"
    }
   },
   "outputs": [
    {
     "name": "stdout",
     "output_type": "stream",
     "text": [
      "── Data Summary ────────────────────────\n",
      "                           Values                      \n",
      "Name                       select(evals_ch6, score, ...\n",
      "Number of rows             463                         \n",
      "Number of columns          3                           \n",
      "_______________________                                \n",
      "Column type frequency:                                 \n",
      "  factor                   1                           \n",
      "  numeric                  2                           \n",
      "________________________                               \n",
      "Group variables            None                        \n",
      "\n",
      "── Variable type: factor ───────────────────────────────────────────────────────\n",
      "  skim_variable n_missing complete_rate ordered n_unique top_counts        \n",
      "\u001b[90m1\u001b[39m gender                0             1 FALSE          2 mal: 268, fem: 195\n",
      "\n",
      "── Variable type: numeric ──────────────────────────────────────────────────────\n",
      "  skim_variable n_missing complete_rate  mean    sd   p0  p25  p50  p75 p100\n",
      "\u001b[90m1\u001b[39m score                 0             1  4.17 0.544  2.3  3.8  4.3  4.6    5\n",
      "\u001b[90m2\u001b[39m age                   0             1 48.4  9.80  29   42   48   57     73\n",
      "  hist \n",
      "\u001b[90m1\u001b[39m ▁▁▅▇▇\n",
      "\u001b[90m2\u001b[39m ▅▆▇▆▁\n"
     ]
    },
    {
     "ename": "ERROR",
     "evalue": "Error in is.null(text_repr) || nchar(text_repr) == 0L: 'length = 15' in coercion to 'logical(1)'\n",
     "output_type": "error",
     "traceback": [
      "Error in is.null(text_repr) || nchar(text_repr) == 0L: 'length = 15' in coercion to 'logical(1)'\nTraceback:\n"
     ]
    }
   ],
   "source": [
    "evals_ch6 |> select(score, age, gender) |> skim()"
   ]
  },
  {
   "cell_type": "code",
   "execution_count": 20,
   "id": "131ea097",
   "metadata": {
    "vscode": {
     "languageId": "r"
    }
   },
   "outputs": [
    {
     "data": {
      "text/html": [
       "<table class=\"dataframe\">\n",
       "<caption>A tibble: 1 × 1</caption>\n",
       "<thead>\n",
       "\t<tr><th scope=col>cor</th></tr>\n",
       "\t<tr><th scope=col>&lt;dbl&gt;</th></tr>\n",
       "</thead>\n",
       "<tbody>\n",
       "\t<tr><td>-0.2651758</td></tr>\n",
       "</tbody>\n",
       "</table>\n"
      ],
      "text/latex": [
       "A tibble: 1 × 1\n",
       "\\begin{tabular}{l}\n",
       " cor\\\\\n",
       " <dbl>\\\\\n",
       "\\hline\n",
       "\t -0.2651758\\\\\n",
       "\\end{tabular}\n"
      ],
      "text/markdown": [
       "\n",
       "A tibble: 1 × 1\n",
       "\n",
       "| cor &lt;dbl&gt; |\n",
       "|---|\n",
       "| -0.2651758 |\n",
       "\n"
      ],
      "text/plain": [
       "  cor       \n",
       "1 -0.2651758"
      ]
     },
     "metadata": {},
     "output_type": "display_data"
    }
   ],
   "source": [
    "evals_ch6 |> filter(gender == \"female\") |> get_correlation(formula = score ~ age)"
   ]
  },
  {
   "cell_type": "code",
   "execution_count": 22,
   "id": "30c3c16f",
   "metadata": {
    "vscode": {
     "languageId": "r"
    }
   },
   "outputs": [
    {
     "data": {
      "text/html": [
       "<table class=\"dataframe\">\n",
       "<caption>A tibble: 1 × 1</caption>\n",
       "<thead>\n",
       "\t<tr><th scope=col>cor</th></tr>\n",
       "\t<tr><th scope=col>&lt;dbl&gt;</th></tr>\n",
       "</thead>\n",
       "<tbody>\n",
       "\t<tr><td>-0.07645422</td></tr>\n",
       "</tbody>\n",
       "</table>\n"
      ],
      "text/latex": [
       "A tibble: 1 × 1\n",
       "\\begin{tabular}{l}\n",
       " cor\\\\\n",
       " <dbl>\\\\\n",
       "\\hline\n",
       "\t -0.07645422\\\\\n",
       "\\end{tabular}\n"
      ],
      "text/markdown": [
       "\n",
       "A tibble: 1 × 1\n",
       "\n",
       "| cor &lt;dbl&gt; |\n",
       "|---|\n",
       "| -0.07645422 |\n",
       "\n"
      ],
      "text/plain": [
       "  cor        \n",
       "1 -0.07645422"
      ]
     },
     "metadata": {},
     "output_type": "display_data"
    }
   ],
   "source": [
    "evals_ch6 |> filter(gender == \"male\") |> get_correlation(formula = score ~ age)"
   ]
  },
  {
   "cell_type": "code",
   "execution_count": 23,
   "id": "8634cf35",
   "metadata": {
    "vscode": {
     "languageId": "r"
    }
   },
   "outputs": [
    {
     "data": {
      "text/html": [
       "<table class=\"dataframe\">\n",
       "<caption>A tibble: 1 × 1</caption>\n",
       "<thead>\n",
       "\t<tr><th scope=col>cor</th></tr>\n",
       "\t<tr><th scope=col>&lt;dbl&gt;</th></tr>\n",
       "</thead>\n",
       "<tbody>\n",
       "\t<tr><td>-0.107032</td></tr>\n",
       "</tbody>\n",
       "</table>\n"
      ],
      "text/latex": [
       "A tibble: 1 × 1\n",
       "\\begin{tabular}{l}\n",
       " cor\\\\\n",
       " <dbl>\\\\\n",
       "\\hline\n",
       "\t -0.107032\\\\\n",
       "\\end{tabular}\n"
      ],
      "text/markdown": [
       "\n",
       "A tibble: 1 × 1\n",
       "\n",
       "| cor &lt;dbl&gt; |\n",
       "|---|\n",
       "| -0.107032 |\n",
       "\n"
      ],
      "text/plain": [
       "  cor      \n",
       "1 -0.107032"
      ]
     },
     "metadata": {},
     "output_type": "display_data"
    }
   ],
   "source": [
    "evals_ch6 |> get_correlation(formula = score ~ age)"
   ]
  },
  {
   "cell_type": "code",
   "execution_count": 26,
   "id": "2b802ca0",
   "metadata": {
    "vscode": {
     "languageId": "r"
    }
   },
   "outputs": [
    {
     "name": "stderr",
     "output_type": "stream",
     "text": [
      "\u001b[1m\u001b[22m`geom_smooth()` using formula = 'y ~ x'\n"
     ]
    },
    {
     "data": {
      "image/png": "[encoded data removed]",
      "text/plain": [
       "plot without title"
      ]
     },
     "metadata": {
      "image/png": {
       "height": 420,
       "width": 720
      }
     },
     "output_type": "display_data"
    }
   ],
   "source": [
    "options(repr.plot.width = 12, repr.plot.height = 7)\n",
    "\n",
    "ggplot(evals_ch6, aes(x = age, y = score)) +\n",
    "  geom_point() +\n",
    "  geom_smooth(method = \"lm\", se = FALSE)"
   ]
  },
  {
   "cell_type": "code",
   "execution_count": 27,
   "id": "73c9005b",
   "metadata": {
    "vscode": {
     "languageId": "r"
    }
   },
   "outputs": [
    {
     "name": "stderr",
     "output_type": "stream",
     "text": [
      "\u001b[1m\u001b[22m`geom_smooth()` using formula = 'y ~ x'\n"
     ]
    },
    {
     "data": {
      "image/png": "[encoded data removed]",
      "text/plain": [
       "plot without title"
      ]
     },
     "metadata": {
      "image/png": {
       "height": 420,
       "width": 720
      }
     },
     "output_type": "display_data"
    }
   ],
   "source": [
    "options(repr.plot.width = 12, repr.plot.height = 7)\n",
    "\n",
    "ggplot(evals_ch6, aes(x = age, y = score, color = gender)) +\n",
    "  geom_point() +\n",
    "  geom_smooth(method = \"lm\", se = FALSE)"
   ]
  },
  {
   "cell_type": "code",
   "execution_count": null,
   "id": "6bd0d9a2",
   "metadata": {
    "vscode": {
     "languageId": "r"
    }
   },
   "outputs": [],
   "source": []
  }
 ],
 "metadata": {
  "kernelspec": {
   "display_name": "R",
   "language": "R",
   "name": "ir"
  },
  "language_info": {
   "codemirror_mode": "r",
   "file_extension": ".r",
   "mimetype": "text/x-r-source",
   "name": "R",
   "pygments_lexer": "r",
   "version": "4.4.1"
  }
 },
 "nbformat": 4,
 "nbformat_minor": 5
}
