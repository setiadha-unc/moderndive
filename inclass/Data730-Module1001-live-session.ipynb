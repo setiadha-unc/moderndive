{
 "cells": [
  {
   "cell_type": "code",
   "execution_count": 1,
   "id": "2267a2c2-51f8-4647-a23a-0e15dd619da8",
   "metadata": {
    "vscode": {
     "languageId": "r"
    }
   },
   "outputs": [
    {
     "name": "stderr",
     "output_type": "stream",
     "text": [
      "── \u001b[1mAttaching packages\u001b[22m ────────────────────────────────────── tidymodels 1.2.0 ──\n",
      "\n",
      "\u001b[32m✔\u001b[39m \u001b[34mbroom       \u001b[39m 1.0.6     \u001b[32m✔\u001b[39m \u001b[34mrecipes     \u001b[39m 1.1.0\n",
      "\u001b[32m✔\u001b[39m \u001b[34mdials       \u001b[39m 1.3.0     \u001b[32m✔\u001b[39m \u001b[34mrsample     \u001b[39m 1.2.1\n",
      "\u001b[32m✔\u001b[39m \u001b[34mdplyr       \u001b[39m 1.1.4     \u001b[32m✔\u001b[39m \u001b[34mtibble      \u001b[39m 3.2.1\n",
      "\u001b[32m✔\u001b[39m \u001b[34mggplot2     \u001b[39m 3.5.1     \u001b[32m✔\u001b[39m \u001b[34mtidyr       \u001b[39m 1.3.1\n",
      "\u001b[32m✔\u001b[39m \u001b[34minfer       \u001b[39m 1.0.7     \u001b[32m✔\u001b[39m \u001b[34mtune        \u001b[39m 1.2.1\n",
      "\u001b[32m✔\u001b[39m \u001b[34mmodeldata   \u001b[39m 1.4.0     \u001b[32m✔\u001b[39m \u001b[34mworkflows   \u001b[39m 1.1.4\n",
      "\u001b[32m✔\u001b[39m \u001b[34mparsnip     \u001b[39m 1.2.1     \u001b[32m✔\u001b[39m \u001b[34mworkflowsets\u001b[39m 1.1.0\n",
      "\u001b[32m✔\u001b[39m \u001b[34mpurrr       \u001b[39m 1.0.2     \u001b[32m✔\u001b[39m \u001b[34myardstick   \u001b[39m 1.3.1\n",
      "\n",
      "── \u001b[1mConflicts\u001b[22m ───────────────────────────────────────── tidymodels_conflicts() ──\n",
      "\u001b[31m✖\u001b[39m \u001b[34mpurrr\u001b[39m::\u001b[32mdiscard()\u001b[39m masks \u001b[34mscales\u001b[39m::discard()\n",
      "\u001b[31m✖\u001b[39m \u001b[34mdplyr\u001b[39m::\u001b[32mfilter()\u001b[39m  masks \u001b[34mstats\u001b[39m::filter()\n",
      "\u001b[31m✖\u001b[39m \u001b[34mdplyr\u001b[39m::\u001b[32mlag()\u001b[39m     masks \u001b[34mstats\u001b[39m::lag()\n",
      "\u001b[31m✖\u001b[39m \u001b[34mrecipes\u001b[39m::\u001b[32mstep()\u001b[39m  masks \u001b[34mstats\u001b[39m::step()\n",
      "\u001b[34m•\u001b[39m Learn how to get started at \u001b[32mhttps://www.tidymodels.org/start/\u001b[39m\n",
      "\n"
     ]
    }
   ],
   "source": [
    "library('tidymodels')"
   ]
  },
  {
   "cell_type": "code",
   "execution_count": 2,
   "id": "4e251435-091a-4628-ba5c-02210f50c340",
   "metadata": {
    "vscode": {
     "languageId": "r"
    }
   },
   "outputs": [
    {
     "data": {
      "text/html": [
       "<table class=\"dataframe\">\n",
       "<caption>A tibble: 6 × 12</caption>\n",
       "<thead>\n",
       "\t<tr><th scope=col>era</th><th scope=col>season_number</th><th scope=col>serial_title</th><th scope=col>story_number</th><th scope=col>episode_number</th><th scope=col>episode_title</th><th scope=col>type</th><th scope=col>first_aired</th><th scope=col>production_code</th><th scope=col>uk_viewers</th><th scope=col>rating</th><th scope=col>duration</th></tr>\n",
       "\t<tr><th scope=col>&lt;chr&gt;</th><th scope=col>&lt;dbl&gt;</th><th scope=col>&lt;chr&gt;</th><th scope=col>&lt;chr&gt;</th><th scope=col>&lt;dbl&gt;</th><th scope=col>&lt;chr&gt;</th><th scope=col>&lt;chr&gt;</th><th scope=col>&lt;date&gt;</th><th scope=col>&lt;chr&gt;</th><th scope=col>&lt;dbl&gt;</th><th scope=col>&lt;dbl&gt;</th><th scope=col>&lt;dbl&gt;</th></tr>\n",
       "</thead>\n",
       "<tbody>\n",
       "\t<tr><td>revived</td><td>1</td><td>NA</td><td>157 </td><td>1</td><td>Rose                </td><td>episode</td><td>2005-03-26</td><td>1.1</td><td>10.81</td><td>76</td><td>45</td></tr>\n",
       "\t<tr><td>revived</td><td>1</td><td>NA</td><td>158 </td><td>2</td><td>The End of the World</td><td>episode</td><td>2005-04-02</td><td>1.2</td><td> 7.97</td><td>76</td><td>44</td></tr>\n",
       "\t<tr><td>revived</td><td>1</td><td>NA</td><td>159 </td><td>3</td><td>The Unquiet Dead    </td><td>episode</td><td>2005-04-09</td><td>1.3</td><td> 8.86</td><td>80</td><td>44</td></tr>\n",
       "\t<tr><td>revived</td><td>1</td><td>NA</td><td>160a</td><td>4</td><td>Aliens of London    </td><td>episode</td><td>2005-04-16</td><td>1.4</td><td> 7.63</td><td>82</td><td>45</td></tr>\n",
       "\t<tr><td>revived</td><td>1</td><td>NA</td><td>160b</td><td>5</td><td>World War Three     </td><td>episode</td><td>2005-04-23</td><td>1.5</td><td> 7.98</td><td>81</td><td>42</td></tr>\n",
       "\t<tr><td>revived</td><td>1</td><td>NA</td><td>161 </td><td>6</td><td>Dalek               </td><td>episode</td><td>2005-04-30</td><td>1.6</td><td> 8.63</td><td>84</td><td>45</td></tr>\n",
       "</tbody>\n",
       "</table>\n"
      ],
      "text/latex": [
       "A tibble: 6 × 12\n",
       "\\begin{tabular}{llllllllllll}\n",
       " era & season\\_number & serial\\_title & story\\_number & episode\\_number & episode\\_title & type & first\\_aired & production\\_code & uk\\_viewers & rating & duration\\\\\n",
       " <chr> & <dbl> & <chr> & <chr> & <dbl> & <chr> & <chr> & <date> & <chr> & <dbl> & <dbl> & <dbl>\\\\\n",
       "\\hline\n",
       "\t revived & 1 & NA & 157  & 1 & Rose                 & episode & 2005-03-26 & 1.1 & 10.81 & 76 & 45\\\\\n",
       "\t revived & 1 & NA & 158  & 2 & The End of the World & episode & 2005-04-02 & 1.2 &  7.97 & 76 & 44\\\\\n",
       "\t revived & 1 & NA & 159  & 3 & The Unquiet Dead     & episode & 2005-04-09 & 1.3 &  8.86 & 80 & 44\\\\\n",
       "\t revived & 1 & NA & 160a & 4 & Aliens of London     & episode & 2005-04-16 & 1.4 &  7.63 & 82 & 45\\\\\n",
       "\t revived & 1 & NA & 160b & 5 & World War Three      & episode & 2005-04-23 & 1.5 &  7.98 & 81 & 42\\\\\n",
       "\t revived & 1 & NA & 161  & 6 & Dalek                & episode & 2005-04-30 & 1.6 &  8.63 & 84 & 45\\\\\n",
       "\\end{tabular}\n"
      ],
      "text/markdown": [
       "\n",
       "A tibble: 6 × 12\n",
       "\n",
       "| era &lt;chr&gt; | season_number &lt;dbl&gt; | serial_title &lt;chr&gt; | story_number &lt;chr&gt; | episode_number &lt;dbl&gt; | episode_title &lt;chr&gt; | type &lt;chr&gt; | first_aired &lt;date&gt; | production_code &lt;chr&gt; | uk_viewers &lt;dbl&gt; | rating &lt;dbl&gt; | duration &lt;dbl&gt; |\n",
       "|---|---|---|---|---|---|---|---|---|---|---|---|\n",
       "| revived | 1 | NA | 157  | 1 | Rose                 | episode | 2005-03-26 | 1.1 | 10.81 | 76 | 45 |\n",
       "| revived | 1 | NA | 158  | 2 | The End of the World | episode | 2005-04-02 | 1.2 |  7.97 | 76 | 44 |\n",
       "| revived | 1 | NA | 159  | 3 | The Unquiet Dead     | episode | 2005-04-09 | 1.3 |  8.86 | 80 | 44 |\n",
       "| revived | 1 | NA | 160a | 4 | Aliens of London     | episode | 2005-04-16 | 1.4 |  7.63 | 82 | 45 |\n",
       "| revived | 1 | NA | 160b | 5 | World War Three      | episode | 2005-04-23 | 1.5 |  7.98 | 81 | 42 |\n",
       "| revived | 1 | NA | 161  | 6 | Dalek                | episode | 2005-04-30 | 1.6 |  8.63 | 84 | 45 |\n",
       "\n"
      ],
      "text/plain": [
       "  era     season_number serial_title story_number episode_number\n",
       "1 revived 1             NA           157          1             \n",
       "2 revived 1             NA           158          2             \n",
       "3 revived 1             NA           159          3             \n",
       "4 revived 1             NA           160a         4             \n",
       "5 revived 1             NA           160b         5             \n",
       "6 revived 1             NA           161          6             \n",
       "  episode_title        type    first_aired production_code uk_viewers rating\n",
       "1 Rose                 episode 2005-03-26  1.1             10.81      76    \n",
       "2 The End of the World episode 2005-04-02  1.2              7.97      76    \n",
       "3 The Unquiet Dead     episode 2005-04-09  1.3              8.86      80    \n",
       "4 Aliens of London     episode 2005-04-16  1.4              7.63      82    \n",
       "5 World War Three      episode 2005-04-23  1.5              7.98      81    \n",
       "6 Dalek                episode 2005-04-30  1.6              8.63      84    \n",
       "  duration\n",
       "1 45      \n",
       "2 44      \n",
       "3 44      \n",
       "4 45      \n",
       "5 42      \n",
       "6 45      "
      ]
     },
     "metadata": {},
     "output_type": "display_data"
    }
   ],
   "source": [
    "data_url = \"https://raw.githubusercontent.com/rfordatascience/tidytuesday/master/data/2021/2021-11-23/episodes.csv\"\n",
    "\n",
    "dr_who_raw = readr::read_csv(data_url, col_types = readr::cols())\n",
    "\n",
    "dr_who_raw |> head()"
   ]
  },
  {
   "cell_type": "code",
   "execution_count": 3,
   "id": "90c1c11e-b528-48a7-a543-1379b738f104",
   "metadata": {
    "vscode": {
     "languageId": "r"
    }
   },
   "outputs": [
    {
     "name": "stderr",
     "output_type": "stream",
     "text": [
      "Warning message:\n",
      "\"\u001b[1m\u001b[22mRemoved 5 rows containing missing values or values outside the scale range\n",
      "(`geom_line()`).\"\n"
     ]
    },
    {
     "data": {
      "image/png": "[encoded data removed]",
      "text/plain": [
       "plot without title"
      ]
     },
     "metadata": {
      "image/png": {
       "height": 420,
       "width": 420
      }
     },
     "output_type": "display_data"
    }
   ],
   "source": [
    "ggplot(dr_who_raw, aes(x = first_aired, y = uk_viewers)) + \n",
    "    geom_line() +\n",
    "    scale_x_date(breaks = '1 year') + \n",
    "    theme(axis.text.x = element_text(angle = 90))"
   ]
  },
  {
   "cell_type": "code",
   "execution_count": 4,
   "id": "4ed3418e-7773-4881-93cb-46daa9dd18f7",
   "metadata": {
    "vscode": {
     "languageId": "r"
    }
   },
   "outputs": [
    {
     "data": {
      "text/html": [
       "<table class=\"dataframe\">\n",
       "<caption>A tibble: 6 × 4</caption>\n",
       "<thead>\n",
       "\t<tr><th scope=col>uk_viewers</th><th scope=col>first_aired_year</th><th scope=col>first_aired_NewYearsDay</th><th scope=col>first_aired_ChristmasDay</th></tr>\n",
       "\t<tr><th scope=col>&lt;dbl&gt;</th><th scope=col>&lt;int&gt;</th><th scope=col>&lt;int&gt;</th><th scope=col>&lt;int&gt;</th></tr>\n",
       "</thead>\n",
       "<tbody>\n",
       "\t<tr><td>10.81</td><td>2005</td><td>0</td><td>0</td></tr>\n",
       "\t<tr><td> 7.97</td><td>2005</td><td>0</td><td>0</td></tr>\n",
       "\t<tr><td> 8.86</td><td>2005</td><td>0</td><td>0</td></tr>\n",
       "\t<tr><td> 7.63</td><td>2005</td><td>0</td><td>0</td></tr>\n",
       "\t<tr><td> 7.98</td><td>2005</td><td>0</td><td>0</td></tr>\n",
       "\t<tr><td> 8.63</td><td>2005</td><td>0</td><td>0</td></tr>\n",
       "</tbody>\n",
       "</table>\n"
      ],
      "text/latex": [
       "A tibble: 6 × 4\n",
       "\\begin{tabular}{llll}\n",
       " uk\\_viewers & first\\_aired\\_year & first\\_aired\\_NewYearsDay & first\\_aired\\_ChristmasDay\\\\\n",
       " <dbl> & <int> & <int> & <int>\\\\\n",
       "\\hline\n",
       "\t 10.81 & 2005 & 0 & 0\\\\\n",
       "\t  7.97 & 2005 & 0 & 0\\\\\n",
       "\t  8.86 & 2005 & 0 & 0\\\\\n",
       "\t  7.63 & 2005 & 0 & 0\\\\\n",
       "\t  7.98 & 2005 & 0 & 0\\\\\n",
       "\t  8.63 & 2005 & 0 & 0\\\\\n",
       "\\end{tabular}\n"
      ],
      "text/markdown": [
       "\n",
       "A tibble: 6 × 4\n",
       "\n",
       "| uk_viewers &lt;dbl&gt; | first_aired_year &lt;int&gt; | first_aired_NewYearsDay &lt;int&gt; | first_aired_ChristmasDay &lt;int&gt; |\n",
       "|---|---|---|---|\n",
       "| 10.81 | 2005 | 0 | 0 |\n",
       "|  7.97 | 2005 | 0 | 0 |\n",
       "|  8.86 | 2005 | 0 | 0 |\n",
       "|  7.63 | 2005 | 0 | 0 |\n",
       "|  7.98 | 2005 | 0 | 0 |\n",
       "|  8.63 | 2005 | 0 | 0 |\n",
       "\n"
      ],
      "text/plain": [
       "  uk_viewers first_aired_year first_aired_NewYearsDay first_aired_ChristmasDay\n",
       "1 10.81      2005             0                       0                       \n",
       "2  7.97      2005             0                       0                       \n",
       "3  8.86      2005             0                       0                       \n",
       "4  7.63      2005             0                       0                       \n",
       "5  7.98      2005             0                       0                       \n",
       "6  8.63      2005             0                       0                       "
      ]
     },
     "metadata": {},
     "output_type": "display_data"
    }
   ],
   "source": [
    "mod = linear_reg() |> set_engine('lm')\n",
    "\n",
    "rec = recipe(uk_viewers ~ first_aired, data = dr_who_raw) |>\n",
    "    step_naomit(uk_viewers) |>\n",
    "    step_date(first_aired, features = 'year') |>\n",
    "    step_holiday(first_aired, holidays = c('NewYearsDay', 'ChristmasDay'), keep_original_cols = FALSE) |>\n",
    "    prep()\n",
    "\n",
    "rec |> juice() |> head()"
   ]
  },
  {
   "cell_type": "code",
   "execution_count": 5,
   "id": "febaac13-693f-4238-8a4d-27403300c595",
   "metadata": {
    "vscode": {
     "languageId": "r"
    }
   },
   "outputs": [
    {
     "data": {
      "text/html": [
       "<table class=\"dataframe\">\n",
       "<caption>A tibble: 4 × 5</caption>\n",
       "<thead>\n",
       "\t<tr><th scope=col>term</th><th scope=col>estimate</th><th scope=col>std.error</th><th scope=col>statistic</th><th scope=col>p.value</th></tr>\n",
       "\t<tr><th scope=col>&lt;chr&gt;</th><th scope=col>&lt;dbl&gt;</th><th scope=col>&lt;dbl&gt;</th><th scope=col>&lt;dbl&gt;</th><th scope=col>&lt;dbl&gt;</th></tr>\n",
       "</thead>\n",
       "<tbody>\n",
       "\t<tr><td>(Intercept)             </td><td>332.8192244</td><td>42.41269988</td><td> 7.847160</td><td>5.324955e-13</td></tr>\n",
       "\t<tr><td>first_aired_year        </td><td> -0.1618328</td><td> 0.02108407</td><td>-7.675593</td><td>1.429813e-12</td></tr>\n",
       "\t<tr><td>first_aired_NewYearsDay </td><td>  1.8383588</td><td> 0.63850344</td><td> 2.879168</td><td>4.522717e-03</td></tr>\n",
       "\t<tr><td>first_aired_ChristmasDay</td><td>  2.8764459</td><td> 0.35760113</td><td> 8.043727</td><td>1.698128e-13</td></tr>\n",
       "</tbody>\n",
       "</table>\n"
      ],
      "text/latex": [
       "A tibble: 4 × 5\n",
       "\\begin{tabular}{lllll}\n",
       " term & estimate & std.error & statistic & p.value\\\\\n",
       " <chr> & <dbl> & <dbl> & <dbl> & <dbl>\\\\\n",
       "\\hline\n",
       "\t (Intercept)              & 332.8192244 & 42.41269988 &  7.847160 & 5.324955e-13\\\\\n",
       "\t first\\_aired\\_year         &  -0.1618328 &  0.02108407 & -7.675593 & 1.429813e-12\\\\\n",
       "\t first\\_aired\\_NewYearsDay  &   1.8383588 &  0.63850344 &  2.879168 & 4.522717e-03\\\\\n",
       "\t first\\_aired\\_ChristmasDay &   2.8764459 &  0.35760113 &  8.043727 & 1.698128e-13\\\\\n",
       "\\end{tabular}\n"
      ],
      "text/markdown": [
       "\n",
       "A tibble: 4 × 5\n",
       "\n",
       "| term &lt;chr&gt; | estimate &lt;dbl&gt; | std.error &lt;dbl&gt; | statistic &lt;dbl&gt; | p.value &lt;dbl&gt; |\n",
       "|---|---|---|---|---|\n",
       "| (Intercept)              | 332.8192244 | 42.41269988 |  7.847160 | 5.324955e-13 |\n",
       "| first_aired_year         |  -0.1618328 |  0.02108407 | -7.675593 | 1.429813e-12 |\n",
       "| first_aired_NewYearsDay  |   1.8383588 |  0.63850344 |  2.879168 | 4.522717e-03 |\n",
       "| first_aired_ChristmasDay |   2.8764459 |  0.35760113 |  8.043727 | 1.698128e-13 |\n",
       "\n"
      ],
      "text/plain": [
       "  term                     estimate    std.error   statistic p.value     \n",
       "1 (Intercept)              332.8192244 42.41269988  7.847160 5.324955e-13\n",
       "2 first_aired_year          -0.1618328  0.02108407 -7.675593 1.429813e-12\n",
       "3 first_aired_NewYearsDay    1.8383588  0.63850344  2.879168 4.522717e-03\n",
       "4 first_aired_ChristmasDay   2.8764459  0.35760113  8.043727 1.698128e-13"
      ]
     },
     "metadata": {},
     "output_type": "display_data"
    }
   ],
   "source": [
    "mod_fit = mod |> fit(uk_viewers ~ ., data = rec |> juice())\n",
    "\n",
    "tidy(mod_fit)"
   ]
  },
  {
   "cell_type": "code",
   "execution_count": 6,
   "id": "b2074afe-9a91-4a3a-8fab-77ca5e033999",
   "metadata": {
    "vscode": {
     "languageId": "r"
    }
   },
   "outputs": [
    {
     "name": "stdout",
     "output_type": "stream",
     "text": [
      "Rows: 1,001\n",
      "Columns: 2\n",
      "$ splits \u001b[3m\u001b[90m<list>\u001b[39m\u001b[23m [<boot_split[172 x 60 x 172 x 12]>], [<boot_split[172 x 60 x 1…\n",
      "$ id     \u001b[3m\u001b[90m<chr>\u001b[39m\u001b[23m \"Bootstrap0001\", \"Bootstrap0002\", \"Bootstrap0003\", \"Bootstrap00…\n"
     ]
    }
   ],
   "source": [
    "boots = bootstraps(dr_who_raw, times = 1000, apparent = TRUE)\n",
    "\n",
    "boots |> glimpse()"
   ]
  },
  {
   "cell_type": "code",
   "execution_count": 7,
   "id": "774bfbe4-649f-4961-9c03-cb8cd23b9734",
   "metadata": {
    "vscode": {
     "languageId": "r"
    }
   },
   "outputs": [
    {
     "name": "stdout",
     "output_type": "stream",
     "text": [
      "Rows: 1,001\n",
      "Columns: 3\n",
      "$ splits \u001b[3m\u001b[90m<list>\u001b[39m\u001b[23m [<boot_split[172 x 60 x 172 x 12]>], [<boot_split[172 x 60 x 1…\n",
      "$ id     \u001b[3m\u001b[90m<chr>\u001b[39m\u001b[23m \"Bootstrap0001\", \"Bootstrap0002\", \"Bootstrap0003\", \"Bootstrap00…\n",
      "$ model  \u001b[3m\u001b[90m<list>\u001b[39m\u001b[23m [NULL, ~NULL, ~NULL, regression, FALSE, stats, formula, formul…\n"
     ]
    }
   ],
   "source": [
    "boot_models = boots |>\n",
    "    mutate(model = map(splits, ~mod |> fit(uk_viewers ~ ., data = bake(rec, new_data = .x))))\n",
    "\n",
    "boot_models |> glimpse()"
   ]
  },
  {
   "cell_type": "code",
   "execution_count": 9,
   "id": "8653bcd0-aca9-4a9d-9c3c-3e21af49a3d8",
   "metadata": {
    "vscode": {
     "languageId": "r"
    }
   },
   "outputs": [
    {
     "data": {
      "text/html": [
       "<table class=\"dataframe\">\n",
       "<caption>A tibble: 6 × 6</caption>\n",
       "<thead>\n",
       "\t<tr><th scope=col>id</th><th scope=col>term</th><th scope=col>estimate</th><th scope=col>std.error</th><th scope=col>statistic</th><th scope=col>p.value</th></tr>\n",
       "\t<tr><th scope=col>&lt;chr&gt;</th><th scope=col>&lt;chr&gt;</th><th scope=col>&lt;dbl&gt;</th><th scope=col>&lt;dbl&gt;</th><th scope=col>&lt;dbl&gt;</th><th scope=col>&lt;dbl&gt;</th></tr>\n",
       "</thead>\n",
       "<tbody>\n",
       "\t<tr><td>Bootstrap0001</td><td>(Intercept)             </td><td>326.7033128</td><td>41.38246733</td><td> 7.894728</td><td>4.042689e-13</td></tr>\n",
       "\t<tr><td>Bootstrap0001</td><td>first_aired_year        </td><td> -0.1588055</td><td> 0.02057134</td><td>-7.719747</td><td>1.109875e-12</td></tr>\n",
       "\t<tr><td>Bootstrap0001</td><td>first_aired_NewYearsDay </td><td>  3.1889525</td><td> 0.55496892</td><td> 5.746182</td><td>4.373793e-08</td></tr>\n",
       "\t<tr><td>Bootstrap0001</td><td>first_aired_ChristmasDay</td><td>  2.5711834</td><td> 0.35176916</td><td> 7.309292</td><td>1.139930e-11</td></tr>\n",
       "\t<tr><td>Bootstrap0002</td><td>(Intercept)             </td><td>330.2892048</td><td>42.90679724</td><td> 7.697829</td><td>1.258673e-12</td></tr>\n",
       "\t<tr><td>Bootstrap0002</td><td>first_aired_year        </td><td> -0.1605973</td><td> 0.02132944</td><td>-7.529372</td><td>3.292913e-12</td></tr>\n",
       "</tbody>\n",
       "</table>\n"
      ],
      "text/latex": [
       "A tibble: 6 × 6\n",
       "\\begin{tabular}{llllll}\n",
       " id & term & estimate & std.error & statistic & p.value\\\\\n",
       " <chr> & <chr> & <dbl> & <dbl> & <dbl> & <dbl>\\\\\n",
       "\\hline\n",
       "\t Bootstrap0001 & (Intercept)              & 326.7033128 & 41.38246733 &  7.894728 & 4.042689e-13\\\\\n",
       "\t Bootstrap0001 & first\\_aired\\_year         &  -0.1588055 &  0.02057134 & -7.719747 & 1.109875e-12\\\\\n",
       "\t Bootstrap0001 & first\\_aired\\_NewYearsDay  &   3.1889525 &  0.55496892 &  5.746182 & 4.373793e-08\\\\\n",
       "\t Bootstrap0001 & first\\_aired\\_ChristmasDay &   2.5711834 &  0.35176916 &  7.309292 & 1.139930e-11\\\\\n",
       "\t Bootstrap0002 & (Intercept)              & 330.2892048 & 42.90679724 &  7.697829 & 1.258673e-12\\\\\n",
       "\t Bootstrap0002 & first\\_aired\\_year         &  -0.1605973 &  0.02132944 & -7.529372 & 3.292913e-12\\\\\n",
       "\\end{tabular}\n"
      ],
      "text/markdown": [
       "\n",
       "A tibble: 6 × 6\n",
       "\n",
       "| id &lt;chr&gt; | term &lt;chr&gt; | estimate &lt;dbl&gt; | std.error &lt;dbl&gt; | statistic &lt;dbl&gt; | p.value &lt;dbl&gt; |\n",
       "|---|---|---|---|---|---|\n",
       "| Bootstrap0001 | (Intercept)              | 326.7033128 | 41.38246733 |  7.894728 | 4.042689e-13 |\n",
       "| Bootstrap0001 | first_aired_year         |  -0.1588055 |  0.02057134 | -7.719747 | 1.109875e-12 |\n",
       "| Bootstrap0001 | first_aired_NewYearsDay  |   3.1889525 |  0.55496892 |  5.746182 | 4.373793e-08 |\n",
       "| Bootstrap0001 | first_aired_ChristmasDay |   2.5711834 |  0.35176916 |  7.309292 | 1.139930e-11 |\n",
       "| Bootstrap0002 | (Intercept)              | 330.2892048 | 42.90679724 |  7.697829 | 1.258673e-12 |\n",
       "| Bootstrap0002 | first_aired_year         |  -0.1605973 |  0.02132944 | -7.529372 | 3.292913e-12 |\n",
       "\n"
      ],
      "text/plain": [
       "  id            term                     estimate    std.error   statistic\n",
       "1 Bootstrap0001 (Intercept)              326.7033128 41.38246733  7.894728\n",
       "2 Bootstrap0001 first_aired_year          -0.1588055  0.02057134 -7.719747\n",
       "3 Bootstrap0001 first_aired_NewYearsDay    3.1889525  0.55496892  5.746182\n",
       "4 Bootstrap0001 first_aired_ChristmasDay   2.5711834  0.35176916  7.309292\n",
       "5 Bootstrap0002 (Intercept)              330.2892048 42.90679724  7.697829\n",
       "6 Bootstrap0002 first_aired_year          -0.1605973  0.02132944 -7.529372\n",
       "  p.value     \n",
       "1 4.042689e-13\n",
       "2 1.109875e-12\n",
       "3 4.373793e-08\n",
       "4 1.139930e-11\n",
       "5 1.258673e-12\n",
       "6 3.292913e-12"
      ]
     },
     "metadata": {},
     "output_type": "display_data"
    }
   ],
   "source": [
    "coef_df = boot_models |>\n",
    "    mutate(coef_info = map(model, tidy)) |>\n",
    "    select(-splits, -model) |>\n",
    "    unnest(coef_info)\n",
    "\n",
    "coef_df |> head()"
   ]
  },
  {
   "cell_type": "code",
   "execution_count": 10,
   "id": "6567146d-b0f0-462f-a34f-47152dedacbd",
   "metadata": {
    "vscode": {
     "languageId": "r"
    }
   },
   "outputs": [
    {
     "name": "stderr",
     "output_type": "stream",
     "text": [
      "\u001b[1m\u001b[22m`stat_bin()` using `bins = 30`. Pick better value with `binwidth`.\n",
      "Warning message:\n",
      "\"\u001b[1m\u001b[22mRemoved 14 rows containing non-finite outside the scale range (`stat_bin()`).\"\n"
     ]
    },
    {
     "data": {
      "image/png": "[encoded data removed]",
      "text/plain": [
       "plot without title"
      ]
     },
     "metadata": {
      "image/png": {
       "height": 420,
       "width": 420
      }
     },
     "output_type": "display_data"
    }
   ],
   "source": [
    "ggplot(coef_df, aes(x = estimate)) + \n",
    "    geom_histogram() +\n",
    "    facet_wrap(~term, scales = 'free_x')\n",
    "    "
   ]
  },
  {
   "cell_type": "code",
   "execution_count": 11,
   "id": "04d34bb0-2f98-4ce0-9202-1d0bc52baed6",
   "metadata": {
    "vscode": {
     "languageId": "r"
    }
   },
   "outputs": [
    {
     "data": {
      "text/html": [
       "<table class=\"dataframe\">\n",
       "<caption>A tibble: 4 × 3</caption>\n",
       "<thead>\n",
       "\t<tr><th scope=col>term</th><th scope=col>lower_ci</th><th scope=col>upper_ci</th></tr>\n",
       "\t<tr><th scope=col>&lt;chr&gt;</th><th scope=col>&lt;dbl&gt;</th><th scope=col>&lt;dbl&gt;</th></tr>\n",
       "</thead>\n",
       "<tbody>\n",
       "\t<tr><td>(Intercept)             </td><td>234.1239838</td><td>409.4574721</td></tr>\n",
       "\t<tr><td>first_aired_ChristmasDay</td><td>  1.9440057</td><td>  3.8681993</td></tr>\n",
       "\t<tr><td>first_aired_NewYearsDay </td><td>  0.3605998</td><td>  4.6163437</td></tr>\n",
       "\t<tr><td>first_aired_year        </td><td> -0.1999995</td><td> -0.1127073</td></tr>\n",
       "</tbody>\n",
       "</table>\n"
      ],
      "text/latex": [
       "A tibble: 4 × 3\n",
       "\\begin{tabular}{lll}\n",
       " term & lower\\_ci & upper\\_ci\\\\\n",
       " <chr> & <dbl> & <dbl>\\\\\n",
       "\\hline\n",
       "\t (Intercept)              & 234.1239838 & 409.4574721\\\\\n",
       "\t first\\_aired\\_ChristmasDay &   1.9440057 &   3.8681993\\\\\n",
       "\t first\\_aired\\_NewYearsDay  &   0.3605998 &   4.6163437\\\\\n",
       "\t first\\_aired\\_year         &  -0.1999995 &  -0.1127073\\\\\n",
       "\\end{tabular}\n"
      ],
      "text/markdown": [
       "\n",
       "A tibble: 4 × 3\n",
       "\n",
       "| term &lt;chr&gt; | lower_ci &lt;dbl&gt; | upper_ci &lt;dbl&gt; |\n",
       "|---|---|---|\n",
       "| (Intercept)              | 234.1239838 | 409.4574721 |\n",
       "| first_aired_ChristmasDay |   1.9440057 |   3.8681993 |\n",
       "| first_aired_NewYearsDay  |   0.3605998 |   4.6163437 |\n",
       "| first_aired_year         |  -0.1999995 |  -0.1127073 |\n",
       "\n"
      ],
      "text/plain": [
       "  term                     lower_ci    upper_ci   \n",
       "1 (Intercept)              234.1239838 409.4574721\n",
       "2 first_aired_ChristmasDay   1.9440057   3.8681993\n",
       "3 first_aired_NewYearsDay    0.3605998   4.6163437\n",
       "4 first_aired_year          -0.1999995  -0.1127073"
      ]
     },
     "metadata": {},
     "output_type": "display_data"
    }
   ],
   "source": [
    "coef_df |>\n",
    "    group_by(term) |>\n",
    "    summarize(lower_ci = quantile(estimate, 0.025, na.rm = T), upper_ci = quantile(estimate, 0.975, na.rm = T))"
   ]
  },
  {
   "cell_type": "code",
   "execution_count": null,
   "id": "2b9cd0cf-97b9-4339-b61c-b065b3a24e52",
   "metadata": {
    "vscode": {
     "languageId": "r"
    }
   },
   "outputs": [],
   "source": []
  }
 ],
 "metadata": {
  "kernelspec": {
   "display_name": "R",
   "language": "R",
   "name": "ir"
  },
  "language_info": {
   "codemirror_mode": "r",
   "file_extension": ".r",
   "mimetype": "text/x-r-source",
   "name": "R",
   "pygments_lexer": "r",
   "version": "4.4.1"
  }
 },
 "nbformat": 4,
 "nbformat_minor": 5
}
