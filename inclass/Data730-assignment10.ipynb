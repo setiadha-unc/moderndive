{
 "cells": [
  {
   "cell_type": "markdown",
   "id": "a0aa4572-9610-4769-8959-2d625324f7ff",
   "metadata": {},
   "source": [
    "**Relevant reading for this problem set**:\n",
    "<a href=\"https://moderndive.com/10-inference-for-regression.html\"\n",
    "target=\"_blank\">ModernDive Chapter 10: Inference for Regression</a>.\n",
    "\n",
    "## Background\n",
    "\n",
    "For this problem set you will apply statistical inference to a linear\n",
    "modeling and explore methods to check the required conditions. To start\n",
    "we will build a model using data from the `palmerpenguins` package. The\n",
    "`penguins` data contains size measurements for three penguin species\n",
    "observed on three islands in the Palmer Archipelago, Antarctica.\n",
    "\n",
    "First we will start with our typical exploratory data analysis and then\n",
    "build our linear model. From there we will use our new skills to make\n",
    "inferences about our regression model and check the necessary\n",
    "conditions."
   ]
  },
  {
   "cell_type": "markdown",
   "id": "1e226ecf-fc8d-4821-8400-b9214360a682",
   "metadata": {},
   "source": [
    "### Load packages\n",
    "\n",
    "We will read the data in from the`palmerpenguins` package, explore the\n",
    "data using the `dplyr` package and visualize it using the `ggplot2`\n",
    "package. The `moderndive` package includes some nice functions to show\n",
    "regression model outputs and finally use the `infer` package for “tidy”\n",
    "and transparent statistical inference."
   ]
  },
  {
   "cell_type": "code",
   "execution_count": 1,
   "id": "1f240635-fae8-4580-9314-c1a5657db30b",
   "metadata": {
    "vscode": {
     "languageId": "r"
    }
   },
   "outputs": [
    {
     "name": "stderr",
     "output_type": "stream",
     "text": [
      "── \u001b[1mAttaching packages\u001b[22m ────────────────────────────────────── tidymodels 1.2.0 ──\n",
      "\n",
      "\u001b[32m✔\u001b[39m \u001b[34mbroom       \u001b[39m 1.0.6     \u001b[32m✔\u001b[39m \u001b[34mrsample     \u001b[39m 1.2.1\n",
      "\u001b[32m✔\u001b[39m \u001b[34mdials       \u001b[39m 1.3.0     \u001b[32m✔\u001b[39m \u001b[34mtibble      \u001b[39m 3.2.1\n",
      "\u001b[32m✔\u001b[39m \u001b[34mdplyr       \u001b[39m 1.1.4     \u001b[32m✔\u001b[39m \u001b[34mtidyr       \u001b[39m 1.3.1\n",
      "\u001b[32m✔\u001b[39m \u001b[34mggplot2     \u001b[39m 3.5.1     \u001b[32m✔\u001b[39m \u001b[34mtune        \u001b[39m 1.2.1\n",
      "\u001b[32m✔\u001b[39m \u001b[34mmodeldata   \u001b[39m 1.4.0     \u001b[32m✔\u001b[39m \u001b[34mworkflows   \u001b[39m 1.1.4\n",
      "\u001b[32m✔\u001b[39m \u001b[34mparsnip     \u001b[39m 1.2.1     \u001b[32m✔\u001b[39m \u001b[34mworkflowsets\u001b[39m 1.1.0\n",
      "\u001b[32m✔\u001b[39m \u001b[34mpurrr       \u001b[39m 1.0.2     \u001b[32m✔\u001b[39m \u001b[34myardstick   \u001b[39m 1.3.1\n",
      "\u001b[32m✔\u001b[39m \u001b[34mrecipes     \u001b[39m 1.1.0     \n",
      "\n",
      "── \u001b[1mConflicts\u001b[22m ───────────────────────────────────────── tidymodels_conflicts() ──\n",
      "\u001b[31m✖\u001b[39m \u001b[34mpurrr\u001b[39m::\u001b[32mdiscard()\u001b[39m masks \u001b[34mscales\u001b[39m::discard()\n",
      "\u001b[31m✖\u001b[39m \u001b[34mdplyr\u001b[39m::\u001b[32mfilter()\u001b[39m  masks \u001b[34mstats\u001b[39m::filter()\n",
      "\u001b[31m✖\u001b[39m \u001b[34mdplyr\u001b[39m::\u001b[32mlag()\u001b[39m     masks \u001b[34mstats\u001b[39m::lag()\n",
      "\u001b[31m✖\u001b[39m \u001b[34mrecipes\u001b[39m::\u001b[32mstep()\u001b[39m  masks \u001b[34mstats\u001b[39m::step()\n",
      "\u001b[34m•\u001b[39m Search for functions across packages at \u001b[32mhttps://www.tidymodels.org/find/\u001b[39m\n",
      "\n"
     ]
    }
   ],
   "source": [
    "library(\"moderndive\")\n",
    "library(\"infer\")\n",
    "library(\"palmerpenguins\")\n",
    "library(\"tidymodels\")"
   ]
  },
  {
   "cell_type": "markdown",
   "id": "b98913f9-1b80-466d-ae54-b89c4d2a205f",
   "metadata": {},
   "source": [
    "### The data"
   ]
  },
  {
   "cell_type": "code",
   "execution_count": 3,
   "id": "cbe7b822-8fe5-4514-8a9b-b42bc1559665",
   "metadata": {
    "vscode": {
     "languageId": "r"
    }
   },
   "outputs": [
    {
     "data": {
      "text/html": [
       "<table class=\"dataframe\">\n",
       "<caption>A tibble: 6 × 7</caption>\n",
       "<thead>\n",
       "\t<tr><th scope=col>species</th><th scope=col>island</th><th scope=col>bill_length_mm</th><th scope=col>bill_depth_mm</th><th scope=col>flipper_length_mm</th><th scope=col>body_mass_g</th><th scope=col>sex</th></tr>\n",
       "\t<tr><th scope=col>&lt;fct&gt;</th><th scope=col>&lt;fct&gt;</th><th scope=col>&lt;dbl&gt;</th><th scope=col>&lt;dbl&gt;</th><th scope=col>&lt;int&gt;</th><th scope=col>&lt;int&gt;</th><th scope=col>&lt;fct&gt;</th></tr>\n",
       "</thead>\n",
       "<tbody>\n",
       "\t<tr><td>Adelie</td><td>Torgersen</td><td>39.1</td><td>18.7</td><td>181</td><td>3750</td><td>male  </td></tr>\n",
       "\t<tr><td>Adelie</td><td>Torgersen</td><td>39.5</td><td>17.4</td><td>186</td><td>3800</td><td>female</td></tr>\n",
       "\t<tr><td>Adelie</td><td>Torgersen</td><td>40.3</td><td>18.0</td><td>195</td><td>3250</td><td>female</td></tr>\n",
       "\t<tr><td>Adelie</td><td>Torgersen</td><td>36.7</td><td>19.3</td><td>193</td><td>3450</td><td>female</td></tr>\n",
       "\t<tr><td>Adelie</td><td>Torgersen</td><td>39.3</td><td>20.6</td><td>190</td><td>3650</td><td>male  </td></tr>\n",
       "\t<tr><td>Adelie</td><td>Torgersen</td><td>38.9</td><td>17.8</td><td>181</td><td>3625</td><td>female</td></tr>\n",
       "</tbody>\n",
       "</table>\n"
      ],
      "text/latex": [
       "A tibble: 6 × 7\n",
       "\\begin{tabular}{lllllll}\n",
       " species & island & bill\\_length\\_mm & bill\\_depth\\_mm & flipper\\_length\\_mm & body\\_mass\\_g & sex\\\\\n",
       " <fct> & <fct> & <dbl> & <dbl> & <int> & <int> & <fct>\\\\\n",
       "\\hline\n",
       "\t Adelie & Torgersen & 39.1 & 18.7 & 181 & 3750 & male  \\\\\n",
       "\t Adelie & Torgersen & 39.5 & 17.4 & 186 & 3800 & female\\\\\n",
       "\t Adelie & Torgersen & 40.3 & 18.0 & 195 & 3250 & female\\\\\n",
       "\t Adelie & Torgersen & 36.7 & 19.3 & 193 & 3450 & female\\\\\n",
       "\t Adelie & Torgersen & 39.3 & 20.6 & 190 & 3650 & male  \\\\\n",
       "\t Adelie & Torgersen & 38.9 & 17.8 & 181 & 3625 & female\\\\\n",
       "\\end{tabular}\n"
      ],
      "text/markdown": [
       "\n",
       "A tibble: 6 × 7\n",
       "\n",
       "| species &lt;fct&gt; | island &lt;fct&gt; | bill_length_mm &lt;dbl&gt; | bill_depth_mm &lt;dbl&gt; | flipper_length_mm &lt;int&gt; | body_mass_g &lt;int&gt; | sex &lt;fct&gt; |\n",
       "|---|---|---|---|---|---|---|\n",
       "| Adelie | Torgersen | 39.1 | 18.7 | 181 | 3750 | male   |\n",
       "| Adelie | Torgersen | 39.5 | 17.4 | 186 | 3800 | female |\n",
       "| Adelie | Torgersen | 40.3 | 18.0 | 195 | 3250 | female |\n",
       "| Adelie | Torgersen | 36.7 | 19.3 | 193 | 3450 | female |\n",
       "| Adelie | Torgersen | 39.3 | 20.6 | 190 | 3650 | male   |\n",
       "| Adelie | Torgersen | 38.9 | 17.8 | 181 | 3625 | female |\n",
       "\n"
      ],
      "text/plain": [
       "  species island    bill_length_mm bill_depth_mm flipper_length_mm body_mass_g\n",
       "1 Adelie  Torgersen 39.1           18.7          181               3750       \n",
       "2 Adelie  Torgersen 39.5           17.4          186               3800       \n",
       "3 Adelie  Torgersen 40.3           18.0          195               3250       \n",
       "4 Adelie  Torgersen 36.7           19.3          193               3450       \n",
       "5 Adelie  Torgersen 39.3           20.6          190               3650       \n",
       "6 Adelie  Torgersen 38.9           17.8          181               3625       \n",
       "  sex   \n",
       "1 male  \n",
       "2 female\n",
       "3 female\n",
       "4 female\n",
       "5 male  \n",
       "6 female"
      ]
     },
     "metadata": {},
     "output_type": "display_data"
    },
    {
     "data": {
      "text/html": [
       "<table class=\"dataframe\">\n",
       "<caption>A tibble: 6 × 7</caption>\n",
       "<thead>\n",
       "\t<tr><th scope=col>species</th><th scope=col>island</th><th scope=col>bill_length_mm</th><th scope=col>bill_depth_mm</th><th scope=col>flipper_length_mm</th><th scope=col>body_mass_g</th><th scope=col>sex</th></tr>\n",
       "\t<tr><th scope=col>&lt;fct&gt;</th><th scope=col>&lt;fct&gt;</th><th scope=col>&lt;dbl&gt;</th><th scope=col>&lt;dbl&gt;</th><th scope=col>&lt;int&gt;</th><th scope=col>&lt;int&gt;</th><th scope=col>&lt;fct&gt;</th></tr>\n",
       "</thead>\n",
       "<tbody>\n",
       "\t<tr><td>Chinstrap</td><td>Dream</td><td>45.7</td><td>17.0</td><td>195</td><td>3650</td><td>female</td></tr>\n",
       "\t<tr><td>Chinstrap</td><td>Dream</td><td>55.8</td><td>19.8</td><td>207</td><td>4000</td><td>male  </td></tr>\n",
       "\t<tr><td>Chinstrap</td><td>Dream</td><td>43.5</td><td>18.1</td><td>202</td><td>3400</td><td>female</td></tr>\n",
       "\t<tr><td>Chinstrap</td><td>Dream</td><td>49.6</td><td>18.2</td><td>193</td><td>3775</td><td>male  </td></tr>\n",
       "\t<tr><td>Chinstrap</td><td>Dream</td><td>50.8</td><td>19.0</td><td>210</td><td>4100</td><td>male  </td></tr>\n",
       "\t<tr><td>Chinstrap</td><td>Dream</td><td>50.2</td><td>18.7</td><td>198</td><td>3775</td><td>female</td></tr>\n",
       "</tbody>\n",
       "</table>\n"
      ],
      "text/latex": [
       "A tibble: 6 × 7\n",
       "\\begin{tabular}{lllllll}\n",
       " species & island & bill\\_length\\_mm & bill\\_depth\\_mm & flipper\\_length\\_mm & body\\_mass\\_g & sex\\\\\n",
       " <fct> & <fct> & <dbl> & <dbl> & <int> & <int> & <fct>\\\\\n",
       "\\hline\n",
       "\t Chinstrap & Dream & 45.7 & 17.0 & 195 & 3650 & female\\\\\n",
       "\t Chinstrap & Dream & 55.8 & 19.8 & 207 & 4000 & male  \\\\\n",
       "\t Chinstrap & Dream & 43.5 & 18.1 & 202 & 3400 & female\\\\\n",
       "\t Chinstrap & Dream & 49.6 & 18.2 & 193 & 3775 & male  \\\\\n",
       "\t Chinstrap & Dream & 50.8 & 19.0 & 210 & 4100 & male  \\\\\n",
       "\t Chinstrap & Dream & 50.2 & 18.7 & 198 & 3775 & female\\\\\n",
       "\\end{tabular}\n"
      ],
      "text/markdown": [
       "\n",
       "A tibble: 6 × 7\n",
       "\n",
       "| species &lt;fct&gt; | island &lt;fct&gt; | bill_length_mm &lt;dbl&gt; | bill_depth_mm &lt;dbl&gt; | flipper_length_mm &lt;int&gt; | body_mass_g &lt;int&gt; | sex &lt;fct&gt; |\n",
       "|---|---|---|---|---|---|---|\n",
       "| Chinstrap | Dream | 45.7 | 17.0 | 195 | 3650 | female |\n",
       "| Chinstrap | Dream | 55.8 | 19.8 | 207 | 4000 | male   |\n",
       "| Chinstrap | Dream | 43.5 | 18.1 | 202 | 3400 | female |\n",
       "| Chinstrap | Dream | 49.6 | 18.2 | 193 | 3775 | male   |\n",
       "| Chinstrap | Dream | 50.8 | 19.0 | 210 | 4100 | male   |\n",
       "| Chinstrap | Dream | 50.2 | 18.7 | 198 | 3775 | female |\n",
       "\n"
      ],
      "text/plain": [
       "  species   island bill_length_mm bill_depth_mm flipper_length_mm body_mass_g\n",
       "1 Chinstrap Dream  45.7           17.0          195               3650       \n",
       "2 Chinstrap Dream  55.8           19.8          207               4000       \n",
       "3 Chinstrap Dream  43.5           18.1          202               3400       \n",
       "4 Chinstrap Dream  49.6           18.2          193               3775       \n",
       "5 Chinstrap Dream  50.8           19.0          210               4100       \n",
       "6 Chinstrap Dream  50.2           18.7          198               3775       \n",
       "  sex   \n",
       "1 female\n",
       "2 male  \n",
       "3 female\n",
       "4 male  \n",
       "5 male  \n",
       "6 female"
      ]
     },
     "metadata": {},
     "output_type": "display_data"
    }
   ],
   "source": [
    "pen <- penguins |> filter(!is.na(flipper_length_mm))\n",
    "pen |> head()\n",
    "pen |> tail()"
   ]
  },
  {
   "cell_type": "markdown",
   "id": "5e802f18-a1f3-4888-8816-7af7359f27e9",
   "metadata": {},
   "source": [
    "Take a moment to look at the data using `glimpse` and `head`. The dataset contains 8\n",
    "variables. You can read more about the variables by placing your cursor in `penguins` and \n",
    "looking at the `Contextual Help` tool.\n",
    "\n",
    "For our lab we will focus on four variables, the explanatory variables\n",
    "include:\n",
    "\n",
    "-   `flipper_length_mm` - an integer denoting flipper length\n",
    "    (millimeters)\n",
    "-   `bill_length_mm` - a number denoting bill length (millimeters)\n",
    "-   `species`- denotes penguin species (Adélie, Chinstrap and Gentoo)\n",
    "\n",
    "The outcome variable `body_mass_g` is an integer denoting body mass\n",
    "(grams)."
   ]
  },
  {
   "cell_type": "markdown",
   "id": "01e84dab-4a73-45fa-9262-7f726cd18a47",
   "metadata": {},
   "source": [
    "### Visualization\n",
    "\n",
    "We will start by investigating the relationship between\n",
    "‘flipper_length_mm’ and ‘body_mass_g’."
   ]
  },
  {
   "cell_type": "code",
   "execution_count": null,
   "id": "459849b6-4d10-4456-88a7-b4c4550d5202",
   "metadata": {
    "vscode": {
     "languageId": "r"
    }
   },
   "outputs": [],
   "source": [
    "ggplot(data = pen, aes(y = body_mass_g, x = flipper_length_mm)) + \n",
    "  geom_point() + \n",
    "  geom_smooth(method = \"lm\", se = FALSE) +\n",
    "  labs(x = \"Flipper length (millimeters)\", \n",
    "       y = \"Body mass (grams)\", \n",
    "       title = \"Flipper Length and Body Mass of Three Species of Penguins\") "
   ]
  },
  {
   "cell_type": "markdown",
   "id": "7a5a7bc2-774e-4c90-a2e6-12c5cd8c5e15",
   "metadata": {},
   "source": [
    "## Question 1\n",
    "\n",
    "Does the relationship appear to be positive or negative? Does it look to\n",
    "be reasonably linear?\n",
    "\n",
    "**Answer:**"
   ]
  },
  {
   "cell_type": "markdown",
   "id": "b31ecebc-35eb-4d49-af06-545eb60540b2",
   "metadata": {},
   "source": [
    "## Create a linear regression model"
   ]
  },
  {
   "cell_type": "markdown",
   "id": "e26aaea7-167b-47bd-83f0-4a1742dceb33",
   "metadata": {},
   "source": [
    "Here we use the [standard error](https://moderndive.com/10-inference-for-regression.html#regression-se) to calculate a confidence interval. Later we will use the bootstrap resampling technique\n",
    "that does not rely on distrubutional assumptions."
   ]
  },
  {
   "cell_type": "code",
   "execution_count": null,
   "id": "33a5d445-0349-49d4-b6f7-50dcc3b3a67d",
   "metadata": {
    "vscode": {
     "languageId": "r"
    }
   },
   "outputs": [],
   "source": [
    "mod = linear_reg() |> set_engine('lm')\n",
    "\n",
    "pen_model = mod |> fit(body_mass_g ~ flipper_length_mm, data = pen)\n",
    "\n",
    "tidy(pen_model) |> mutate(lower_ci = estimate - 1.96 * std.error, upper_ci = estimate + 1.96 * std.error)"
   ]
  },
  {
   "cell_type": "markdown",
   "id": "d9c4f173-c7fd-4343-9eea-9a974562658c",
   "metadata": {},
   "source": [
    "## Question 2\n",
    "\n",
    "Using our shorthand interpretation for confidence intervals and the\n",
    "regression table, write a sentence interpreting the 95% confidence\n",
    "interval for $\\beta_1$?\n",
    "\n",
    "**Answer:**"
   ]
  },
  {
   "cell_type": "code",
   "execution_count": null,
   "id": "bbf1cace-af65-48e6-80ab-e5d9997aba4d",
   "metadata": {
    "vscode": {
     "languageId": "r"
    }
   },
   "outputs": [],
   "source": [
    "\n",
    "\n"
   ]
  },
  {
   "cell_type": "markdown",
   "id": "cfc20362-f551-4085-ad51-86848fc6aeee",
   "metadata": {},
   "source": [
    "## Question 3\n",
    "\n",
    "Recall that the test statistic and $p$-value correspond to the\n",
    "hypothesis test:\n",
    "\n",
    "$$\\begin{aligned} H_0:&\\beta_{1} = 0 \\\\\\ \\mbox{vs }H_A:& \\beta_{1} \\neq 0 \\end{aligned}$$\n",
    "\n",
    "Write up the results & conclusions for this hypothesis test.\n",
    "\n",
    "**Answer:**"
   ]
  },
  {
   "cell_type": "code",
   "execution_count": null,
   "id": "78d87ffc-48a5-4fca-80f3-cbac60ee212c",
   "metadata": {
    "vscode": {
     "languageId": "r"
    }
   },
   "outputs": [],
   "source": [
    "\n",
    "\n"
   ]
  },
  {
   "cell_type": "markdown",
   "id": "efc9a5d5-1cc8-46bf-84a7-d48065abf91c",
   "metadata": {},
   "source": [
    "## Question 4\n",
    "\n",
    "You may remember that this hypothesis test is only valid if certain\n",
    "“conditions for inference for regression” are met. Let’s take a closer\n",
    "look those conditions.\n",
    "\n",
    "1.  Linearity of relationship between variables\n",
    "2.  Independence of the residuals\n",
    "3.  Normality of the residuals\n",
    "4.  Equality of variance of the residuals"
   ]
  },
  {
   "cell_type": "markdown",
   "id": "fcfbdb7d-2e9c-402d-b31a-a19a8f92820c",
   "metadata": {},
   "source": [
    "## Linearity of relationship between variables\n",
    "\n",
    "**4a) ** This was analyzed in question 1. Did you say that the\n",
    "relationship between `flipper_length_mm` and `body_mass_g` appears to be\n",
    "linear?\n",
    "\n",
    "**Answer:**"
   ]
  },
  {
   "cell_type": "code",
   "execution_count": null,
   "id": "2f9966a5-5cdb-4bdf-9d1a-d455322ea9f1",
   "metadata": {
    "vscode": {
     "languageId": "r"
    }
   },
   "outputs": [],
   "source": [
    "\n",
    "\n"
   ]
  },
  {
   "cell_type": "markdown",
   "id": "064a20ec-f376-4a9b-9761-115aad39c336",
   "metadata": {},
   "source": [
    "## Independence of the residuals\n",
    "\n",
    "The observations in our data must be independent of one another. In this\n",
    "data, we can not be sure this is case, for example, some of the penguins\n",
    "included may be related (siblings, parents). We are not given enough\n",
    "information to verify this condition has been met.\n",
    "\n",
    "## Normality of the residuals\n",
    "\n",
    "The third condition is that the residuals should follow a Normal\n",
    "distribution centered 0. To check for normality, create a histogram.\n",
    "\n",
    "The code to get the residuals is given."
   ]
  },
  {
   "cell_type": "code",
   "execution_count": null,
   "id": "cb2e1083-88f9-4012-9887-302cd57d3339",
   "metadata": {
    "vscode": {
     "languageId": "r"
    }
   },
   "outputs": [],
   "source": [
    "regression_points = augment(pen_model, new_data = pen)\n",
    "\n",
    "regression_points |> head()"
   ]
  },
  {
   "cell_type": "markdown",
   "id": "e9d749da-90e2-4bb2-a3d3-4899360d8e22",
   "metadata": {},
   "source": [
    "**4b)**"
   ]
  },
  {
   "cell_type": "code",
   "execution_count": null,
   "id": "506fc8e1-3134-468c-8461-f35887de40a2",
   "metadata": {
    "vscode": {
     "languageId": "r"
    }
   },
   "outputs": [],
   "source": [
    "#Add code for the histogram.\n",
    "\n",
    "\n"
   ]
  },
  {
   "cell_type": "markdown",
   "id": "8498ca99-4f67-482a-92ff-1a2669bb2088",
   "metadata": {},
   "source": [
    "**4c)** Does this model meet the normality of residuals condition?\n",
    "\n",
    "**Answer:**"
   ]
  },
  {
   "cell_type": "code",
   "execution_count": null,
   "id": "3615d51b-1f7b-4a89-99a3-14e9c379d7c0",
   "metadata": {
    "vscode": {
     "languageId": "r"
    }
   },
   "outputs": [],
   "source": [
    "\n",
    "\n"
   ]
  },
  {
   "cell_type": "markdown",
   "id": "4d36a56b-df65-4770-912a-b662079f673b",
   "metadata": {},
   "source": [
    "## Equality of variance of the residuals\n",
    "\n",
    "The final condition says that the residual should exhibit equal variace\n",
    "across all of the values of the explanatory variable.\n",
    "\n",
    "To check this condition we can create a scatterplot that has our\n",
    "explanatory variable, `flipper_length_mm`, on the x-axis and our\n",
    "residuals on the y-axis. Does this model meet the Normality of Residuals\n",
    "condition?"
   ]
  },
  {
   "cell_type": "code",
   "execution_count": null,
   "id": "bd76ad40-744b-447e-9904-f9f2c274657a",
   "metadata": {
    "vscode": {
     "languageId": "r"
    }
   },
   "outputs": [],
   "source": [
    "ggplot(regression_points, aes(x = flipper_length_mm, y = .resid)) +\n",
    "  geom_point() +\n",
    "  labs(x = \"Flipper length in mm \", y = \"Residual\") +\n",
    "  geom_hline(yintercept = 0, col = \"blue\", linewidth = 1)"
   ]
  },
  {
   "cell_type": "markdown",
   "id": "28c11876-dd3d-47b4-9ead-9635169fdb81",
   "metadata": {},
   "source": [
    "**4d.** Does this model meet the Normality of Residuals condition?\n",
    "\n",
    "**Answer:**"
   ]
  },
  {
   "cell_type": "code",
   "execution_count": null,
   "id": "08439614-42d2-44b8-8a72-c315e0042f3f",
   "metadata": {
    "vscode": {
     "languageId": "r"
    }
   },
   "outputs": [],
   "source": [
    "\n",
    "\n"
   ]
  },
  {
   "cell_type": "markdown",
   "id": "9c6bb290-60cf-4d5d-adcf-cdaaa56ff5f8",
   "metadata": {},
   "source": [
    "## Question 5\n",
    "\n",
    "Now let’s circle back and take a second look at the confidence\n",
    "intervals. Using this bootstrap distribution, we’ll construct the 95%\n",
    "confidence interval using the percentile method and (if appropriate) the\n",
    "standard error method as well. We can compare our results to the results\n",
    "from R (which uses mathematical formula to construct confidence\n",
    "intervals.)\n",
    "\n",
    "### Step 1: Calculate the bootstrap statistic and Visualize the bootstrap distribution"
   ]
  },
  {
   "cell_type": "code",
   "execution_count": null,
   "id": "53de2f0d-55a4-40fc-af56-db0047165b3a",
   "metadata": {
    "vscode": {
     "languageId": "r"
    }
   },
   "outputs": [],
   "source": [
    "bootstrap_distn_slope = pen |> \n",
    "  specify(formula = body_mass_g ~ flipper_length_mm) |>\n",
    "  generate(reps = 1000, type = \"bootstrap\") |>\n",
    "  calculate(stat = \"slope\")\n",
    "\n",
    "visualize(bootstrap_distn_slope)"
   ]
  },
  {
   "cell_type": "markdown",
   "id": "1b6bfd7b-fd5b-401b-a813-f81c2d224151",
   "metadata": {},
   "source": [
    "### Step 2: Calculate CI from the a bootstap resample using the percentile method.\n",
    "\n",
    "Find a 95% CI using percentile method:"
   ]
  },
  {
   "cell_type": "code",
   "execution_count": null,
   "id": "e80d10e8-4add-458f-828d-0cf4707798b9",
   "metadata": {
    "vscode": {
     "languageId": "r"
    }
   },
   "outputs": [],
   "source": [
    "#finish the code here:\n",
    "\n",
    "# bootstrap_distn_slope |>\n",
    "#     summarize(lower_ci = quantile(stat, <ADD_VALUE_HERE>), upper_ci = quantile(stat, <ADD_VALUE_HERE>))"
   ]
  },
  {
   "cell_type": "markdown",
   "id": "89404d12-6aff-40b5-adc6-dbd6421314ca",
   "metadata": {},
   "source": [
    "## Question 6\n",
    "\n",
    "Write down the two 95% confidence intervals for the $\\beta_{1}$. a, b,\n",
    "c, and d with the appropriate values you’ve computed.\n",
    "\n",
    "When you are done, make sure all the `|` in the table still line up so\n",
    "your results print out in a table!\n",
    "\n",
    "| CI construction method                | lower value | upper value |\n",
    "|---------------------------------------|-------------|-------------|\n",
    "| Using bootstrap: percentile rule      | a           | b           |\n",
    "| Using mathematical formula (see [above](#Create-a-linear-regression-model)) | c           | d           |\n",
    "\n",
    "In your opinion, would you say these three confidence intervals are\n",
    "similar?\n",
    "\n",
    "**Answers:**"
   ]
  },
  {
   "cell_type": "code",
   "execution_count": null,
   "id": "64ac0db3-3071-4db7-9850-1d71575a4975",
   "metadata": {
    "vscode": {
     "languageId": "r"
    }
   },
   "outputs": [],
   "source": [
    "\n",
    "\n"
   ]
  },
  {
   "cell_type": "markdown",
   "id": "b64b236b-b606-4fe9-8d1c-d0a031aefad9",
   "metadata": {},
   "source": [
    "## Part 2\n",
    "\n",
    "For the next part you will check the conditions for regression inference\n",
    "for a new model. This model will have `bill_length_mm` and `species` as\n",
    "explanatory variables, and we’ll use the parallel slopes model"
   ]
  },
  {
   "cell_type": "code",
   "execution_count": null,
   "id": "ffefffcb-1a48-42d7-802b-a114f7669726",
   "metadata": {
    "vscode": {
     "languageId": "r"
    }
   },
   "outputs": [],
   "source": [
    "ggplot(data = pen, aes(y = body_mass_g, x = bill_length_mm, color=species)) + \n",
    "  geom_point() + \n",
    "  geom_parallel_slopes(se = FALSE) +\n",
    "  labs(x = \"Bill length (millimeters)\", \n",
    "       y = \"Body mass (grams)\", \n",
    "       title = \"Bill Length and Body Mass of three Species of Penguins\") "
   ]
  },
  {
   "cell_type": "markdown",
   "id": "5384c0af-4a26-4f2d-9b66-82b079ef156f",
   "metadata": {},
   "source": [
    "Let’s fit the parallel slopes model"
   ]
  },
  {
   "cell_type": "code",
   "execution_count": null,
   "id": "08249247-c0f2-4a19-96ac-5191591fd77b",
   "metadata": {
    "vscode": {
     "languageId": "r"
    }
   },
   "outputs": [],
   "source": [
    "# Fit regression model:\n",
    "\n",
    "mod = linear_reg() |> set_engine('lm')\n",
    "\n",
    "pen_parallel = mod |> fit(body_mass_g ~ bill_length_mm + species, data = pen)\n",
    "\n",
    "# Get regression table:\n",
    "tidy(pen_parallel)"
   ]
  },
  {
   "cell_type": "markdown",
   "id": "deba1a4b-32ec-4d18-a444-c5de277c2648",
   "metadata": {},
   "source": [
    "Let us once again inspect the conditions necessary for inference with\n",
    "regression.\n",
    "\n",
    "1.  Linearity of relationship between variables\n",
    "2.  Independence of the residuals\n",
    "3.  Normality of the residuals\n",
    "4.  Equality of variance of the residuals"
   ]
  },
  {
   "cell_type": "markdown",
   "id": "6f3147d3-cd6f-4068-aef1-b7120dc17ae8",
   "metadata": {},
   "source": [
    "## Question 7\n",
    "\n",
    "**Check for Linearity of relationship between variables **\n",
    "\n",
    "Would you say that the relationship between `bill_length_mm` and\n",
    "`body_mass_g` appears to be linear for each species?\n",
    "\n",
    "**Answer:**"
   ]
  },
  {
   "cell_type": "code",
   "execution_count": null,
   "id": "6df7f5d9-11ee-4f37-9669-ae12c8c11cfc",
   "metadata": {
    "vscode": {
     "languageId": "r"
    }
   },
   "outputs": [],
   "source": [
    "\n",
    "\n"
   ]
  },
  {
   "cell_type": "markdown",
   "id": "9daa172e-471f-4b9a-8476-9a3f78689249",
   "metadata": {},
   "source": [
    "**Check for Independence of the residuals **\n",
    "\n",
    "This is the same as the first model that we looked it. The observations\n",
    "in our data must be independent of one another. In this data, we can not\n",
    "be sure this is case, for example, some of the penguins included may be\n",
    "related (siblings, parents). We are not given enough information to\n",
    "verify this condition has been met."
   ]
  },
  {
   "cell_type": "markdown",
   "id": "bed291cd-7431-4c3a-816d-019276ff3004",
   "metadata": {},
   "source": [
    "## Question 8\n",
    "\n",
    "Check Normality of the residuals (and they should be centered at 0.)\n",
    "\n",
    "**8a) **"
   ]
  },
  {
   "cell_type": "code",
   "execution_count": null,
   "id": "c7d7a748-430c-49c3-a341-150e0f42004d",
   "metadata": {
    "vscode": {
     "languageId": "r"
    }
   },
   "outputs": [],
   "source": [
    "#Add code for the histogram:\n",
    "\n"
   ]
  },
  {
   "cell_type": "markdown",
   "id": "b9dee19b-f110-42f9-a2f8-17b7619d6af4",
   "metadata": {},
   "source": [
    "**8b)** Does this model meet the Normality of Residuals condition?\n",
    "\n",
    "**Answer:**"
   ]
  },
  {
   "cell_type": "code",
   "execution_count": null,
   "id": "427cd6ef-281f-4695-a999-9039a4be3024",
   "metadata": {
    "vscode": {
     "languageId": "r"
    }
   },
   "outputs": [],
   "source": [
    "\n",
    "\n"
   ]
  },
  {
   "cell_type": "markdown",
   "id": "995c8f4f-5681-49f5-bd56-0701fb84bc1c",
   "metadata": {},
   "source": [
    "## Question 9\n",
    "\n",
    "Check for Equality of variance of the residuals\n",
    "\n",
    "To check this condition we can create a scatterplot that has our\n",
    "explanatory variable, `flipper_length_mm`, on the x-axis and our\n",
    "residuals on the y-axis.\n",
    "\n",
    "**9a)**"
   ]
  },
  {
   "cell_type": "code",
   "execution_count": null,
   "id": "6d4577f9-9c3f-4e58-bbc9-cc3e536c1551",
   "metadata": {
    "vscode": {
     "languageId": "r"
    }
   },
   "outputs": [],
   "source": [
    "#Add code to check this condition:\n",
    "\n"
   ]
  },
  {
   "cell_type": "markdown",
   "id": "5902a96c-f8ec-4808-b0da-da8f9be81b20",
   "metadata": {},
   "source": [
    "**9b) **Does this meet the equality of variance of the residuals\n",
    "condition?\n",
    "\n",
    "**Answer:**"
   ]
  },
  {
   "cell_type": "code",
   "execution_count": null,
   "id": "45029e31-4fb1-4b41-8f49-b30fd914ae2b",
   "metadata": {
    "vscode": {
     "languageId": "r"
    }
   },
   "outputs": [],
   "source": [
    "\n",
    "\n"
   ]
  },
  {
   "cell_type": "markdown",
   "id": "21ab88da-d123-436e-a47f-54e5ac568ba9",
   "metadata": {},
   "source": [
    "## Question 10\n",
    "\n",
    "Run the code below to find the confidence intervals for our model's coefficients."
   ]
  },
  {
   "cell_type": "code",
   "execution_count": null,
   "id": "5aec7804-b820-46cd-a6ab-9c8ddfcc79a3",
   "metadata": {
    "vscode": {
     "languageId": "r"
    }
   },
   "outputs": [],
   "source": [
    "boots = bootstraps(pen, times = 1000, apparent = TRUE)\n",
    "\n",
    "mod = linear_reg() |> set_engine('lm')\n",
    "\n",
    "boot_models  = boots |> \n",
    "  mutate(model = map(splits, ~mod |> fit(body_mass_g ~ bill_length_mm + species, data = as_tibble(.x))),\n",
    "         coef_info = map(model, tidy))\n",
    "\n",
    "boot_coefs = boot_models |> \n",
    "  unnest(coef_info)\n",
    "\n",
    "percentile_intervals = int_pctl(boot_models, coef_info)\n",
    "\n",
    "percentile_intervals"
   ]
  },
  {
   "cell_type": "code",
   "execution_count": null,
   "id": "e66bc71a-c43e-488a-aa8c-6888a28466c5",
   "metadata": {
    "vscode": {
     "languageId": "r"
    }
   },
   "outputs": [],
   "source": [
    "boot_coefs |> \n",
    "    filter(term == 'bill_length_mm') |>\n",
    "ggplot(aes(x = estimate)) +\n",
    "    geom_histogram() +\n",
    "    geom_vline(xintercept = percentile_intervals |> filter(term == 'bill_length_mm') |> pull(.lower), color = 'coral') +\n",
    "    geom_vline(xintercept = percentile_intervals |> filter(term == 'bill_length_mm') |> pull(.upper), color = 'coral')"
   ]
  },
  {
   "cell_type": "markdown",
   "id": "3f05912d-464a-4362-9942-323e356b8b13",
   "metadata": {},
   "source": [
    "What can we conclude about the relationship between bill length and body\n",
    "mass?\n",
    "\n",
    "**Answer:**"
   ]
  },
  {
   "cell_type": "code",
   "execution_count": null,
   "id": "a498feec-6293-4497-81f2-9f20c2178733",
   "metadata": {
    "vscode": {
     "languageId": "r"
    }
   },
   "outputs": [],
   "source": [
    "\n",
    "\n"
   ]
  }
 ],
 "metadata": {
  "kernelspec": {
   "display_name": "R",
   "language": "R",
   "name": "ir"
  },
  "language_info": {
   "codemirror_mode": "r",
   "file_extension": ".r",
   "mimetype": "text/x-r-source",
   "name": "R",
   "pygments_lexer": "r",
   "version": "4.4.1"
  }
 },
 "nbformat": 4,
 "nbformat_minor": 5
}
