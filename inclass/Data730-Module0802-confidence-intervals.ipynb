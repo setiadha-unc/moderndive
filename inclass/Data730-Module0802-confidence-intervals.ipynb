{
 "cells": [
  {
   "cell_type": "markdown",
   "id": "d1b84436-0b67-45b9-8c6c-e0a2815d7470",
   "metadata": {},
   "source": [
    "Run the following cell to load all the required packages..."
   ]
  },
  {
   "cell_type": "code",
   "execution_count": 1,
   "id": "435c6e41-9f7c-4d69-a0cc-863ba6317412",
   "metadata": {
    "vscode": {
     "languageId": "r"
    }
   },
   "outputs": [
    {
     "name": "stderr",
     "output_type": "stream",
     "text": [
      "── \u001b[1mAttaching core tidyverse packages\u001b[22m ──────────────────────── tidyverse 2.0.0 ──\n",
      "\u001b[32m✔\u001b[39m \u001b[34mdplyr    \u001b[39m 1.1.4     \u001b[32m✔\u001b[39m \u001b[34mreadr    \u001b[39m 2.1.5\n",
      "\u001b[32m✔\u001b[39m \u001b[34mforcats  \u001b[39m 1.0.0     \u001b[32m✔\u001b[39m \u001b[34mstringr  \u001b[39m 1.5.1\n",
      "\u001b[32m✔\u001b[39m \u001b[34mggplot2  \u001b[39m 3.5.1     \u001b[32m✔\u001b[39m \u001b[34mtibble   \u001b[39m 3.2.1\n",
      "\u001b[32m✔\u001b[39m \u001b[34mlubridate\u001b[39m 1.9.3     \u001b[32m✔\u001b[39m \u001b[34mtidyr    \u001b[39m 1.3.1\n",
      "── \u001b[1mConflicts\u001b[22m ────────────────────────────────────────── tidyverse_conflicts() ──\n",
      "\u001b[31m✖\u001b[39m \u001b[34mdplyr\u001b[39m::\u001b[32mfilter()\u001b[39m masks \u001b[34mstats\u001b[39m::filter()\n",
      "\u001b[31m✖\u001b[39m \u001b[34mdplyr\u001b[39m::\u001b[32mlag()\u001b[39m    masks \u001b[34mstats\u001b[39m::lag()\n",
      "\u001b[36mℹ\u001b[39m Use the conflicted package (\u001b[3m\u001b[34m<http://conflicted.r-lib.org/>\u001b[39m\u001b[23m) to force all conflicts to become errors\n"
     ]
    }
   ],
   "source": [
    "library(\"purrr\")\n",
    "library(\"tidyverse\")\n",
    "library(\"moderndive\")\n",
    "library(\"infer\")"
   ]
  },
  {
   "cell_type": "markdown",
   "id": "eac70b98-e1ff-4665-bfe9-ebf797a72f6f",
   "metadata": {},
   "source": [
    "Use `sample_n` to create one sample of 100 balls from the `bowl` data set. Make sure you are sampling **without** replacement. Call your sample `one_sample_bowl`."
   ]
  },
  {
   "cell_type": "code",
   "execution_count": 24,
   "id": "bee6a478-aa15-4f19-80f8-73e015094ac5",
   "metadata": {
    "vscode": {
     "languageId": "r"
    }
   },
   "outputs": [
    {
     "data": {
      "text/html": [
       "<table class=\"dataframe\">\n",
       "<caption>A tibble: 2 × 2</caption>\n",
       "<thead>\n",
       "\t<tr><th scope=col>color</th><th scope=col>n</th></tr>\n",
       "\t<tr><th scope=col>&lt;chr&gt;</th><th scope=col>&lt;int&gt;</th></tr>\n",
       "</thead>\n",
       "<tbody>\n",
       "\t<tr><td>red  </td><td>36</td></tr>\n",
       "\t<tr><td>white</td><td>64</td></tr>\n",
       "</tbody>\n",
       "</table>\n"
      ],
      "text/latex": [
       "A tibble: 2 × 2\n",
       "\\begin{tabular}{ll}\n",
       " color & n\\\\\n",
       " <chr> & <int>\\\\\n",
       "\\hline\n",
       "\t red   & 36\\\\\n",
       "\t white & 64\\\\\n",
       "\\end{tabular}\n"
      ],
      "text/markdown": [
       "\n",
       "A tibble: 2 × 2\n",
       "\n",
       "| color &lt;chr&gt; | n &lt;int&gt; |\n",
       "|---|---|\n",
       "| red   | 36 |\n",
       "| white | 64 |\n",
       "\n"
      ],
      "text/plain": [
       "  color n \n",
       "1 red   36\n",
       "2 white 64"
      ]
     },
     "metadata": {},
     "output_type": "display_data"
    }
   ],
   "source": [
    "one_sample_bowl <- bowl |> sample_n(100)\n",
    "one_sample_bowl |> count(color)"
   ]
  },
  {
   "cell_type": "markdown",
   "id": "2d6e7099-b849-46c2-b139-420d52d23ce1",
   "metadata": {},
   "source": [
    "With bootstrap resampling we can calculate a confidence interval for the proportion of red balls even though we only have one sample."
   ]
  },
  {
   "cell_type": "markdown",
   "id": "308c662a-d231-4afb-82ae-052ec6055829",
   "metadata": {},
   "source": [
    "To find a confidence interval,\n",
    "\n",
    "1. use `rep_sample_n` with `replace = TRUE` to compute 1000 bootstrap replicates from your `one_sample_bowl` table. Each bootstrap should be the same size as your original sample.\n",
    "2. `group_by` the replicate column, and,\n",
    "3. find the proportion of red balls in each bootstrap replicate group using `summarize`.\n",
    "4. Last, find the confidence interval bounds using this code snippet:\n",
    "\n",
    "```r\n",
    "summarize(\n",
    "    lower_ci = quantile(prop_red, 0.025), \n",
    "    upper_ci = quantile(prop_red, 0.975)\n",
    ")\n",
    "```"
   ]
  },
  {
   "cell_type": "code",
   "execution_count": 36,
   "id": "f5651134-da3e-4f74-9be1-3113b4ddf722",
   "metadata": {
    "vscode": {
     "languageId": "r"
    }
   },
   "outputs": [
    {
     "data": {
      "text/html": [
       "<table class=\"dataframe\">\n",
       "<caption>A tibble: 1 × 2</caption>\n",
       "<thead>\n",
       "\t<tr><th scope=col>lower_ci</th><th scope=col>upper_ci</th></tr>\n",
       "\t<tr><th scope=col>&lt;dbl&gt;</th><th scope=col>&lt;dbl&gt;</th></tr>\n",
       "</thead>\n",
       "<tbody>\n",
       "\t<tr><td>0.26</td><td>0.45</td></tr>\n",
       "</tbody>\n",
       "</table>\n"
      ],
      "text/latex": [
       "A tibble: 1 × 2\n",
       "\\begin{tabular}{ll}\n",
       " lower\\_ci & upper\\_ci\\\\\n",
       " <dbl> & <dbl>\\\\\n",
       "\\hline\n",
       "\t 0.26 & 0.45\\\\\n",
       "\\end{tabular}\n"
      ],
      "text/markdown": [
       "\n",
       "A tibble: 1 × 2\n",
       "\n",
       "| lower_ci &lt;dbl&gt; | upper_ci &lt;dbl&gt; |\n",
       "|---|---|\n",
       "| 0.26 | 0.45 |\n",
       "\n"
      ],
      "text/plain": [
       "     lower_ci upper_ci\n",
       "2.5% 0.26     0.45    "
      ]
     },
     "metadata": {},
     "output_type": "display_data"
    }
   ],
   "source": [
    "one_sample_bowl |>\n",
    "  rep_sample_n(size = 100, replace = TRUE, reps = 1000) |>\n",
    "  group_by(replicate) |>\n",
    "  summarize(prop_red = (sum(color == \"red\") / n())) |>\n",
    "  summarize(\n",
    "    lower_ci = quantile(prop_red, 0.025),\n",
    "    upper_ci = quantile(prop_red, 0.975)\n",
    "  )"
   ]
  },
  {
   "cell_type": "markdown",
   "id": "c397a66b-7214-46fa-9289-5de2fa8216c5",
   "metadata": {},
   "source": [
    "Is the true value (i.e. the actual proportion of red balls in `bowl`) inside your confidence interval?"
   ]
  },
  {
   "cell_type": "code",
   "execution_count": 37,
   "id": "d07371c4-4280-4e98-bf27-9a7311999b5b",
   "metadata": {
    "vscode": {
     "languageId": "r"
    }
   },
   "outputs": [
    {
     "data": {
      "text/html": [
       "0.375"
      ],
      "text/latex": [
       "0.375"
      ],
      "text/markdown": [
       "0.375"
      ],
      "text/plain": [
       "[1] 0.375"
      ]
     },
     "metadata": {},
     "output_type": "display_data"
    }
   ],
   "source": [
    "900/2400"
   ]
  },
  {
   "cell_type": "markdown",
   "id": "33aced77-3b6c-4df7-8dd0-6387bada4fa2",
   "metadata": {},
   "source": [
    "**Let's do the same thing as above for 1,000 iterations...**"
   ]
  },
  {
   "cell_type": "markdown",
   "id": "db4135ae-19bc-444a-ac5d-9108c7a11be6",
   "metadata": {},
   "source": [
    "Execute the following code. This runs the *sample* plus *bootstrap resample* steps 1,000 times and captures the output in a dataframe called `bowl_ci_data`. Each row in `bowl_ci_data` holds a confidence interval created from a sample of size 100 and 1,000 bootstrap resamples."
   ]
  },
  {
   "cell_type": "code",
   "execution_count": 30,
   "id": "471ac1bc-012e-406e-8294-de36655a20a8",
   "metadata": {
    "vscode": {
     "languageId": "r"
    }
   },
   "outputs": [],
   "source": [
    "bowl_samples = rep_sample_n(bowl, replace = FALSE, size = 100, reps = 1000) |>\n",
    "    rename(original_sample = replicate)\n",
    "\n",
    "bowl_ci_data = bowl_samples |> \n",
    "    group_by(original_sample) |>\n",
    "    group_split() |> \n",
    "    map_dfr(\n",
    "        ~rep_sample_n(.x, replace = TRUE, size = 100, reps = 1000) |>\n",
    "            rename(bs_sample = replicate) |>\n",
    "            group_by(original_sample, bs_sample) |>\n",
    "            summarize(prop_red = sum(color == 'red') / n(), .groups = 'drop') |>\n",
    "            group_by(original_sample) |>\n",
    "            summarize(\n",
    "                lower_ci = quantile(prop_red, 0.025), \n",
    "                upper_ci = quantile(prop_red, 0.975),\n",
    "            )\n",
    "    )"
   ]
  },
  {
   "cell_type": "markdown",
   "id": "cc439620-5b2a-46f4-8e5d-e86ec3b60198",
   "metadata": {},
   "source": [
    "Use `geom_segment()` to plot 100 confidence intervals. Add a vertical line showing the position of the \"true value.\"\n",
    "\n",
    "**HINT:**\n",
    "- you can use `sample_n` to select only 100 CIs from `bowl_ci_data`, and,\n",
    "- you can use `mutate(y_pos = row_number())` to get a column to map to `y` in your chart.\n",
    "\n",
    "**[Here is an example chart](https://raw.githubusercontent.com/UNC-DATA-730/lecture-notebooks/main/07-bootstrap-resampling/in-class-exercises/ci_plot_example.png)**"
   ]
  },
  {
   "cell_type": "code",
   "execution_count": 33,
   "id": "bf020ec8-ffbe-4903-92b7-31d1b7df444f",
   "metadata": {
    "vscode": {
     "languageId": "r"
    }
   },
   "outputs": [
    {
     "data": {
      "text/html": [
       "<table class=\"dataframe\">\n",
       "<caption>A tibble: 6 × 3</caption>\n",
       "<thead>\n",
       "\t<tr><th scope=col>original_sample</th><th scope=col>lower_ci</th><th scope=col>upper_ci</th></tr>\n",
       "\t<tr><th scope=col>&lt;int&gt;</th><th scope=col>&lt;dbl&gt;</th><th scope=col>&lt;dbl&gt;</th></tr>\n",
       "</thead>\n",
       "<tbody>\n",
       "\t<tr><td>1</td><td>0.27</td><td>0.46</td></tr>\n",
       "\t<tr><td>2</td><td>0.31</td><td>0.50</td></tr>\n",
       "\t<tr><td>3</td><td>0.31</td><td>0.50</td></tr>\n",
       "\t<tr><td>4</td><td>0.35</td><td>0.54</td></tr>\n",
       "\t<tr><td>5</td><td>0.25</td><td>0.43</td></tr>\n",
       "\t<tr><td>6</td><td>0.35</td><td>0.54</td></tr>\n",
       "</tbody>\n",
       "</table>\n"
      ],
      "text/latex": [
       "A tibble: 6 × 3\n",
       "\\begin{tabular}{lll}\n",
       " original\\_sample & lower\\_ci & upper\\_ci\\\\\n",
       " <int> & <dbl> & <dbl>\\\\\n",
       "\\hline\n",
       "\t 1 & 0.27 & 0.46\\\\\n",
       "\t 2 & 0.31 & 0.50\\\\\n",
       "\t 3 & 0.31 & 0.50\\\\\n",
       "\t 4 & 0.35 & 0.54\\\\\n",
       "\t 5 & 0.25 & 0.43\\\\\n",
       "\t 6 & 0.35 & 0.54\\\\\n",
       "\\end{tabular}\n"
      ],
      "text/markdown": [
       "\n",
       "A tibble: 6 × 3\n",
       "\n",
       "| original_sample &lt;int&gt; | lower_ci &lt;dbl&gt; | upper_ci &lt;dbl&gt; |\n",
       "|---|---|---|\n",
       "| 1 | 0.27 | 0.46 |\n",
       "| 2 | 0.31 | 0.50 |\n",
       "| 3 | 0.31 | 0.50 |\n",
       "| 4 | 0.35 | 0.54 |\n",
       "| 5 | 0.25 | 0.43 |\n",
       "| 6 | 0.35 | 0.54 |\n",
       "\n"
      ],
      "text/plain": [
       "  original_sample lower_ci upper_ci\n",
       "1 1               0.27     0.46    \n",
       "2 2               0.31     0.50    \n",
       "3 3               0.31     0.50    \n",
       "4 4               0.35     0.54    \n",
       "5 5               0.25     0.43    \n",
       "6 6               0.35     0.54    "
      ]
     },
     "metadata": {},
     "output_type": "display_data"
    },
    {
     "data": {
      "image/png": "[encoded data removed]",
      "text/plain": [
       "plot without title"
      ]
     },
     "metadata": {
      "image/png": {
       "height": 420,
       "width": 420
      }
     },
     "output_type": "display_data"
    }
   ],
   "source": [
    "bowl_ci_data |> head()\n",
    "\n",
    "bowl_ci_data |>\n",
    "  sample_n(100) |>\n",
    "  mutate(y_pos = row_number() ) |>\n",
    "  ggplot(aes(y = y_pos, x=lower_ci, yend = y_pos, xend = upper_ci)) +\n",
    "  geom_segment(linewidth = 0.8, alpha = 0.75, color = 'coral') +\n",
    "  geom_vline(xintercept = 0.375, color = 'steelblue') +\n",
    "  labs(y = '')\n"
   ]
  },
  {
   "cell_type": "markdown",
   "id": "b33e6853-7d17-4cdc-a350-deb748e43a98",
   "metadata": {},
   "source": [
    "`mutate(inside_ci = lower_ci <= 0.375 & upper_ci >= 0.375)` determines if a confidence interval in `bowl_ci_data` holds the \"true value.\" Combine this `mutate` operation with `summarize` to calculate the proportion of confidence intervals that contain the true value."
   ]
  },
  {
   "cell_type": "code",
   "execution_count": 41,
   "id": "a615ca48-607e-4027-b2f8-23c9204062aa",
   "metadata": {
    "vscode": {
     "languageId": "r"
    }
   },
   "outputs": [
    {
     "data": {
      "text/html": [
       "<table class=\"dataframe\">\n",
       "<caption>A tibble: 6 × 3</caption>\n",
       "<thead>\n",
       "\t<tr><th scope=col>original_sample</th><th scope=col>lower_ci</th><th scope=col>upper_ci</th></tr>\n",
       "\t<tr><th scope=col>&lt;int&gt;</th><th scope=col>&lt;dbl&gt;</th><th scope=col>&lt;dbl&gt;</th></tr>\n",
       "</thead>\n",
       "<tbody>\n",
       "\t<tr><td>1</td><td>0.27</td><td>0.46</td></tr>\n",
       "\t<tr><td>2</td><td>0.31</td><td>0.50</td></tr>\n",
       "\t<tr><td>3</td><td>0.31</td><td>0.50</td></tr>\n",
       "\t<tr><td>4</td><td>0.35</td><td>0.54</td></tr>\n",
       "\t<tr><td>5</td><td>0.25</td><td>0.43</td></tr>\n",
       "\t<tr><td>6</td><td>0.35</td><td>0.54</td></tr>\n",
       "</tbody>\n",
       "</table>\n"
      ],
      "text/latex": [
       "A tibble: 6 × 3\n",
       "\\begin{tabular}{lll}\n",
       " original\\_sample & lower\\_ci & upper\\_ci\\\\\n",
       " <int> & <dbl> & <dbl>\\\\\n",
       "\\hline\n",
       "\t 1 & 0.27 & 0.46\\\\\n",
       "\t 2 & 0.31 & 0.50\\\\\n",
       "\t 3 & 0.31 & 0.50\\\\\n",
       "\t 4 & 0.35 & 0.54\\\\\n",
       "\t 5 & 0.25 & 0.43\\\\\n",
       "\t 6 & 0.35 & 0.54\\\\\n",
       "\\end{tabular}\n"
      ],
      "text/markdown": [
       "\n",
       "A tibble: 6 × 3\n",
       "\n",
       "| original_sample &lt;int&gt; | lower_ci &lt;dbl&gt; | upper_ci &lt;dbl&gt; |\n",
       "|---|---|---|\n",
       "| 1 | 0.27 | 0.46 |\n",
       "| 2 | 0.31 | 0.50 |\n",
       "| 3 | 0.31 | 0.50 |\n",
       "| 4 | 0.35 | 0.54 |\n",
       "| 5 | 0.25 | 0.43 |\n",
       "| 6 | 0.35 | 0.54 |\n",
       "\n"
      ],
      "text/plain": [
       "  original_sample lower_ci upper_ci\n",
       "1 1               0.27     0.46    \n",
       "2 2               0.31     0.50    \n",
       "3 3               0.31     0.50    \n",
       "4 4               0.35     0.54    \n",
       "5 5               0.25     0.43    \n",
       "6 6               0.35     0.54    "
      ]
     },
     "metadata": {},
     "output_type": "display_data"
    },
    {
     "data": {
      "text/html": [
       "<table class=\"dataframe\">\n",
       "<caption>A tibble: 6 × 3</caption>\n",
       "<thead>\n",
       "\t<tr><th scope=col>original_sample</th><th scope=col>lower_ci</th><th scope=col>upper_ci</th></tr>\n",
       "\t<tr><th scope=col>&lt;int&gt;</th><th scope=col>&lt;dbl&gt;</th><th scope=col>&lt;dbl&gt;</th></tr>\n",
       "</thead>\n",
       "<tbody>\n",
       "\t<tr><td> 995</td><td>0.25</td><td>0.43000</td></tr>\n",
       "\t<tr><td> 996</td><td>0.31</td><td>0.50025</td></tr>\n",
       "\t<tr><td> 997</td><td>0.27</td><td>0.45000</td></tr>\n",
       "\t<tr><td> 998</td><td>0.23</td><td>0.41000</td></tr>\n",
       "\t<tr><td> 999</td><td>0.19</td><td>0.38000</td></tr>\n",
       "\t<tr><td>1000</td><td>0.26</td><td>0.46000</td></tr>\n",
       "</tbody>\n",
       "</table>\n"
      ],
      "text/latex": [
       "A tibble: 6 × 3\n",
       "\\begin{tabular}{lll}\n",
       " original\\_sample & lower\\_ci & upper\\_ci\\\\\n",
       " <int> & <dbl> & <dbl>\\\\\n",
       "\\hline\n",
       "\t  995 & 0.25 & 0.43000\\\\\n",
       "\t  996 & 0.31 & 0.50025\\\\\n",
       "\t  997 & 0.27 & 0.45000\\\\\n",
       "\t  998 & 0.23 & 0.41000\\\\\n",
       "\t  999 & 0.19 & 0.38000\\\\\n",
       "\t 1000 & 0.26 & 0.46000\\\\\n",
       "\\end{tabular}\n"
      ],
      "text/markdown": [
       "\n",
       "A tibble: 6 × 3\n",
       "\n",
       "| original_sample &lt;int&gt; | lower_ci &lt;dbl&gt; | upper_ci &lt;dbl&gt; |\n",
       "|---|---|---|\n",
       "|  995 | 0.25 | 0.43000 |\n",
       "|  996 | 0.31 | 0.50025 |\n",
       "|  997 | 0.27 | 0.45000 |\n",
       "|  998 | 0.23 | 0.41000 |\n",
       "|  999 | 0.19 | 0.38000 |\n",
       "| 1000 | 0.26 | 0.46000 |\n",
       "\n"
      ],
      "text/plain": [
       "  original_sample lower_ci upper_ci\n",
       "1  995            0.25     0.43000 \n",
       "2  996            0.31     0.50025 \n",
       "3  997            0.27     0.45000 \n",
       "4  998            0.23     0.41000 \n",
       "5  999            0.19     0.38000 \n",
       "6 1000            0.26     0.46000 "
      ]
     },
     "metadata": {},
     "output_type": "display_data"
    },
    {
     "data": {
      "text/html": [
       "<table class=\"dataframe\">\n",
       "<caption>A tibble: 1 × 2</caption>\n",
       "<thead>\n",
       "\t<tr><th scope=col>n_true_value</th><th scope=col>frac_contain_true</th></tr>\n",
       "\t<tr><th scope=col>&lt;int&gt;</th><th scope=col>&lt;dbl&gt;</th></tr>\n",
       "</thead>\n",
       "<tbody>\n",
       "\t<tr><td>968</td><td>0.968</td></tr>\n",
       "</tbody>\n",
       "</table>\n"
      ],
      "text/latex": [
       "A tibble: 1 × 2\n",
       "\\begin{tabular}{ll}\n",
       " n\\_true\\_value & frac\\_contain\\_true\\\\\n",
       " <int> & <dbl>\\\\\n",
       "\\hline\n",
       "\t 968 & 0.968\\\\\n",
       "\\end{tabular}\n"
      ],
      "text/markdown": [
       "\n",
       "A tibble: 1 × 2\n",
       "\n",
       "| n_true_value &lt;int&gt; | frac_contain_true &lt;dbl&gt; |\n",
       "|---|---|\n",
       "| 968 | 0.968 |\n",
       "\n"
      ],
      "text/plain": [
       "  n_true_value frac_contain_true\n",
       "1 968          0.968            "
      ]
     },
     "metadata": {},
     "output_type": "display_data"
    }
   ],
   "source": [
    "bowl_ci_data |> head()\n",
    "bowl_ci_data |> tail()\n",
    "\n",
    "bowl_ci_data |> mutate(inside_ci = lower_ci <= 0.375 & upper_ci >= 0.375) |>\n",
    "  summarize(\n",
    "    n_true_value = sum(inside_ci),\n",
    "    frac_contain_true = n_true_value / n()\n",
    "  )"
   ]
  },
  {
   "cell_type": "markdown",
   "id": "c19429bc-7b94-4630-aa57-4203388f6be3",
   "metadata": {},
   "source": [
    "Does this value make sense? Consider that we are calculating 95% confidence intervals in this exercise..."
   ]
  },
  {
   "cell_type": "code",
   "execution_count": null,
   "id": "0a5676b9-a46d-40e3-ab59-d8c72d1e5a04",
   "metadata": {
    "vscode": {
     "languageId": "r"
    }
   },
   "outputs": [],
   "source": [
    "\n",
    "\n"
   ]
  }
 ],
 "metadata": {
  "kernelspec": {
   "display_name": "R",
   "language": "R",
   "name": "ir"
  },
  "language_info": {
   "codemirror_mode": "r",
   "file_extension": ".r",
   "mimetype": "text/x-r-source",
   "name": "R",
   "pygments_lexer": "r",
   "version": "4.4.1"
  }
 },
 "nbformat": 4,
 "nbformat_minor": 5
}
