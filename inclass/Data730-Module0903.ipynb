{
 "cells": [
  {
   "cell_type": "code",
   "execution_count": 1,
   "metadata": {
    "vscode": {
     "languageId": "r"
    }
   },
   "outputs": [
    {
     "name": "stderr",
     "output_type": "stream",
     "text": [
      "── \u001b[1mAttaching core tidyverse packages\u001b[22m ──────────────────────── tidyverse 2.0.0 ──\n",
      "\u001b[32m✔\u001b[39m \u001b[34mdplyr    \u001b[39m 1.1.4     \u001b[32m✔\u001b[39m \u001b[34mreadr    \u001b[39m 2.1.5\n",
      "\u001b[32m✔\u001b[39m \u001b[34mforcats  \u001b[39m 1.0.0     \u001b[32m✔\u001b[39m \u001b[34mstringr  \u001b[39m 1.5.1\n",
      "\u001b[32m✔\u001b[39m \u001b[34mggplot2  \u001b[39m 3.5.1     \u001b[32m✔\u001b[39m \u001b[34mtibble   \u001b[39m 3.2.1\n",
      "\u001b[32m✔\u001b[39m \u001b[34mlubridate\u001b[39m 1.9.3     \u001b[32m✔\u001b[39m \u001b[34mtidyr    \u001b[39m 1.3.1\n",
      "── \u001b[1mConflicts\u001b[22m ────────────────────────────────────────── tidyverse_conflicts() ──\n",
      "\u001b[31m✖\u001b[39m \u001b[34mdplyr\u001b[39m::\u001b[32mfilter()\u001b[39m masks \u001b[34mstats\u001b[39m::filter()\n",
      "\u001b[31m✖\u001b[39m \u001b[34mdplyr\u001b[39m::\u001b[32mlag()\u001b[39m    masks \u001b[34mstats\u001b[39m::lag()\n",
      "\u001b[36mℹ\u001b[39m Use the conflicted package (\u001b[3m\u001b[34m<http://conflicted.r-lib.org/>\u001b[39m\u001b[23m) to force all conflicts to become errors\n"
     ]
    }
   ],
   "source": [
    "library(\"purrr\")\n",
    "library(\"tidyverse\")"
   ]
  },
  {
   "cell_type": "markdown",
   "metadata": {},
   "source": [
    "Consider this example from Think Stats 2e (https://greenteapress.com/wp/think-stats-2e/):\n",
    "\n",
    "You operate a casino and a player at one of your craps tables is winning. You suspect the player has employed a crooked die. You collect the following data for the players first 60 rolls with the die in question."
   ]
  },
  {
   "cell_type": "code",
   "execution_count": 5,
   "metadata": {
    "vscode": {
     "languageId": "r"
    }
   },
   "outputs": [
    {
     "data": {
      "text/html": [
       "<table class=\"dataframe\">\n",
       "<caption>A tibble: 6 × 2</caption>\n",
       "<thead>\n",
       "\t<tr><th scope=col>die_roll</th><th scope=col>count</th></tr>\n",
       "\t<tr><th scope=col>&lt;dbl&gt;</th><th scope=col>&lt;dbl&gt;</th></tr>\n",
       "</thead>\n",
       "<tbody>\n",
       "\t<tr><td>1</td><td> 8</td></tr>\n",
       "\t<tr><td>2</td><td> 9</td></tr>\n",
       "\t<tr><td>3</td><td>19</td></tr>\n",
       "\t<tr><td>4</td><td> 5</td></tr>\n",
       "\t<tr><td>5</td><td> 8</td></tr>\n",
       "\t<tr><td>6</td><td>11</td></tr>\n",
       "</tbody>\n",
       "</table>\n"
      ],
      "text/latex": [
       "A tibble: 6 × 2\n",
       "\\begin{tabular}{ll}\n",
       " die\\_roll & count\\\\\n",
       " <dbl> & <dbl>\\\\\n",
       "\\hline\n",
       "\t 1 &  8\\\\\n",
       "\t 2 &  9\\\\\n",
       "\t 3 & 19\\\\\n",
       "\t 4 &  5\\\\\n",
       "\t 5 &  8\\\\\n",
       "\t 6 & 11\\\\\n",
       "\\end{tabular}\n"
      ],
      "text/markdown": [
       "\n",
       "A tibble: 6 × 2\n",
       "\n",
       "| die_roll &lt;dbl&gt; | count &lt;dbl&gt; |\n",
       "|---|---|\n",
       "| 1 |  8 |\n",
       "| 2 |  9 |\n",
       "| 3 | 19 |\n",
       "| 4 |  5 |\n",
       "| 5 |  8 |\n",
       "| 6 | 11 |\n",
       "\n"
      ],
      "text/plain": [
       "  die_roll count\n",
       "1 1         8   \n",
       "2 2         9   \n",
       "3 3        19   \n",
       "4 4         5   \n",
       "5 5         8   \n",
       "6 6        11   "
      ]
     },
     "metadata": {},
     "output_type": "display_data"
    }
   ],
   "source": [
    "observed_data <- tribble(\n",
    "  ~die_roll, ~count,\n",
    "  1,          8,\n",
    "  2,          9,\n",
    "  3,         19,\n",
    "  4,          5,\n",
    "  5,          8,\n",
    "  6,          11\n",
    ")\n",
    "\n",
    "observed_data"
   ]
  },
  {
   "cell_type": "markdown",
   "metadata": {},
   "source": [
    "Let's select a \"test statistic\" quantify how the observed data deviates from what we would expect on average from a fair die. Then we can find the null distribution of the test statistic and leverage that distribution to investigate the fairness of the suspicious die.\n",
    "\n",
    "The following is a table that represents a fair die:"
   ]
  },
  {
   "cell_type": "code",
   "execution_count": 7,
   "metadata": {
    "vscode": {
     "languageId": "r"
    }
   },
   "outputs": [
    {
     "data": {
      "text/html": [
       "<table class=\"dataframe\">\n",
       "<caption>A tibble: 6 × 1</caption>\n",
       "<thead>\n",
       "\t<tr><th scope=col>die_roll</th></tr>\n",
       "\t<tr><th scope=col>&lt;dbl&gt;</th></tr>\n",
       "</thead>\n",
       "<tbody>\n",
       "\t<tr><td>1</td></tr>\n",
       "\t<tr><td>2</td></tr>\n",
       "\t<tr><td>3</td></tr>\n",
       "\t<tr><td>4</td></tr>\n",
       "\t<tr><td>5</td></tr>\n",
       "\t<tr><td>6</td></tr>\n",
       "</tbody>\n",
       "</table>\n"
      ],
      "text/latex": [
       "A tibble: 6 × 1\n",
       "\\begin{tabular}{l}\n",
       " die\\_roll\\\\\n",
       " <dbl>\\\\\n",
       "\\hline\n",
       "\t 1\\\\\n",
       "\t 2\\\\\n",
       "\t 3\\\\\n",
       "\t 4\\\\\n",
       "\t 5\\\\\n",
       "\t 6\\\\\n",
       "\\end{tabular}\n"
      ],
      "text/markdown": [
       "\n",
       "A tibble: 6 × 1\n",
       "\n",
       "| die_roll &lt;dbl&gt; |\n",
       "|---|\n",
       "| 1 |\n",
       "| 2 |\n",
       "| 3 |\n",
       "| 4 |\n",
       "| 5 |\n",
       "| 6 |\n",
       "\n"
      ],
      "text/plain": [
       "  die_roll\n",
       "1 1       \n",
       "2 2       \n",
       "3 3       \n",
       "4 4       \n",
       "5 5       \n",
       "6 6       "
      ]
     },
     "metadata": {},
     "output_type": "display_data"
    }
   ],
   "source": [
    "fair_die <- tribble(\n",
    "  ~die_roll,\n",
    "  1,\n",
    "  2,\n",
    "  3,\n",
    "  4,\n",
    "  5,\n",
    "  6\n",
    ")\n",
    "\n",
    "fair_die"
   ]
  },
  {
   "cell_type": "markdown",
   "metadata": {},
   "source": [
    "We can use the slice_sample with replace = TRUE to simulate a \"n\" dice rolls."
   ]
  },
  {
   "cell_type": "code",
   "execution_count": 8,
   "metadata": {
    "vscode": {
     "languageId": "r"
    }
   },
   "outputs": [
    {
     "data": {
      "text/html": [
       "<table class=\"dataframe\">\n",
       "<caption>A tibble: 10 × 1</caption>\n",
       "<thead>\n",
       "\t<tr><th scope=col>die_roll</th></tr>\n",
       "\t<tr><th scope=col>&lt;dbl&gt;</th></tr>\n",
       "</thead>\n",
       "<tbody>\n",
       "\t<tr><td>6</td></tr>\n",
       "\t<tr><td>4</td></tr>\n",
       "\t<tr><td>5</td></tr>\n",
       "\t<tr><td>3</td></tr>\n",
       "\t<tr><td>1</td></tr>\n",
       "\t<tr><td>5</td></tr>\n",
       "\t<tr><td>3</td></tr>\n",
       "\t<tr><td>6</td></tr>\n",
       "\t<tr><td>6</td></tr>\n",
       "\t<tr><td>3</td></tr>\n",
       "</tbody>\n",
       "</table>\n"
      ],
      "text/latex": [
       "A tibble: 10 × 1\n",
       "\\begin{tabular}{l}\n",
       " die\\_roll\\\\\n",
       " <dbl>\\\\\n",
       "\\hline\n",
       "\t 6\\\\\n",
       "\t 4\\\\\n",
       "\t 5\\\\\n",
       "\t 3\\\\\n",
       "\t 1\\\\\n",
       "\t 5\\\\\n",
       "\t 3\\\\\n",
       "\t 6\\\\\n",
       "\t 6\\\\\n",
       "\t 3\\\\\n",
       "\\end{tabular}\n"
      ],
      "text/markdown": [
       "\n",
       "A tibble: 10 × 1\n",
       "\n",
       "| die_roll &lt;dbl&gt; |\n",
       "|---|\n",
       "| 6 |\n",
       "| 4 |\n",
       "| 5 |\n",
       "| 3 |\n",
       "| 1 |\n",
       "| 5 |\n",
       "| 3 |\n",
       "| 6 |\n",
       "| 6 |\n",
       "| 3 |\n",
       "\n"
      ],
      "text/plain": [
       "   die_roll\n",
       "1  6       \n",
       "2  4       \n",
       "3  5       \n",
       "4  3       \n",
       "5  1       \n",
       "6  5       \n",
       "7  3       \n",
       "8  6       \n",
       "9  6       \n",
       "10 3       "
      ]
     },
     "metadata": {},
     "output_type": "display_data"
    }
   ],
   "source": [
    "slice_sample(fair_die, n = 10, replace = TRUE)"
   ]
  },
  {
   "cell_type": "markdown",
   "metadata": {},
   "source": [
    "The following is a function that calcuates the absolute deviance for a set of \"n\" rolls from what we would expect from a fair dice *on average*.\n",
    "\n",
    "```r\n",
    "abs_deviance = function(roll_frequencies) {\n",
    "    n = sum(roll_frequencies)\n",
    "    expected = n / 6\n",
    "    abs(roll_frequencies - expected) |> sum()\n",
    "}\n",
    "\n",
    "```"
   ]
  },
  {
   "cell_type": "code",
   "execution_count": 9,
   "metadata": {
    "vscode": {
     "languageId": "r"
    }
   },
   "outputs": [
    {
     "data": {
      "text/html": [
       "<table class=\"dataframe\">\n",
       "<caption>A tibble: 1 × 1</caption>\n",
       "<thead>\n",
       "\t<tr><th scope=col>abs_dev</th></tr>\n",
       "\t<tr><th scope=col>&lt;dbl&gt;</th></tr>\n",
       "</thead>\n",
       "<tbody>\n",
       "\t<tr><td>20</td></tr>\n",
       "</tbody>\n",
       "</table>\n"
      ],
      "text/latex": [
       "A tibble: 1 × 1\n",
       "\\begin{tabular}{l}\n",
       " abs\\_dev\\\\\n",
       " <dbl>\\\\\n",
       "\\hline\n",
       "\t 20\\\\\n",
       "\\end{tabular}\n"
      ],
      "text/markdown": [
       "\n",
       "A tibble: 1 × 1\n",
       "\n",
       "| abs_dev &lt;dbl&gt; |\n",
       "|---|\n",
       "| 20 |\n",
       "\n"
      ],
      "text/plain": [
       "  abs_dev\n",
       "1 20     "
      ]
     },
     "metadata": {},
     "output_type": "display_data"
    }
   ],
   "source": [
    "abs_deviance = function(roll_frequencies) {\n",
    "    n = sum(roll_frequencies)\n",
    "    expected = n / 6\n",
    "    abs(roll_frequencies - expected) |> sum()\n",
    "}\n",
    "\n",
    "observed_data |> summarize(abs_dev = abs_deviance(count))\n"
   ]
  },
  {
   "cell_type": "markdown",
   "metadata": {},
   "source": [
    "The `purrr` code below generates simulates rolling a fair die 60 times for 1,000 iterations.\n",
    "\n",
    "```r\n",
    "n_iterations = 1000\n",
    "n_rolls = 60\n",
    "\n",
    "1:n_iterations |> map_dfr(~slice_sample(fair_die, n = 60, replace = TRUE), .id = 'replicate')\n",
    "\n",
    "```\n",
    "\n",
    "Run this code and collect the output in a table called `simulated_data`."
   ]
  },
  {
   "cell_type": "code",
   "execution_count": null,
   "metadata": {
    "vscode": {
     "languageId": "r"
    }
   },
   "outputs": [],
   "source": []
  },
  {
   "cell_type": "code",
   "execution_count": 10,
   "metadata": {
    "vscode": {
     "languageId": "r"
    }
   },
   "outputs": [
    {
     "data": {
      "text/html": [
       "60000"
      ],
      "text/latex": [
       "60000"
      ],
      "text/markdown": [
       "60000"
      ],
      "text/plain": [
       "[1] 60000"
      ]
     },
     "metadata": {},
     "output_type": "display_data"
    },
    {
     "data": {
      "text/html": [
       "<table class=\"dataframe\">\n",
       "<caption>A tibble: 6 × 2</caption>\n",
       "<thead>\n",
       "\t<tr><th scope=col>replicate</th><th scope=col>die_roll</th></tr>\n",
       "\t<tr><th scope=col>&lt;chr&gt;</th><th scope=col>&lt;dbl&gt;</th></tr>\n",
       "</thead>\n",
       "<tbody>\n",
       "\t<tr><td>1</td><td>4</td></tr>\n",
       "\t<tr><td>1</td><td>5</td></tr>\n",
       "\t<tr><td>1</td><td>3</td></tr>\n",
       "\t<tr><td>1</td><td>5</td></tr>\n",
       "\t<tr><td>1</td><td>2</td></tr>\n",
       "\t<tr><td>1</td><td>6</td></tr>\n",
       "</tbody>\n",
       "</table>\n"
      ],
      "text/latex": [
       "A tibble: 6 × 2\n",
       "\\begin{tabular}{ll}\n",
       " replicate & die\\_roll\\\\\n",
       " <chr> & <dbl>\\\\\n",
       "\\hline\n",
       "\t 1 & 4\\\\\n",
       "\t 1 & 5\\\\\n",
       "\t 1 & 3\\\\\n",
       "\t 1 & 5\\\\\n",
       "\t 1 & 2\\\\\n",
       "\t 1 & 6\\\\\n",
       "\\end{tabular}\n"
      ],
      "text/markdown": [
       "\n",
       "A tibble: 6 × 2\n",
       "\n",
       "| replicate &lt;chr&gt; | die_roll &lt;dbl&gt; |\n",
       "|---|---|\n",
       "| 1 | 4 |\n",
       "| 1 | 5 |\n",
       "| 1 | 3 |\n",
       "| 1 | 5 |\n",
       "| 1 | 2 |\n",
       "| 1 | 6 |\n",
       "\n"
      ],
      "text/plain": [
       "  replicate die_roll\n",
       "1 1         4       \n",
       "2 1         5       \n",
       "3 1         3       \n",
       "4 1         5       \n",
       "5 1         2       \n",
       "6 1         6       "
      ]
     },
     "metadata": {},
     "output_type": "display_data"
    }
   ],
   "source": [
    "n_iterations = 1000\n",
    "n_rolls = 60\n",
    "\n",
    "simulated_data = 1:n_iterations |> map_dfr(~slice_sample(fair_die, n = 60, replace = TRUE), .id = 'replicate')\n",
    "simulated_data |> nrow()\n",
    "simulated_data |> head()"
   ]
  },
  {
   "cell_type": "markdown",
   "metadata": {},
   "source": [
    "Now we are ready to calculate the null distribution of our test statistic!\n",
    "\n",
    "Using `simulated_data`,\n",
    "1. `group_by` the `replicate` variable (add `.drop = FALSE` to make sure you include zero frequency counts),\n",
    "2. `count` the frequency of `die_roll`. Last, \n",
    "3. `summarize` each group using the `abs_deviance` function from above. Call you new column `abs_dev`.\n",
    "\n",
    "Capture the output into a table called `abs_dev_null_dist`."
   ]
  },
  {
   "cell_type": "code",
   "execution_count": 11,
   "metadata": {
    "vscode": {
     "languageId": "r"
    }
   },
   "outputs": [
    {
     "data": {
      "text/html": [
       "<table class=\"dataframe\">\n",
       "<caption>A tibble: 6 × 2</caption>\n",
       "<thead>\n",
       "\t<tr><th scope=col>replicate</th><th scope=col>abs_dev</th></tr>\n",
       "\t<tr><th scope=col>&lt;chr&gt;</th><th scope=col>&lt;dbl&gt;</th></tr>\n",
       "</thead>\n",
       "<tbody>\n",
       "\t<tr><td>1   </td><td>10</td></tr>\n",
       "\t<tr><td>10  </td><td> 8</td></tr>\n",
       "\t<tr><td>100 </td><td>14</td></tr>\n",
       "\t<tr><td>1000</td><td> 8</td></tr>\n",
       "\t<tr><td>101 </td><td>16</td></tr>\n",
       "\t<tr><td>102 </td><td>10</td></tr>\n",
       "</tbody>\n",
       "</table>\n"
      ],
      "text/latex": [
       "A tibble: 6 × 2\n",
       "\\begin{tabular}{ll}\n",
       " replicate & abs\\_dev\\\\\n",
       " <chr> & <dbl>\\\\\n",
       "\\hline\n",
       "\t 1    & 10\\\\\n",
       "\t 10   &  8\\\\\n",
       "\t 100  & 14\\\\\n",
       "\t 1000 &  8\\\\\n",
       "\t 101  & 16\\\\\n",
       "\t 102  & 10\\\\\n",
       "\\end{tabular}\n"
      ],
      "text/markdown": [
       "\n",
       "A tibble: 6 × 2\n",
       "\n",
       "| replicate &lt;chr&gt; | abs_dev &lt;dbl&gt; |\n",
       "|---|---|\n",
       "| 1    | 10 |\n",
       "| 10   |  8 |\n",
       "| 100  | 14 |\n",
       "| 1000 |  8 |\n",
       "| 101  | 16 |\n",
       "| 102  | 10 |\n",
       "\n"
      ],
      "text/plain": [
       "  replicate abs_dev\n",
       "1 1         10     \n",
       "2 10         8     \n",
       "3 100       14     \n",
       "4 1000       8     \n",
       "5 101       16     \n",
       "6 102       10     "
      ]
     },
     "metadata": {},
     "output_type": "display_data"
    }
   ],
   "source": [
    "abs_devian <- simulated_data |> group_by(replicate, .drop = FALSE) |> \n",
    "    count(die_roll) |> # count frequency\n",
    "    summarize(abs_dev = abs_deviance(n))\n",
    "\n",
    "abs_devian |> head()"
   ]
  },
  {
   "cell_type": "markdown",
   "metadata": {},
   "source": [
    "Plot a histogram of abs_dev. Use geom_vline to show the positon of our the test statistic calculated from the suspicious die."
   ]
  },
  {
   "cell_type": "code",
   "execution_count": null,
   "metadata": {
    "vscode": {
     "languageId": "r"
    }
   },
   "outputs": [],
   "source": []
  },
  {
   "cell_type": "markdown",
   "metadata": {},
   "source": [
    "Can you calculate a \"p-value\" for our suspicous die using the null distribution and the observed test statistic?"
   ]
  },
  {
   "cell_type": "code",
   "execution_count": 12,
   "metadata": {
    "vscode": {
     "languageId": "r"
    }
   },
   "outputs": [
    {
     "ename": "ERROR",
     "evalue": "Error in eval(expr, envir, enclos): object 'abs_dev_null_dist' not found\n",
     "output_type": "error",
     "traceback": [
      "Error in eval(expr, envir, enclos): object 'abs_dev_null_dist' not found\nTraceback:\n",
      "1. summarize(mutate(abs_dev_null_dist, extreme = abs_dev >= 20), \n .     p_value = sum(extreme)/n())",
      "2. mutate(abs_dev_null_dist, extreme = abs_dev >= 20)"
     ]
    }
   ],
   "source": [
    "abs_dev_null_dist |>\n",
    "mutate(extreme = abs_dev >= 20) |>\n",
    "summarize(p_value = sum(extreme) / n())"
   ]
  },
  {
   "cell_type": "markdown",
   "metadata": {},
   "source": [
    "Redo the steps above but this time use the [Chi square](https://en.wikipedia.org/wiki/Chi-squared_test) statistic. The **Chi square** test statistic simply quantifies the sum of squared differences from expected values divided by the expected value.\n",
    "\n",
    "You can re-use `simulated_data`.\n",
    "\n",
    "Here is a function in `R`:\n",
    "\n",
    "```r\n",
    "chi_square = function(roll_frequencies) {\n",
    "    n = sum(roll_frequencies)\n",
    "    expected = n / 6\n",
    "    sum((roll_frequencies - expected)**2 / expected)\n",
    "}\n",
    "\n",
    "```"
   ]
  },
  {
   "cell_type": "markdown",
   "metadata": {},
   "source": [
    "specify() allows you to specify the variable, or relationship between variables, that you’re interested in.<br />\n",
    "hypothesize() allows you to declare the null hypothesis.<br />\n",
    "generate() allows you to generate data reflecting the null hypothesis.<br />\n",
    "calculate() allows you to calculate a distribution of statistics from the generated data to form the null distribution."
   ]
  },
  {
   "cell_type": "code",
   "execution_count": 15,
   "metadata": {
    "vscode": {
     "languageId": "r"
    }
   },
   "outputs": [
    {
     "data": {
      "image/png": "[encoded data removed]",
      "text/plain": [
       "plot without title"
      ]
     },
     "metadata": {
      "image/png": {
       "height": 420,
       "width": 420
      }
     },
     "output_type": "display_data"
    }
   ],
   "source": [
    "chi_square = function(roll_frequencies) {\n",
    "n = sum(roll_frequencies)\n",
    "expected = n / 6\n",
    "sum((roll_frequencies - expected) ** 2 / expected)\n",
    "\n",
    "}\n",
    "\n",
    "chi_square_null_dist = simulated_data |>\n",
    "group_by(replicate, .drop = FALSE) |>\n",
    "count(die_roll) |>\n",
    "summarize(chi_square = chi_square(n))\n",
    "\n",
    "ggplot(chi_square_null_dist, aes(x = chi_square)) +\n",
    "geom_histogram(binwidth = 1) +\n",
    "geom_vline(xintercept = 20)"
   ]
  },
  {
   "cell_type": "markdown",
   "metadata": {},
   "source": [
    "Is the \"p-value\" using the Chi square test statistic lower or higher than that calcuated using \"absolute deviance\" as the test statistic?"
   ]
  },
  {
   "cell_type": "code",
   "execution_count": 14,
   "metadata": {
    "vscode": {
     "languageId": "r"
    }
   },
   "outputs": [
    {
     "data": {
      "text/html": [
       "<table class=\"dataframe\">\n",
       "<caption>A tibble: 1 × 1</caption>\n",
       "<thead>\n",
       "\t<tr><th scope=col>p_value</th></tr>\n",
       "\t<tr><th scope=col>&lt;dbl&gt;</th></tr>\n",
       "</thead>\n",
       "<tbody>\n",
       "\t<tr><td>0.001</td></tr>\n",
       "</tbody>\n",
       "</table>\n"
      ],
      "text/latex": [
       "A tibble: 1 × 1\n",
       "\\begin{tabular}{l}\n",
       " p\\_value\\\\\n",
       " <dbl>\\\\\n",
       "\\hline\n",
       "\t 0.001\\\\\n",
       "\\end{tabular}\n"
      ],
      "text/markdown": [
       "\n",
       "A tibble: 1 × 1\n",
       "\n",
       "| p_value &lt;dbl&gt; |\n",
       "|---|\n",
       "| 0.001 |\n",
       "\n"
      ],
      "text/plain": [
       "  p_value\n",
       "1 0.001  "
      ]
     },
     "metadata": {},
     "output_type": "display_data"
    }
   ],
   "source": [
    "chi_square_null_dist |>\n",
    "mutate(extreme = chi_square >= 20) |>\n",
    "summarize(p_value = sum(extreme) / n())"
   ]
  },
  {
   "cell_type": "code",
   "execution_count": null,
   "metadata": {
    "vscode": {
     "languageId": "r"
    }
   },
   "outputs": [],
   "source": []
  }
 ],
 "metadata": {
  "kernelspec": {
   "display_name": "R",
   "language": "R",
   "name": "ir"
  },
  "language_info": {
   "codemirror_mode": "r",
   "file_extension": ".r",
   "mimetype": "text/x-r-source",
   "name": "R",
   "pygments_lexer": "r",
   "version": "4.4.1"
  }
 },
 "nbformat": 4,
 "nbformat_minor": 2
}
