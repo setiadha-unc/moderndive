{
 "cells": [
  {
   "cell_type": "code",
   "execution_count": 4,
   "id": "2e295ffb-f46d-4541-bfa3-0c8592d10cec",
   "metadata": {
    "tags": [],
    "vscode": {
     "languageId": "r"
    }
   },
   "outputs": [
    {
     "name": "stderr",
     "output_type": "stream",
     "text": [
      "Warning message:\n",
      "\"package 'vip' was built under R version 4.4.2\"\n",
      "\n",
      "Attaching package: 'vip'\n",
      "\n",
      "\n",
      "The following object is masked from 'package:utils':\n",
      "\n",
      "    vi\n",
      "\n",
      "\n"
     ]
    }
   ],
   "source": [
    "library(\"tidymodels\")\n",
    "library(\"palmerpenguins\")\n",
    "library(\"vip\")\n",
    "\n",
    "theme_set(theme_gray(base_size = 16))"
   ]
  },
  {
   "cell_type": "code",
   "execution_count": 5,
   "id": "580b458d-3ab3-4c6c-b434-697e8da959ff",
   "metadata": {
    "tags": [],
    "vscode": {
     "languageId": "r"
    }
   },
   "outputs": [
    {
     "data": {
      "text/html": [
       "<table class=\"dataframe\">\n",
       "<caption>A tibble: 6 × 8</caption>\n",
       "<thead>\n",
       "\t<tr><th scope=col>species</th><th scope=col>island</th><th scope=col>bill_length_mm</th><th scope=col>bill_depth_mm</th><th scope=col>flipper_length_mm</th><th scope=col>body_mass_g</th><th scope=col>sex</th><th scope=col>year</th></tr>\n",
       "\t<tr><th scope=col>&lt;fct&gt;</th><th scope=col>&lt;fct&gt;</th><th scope=col>&lt;dbl&gt;</th><th scope=col>&lt;dbl&gt;</th><th scope=col>&lt;int&gt;</th><th scope=col>&lt;int&gt;</th><th scope=col>&lt;fct&gt;</th><th scope=col>&lt;int&gt;</th></tr>\n",
       "</thead>\n",
       "<tbody>\n",
       "\t<tr><td>Adelie</td><td>Torgersen</td><td>39.1</td><td>18.7</td><td>181</td><td>3750</td><td>male  </td><td>2007</td></tr>\n",
       "\t<tr><td>Adelie</td><td>Torgersen</td><td>39.5</td><td>17.4</td><td>186</td><td>3800</td><td>female</td><td>2007</td></tr>\n",
       "\t<tr><td>Adelie</td><td>Torgersen</td><td>40.3</td><td>18.0</td><td>195</td><td>3250</td><td>female</td><td>2007</td></tr>\n",
       "\t<tr><td>Adelie</td><td>Torgersen</td><td>36.7</td><td>19.3</td><td>193</td><td>3450</td><td>female</td><td>2007</td></tr>\n",
       "\t<tr><td>Adelie</td><td>Torgersen</td><td>39.3</td><td>20.6</td><td>190</td><td>3650</td><td>male  </td><td>2007</td></tr>\n",
       "\t<tr><td>Adelie</td><td>Torgersen</td><td>38.9</td><td>17.8</td><td>181</td><td>3625</td><td>female</td><td>2007</td></tr>\n",
       "</tbody>\n",
       "</table>\n"
      ],
      "text/latex": [
       "A tibble: 6 × 8\n",
       "\\begin{tabular}{llllllll}\n",
       " species & island & bill\\_length\\_mm & bill\\_depth\\_mm & flipper\\_length\\_mm & body\\_mass\\_g & sex & year\\\\\n",
       " <fct> & <fct> & <dbl> & <dbl> & <int> & <int> & <fct> & <int>\\\\\n",
       "\\hline\n",
       "\t Adelie & Torgersen & 39.1 & 18.7 & 181 & 3750 & male   & 2007\\\\\n",
       "\t Adelie & Torgersen & 39.5 & 17.4 & 186 & 3800 & female & 2007\\\\\n",
       "\t Adelie & Torgersen & 40.3 & 18.0 & 195 & 3250 & female & 2007\\\\\n",
       "\t Adelie & Torgersen & 36.7 & 19.3 & 193 & 3450 & female & 2007\\\\\n",
       "\t Adelie & Torgersen & 39.3 & 20.6 & 190 & 3650 & male   & 2007\\\\\n",
       "\t Adelie & Torgersen & 38.9 & 17.8 & 181 & 3625 & female & 2007\\\\\n",
       "\\end{tabular}\n"
      ],
      "text/markdown": [
       "\n",
       "A tibble: 6 × 8\n",
       "\n",
       "| species &lt;fct&gt; | island &lt;fct&gt; | bill_length_mm &lt;dbl&gt; | bill_depth_mm &lt;dbl&gt; | flipper_length_mm &lt;int&gt; | body_mass_g &lt;int&gt; | sex &lt;fct&gt; | year &lt;int&gt; |\n",
       "|---|---|---|---|---|---|---|---|\n",
       "| Adelie | Torgersen | 39.1 | 18.7 | 181 | 3750 | male   | 2007 |\n",
       "| Adelie | Torgersen | 39.5 | 17.4 | 186 | 3800 | female | 2007 |\n",
       "| Adelie | Torgersen | 40.3 | 18.0 | 195 | 3250 | female | 2007 |\n",
       "| Adelie | Torgersen | 36.7 | 19.3 | 193 | 3450 | female | 2007 |\n",
       "| Adelie | Torgersen | 39.3 | 20.6 | 190 | 3650 | male   | 2007 |\n",
       "| Adelie | Torgersen | 38.9 | 17.8 | 181 | 3625 | female | 2007 |\n",
       "\n"
      ],
      "text/plain": [
       "  species island    bill_length_mm bill_depth_mm flipper_length_mm body_mass_g\n",
       "1 Adelie  Torgersen 39.1           18.7          181               3750       \n",
       "2 Adelie  Torgersen 39.5           17.4          186               3800       \n",
       "3 Adelie  Torgersen 40.3           18.0          195               3250       \n",
       "4 Adelie  Torgersen 36.7           19.3          193               3450       \n",
       "5 Adelie  Torgersen 39.3           20.6          190               3650       \n",
       "6 Adelie  Torgersen 38.9           17.8          181               3625       \n",
       "  sex    year\n",
       "1 male   2007\n",
       "2 female 2007\n",
       "3 female 2007\n",
       "4 female 2007\n",
       "5 male   2007\n",
       "6 female 2007"
      ]
     },
     "metadata": {},
     "output_type": "display_data"
    }
   ],
   "source": [
    "penguins2 = penguins |>\n",
    "    drop_na()\n",
    "\n",
    "penguins2 |> head()"
   ]
  },
  {
   "cell_type": "markdown",
   "id": "48287b29-a145-491f-9985-784a4146d8d3",
   "metadata": {
    "tags": []
   },
   "source": [
    "## Use random forests to model `bill_length_mm`"
   ]
  },
  {
   "cell_type": "code",
   "execution_count": 6,
   "id": "19936f5e-908e-4670-987f-9200be24eaca",
   "metadata": {
    "tags": [],
    "vscode": {
     "languageId": "r"
    }
   },
   "outputs": [],
   "source": [
    "mod = rand_forest() |> \n",
    "    set_engine('ranger', importance = 'impurity') |>\n",
    "    set_mode('regression')"
   ]
  },
  {
   "cell_type": "code",
   "execution_count": 7,
   "id": "955f855b-9811-4e05-8fb9-5ee8e78035a5",
   "metadata": {
    "tags": [],
    "vscode": {
     "languageId": "r"
    }
   },
   "outputs": [
    {
     "data": {
      "text/html": [
       "<table class=\"dataframe\">\n",
       "<caption>A tibble: 6 × 9</caption>\n",
       "<thead>\n",
       "\t<tr><th scope=col>bill_depth_mm</th><th scope=col>flipper_length_mm</th><th scope=col>body_mass_g</th><th scope=col>bill_length_mm</th><th scope=col>sex_male</th><th scope=col>island_Dream</th><th scope=col>island_Torgersen</th><th scope=col>species_Chinstrap</th><th scope=col>species_Gentoo</th></tr>\n",
       "\t<tr><th scope=col>&lt;dbl&gt;</th><th scope=col>&lt;int&gt;</th><th scope=col>&lt;int&gt;</th><th scope=col>&lt;dbl&gt;</th><th scope=col>&lt;dbl&gt;</th><th scope=col>&lt;dbl&gt;</th><th scope=col>&lt;dbl&gt;</th><th scope=col>&lt;dbl&gt;</th><th scope=col>&lt;dbl&gt;</th></tr>\n",
       "</thead>\n",
       "<tbody>\n",
       "\t<tr><td>18.7</td><td>181</td><td>3750</td><td>39.1</td><td>1</td><td>0</td><td>1</td><td>0</td><td>0</td></tr>\n",
       "\t<tr><td>17.4</td><td>186</td><td>3800</td><td>39.5</td><td>0</td><td>0</td><td>1</td><td>0</td><td>0</td></tr>\n",
       "\t<tr><td>18.0</td><td>195</td><td>3250</td><td>40.3</td><td>0</td><td>0</td><td>1</td><td>0</td><td>0</td></tr>\n",
       "\t<tr><td>19.3</td><td>193</td><td>3450</td><td>36.7</td><td>0</td><td>0</td><td>1</td><td>0</td><td>0</td></tr>\n",
       "\t<tr><td>20.6</td><td>190</td><td>3650</td><td>39.3</td><td>1</td><td>0</td><td>1</td><td>0</td><td>0</td></tr>\n",
       "\t<tr><td>17.8</td><td>181</td><td>3625</td><td>38.9</td><td>0</td><td>0</td><td>1</td><td>0</td><td>0</td></tr>\n",
       "</tbody>\n",
       "</table>\n"
      ],
      "text/latex": [
       "A tibble: 6 × 9\n",
       "\\begin{tabular}{lllllllll}\n",
       " bill\\_depth\\_mm & flipper\\_length\\_mm & body\\_mass\\_g & bill\\_length\\_mm & sex\\_male & island\\_Dream & island\\_Torgersen & species\\_Chinstrap & species\\_Gentoo\\\\\n",
       " <dbl> & <int> & <int> & <dbl> & <dbl> & <dbl> & <dbl> & <dbl> & <dbl>\\\\\n",
       "\\hline\n",
       "\t 18.7 & 181 & 3750 & 39.1 & 1 & 0 & 1 & 0 & 0\\\\\n",
       "\t 17.4 & 186 & 3800 & 39.5 & 0 & 0 & 1 & 0 & 0\\\\\n",
       "\t 18.0 & 195 & 3250 & 40.3 & 0 & 0 & 1 & 0 & 0\\\\\n",
       "\t 19.3 & 193 & 3450 & 36.7 & 0 & 0 & 1 & 0 & 0\\\\\n",
       "\t 20.6 & 190 & 3650 & 39.3 & 1 & 0 & 1 & 0 & 0\\\\\n",
       "\t 17.8 & 181 & 3625 & 38.9 & 0 & 0 & 1 & 0 & 0\\\\\n",
       "\\end{tabular}\n"
      ],
      "text/markdown": [
       "\n",
       "A tibble: 6 × 9\n",
       "\n",
       "| bill_depth_mm &lt;dbl&gt; | flipper_length_mm &lt;int&gt; | body_mass_g &lt;int&gt; | bill_length_mm &lt;dbl&gt; | sex_male &lt;dbl&gt; | island_Dream &lt;dbl&gt; | island_Torgersen &lt;dbl&gt; | species_Chinstrap &lt;dbl&gt; | species_Gentoo &lt;dbl&gt; |\n",
       "|---|---|---|---|---|---|---|---|---|\n",
       "| 18.7 | 181 | 3750 | 39.1 | 1 | 0 | 1 | 0 | 0 |\n",
       "| 17.4 | 186 | 3800 | 39.5 | 0 | 0 | 1 | 0 | 0 |\n",
       "| 18.0 | 195 | 3250 | 40.3 | 0 | 0 | 1 | 0 | 0 |\n",
       "| 19.3 | 193 | 3450 | 36.7 | 0 | 0 | 1 | 0 | 0 |\n",
       "| 20.6 | 190 | 3650 | 39.3 | 1 | 0 | 1 | 0 | 0 |\n",
       "| 17.8 | 181 | 3625 | 38.9 | 0 | 0 | 1 | 0 | 0 |\n",
       "\n"
      ],
      "text/plain": [
       "  bill_depth_mm flipper_length_mm body_mass_g bill_length_mm sex_male\n",
       "1 18.7          181               3750        39.1           1       \n",
       "2 17.4          186               3800        39.5           0       \n",
       "3 18.0          195               3250        40.3           0       \n",
       "4 19.3          193               3450        36.7           0       \n",
       "5 20.6          190               3650        39.3           1       \n",
       "6 17.8          181               3625        38.9           0       \n",
       "  island_Dream island_Torgersen species_Chinstrap species_Gentoo\n",
       "1 0            1                0                 0             \n",
       "2 0            1                0                 0             \n",
       "3 0            1                0                 0             \n",
       "4 0            1                0                 0             \n",
       "5 0            1                0                 0             \n",
       "6 0            1                0                 0             "
      ]
     },
     "metadata": {},
     "output_type": "display_data"
    }
   ],
   "source": [
    "rec = recipe(bill_length_mm ~ ., data = penguins2) |>\n",
    "    step_rm(year) |>\n",
    "    step_dummy(sex, island, species) |>\n",
    "    prep(retain = TRUE)\n",
    "\n",
    "rec |> juice() |> head()"
   ]
  },
  {
   "cell_type": "code",
   "execution_count": null,
   "id": "ebda8a9a-08f7-4278-90c0-470c13ed6759",
   "metadata": {
    "tags": [],
    "vscode": {
     "languageId": "r"
    }
   },
   "outputs": [],
   "source": [
    "wf = workflow() |>\n",
    "  add_recipe(rec) |>\n",
    "  add_model(mod)\n",
    "\n",
    "wf_fit = wf |> fit(data = penguins2)\n",
    "\n",
    "wf_fit"
   ]
  },
  {
   "cell_type": "code",
   "execution_count": null,
   "id": "7afebedb-cbd3-432f-a644-c2f2dfe2e861",
   "metadata": {
    "tags": [],
    "vscode": {
     "languageId": "r"
    }
   },
   "outputs": [],
   "source": [
    "outcomes = augment(wf_fit |> extract_fit_parsnip(), \n",
    "                   new_data = rec |> juice())\n",
    "\n",
    "outcomes |> head()"
   ]
  },
  {
   "cell_type": "code",
   "execution_count": null,
   "id": "296af724-1ac5-4fed-8182-c72818d80e04",
   "metadata": {
    "tags": [],
    "vscode": {
     "languageId": "r"
    }
   },
   "outputs": [],
   "source": [
    "options(repr.plot.width = 6, repr.plot.height = 5)\n",
    "\n",
    "ggplot(outcomes) +\n",
    "    geom_point(aes(x = bill_depth_mm, y = bill_length_mm)) + \n",
    "    geom_point(aes(x = bill_depth_mm, y = .pred), color = 'steelblue', size = 3,\n",
    "               alpha = 0.5) +\n",
    "    geom_segment(aes(x = bill_depth_mm, xend = bill_depth_mm, y = .pred, yend = bill_length_mm), \n",
    "                 color = 'firebrick',\n",
    "                 alpha = 0.25)"
   ]
  },
  {
   "cell_type": "markdown",
   "id": "fb160ad1-7ca3-4cb1-84ed-ffbaa7f2acee",
   "metadata": {},
   "source": [
    "## Visualize feature importance"
   ]
  },
  {
   "cell_type": "code",
   "execution_count": null,
   "id": "775b0c9a-ba8f-41c8-bcd0-fce4fadc4dec",
   "metadata": {
    "tags": [],
    "vscode": {
     "languageId": "r"
    }
   },
   "outputs": [],
   "source": [
    "options(repr.plot.width = 6, repr.plot.height = 4)\n",
    "\n",
    "wf_fit |> \n",
    "  extract_fit_parsnip() |> \n",
    "  vip()"
   ]
  }
 ],
 "metadata": {
  "kernelspec": {
   "display_name": "R",
   "language": "R",
   "name": "ir"
  },
  "language_info": {
   "codemirror_mode": "r",
   "file_extension": ".r",
   "mimetype": "text/x-r-source",
   "name": "R",
   "pygments_lexer": "r",
   "version": "4.4.1"
  }
 },
 "nbformat": 4,
 "nbformat_minor": 5
}
