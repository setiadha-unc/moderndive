{
 "cells": [
  {
   "cell_type": "markdown",
   "id": "32cd5e27-fd1b-4952-9437-94a31fb1f6f2",
   "metadata": {},
   "source": [
    "In this exercise we will revisit the [Voles datasest](http://bit.ly/2IgDF0E) from the [Unit 6 assignment](https://github.com/UNC-DATA-730/a05/blob/main/assignment6.ipynb)."
   ]
  },
  {
   "cell_type": "code",
   "execution_count": 1,
   "id": "77a153eb-22a9-473d-b519-499434eb133a",
   "metadata": {
    "vscode": {
     "languageId": "r"
    }
   },
   "outputs": [
    {
     "name": "stderr",
     "output_type": "stream",
     "text": [
      "── \u001b[1mAttaching packages\u001b[22m ────────────────────────────────────── tidymodels 1.2.0 ──\n",
      "\n",
      "\u001b[32m✔\u001b[39m \u001b[34mbroom       \u001b[39m 1.0.6     \u001b[32m✔\u001b[39m \u001b[34mrecipes     \u001b[39m 1.1.0\n",
      "\u001b[32m✔\u001b[39m \u001b[34mdials       \u001b[39m 1.3.0     \u001b[32m✔\u001b[39m \u001b[34mrsample     \u001b[39m 1.2.1\n",
      "\u001b[32m✔\u001b[39m \u001b[34mdplyr       \u001b[39m 1.1.4     \u001b[32m✔\u001b[39m \u001b[34mtibble      \u001b[39m 3.2.1\n",
      "\u001b[32m✔\u001b[39m \u001b[34mggplot2     \u001b[39m 3.5.1     \u001b[32m✔\u001b[39m \u001b[34mtidyr       \u001b[39m 1.3.1\n",
      "\u001b[32m✔\u001b[39m \u001b[34minfer       \u001b[39m 1.0.7     \u001b[32m✔\u001b[39m \u001b[34mtune        \u001b[39m 1.2.1\n",
      "\u001b[32m✔\u001b[39m \u001b[34mmodeldata   \u001b[39m 1.4.0     \u001b[32m✔\u001b[39m \u001b[34mworkflows   \u001b[39m 1.1.4\n",
      "\u001b[32m✔\u001b[39m \u001b[34mparsnip     \u001b[39m 1.2.1     \u001b[32m✔\u001b[39m \u001b[34mworkflowsets\u001b[39m 1.1.0\n",
      "\u001b[32m✔\u001b[39m \u001b[34mpurrr       \u001b[39m 1.0.2     \u001b[32m✔\u001b[39m \u001b[34myardstick   \u001b[39m 1.3.1\n",
      "\n",
      "── \u001b[1mConflicts\u001b[22m ───────────────────────────────────────── tidymodels_conflicts() ──\n",
      "\u001b[31m✖\u001b[39m \u001b[34mpurrr\u001b[39m::\u001b[32mdiscard()\u001b[39m masks \u001b[34mscales\u001b[39m::discard()\n",
      "\u001b[31m✖\u001b[39m \u001b[34mdplyr\u001b[39m::\u001b[32mfilter()\u001b[39m  masks \u001b[34mstats\u001b[39m::filter()\n",
      "\u001b[31m✖\u001b[39m \u001b[34mdplyr\u001b[39m::\u001b[32mlag()\u001b[39m     masks \u001b[34mstats\u001b[39m::lag()\n",
      "\u001b[31m✖\u001b[39m \u001b[34mrecipes\u001b[39m::\u001b[32mstep()\u001b[39m  masks \u001b[34mstats\u001b[39m::step()\n",
      "\u001b[34m•\u001b[39m Use suppressPackageStartupMessages() to eliminate package startup messages\n",
      "\n"
     ]
    }
   ],
   "source": [
    "library('tidymodels')"
   ]
  },
  {
   "cell_type": "code",
   "execution_count": 2,
   "id": "0fb3648b-a6b0-4a76-ad62-13b881eb9eb4",
   "metadata": {
    "vscode": {
     "languageId": "r"
    }
   },
   "outputs": [
    {
     "data": {
      "text/html": [
       "<table class=\"dataframe\">\n",
       "<caption>A tibble: 6 × 4</caption>\n",
       "<thead>\n",
       "\t<tr><th scope=col>site</th><th scope=col>voles</th><th scope=col>veg</th><th scope=col>soil</th></tr>\n",
       "\t<tr><th scope=col>&lt;dbl&gt;</th><th scope=col>&lt;dbl&gt;</th><th scope=col>&lt;dbl&gt;</th><th scope=col>&lt;chr&gt;</th></tr>\n",
       "</thead>\n",
       "<tbody>\n",
       "\t<tr><td>1</td><td>17</td><td> 4</td><td>moist</td></tr>\n",
       "\t<tr><td>2</td><td>30</td><td>33</td><td>moist</td></tr>\n",
       "\t<tr><td>3</td><td>54</td><td>94</td><td>moist</td></tr>\n",
       "\t<tr><td>4</td><td>49</td><td>64</td><td>moist</td></tr>\n",
       "\t<tr><td>5</td><td>34</td><td>32</td><td>moist</td></tr>\n",
       "\t<tr><td>6</td><td>48</td><td>76</td><td>moist</td></tr>\n",
       "</tbody>\n",
       "</table>\n"
      ],
      "text/latex": [
       "A tibble: 6 × 4\n",
       "\\begin{tabular}{llll}\n",
       " site & voles & veg & soil\\\\\n",
       " <dbl> & <dbl> & <dbl> & <chr>\\\\\n",
       "\\hline\n",
       "\t 1 & 17 &  4 & moist\\\\\n",
       "\t 2 & 30 & 33 & moist\\\\\n",
       "\t 3 & 54 & 94 & moist\\\\\n",
       "\t 4 & 49 & 64 & moist\\\\\n",
       "\t 5 & 34 & 32 & moist\\\\\n",
       "\t 6 & 48 & 76 & moist\\\\\n",
       "\\end{tabular}\n"
      ],
      "text/markdown": [
       "\n",
       "A tibble: 6 × 4\n",
       "\n",
       "| site &lt;dbl&gt; | voles &lt;dbl&gt; | veg &lt;dbl&gt; | soil &lt;chr&gt; |\n",
       "|---|---|---|---|\n",
       "| 1 | 17 |  4 | moist |\n",
       "| 2 | 30 | 33 | moist |\n",
       "| 3 | 54 | 94 | moist |\n",
       "| 4 | 49 | 64 | moist |\n",
       "| 5 | 34 | 32 | moist |\n",
       "| 6 | 48 | 76 | moist |\n",
       "\n"
      ],
      "text/plain": [
       "  site voles veg soil \n",
       "1 1    17     4  moist\n",
       "2 2    30    33  moist\n",
       "3 3    54    94  moist\n",
       "4 4    49    64  moist\n",
       "5 5    34    32  moist\n",
       "6 6    48    76  moist"
      ]
     },
     "metadata": {},
     "output_type": "display_data"
    }
   ],
   "source": [
    "df_voles = readr::read_csv('http://bit.ly/2IgDF0E', col_types = readr::cols())\n",
    "\n",
    "df_voles |> head()"
   ]
  },
  {
   "cell_type": "markdown",
   "id": "d2c30a08-4195-4821-82ef-2c43391acce5",
   "metadata": {},
   "source": [
    "Plot the `voles` variable (outcome) versus `veg` variable (explanatory)."
   ]
  },
  {
   "cell_type": "code",
   "execution_count": null,
   "id": "9eac304c-5d0b-4026-a01a-d719383fdf95",
   "metadata": {
    "vscode": {
     "languageId": "r"
    }
   },
   "outputs": [],
   "source": []
  },
  {
   "cell_type": "markdown",
   "id": "bed3204a-e05a-4151-9f1a-bf96f3d86778",
   "metadata": {},
   "source": [
    "Make a linear, parallel slopes model of `voles` versus `veg` and `soil`. What is the value for the `veg` term coefficient?"
   ]
  },
  {
   "cell_type": "markdown",
   "id": "2cecdf36-9279-4d7d-9bc9-81aa716d537a",
   "metadata": {},
   "source": [
    "1. Create your model with `linear_reg` and `set_engine`.\n",
    "2. Make a `recipe` to transform your data. `soil` should be dummy encoded (hint: use `step_dummy`). *Don't forget to `prep` your recipe!*.\n",
    "3. Fit your model with data transformed using the recipe (hint: use `juice`).\n",
    "4. Show your regression table with `tidy`."
   ]
  },
  {
   "cell_type": "code",
   "execution_count": null,
   "id": "557b215d-b2cc-4895-b183-87dc1baa3106",
   "metadata": {
    "vscode": {
     "languageId": "r"
    }
   },
   "outputs": [],
   "source": [
    "\n",
    "\n"
   ]
  },
  {
   "cell_type": "markdown",
   "id": "57ee47ef-977b-4e44-a18c-fac9ae2f26c6",
   "metadata": {},
   "source": [
    "Let's see how sampling variability affects the `veg` term."
   ]
  },
  {
   "cell_type": "code",
   "execution_count": null,
   "id": "498d279b-1823-4007-b01f-4d9b399f84eb",
   "metadata": {
    "vscode": {
     "languageId": "r"
    }
   },
   "outputs": [],
   "source": [
    "# create 1,000 bootstrap samples from the original data\n",
    "\n",
    "boots = bootstraps(df_voles, times = 1000, apparent = TRUE)\n",
    "\n",
    "boots |> glimpse()"
   ]
  },
  {
   "cell_type": "markdown",
   "id": "ee0327e0-86fd-4f1b-9be8-d32cd2c32222",
   "metadata": {},
   "source": [
    "What column holds your bootstrap samples?"
   ]
  },
  {
   "cell_type": "code",
   "execution_count": null,
   "id": "442fefe8-1023-4e59-ac95-26acd23c44aa",
   "metadata": {
    "vscode": {
     "languageId": "r"
    }
   },
   "outputs": [],
   "source": [
    "\n",
    "\n"
   ]
  },
  {
   "cell_type": "markdown",
   "id": "a16f1e84-2000-4121-b850-c2e73fa17148",
   "metadata": {},
   "source": [
    "We can use the map function from `purrr` to create a model from every bootstrap sample."
   ]
  },
  {
   "cell_type": "code",
   "execution_count": null,
   "id": "a311b6db-92ef-4b65-b0d1-559e311744ee",
   "metadata": {
    "vscode": {
     "languageId": "r"
    }
   },
   "outputs": [],
   "source": [
    "boot_models = boots |>\n",
    "    mutate(model = map(splits, ~mod |> fit(voles ~ ., data = bake(rec, new_data = .x))))\n",
    "\n",
    "boot_models |> glimpse()"
   ]
  },
  {
   "cell_type": "markdown",
   "id": "2640ab09-9a33-4ab1-be24-1c6135111444",
   "metadata": {},
   "source": [
    "Now we need to create a regression table for all our models. Try to build this `purrr` function yourself.\n",
    "\n",
    "(Hint: if you want to run `tidy` for all the models in a column called `model`, you might use `map(model, tidy))` inside of `mutate`."
   ]
  },
  {
   "cell_type": "code",
   "execution_count": null,
   "id": "3e23c28d-0e99-41e3-ad61-638f883cef37",
   "metadata": {
    "vscode": {
     "languageId": "r"
    }
   },
   "outputs": [],
   "source": [
    "\n",
    "\n"
   ]
  },
  {
   "cell_type": "markdown",
   "id": "827709be-e781-4c46-9f30-06bb4b7f3b8e",
   "metadata": {},
   "source": [
    "Last, we need to \"unnest\" the regression table information. \n",
    "\n",
    "In this step,\n",
    "1. Use `select` to remove the `model` and `splits` columns.\n",
    "2. Pipe this table into the `unnest` function with the column name for your regression table as the argument.\n",
    "3. Preview the output."
   ]
  },
  {
   "cell_type": "code",
   "execution_count": null,
   "id": "bb48f843-a9dd-4bcf-8409-00d752bc8d4b",
   "metadata": {
    "vscode": {
     "languageId": "r"
    }
   },
   "outputs": [],
   "source": [
    "\n",
    "\n"
   ]
  },
  {
   "cell_type": "markdown",
   "id": "542872a0-7449-4f3e-a626-10d2672b45cc",
   "metadata": {},
   "source": [
    "Make a histogram of your `veg` coefficients 📊. \n",
    "\n",
    "[Here is what I found.](https://github.com/UNC-DATA-730/lecture-notebooks/blob/main/09-inference-for-regression/in-class-exercises/solution-histogram.png?raw=true)"
   ]
  },
  {
   "cell_type": "code",
   "execution_count": null,
   "id": "be83ded3-20fd-4841-9b97-ff170975ca7e",
   "metadata": {
    "vscode": {
     "languageId": "r"
    }
   },
   "outputs": [],
   "source": [
    "\n",
    "\n"
   ]
  },
  {
   "cell_type": "markdown",
   "id": "92685891-4954-4e75-a0d5-7b0364014c8d",
   "metadata": {},
   "source": [
    "Use the percentile method to find the bounds of a 95% confidence interval for the `veg` coefficient."
   ]
  },
  {
   "cell_type": "code",
   "execution_count": null,
   "id": "52d642f5-d6dd-4aa9-89ca-f2a1adcade9c",
   "metadata": {
    "vscode": {
     "languageId": "r"
    }
   },
   "outputs": [],
   "source": [
    "\n",
    "\n"
   ]
  },
  {
   "cell_type": "markdown",
   "id": "a250e223-8773-45eb-b56c-8588332f49c3",
   "metadata": {},
   "source": [
    "What can we say about the relationship of `voles` and  `veg`?"
   ]
  },
  {
   "cell_type": "code",
   "execution_count": null,
   "id": "f7963c40-9c71-4f3a-a74d-37eb0db5f57b",
   "metadata": {
    "vscode": {
     "languageId": "r"
    }
   },
   "outputs": [],
   "source": [
    "\n",
    "\n"
   ]
  }
 ],
 "metadata": {
  "kernelspec": {
   "display_name": "R",
   "language": "R",
   "name": "ir"
  },
  "language_info": {
   "codemirror_mode": "r",
   "file_extension": ".r",
   "mimetype": "text/x-r-source",
   "name": "R",
   "pygments_lexer": "r",
   "version": "4.4.1"
  }
 },
 "nbformat": 4,
 "nbformat_minor": 5
}
