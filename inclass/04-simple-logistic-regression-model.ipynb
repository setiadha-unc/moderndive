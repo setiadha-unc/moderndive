{
 "cells": [
  {
   "cell_type": "markdown",
   "id": "8c80b287-87e0-42bf-9f58-9f765c592b27",
   "metadata": {},
   "source": [
    "Load the `ISLR2` and `tidymodels` packages."
   ]
  },
  {
   "cell_type": "code",
   "execution_count": 1,
   "id": "f247892f",
   "metadata": {
    "vscode": {
     "languageId": "r"
    }
   },
   "outputs": [
    {
     "name": "stderr",
     "output_type": "stream",
     "text": [
      "Installing package into 'C:/Users/agung/AppData/Local/R/win-library/4.4'\n",
      "(as 'lib' is unspecified)\n",
      "\n"
     ]
    },
    {
     "name": "stdout",
     "output_type": "stream",
     "text": [
      "package 'ISLR' successfully unpacked and MD5 sums checked\n",
      "\n",
      "The downloaded binary packages are in\n",
      "\tC:\\Users\\agung\\AppData\\Local\\Temp\\RtmpmCVhlq\\downloaded_packages\n"
     ]
    }
   ],
   "source": [
    "install.packages(\"ISLR\")"
   ]
  },
  {
   "cell_type": "code",
   "execution_count": 5,
   "id": "edbb9314-0b2a-41ba-8ef3-29e6477ba185",
   "metadata": {
    "vscode": {
     "languageId": "r"
    }
   },
   "outputs": [],
   "source": [
    "library(\"tidymodels\")\n",
    "library(\"ISLR\")"
   ]
  },
  {
   "cell_type": "markdown",
   "id": "be7525be-f265-4f76-87ed-485257ae163b",
   "metadata": {},
   "source": [
    "Take a look at the `Smarket` dataset which comes from the ISLR2 package (also described in [the book](https://www.statlearning.com/)). "
   ]
  },
  {
   "cell_type": "code",
   "execution_count": 6,
   "id": "d3ba55ba-5676-41fd-8bc6-7240fd3efd47",
   "metadata": {
    "vscode": {
     "languageId": "r"
    }
   },
   "outputs": [
    {
     "name": "stdout",
     "output_type": "stream",
     "text": [
      "Rows: 1,250\n",
      "Columns: 9\n",
      "$ Year      \u001b[3m\u001b[90m<dbl>\u001b[39m\u001b[23m 2001, 2001, 2001, 2001, 2001, 2001, 2001, 2001, 2001, 2001, …\n",
      "$ Lag1      \u001b[3m\u001b[90m<dbl>\u001b[39m\u001b[23m 0.381, 0.959, 1.032, -0.623, 0.614, 0.213, 1.392, -0.403, 0.…\n",
      "$ Lag2      \u001b[3m\u001b[90m<dbl>\u001b[39m\u001b[23m -0.192, 0.381, 0.959, 1.032, -0.623, 0.614, 0.213, 1.392, -0…\n",
      "$ Lag3      \u001b[3m\u001b[90m<dbl>\u001b[39m\u001b[23m -2.624, -0.192, 0.381, 0.959, 1.032, -0.623, 0.614, 0.213, 1…\n",
      "$ Lag4      \u001b[3m\u001b[90m<dbl>\u001b[39m\u001b[23m -1.055, -2.624, -0.192, 0.381, 0.959, 1.032, -0.623, 0.614, …\n",
      "$ Lag5      \u001b[3m\u001b[90m<dbl>\u001b[39m\u001b[23m 5.010, -1.055, -2.624, -0.192, 0.381, 0.959, 1.032, -0.623, …\n",
      "$ Volume    \u001b[3m\u001b[90m<dbl>\u001b[39m\u001b[23m 1.1913, 1.2965, 1.4112, 1.2760, 1.2057, 1.3491, 1.4450, 1.40…\n",
      "$ Today     \u001b[3m\u001b[90m<dbl>\u001b[39m\u001b[23m 0.959, 1.032, -0.623, 0.614, 0.213, 1.392, -0.403, 0.027, 1.…\n",
      "$ Direction \u001b[3m\u001b[90m<fct>\u001b[39m\u001b[23m Up, Up, Down, Up, Up, Up, Down, Up, Up, Up, Down, Down, Up, …\n"
     ]
    }
   ],
   "source": [
    "glimpse(Smarket)"
   ]
  },
  {
   "cell_type": "markdown",
   "id": "d21301bd-10ab-44d6-8acd-bfe751484b90",
   "metadata": {},
   "source": [
    "Let's see if we can predict when the market will be \"Up\" or \"Down\" (see the \"Direction\" variable of `Smarket`). We use the following variables as predictors:\n",
    "\n",
    "- Lag1: *percentage returns from previous before*\n",
    "- Volume: *the number of shares traded on the previous day, in billions*"
   ]
  },
  {
   "cell_type": "markdown",
   "id": "2ea6acbe-da49-4c57-b72e-1fe6ef6a4459",
   "metadata": {},
   "source": [
    "First we need to split our data into training and test subsets. "
   ]
  },
  {
   "cell_type": "markdown",
   "id": "eef5abf1-315e-4d4f-bba8-de7b7b552e63",
   "metadata": {},
   "source": [
    "Plot the number of observations per year using a bar chart."
   ]
  },
  {
   "cell_type": "code",
   "execution_count": 17,
   "id": "cc3763aa-0d76-4b14-b681-52ccf76b84de",
   "metadata": {
    "vscode": {
     "languageId": "r"
    }
   },
   "outputs": [
    {
     "data": {
      "text/html": [
       "<table class=\"dataframe\">\n",
       "<caption>A data.frame: 6 × 3</caption>\n",
       "<thead>\n",
       "\t<tr><th></th><th scope=col>Direction</th><th scope=col>Lag1</th><th scope=col>Volume</th></tr>\n",
       "\t<tr><th></th><th scope=col>&lt;fct&gt;</th><th scope=col>&lt;dbl&gt;</th><th scope=col>&lt;dbl&gt;</th></tr>\n",
       "</thead>\n",
       "<tbody>\n",
       "\t<tr><th scope=row>1</th><td>Up  </td><td> 0.381</td><td>1.1913</td></tr>\n",
       "\t<tr><th scope=row>2</th><td>Up  </td><td> 0.959</td><td>1.2965</td></tr>\n",
       "\t<tr><th scope=row>3</th><td>Down</td><td> 1.032</td><td>1.4112</td></tr>\n",
       "\t<tr><th scope=row>4</th><td>Up  </td><td>-0.623</td><td>1.2760</td></tr>\n",
       "\t<tr><th scope=row>5</th><td>Up  </td><td> 0.614</td><td>1.2057</td></tr>\n",
       "\t<tr><th scope=row>6</th><td>Up  </td><td> 0.213</td><td>1.3491</td></tr>\n",
       "</tbody>\n",
       "</table>\n"
      ],
      "text/latex": [
       "A data.frame: 6 × 3\n",
       "\\begin{tabular}{r|lll}\n",
       "  & Direction & Lag1 & Volume\\\\\n",
       "  & <fct> & <dbl> & <dbl>\\\\\n",
       "\\hline\n",
       "\t1 & Up   &  0.381 & 1.1913\\\\\n",
       "\t2 & Up   &  0.959 & 1.2965\\\\\n",
       "\t3 & Down &  1.032 & 1.4112\\\\\n",
       "\t4 & Up   & -0.623 & 1.2760\\\\\n",
       "\t5 & Up   &  0.614 & 1.2057\\\\\n",
       "\t6 & Up   &  0.213 & 1.3491\\\\\n",
       "\\end{tabular}\n"
      ],
      "text/markdown": [
       "\n",
       "A data.frame: 6 × 3\n",
       "\n",
       "| <!--/--> | Direction &lt;fct&gt; | Lag1 &lt;dbl&gt; | Volume &lt;dbl&gt; |\n",
       "|---|---|---|---|\n",
       "| 1 | Up   |  0.381 | 1.1913 |\n",
       "| 2 | Up   |  0.959 | 1.2965 |\n",
       "| 3 | Down |  1.032 | 1.4112 |\n",
       "| 4 | Up   | -0.623 | 1.2760 |\n",
       "| 5 | Up   |  0.614 | 1.2057 |\n",
       "| 6 | Up   |  0.213 | 1.3491 |\n",
       "\n"
      ],
      "text/plain": [
       "  Direction Lag1   Volume\n",
       "1 Up         0.381 1.1913\n",
       "2 Up         0.959 1.2965\n",
       "3 Down       1.032 1.4112\n",
       "4 Up        -0.623 1.2760\n",
       "5 Up         0.614 1.2057\n",
       "6 Up         0.213 1.3491"
      ]
     },
     "metadata": {},
     "output_type": "display_data"
    },
    {
     "data": {
      "text/html": [
       "<table class=\"dataframe\">\n",
       "<caption>A tibble: 6 × 2</caption>\n",
       "<thead>\n",
       "\t<tr><th scope=col>Lag1</th><th scope=col>Direction</th></tr>\n",
       "\t<tr><th scope=col>&lt;dbl&gt;</th><th scope=col>&lt;fct&gt;</th></tr>\n",
       "</thead>\n",
       "<tbody>\n",
       "\t<tr><td> 0.381</td><td>Up  </td></tr>\n",
       "\t<tr><td> 0.959</td><td>Up  </td></tr>\n",
       "\t<tr><td> 1.032</td><td>Down</td></tr>\n",
       "\t<tr><td>-0.623</td><td>Up  </td></tr>\n",
       "\t<tr><td> 0.614</td><td>Up  </td></tr>\n",
       "\t<tr><td> 0.213</td><td>Up  </td></tr>\n",
       "</tbody>\n",
       "</table>\n"
      ],
      "text/latex": [
       "A tibble: 6 × 2\n",
       "\\begin{tabular}{ll}\n",
       " Lag1 & Direction\\\\\n",
       " <dbl> & <fct>\\\\\n",
       "\\hline\n",
       "\t  0.381 & Up  \\\\\n",
       "\t  0.959 & Up  \\\\\n",
       "\t  1.032 & Down\\\\\n",
       "\t -0.623 & Up  \\\\\n",
       "\t  0.614 & Up  \\\\\n",
       "\t  0.213 & Up  \\\\\n",
       "\\end{tabular}\n"
      ],
      "text/markdown": [
       "\n",
       "A tibble: 6 × 2\n",
       "\n",
       "| Lag1 &lt;dbl&gt; | Direction &lt;fct&gt; |\n",
       "|---|---|\n",
       "|  0.381 | Up   |\n",
       "|  0.959 | Up   |\n",
       "|  1.032 | Down |\n",
       "| -0.623 | Up   |\n",
       "|  0.614 | Up   |\n",
       "|  0.213 | Up   |\n",
       "\n"
      ],
      "text/plain": [
       "  Lag1   Direction\n",
       "1  0.381 Up       \n",
       "2  0.959 Up       \n",
       "3  1.032 Down     \n",
       "4 -0.623 Up       \n",
       "5  0.614 Up       \n",
       "6  0.213 Up       "
      ]
     },
     "metadata": {},
     "output_type": "display_data"
    }
   ],
   "source": [
    "smarket_training <- Smarket |> select(Direction, Lag1, Volume) |> drop_na()\n",
    "smarket_training |> head()\n",
    "\n",
    "rec <- recipe(Direction ~ Lag1, data = smarket_training)\n",
    "rec_prepped <- prep(rec, smarket_training)\n",
    "\n",
    "rec_prepped |> juice() |> head()"
   ]
  },
  {
   "cell_type": "code",
   "execution_count": 16,
   "id": "22d01472",
   "metadata": {
    "vscode": {
     "languageId": "r"
    }
   },
   "outputs": [
    {
     "data": {
      "image/png": "[encoded data removed]",
      "text/plain": [
       "plot without title"
      ]
     },
     "metadata": {
      "image/png": {
       "height": 420,
       "width": 420
      }
     },
     "output_type": "display_data"
    }
   ],
   "source": [
    "ggplot(Smarket, aes(x = Year)) +\n",
    "  geom_bar()"
   ]
  },
  {
   "cell_type": "markdown",
   "id": "029c530e-5c08-4015-9018-456051a5512a",
   "metadata": {},
   "source": [
    "Run the following cell after substituting `PUT_MOST_RECENT_YEAR_HERE` with a value deduced from the chart above. Why is this a sensible way to split our data?"
   ]
  },
  {
   "cell_type": "code",
   "execution_count": 15,
   "id": "1162bde5-4e4f-4ec0-b428-a80c57cb251a",
   "metadata": {
    "vscode": {
     "languageId": "r"
    }
   },
   "outputs": [],
   "source": [
    "Smarket_train = Smarket |> filter(Year < 2005)\n",
    "Smarket_test = Smarket |> filter(Year == 2005)"
   ]
  },
  {
   "cell_type": "markdown",
   "id": "3ca72053-b339-409e-812a-a76862c2eb80",
   "metadata": {},
   "source": [
    "Generate a model to predict market direction.\n",
    "- Use the `logistic_reg()` function from `tidymodels` and the \"glm\" engine.\n",
    "- Use the training data from above and call your fitted model `mod_fit`.\n",
    "- Use `Direction ~ Volume + Lag1` as the formula."
   ]
  },
  {
   "cell_type": "code",
   "execution_count": 31,
   "id": "ef6cc4fd-0cdd-42d3-ada4-cbac7302f67a",
   "metadata": {
    "vscode": {
     "languageId": "r"
    }
   },
   "outputs": [
    {
     "data": {
      "text/html": [
       "<table class=\"dataframe\">\n",
       "<caption>A tibble: 3 × 5</caption>\n",
       "<thead>\n",
       "\t<tr><th scope=col>term</th><th scope=col>estimate</th><th scope=col>std.error</th><th scope=col>statistic</th><th scope=col>p.value</th></tr>\n",
       "\t<tr><th scope=col>&lt;chr&gt;</th><th scope=col>&lt;dbl&gt;</th><th scope=col>&lt;dbl&gt;</th><th scope=col>&lt;dbl&gt;</th><th scope=col>&lt;dbl&gt;</th></tr>\n",
       "</thead>\n",
       "<tbody>\n",
       "\t<tr><td>(Intercept)</td><td> 0.17895928</td><td>0.33084304</td><td> 0.5409190</td><td>0.5885634</td></tr>\n",
       "\t<tr><td>Volume     </td><td>-0.10736808</td><td>0.23747318</td><td>-0.4521272</td><td>0.6511774</td></tr>\n",
       "\t<tr><td>Lag1       </td><td>-0.05332657</td><td>0.05173953</td><td>-1.0306737</td><td>0.3026938</td></tr>\n",
       "</tbody>\n",
       "</table>\n"
      ],
      "text/latex": [
       "A tibble: 3 × 5\n",
       "\\begin{tabular}{lllll}\n",
       " term & estimate & std.error & statistic & p.value\\\\\n",
       " <chr> & <dbl> & <dbl> & <dbl> & <dbl>\\\\\n",
       "\\hline\n",
       "\t (Intercept) &  0.17895928 & 0.33084304 &  0.5409190 & 0.5885634\\\\\n",
       "\t Volume      & -0.10736808 & 0.23747318 & -0.4521272 & 0.6511774\\\\\n",
       "\t Lag1        & -0.05332657 & 0.05173953 & -1.0306737 & 0.3026938\\\\\n",
       "\\end{tabular}\n"
      ],
      "text/markdown": [
       "\n",
       "A tibble: 3 × 5\n",
       "\n",
       "| term &lt;chr&gt; | estimate &lt;dbl&gt; | std.error &lt;dbl&gt; | statistic &lt;dbl&gt; | p.value &lt;dbl&gt; |\n",
       "|---|---|---|---|---|\n",
       "| (Intercept) |  0.17895928 | 0.33084304 |  0.5409190 | 0.5885634 |\n",
       "| Volume      | -0.10736808 | 0.23747318 | -0.4521272 | 0.6511774 |\n",
       "| Lag1        | -0.05332657 | 0.05173953 | -1.0306737 | 0.3026938 |\n",
       "\n"
      ],
      "text/plain": [
       "  term        estimate    std.error  statistic  p.value  \n",
       "1 (Intercept)  0.17895928 0.33084304  0.5409190 0.5885634\n",
       "2 Volume      -0.10736808 0.23747318 -0.4521272 0.6511774\n",
       "3 Lag1        -0.05332657 0.05173953 -1.0306737 0.3026938"
      ]
     },
     "metadata": {},
     "output_type": "display_data"
    }
   ],
   "source": [
    "rec_train <- recipe(Direction ~ Volume + Lag1, data = Smarket_train)\n",
    "rec_train_prepped <- prep(rec_train, Smarket_train)\n",
    "\n",
    "mod_train <- logistic_reg() |> set_engine('glm')\n",
    "mod_train_fit <- mod_train |> fit(Direction ~ Volume + Lag1, data = Smarket_train)\n",
    "#mod_train_fit <- mod_train |> fit(Direction ~ Volume + Lag1, juice(Smarket_train))\n",
    "\n",
    "tidy(mod_train_fit)"
   ]
  },
  {
   "cell_type": "code",
   "execution_count": 32,
   "id": "727398ca",
   "metadata": {
    "vscode": {
     "languageId": "r"
    }
   },
   "outputs": [
    {
     "data": {
      "text/html": [
       "<table class=\"dataframe\">\n",
       "<caption>A tibble: 3 × 5</caption>\n",
       "<thead>\n",
       "\t<tr><th scope=col>term</th><th scope=col>estimate</th><th scope=col>std.error</th><th scope=col>statistic</th><th scope=col>p.value</th></tr>\n",
       "\t<tr><th scope=col>&lt;chr&gt;</th><th scope=col>&lt;dbl&gt;</th><th scope=col>&lt;dbl&gt;</th><th scope=col>&lt;dbl&gt;</th><th scope=col>&lt;dbl&gt;</th></tr>\n",
       "</thead>\n",
       "<tbody>\n",
       "\t<tr><td>(Intercept)</td><td> 0.17895928</td><td>0.33084304</td><td> 0.5409190</td><td>0.5885634</td></tr>\n",
       "\t<tr><td>Volume     </td><td>-0.10736808</td><td>0.23747318</td><td>-0.4521272</td><td>0.6511774</td></tr>\n",
       "\t<tr><td>Lag1       </td><td>-0.05332657</td><td>0.05173953</td><td>-1.0306737</td><td>0.3026938</td></tr>\n",
       "</tbody>\n",
       "</table>\n"
      ],
      "text/latex": [
       "A tibble: 3 × 5\n",
       "\\begin{tabular}{lllll}\n",
       " term & estimate & std.error & statistic & p.value\\\\\n",
       " <chr> & <dbl> & <dbl> & <dbl> & <dbl>\\\\\n",
       "\\hline\n",
       "\t (Intercept) &  0.17895928 & 0.33084304 &  0.5409190 & 0.5885634\\\\\n",
       "\t Volume      & -0.10736808 & 0.23747318 & -0.4521272 & 0.6511774\\\\\n",
       "\t Lag1        & -0.05332657 & 0.05173953 & -1.0306737 & 0.3026938\\\\\n",
       "\\end{tabular}\n"
      ],
      "text/markdown": [
       "\n",
       "A tibble: 3 × 5\n",
       "\n",
       "| term &lt;chr&gt; | estimate &lt;dbl&gt; | std.error &lt;dbl&gt; | statistic &lt;dbl&gt; | p.value &lt;dbl&gt; |\n",
       "|---|---|---|---|---|\n",
       "| (Intercept) |  0.17895928 | 0.33084304 |  0.5409190 | 0.5885634 |\n",
       "| Volume      | -0.10736808 | 0.23747318 | -0.4521272 | 0.6511774 |\n",
       "| Lag1        | -0.05332657 | 0.05173953 | -1.0306737 | 0.3026938 |\n",
       "\n"
      ],
      "text/plain": [
       "  term        estimate    std.error  statistic  p.value  \n",
       "1 (Intercept)  0.17895928 0.33084304  0.5409190 0.5885634\n",
       "2 Volume      -0.10736808 0.23747318 -0.4521272 0.6511774\n",
       "3 Lag1        -0.05332657 0.05173953 -1.0306737 0.3026938"
      ]
     },
     "metadata": {},
     "output_type": "display_data"
    }
   ],
   "source": [
    "rec_train <- recipe(Direction ~ Volume + Lag1, data = Smarket_train)\n",
    "rec_train_prepped <- prep(rec_train, Smarket_train)\n",
    "\n",
    "mod_train <- logistic_reg() |> set_engine('glm')\n",
    "#mod_train_fit <- mod_train |> fit(Direction ~ Volume + Lag1, data = Smarket_train)\n",
    "mod_train_fit <- mod_train |> fit(Direction ~ Volume + Lag1, juice(rec_train_prepped))\n",
    "\n",
    "tidy(mod_train_fit)"
   ]
  },
  {
   "cell_type": "code",
   "execution_count": 20,
   "id": "8448478f",
   "metadata": {
    "vscode": {
     "languageId": "r"
    }
   },
   "outputs": [
    {
     "data": {
      "text/html": [
       "<table class=\"dataframe\">\n",
       "<caption>A tibble: 3 × 5</caption>\n",
       "<thead>\n",
       "\t<tr><th scope=col>term</th><th scope=col>estimate</th><th scope=col>std.error</th><th scope=col>statistic</th><th scope=col>p.value</th></tr>\n",
       "\t<tr><th scope=col>&lt;chr&gt;</th><th scope=col>&lt;dbl&gt;</th><th scope=col>&lt;dbl&gt;</th><th scope=col>&lt;dbl&gt;</th><th scope=col>&lt;dbl&gt;</th></tr>\n",
       "</thead>\n",
       "<tbody>\n",
       "\t<tr><td>(Intercept)</td><td>-0.2075560</td><td>0.7217281</td><td>-0.2875820</td><td>0.7736667</td></tr>\n",
       "\t<tr><td>Volume     </td><td> 0.2370493</td><td>0.3714734</td><td> 0.6381326</td><td>0.5233874</td></tr>\n",
       "\t<tr><td>Lag1       </td><td>-0.3088390</td><td>0.1998480</td><td>-1.5453695</td><td>0.1222569</td></tr>\n",
       "</tbody>\n",
       "</table>\n"
      ],
      "text/latex": [
       "A tibble: 3 × 5\n",
       "\\begin{tabular}{lllll}\n",
       " term & estimate & std.error & statistic & p.value\\\\\n",
       " <chr> & <dbl> & <dbl> & <dbl> & <dbl>\\\\\n",
       "\\hline\n",
       "\t (Intercept) & -0.2075560 & 0.7217281 & -0.2875820 & 0.7736667\\\\\n",
       "\t Volume      &  0.2370493 & 0.3714734 &  0.6381326 & 0.5233874\\\\\n",
       "\t Lag1        & -0.3088390 & 0.1998480 & -1.5453695 & 0.1222569\\\\\n",
       "\\end{tabular}\n"
      ],
      "text/markdown": [
       "\n",
       "A tibble: 3 × 5\n",
       "\n",
       "| term &lt;chr&gt; | estimate &lt;dbl&gt; | std.error &lt;dbl&gt; | statistic &lt;dbl&gt; | p.value &lt;dbl&gt; |\n",
       "|---|---|---|---|---|\n",
       "| (Intercept) | -0.2075560 | 0.7217281 | -0.2875820 | 0.7736667 |\n",
       "| Volume      |  0.2370493 | 0.3714734 |  0.6381326 | 0.5233874 |\n",
       "| Lag1        | -0.3088390 | 0.1998480 | -1.5453695 | 0.1222569 |\n",
       "\n"
      ],
      "text/plain": [
       "  term        estimate   std.error statistic  p.value  \n",
       "1 (Intercept) -0.2075560 0.7217281 -0.2875820 0.7736667\n",
       "2 Volume       0.2370493 0.3714734  0.6381326 0.5233874\n",
       "3 Lag1        -0.3088390 0.1998480 -1.5453695 0.1222569"
      ]
     },
     "metadata": {},
     "output_type": "display_data"
    }
   ],
   "source": [
    "rec_test <- recipe(Direction ~ Volume + Lag1, data = Smarket_test)\n",
    "rec_test_prepped <- prep(rec_test, Smarket_test)\n",
    "\n",
    "mod_test <- logistic_reg() |> set_engine('glm')\n",
    "mod_test_fit <- mod_test |> fit(Direction ~ Volume + Lag1, juice(rec_test_prepped))\n",
    "\n",
    "tidy(mod_test_fit)"
   ]
  },
  {
   "cell_type": "markdown",
   "id": "1273f3dc-4185-4eaa-a6cf-c9c060649523",
   "metadata": {},
   "source": [
    "Run the following code to predict from your test data and generate a [confusion matrix](https://en.wikipedia.org/wiki/Confusion_matrix). When the market is \"Up\" how often does your model predict the same?"
   ]
  },
  {
   "cell_type": "code",
   "execution_count": 34,
   "id": "e5b6a335-c752-4399-9e85-89fdbcbdb0d1",
   "metadata": {
    "vscode": {
     "languageId": "r"
    }
   },
   "outputs": [
    {
     "data": {
      "text/plain": [
       "          Truth\n",
       "Prediction Down Up\n",
       "      Down   84 95\n",
       "      Up     27 46"
      ]
     },
     "metadata": {},
     "output_type": "display_data"
    }
   ],
   "source": [
    "augment(mod_train_fit, Smarket_test) |>\n",
    "  conf_mat(Direction, .pred_class)"
   ]
  },
  {
   "cell_type": "markdown",
   "id": "79c88e08-62a8-4222-96d6-fe638494ed82",
   "metadata": {},
   "source": [
    "Run the following code to calculate the error rate for the model."
   ]
  },
  {
   "cell_type": "code",
   "execution_count": 35,
   "id": "c5a4c6ca-a86e-476a-932e-e7034a070e68",
   "metadata": {
    "vscode": {
     "languageId": "r"
    }
   },
   "outputs": [
    {
     "data": {
      "text/html": [
       "<table class=\"dataframe\">\n",
       "<caption>A tibble: 1 × 1</caption>\n",
       "<thead>\n",
       "\t<tr><th scope=col>error_rate</th></tr>\n",
       "\t<tr><th scope=col>&lt;dbl&gt;</th></tr>\n",
       "</thead>\n",
       "<tbody>\n",
       "\t<tr><td>0.484127</td></tr>\n",
       "</tbody>\n",
       "</table>\n"
      ],
      "text/latex": [
       "A tibble: 1 × 1\n",
       "\\begin{tabular}{l}\n",
       " error\\_rate\\\\\n",
       " <dbl>\\\\\n",
       "\\hline\n",
       "\t 0.484127\\\\\n",
       "\\end{tabular}\n"
      ],
      "text/markdown": [
       "\n",
       "A tibble: 1 × 1\n",
       "\n",
       "| error_rate &lt;dbl&gt; |\n",
       "|---|\n",
       "| 0.484127 |\n",
       "\n"
      ],
      "text/plain": [
       "  error_rate\n",
       "1 0.484127  "
      ]
     },
     "metadata": {},
     "output_type": "display_data"
    }
   ],
   "source": [
    "augment(mod_train_fit, Smarket_test) |>\n",
    "  summarize(error_rate = mean(Direction != .pred_class))"
   ]
  },
  {
   "cell_type": "markdown",
   "id": "63839215-ff30-4145-b402-3c318f3d838e",
   "metadata": {},
   "source": [
    "Run the following code to calculate the error rate for a simple model that always predicts \"Up\". Is the error rate better than your logistic regression model?"
   ]
  },
  {
   "cell_type": "code",
   "execution_count": 36,
   "id": "5dd8dd5e-5c72-4ee0-ab79-f830c43fbddd",
   "metadata": {
    "vscode": {
     "languageId": "r"
    }
   },
   "outputs": [
    {
     "data": {
      "text/html": [
       "<table class=\"dataframe\">\n",
       "<caption>A data.frame: 1 × 1</caption>\n",
       "<thead>\n",
       "\t<tr><th scope=col>error_rate</th></tr>\n",
       "\t<tr><th scope=col>&lt;dbl&gt;</th></tr>\n",
       "</thead>\n",
       "<tbody>\n",
       "\t<tr><td>0.4404762</td></tr>\n",
       "</tbody>\n",
       "</table>\n"
      ],
      "text/latex": [
       "A data.frame: 1 × 1\n",
       "\\begin{tabular}{l}\n",
       " error\\_rate\\\\\n",
       " <dbl>\\\\\n",
       "\\hline\n",
       "\t 0.4404762\\\\\n",
       "\\end{tabular}\n"
      ],
      "text/markdown": [
       "\n",
       "A data.frame: 1 × 1\n",
       "\n",
       "| error_rate &lt;dbl&gt; |\n",
       "|---|\n",
       "| 0.4404762 |\n",
       "\n"
      ],
      "text/plain": [
       "  error_rate\n",
       "1 0.4404762 "
      ]
     },
     "metadata": {},
     "output_type": "display_data"
    }
   ],
   "source": [
    "Smarket_test |>\n",
    "  summarise(error_rate = mean(Direction != \"Up\"))"
   ]
  },
  {
   "cell_type": "code",
   "execution_count": null,
   "id": "ab53c91d",
   "metadata": {
    "vscode": {
     "languageId": "r"
    }
   },
   "outputs": [],
   "source": []
  }
 ],
 "metadata": {
  "kernelspec": {
   "display_name": "R",
   "language": "R",
   "name": "ir"
  },
  "language_info": {
   "codemirror_mode": "r",
   "file_extension": ".r",
   "mimetype": "text/x-r-source",
   "name": "R",
   "pygments_lexer": "r",
   "version": "4.4.1"
  }
 },
 "nbformat": 4,
 "nbformat_minor": 5
}
