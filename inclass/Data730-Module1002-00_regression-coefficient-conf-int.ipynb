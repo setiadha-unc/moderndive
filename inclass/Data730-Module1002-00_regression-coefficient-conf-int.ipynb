{
 "cells": [
  {
   "cell_type": "code",
   "execution_count": 1,
   "id": "cd764607-5fa9-4b90-bdf5-67a0a8b8b60f",
   "metadata": {
    "tags": [],
    "vscode": {
     "languageId": "r"
    }
   },
   "outputs": [
    {
     "name": "stderr",
     "output_type": "stream",
     "text": [
      "── \u001b[1mAttaching packages\u001b[22m ────────────────────────────────────── tidymodels 1.2.0 ──\n",
      "\n",
      "\u001b[32m✔\u001b[39m \u001b[34mbroom       \u001b[39m 1.0.6     \u001b[32m✔\u001b[39m \u001b[34mrecipes     \u001b[39m 1.1.0\n",
      "\u001b[32m✔\u001b[39m \u001b[34mdials       \u001b[39m 1.3.0     \u001b[32m✔\u001b[39m \u001b[34mrsample     \u001b[39m 1.2.1\n",
      "\u001b[32m✔\u001b[39m \u001b[34mdplyr       \u001b[39m 1.1.4     \u001b[32m✔\u001b[39m \u001b[34mtibble      \u001b[39m 3.2.1\n",
      "\u001b[32m✔\u001b[39m \u001b[34mggplot2     \u001b[39m 3.5.1     \u001b[32m✔\u001b[39m \u001b[34mtidyr       \u001b[39m 1.3.1\n",
      "\u001b[32m✔\u001b[39m \u001b[34minfer       \u001b[39m 1.0.7     \u001b[32m✔\u001b[39m \u001b[34mtune        \u001b[39m 1.2.1\n",
      "\u001b[32m✔\u001b[39m \u001b[34mmodeldata   \u001b[39m 1.4.0     \u001b[32m✔\u001b[39m \u001b[34mworkflows   \u001b[39m 1.1.4\n",
      "\u001b[32m✔\u001b[39m \u001b[34mparsnip     \u001b[39m 1.2.1     \u001b[32m✔\u001b[39m \u001b[34mworkflowsets\u001b[39m 1.1.0\n",
      "\u001b[32m✔\u001b[39m \u001b[34mpurrr       \u001b[39m 1.0.2     \u001b[32m✔\u001b[39m \u001b[34myardstick   \u001b[39m 1.3.1\n",
      "\n",
      "── \u001b[1mConflicts\u001b[22m ───────────────────────────────────────── tidymodels_conflicts() ──\n",
      "\u001b[31m✖\u001b[39m \u001b[34mpurrr\u001b[39m::\u001b[32mdiscard()\u001b[39m masks \u001b[34mscales\u001b[39m::discard()\n",
      "\u001b[31m✖\u001b[39m \u001b[34mdplyr\u001b[39m::\u001b[32mfilter()\u001b[39m  masks \u001b[34mstats\u001b[39m::filter()\n",
      "\u001b[31m✖\u001b[39m \u001b[34mdplyr\u001b[39m::\u001b[32mlag()\u001b[39m     masks \u001b[34mstats\u001b[39m::lag()\n",
      "\u001b[31m✖\u001b[39m \u001b[34mrecipes\u001b[39m::\u001b[32mstep()\u001b[39m  masks \u001b[34mstats\u001b[39m::step()\n",
      "\u001b[34m•\u001b[39m Dig deeper into tidy modeling with R at \u001b[32mhttps://www.tmwr.org\u001b[39m\n",
      "\n",
      "── \u001b[1mAttaching core tidyverse packages\u001b[22m ──────────────────────── tidyverse 2.0.0 ──\n",
      "\u001b[32m✔\u001b[39m \u001b[34mforcats  \u001b[39m 1.0.0     \u001b[32m✔\u001b[39m \u001b[34mreadr    \u001b[39m 2.1.5\n",
      "\u001b[32m✔\u001b[39m \u001b[34mlubridate\u001b[39m 1.9.3     \u001b[32m✔\u001b[39m \u001b[34mstringr  \u001b[39m 1.5.1\n",
      "── \u001b[1mConflicts\u001b[22m ────────────────────────────────────────── tidyverse_conflicts() ──\n",
      "\u001b[31m✖\u001b[39m \u001b[34mreadr\u001b[39m::\u001b[32mcol_factor()\u001b[39m masks \u001b[34mscales\u001b[39m::col_factor()\n",
      "\u001b[31m✖\u001b[39m \u001b[34mpurrr\u001b[39m::\u001b[32mdiscard()\u001b[39m    masks \u001b[34mscales\u001b[39m::discard()\n",
      "\u001b[31m✖\u001b[39m \u001b[34mdplyr\u001b[39m::\u001b[32mfilter()\u001b[39m     masks \u001b[34mstats\u001b[39m::filter()\n",
      "\u001b[31m✖\u001b[39m \u001b[34mstringr\u001b[39m::\u001b[32mfixed()\u001b[39m    masks \u001b[34mrecipes\u001b[39m::fixed()\n",
      "\u001b[31m✖\u001b[39m \u001b[34mdplyr\u001b[39m::\u001b[32mlag()\u001b[39m        masks \u001b[34mstats\u001b[39m::lag()\n",
      "\u001b[31m✖\u001b[39m \u001b[34mreadr\u001b[39m::\u001b[32mspec()\u001b[39m       masks \u001b[34myardstick\u001b[39m::spec()\n",
      "\u001b[36mℹ\u001b[39m Use the conflicted package (\u001b[3m\u001b[34m<http://conflicted.r-lib.org/>\u001b[39m\u001b[23m) to force all conflicts to become errors\n",
      "\n",
      "Attaching package: 'palmerpenguins'\n",
      "\n",
      "\n",
      "The following object is masked from 'package:modeldata':\n",
      "\n",
      "    penguins\n",
      "\n",
      "\n"
     ]
    }
   ],
   "source": [
    "library('tidymodels')\n",
    "library('tidyverse')\n",
    "library('palmerpenguins')\n",
    "\n",
    "theme_set(theme_gray(base_size = 16))"
   ]
  },
  {
   "cell_type": "code",
   "execution_count": 13,
   "id": "1cd88c1a-c2e8-42a0-8275-bbbe1166738d",
   "metadata": {
    "tags": [],
    "vscode": {
     "languageId": "r"
    }
   },
   "outputs": [
    {
     "data": {
      "image/png": "[encoded data removed]",
      "text/plain": [
       "plot without title"
      ]
     },
     "metadata": {
      "image/png": {
       "height": 480,
       "width": 720
      }
     },
     "output_type": "display_data"
    }
   ],
   "source": [
    "# Adelie data from Week 2 lecture\n",
    "\n",
    "adelie_data = penguins |>\n",
    "    filter(species == 'Adelie') |>\n",
    "    select(bill_length_mm, bill_depth_mm, species) |>\n",
    "    drop_na()\n",
    "\n",
    "mod = linear_reg() |> set_engine(\"lm\")\n",
    "\n",
    "mod_fit = mod |> fit(bill_length_mm ~ bill_depth_mm, data = adelie_data)\n",
    "\n",
    "adelie_data2 = augment(mod_fit, adelie_data)\n",
    "\n",
    "options(repr.plot.height = 8, repr.plot.width = 12)\n",
    "\n",
    "ggplot(adelie_data2) +\n",
    "  geom_point(aes(x = bill_depth_mm, y = bill_length_mm)) +\n",
    "  geom_line(aes(x = bill_depth_mm, y = .pred), color = 'steelblue', linewidth = 1.2) +\n",
    "  geom_segment(aes(x = bill_depth_mm, xend = bill_depth_mm, y = .pred, yend = bill_length_mm),\n",
    "               color = 'firebrick',\n",
    "               alpha = 0.25)"
   ]
  },
  {
   "cell_type": "markdown",
   "id": "c8050d90-cf67-4654-a544-9c0df0ad5775",
   "metadata": {},
   "source": [
    "## Bootstrap resample and model"
   ]
  },
  {
   "cell_type": "code",
   "execution_count": 3,
   "id": "eb7e0a75-d37f-4dbc-89ad-2b99f98a9457",
   "metadata": {
    "tags": [],
    "vscode": {
     "languageId": "r"
    }
   },
   "outputs": [
    {
     "name": "stdout",
     "output_type": "stream",
     "text": [
      "Rows: 1,000\n",
      "Columns: 2\n",
      "$ splits \u001b[3m\u001b[90m<list>\u001b[39m\u001b[23m [<boot_split[151 x 56 x 151 x 3]>], [<boot_split[151 x 55 x 15…\n",
      "$ id     \u001b[3m\u001b[90m<chr>\u001b[39m\u001b[23m \"Bootstrap0001\", \"Bootstrap0002\", \"Bootstrap0003\", \"Bootstrap00…\n"
     ]
    }
   ],
   "source": [
    "boots = bootstraps(adelie_data, times = 1000)\n",
    "\n",
    "boots |> glimpse()"
   ]
  },
  {
   "cell_type": "code",
   "execution_count": 4,
   "id": "e16372a6-e427-4535-88c1-f24267b3e630",
   "metadata": {
    "tags": [],
    "vscode": {
     "languageId": "r"
    }
   },
   "outputs": [],
   "source": [
    "fit_mod_on_bootstrap = function(split) {\n",
    "    mod = linear_reg() |> set_engine(\"lm\")\n",
    "    mod_fit = mod |> fit(bill_length_mm ~ bill_depth_mm, data = as.data.frame(split))\n",
    "    return(mod_fit)\n",
    "}"
   ]
  },
  {
   "cell_type": "code",
   "execution_count": 5,
   "id": "6df6e00e-d15f-459d-8721-ff8a43a91933",
   "metadata": {
    "tags": [],
    "vscode": {
     "languageId": "r"
    }
   },
   "outputs": [
    {
     "data": {
      "text/html": [
       "<table class=\"dataframe\">\n",
       "<caption>A tibble: 2 × 5</caption>\n",
       "<thead>\n",
       "\t<tr><th scope=col>term</th><th scope=col>estimate</th><th scope=col>std.error</th><th scope=col>statistic</th><th scope=col>p.value</th></tr>\n",
       "\t<tr><th scope=col>&lt;chr&gt;</th><th scope=col>&lt;dbl&gt;</th><th scope=col>&lt;dbl&gt;</th><th scope=col>&lt;dbl&gt;</th><th scope=col>&lt;dbl&gt;</th></tr>\n",
       "</thead>\n",
       "<tbody>\n",
       "\t<tr><td>(Intercept)  </td><td>23.0680794</td><td>3.0342298</td><td>7.602615</td><td>3.007505e-12</td></tr>\n",
       "\t<tr><td>bill_depth_mm</td><td> 0.8570263</td><td>0.1650259</td><td>5.193285</td><td>6.674141e-07</td></tr>\n",
       "</tbody>\n",
       "</table>\n"
      ],
      "text/latex": [
       "A tibble: 2 × 5\n",
       "\\begin{tabular}{lllll}\n",
       " term & estimate & std.error & statistic & p.value\\\\\n",
       " <chr> & <dbl> & <dbl> & <dbl> & <dbl>\\\\\n",
       "\\hline\n",
       "\t (Intercept)   & 23.0680794 & 3.0342298 & 7.602615 & 3.007505e-12\\\\\n",
       "\t bill\\_depth\\_mm &  0.8570263 & 0.1650259 & 5.193285 & 6.674141e-07\\\\\n",
       "\\end{tabular}\n"
      ],
      "text/markdown": [
       "\n",
       "A tibble: 2 × 5\n",
       "\n",
       "| term &lt;chr&gt; | estimate &lt;dbl&gt; | std.error &lt;dbl&gt; | statistic &lt;dbl&gt; | p.value &lt;dbl&gt; |\n",
       "|---|---|---|---|---|\n",
       "| (Intercept)   | 23.0680794 | 3.0342298 | 7.602615 | 3.007505e-12 |\n",
       "| bill_depth_mm |  0.8570263 | 0.1650259 | 5.193285 | 6.674141e-07 |\n",
       "\n"
      ],
      "text/plain": [
       "  term          estimate   std.error statistic p.value     \n",
       "1 (Intercept)   23.0680794 3.0342298 7.602615  3.007505e-12\n",
       "2 bill_depth_mm  0.8570263 0.1650259 5.193285  6.674141e-07"
      ]
     },
     "metadata": {},
     "output_type": "display_data"
    }
   ],
   "source": [
    "fit_mod_on_bootstrap(adelie_data) |> tidy()"
   ]
  },
  {
   "cell_type": "code",
   "execution_count": 5,
   "id": "11683baf-5cc4-4b88-8081-bb8f8387a179",
   "metadata": {
    "tags": [],
    "vscode": {
     "languageId": "r"
    }
   },
   "outputs": [],
   "source": [
    "boot_models = boots |> \n",
    "  mutate(model = map(splits, fit_mod_on_bootstrap),\n",
    "         coef_info = map(model, tidy))"
   ]
  },
  {
   "cell_type": "code",
   "execution_count": 6,
   "id": "e68c0b79-78d7-480b-b9b2-e549f3f16aeb",
   "metadata": {
    "tags": [],
    "vscode": {
     "languageId": "r"
    }
   },
   "outputs": [
    {
     "name": "stdout",
     "output_type": "stream",
     "text": [
      "Rows: 1,000\n",
      "Columns: 4\n",
      "$ splits    \u001b[3m\u001b[90m<list>\u001b[39m\u001b[23m [<boot_split[151 x 56 x 151 x 3]>], [<boot_split[151 x 55 x…\n",
      "$ id        \u001b[3m\u001b[90m<chr>\u001b[39m\u001b[23m \"Bootstrap0001\", \"Bootstrap0002\", \"Bootstrap0003\", \"Bootstra…\n",
      "$ model     \u001b[3m\u001b[90m<list>\u001b[39m\u001b[23m [NULL, ~NULL, ~NULL, regression, FALSE, stats, formula, for…\n",
      "$ coef_info \u001b[3m\u001b[90m<list>\u001b[39m\u001b[23m [<tbl_df[2 x 5]>], [<tbl_df[2 x 5]>], [<tbl_df[2 x 5]>], [<…\n"
     ]
    }
   ],
   "source": [
    "boot_models |> glimpse()"
   ]
  },
  {
   "cell_type": "code",
   "execution_count": 7,
   "id": "c8894107-179f-4062-aa2b-251ecb1abb50",
   "metadata": {
    "tags": [],
    "vscode": {
     "languageId": "r"
    }
   },
   "outputs": [
    {
     "data": {
      "text/html": [
       "<ol>\n",
       "\t<li><table class=\"dataframe\">\n",
       "<caption>A tibble: 2 × 5</caption>\n",
       "<thead>\n",
       "\t<tr><th scope=col>term</th><th scope=col>estimate</th><th scope=col>std.error</th><th scope=col>statistic</th><th scope=col>p.value</th></tr>\n",
       "\t<tr><th scope=col>&lt;chr&gt;</th><th scope=col>&lt;dbl&gt;</th><th scope=col>&lt;dbl&gt;</th><th scope=col>&lt;dbl&gt;</th><th scope=col>&lt;dbl&gt;</th></tr>\n",
       "</thead>\n",
       "<tbody>\n",
       "\t<tr><td>(Intercept)  </td><td>24.9758400</td><td>3.0818759</td><td>8.104103</td><td>1.778030e-13</td></tr>\n",
       "\t<tr><td>bill_depth_mm</td><td> 0.7464232</td><td>0.1686056</td><td>4.427038</td><td>1.836646e-05</td></tr>\n",
       "</tbody>\n",
       "</table>\n",
       "</li>\n",
       "</ol>\n"
      ],
      "text/latex": [
       "\\begin{enumerate}\n",
       "\\item A tibble: 2 × 5\n",
       "\\begin{tabular}{lllll}\n",
       " term & estimate & std.error & statistic & p.value\\\\\n",
       " <chr> & <dbl> & <dbl> & <dbl> & <dbl>\\\\\n",
       "\\hline\n",
       "\t (Intercept)   & 24.9758400 & 3.0818759 & 8.104103 & 1.778030e-13\\\\\n",
       "\t bill\\_depth\\_mm &  0.7464232 & 0.1686056 & 4.427038 & 1.836646e-05\\\\\n",
       "\\end{tabular}\n",
       "\n",
       "\\end{enumerate}\n"
      ],
      "text/markdown": [
       "1. \n",
       "A tibble: 2 × 5\n",
       "\n",
       "| term &lt;chr&gt; | estimate &lt;dbl&gt; | std.error &lt;dbl&gt; | statistic &lt;dbl&gt; | p.value &lt;dbl&gt; |\n",
       "|---|---|---|---|---|\n",
       "| (Intercept)   | 24.9758400 | 3.0818759 | 8.104103 | 1.778030e-13 |\n",
       "| bill_depth_mm |  0.7464232 | 0.1686056 | 4.427038 | 1.836646e-05 |\n",
       "\n",
       "\n",
       "\n",
       "\n"
      ],
      "text/plain": [
       "[[1]]\n",
       "\u001b[90m# A tibble: 2 × 5\u001b[39m\n",
       "  term          estimate std.error statistic  p.value\n",
       "  \u001b[3m\u001b[90m<chr>\u001b[39m\u001b[23m            \u001b[3m\u001b[90m<dbl>\u001b[39m\u001b[23m     \u001b[3m\u001b[90m<dbl>\u001b[39m\u001b[23m     \u001b[3m\u001b[90m<dbl>\u001b[39m\u001b[23m    \u001b[3m\u001b[90m<dbl>\u001b[39m\u001b[23m\n",
       "\u001b[90m1\u001b[39m (Intercept)     25.0       3.08       8.10 1.78\u001b[90me\u001b[39m\u001b[31m-13\u001b[39m\n",
       "\u001b[90m2\u001b[39m bill_depth_mm    0.746     0.169      4.43 1.84\u001b[90me\u001b[39m\u001b[31m- 5\u001b[39m\n"
      ]
     },
     "metadata": {},
     "output_type": "display_data"
    }
   ],
   "source": [
    "boot_models |> pull(coef_info) |> head(1)"
   ]
  },
  {
   "cell_type": "code",
   "execution_count": 8,
   "id": "f5130eb3-9c84-43a9-bfeb-1a81b1bc4649",
   "metadata": {
    "tags": [],
    "vscode": {
     "languageId": "r"
    }
   },
   "outputs": [
    {
     "data": {
      "text/html": [
       "<table class=\"dataframe\">\n",
       "<caption>A tibble: 6 × 6</caption>\n",
       "<thead>\n",
       "\t<tr><th scope=col>id</th><th scope=col>term</th><th scope=col>estimate</th><th scope=col>std.error</th><th scope=col>statistic</th><th scope=col>p.value</th></tr>\n",
       "\t<tr><th scope=col>&lt;chr&gt;</th><th scope=col>&lt;chr&gt;</th><th scope=col>&lt;dbl&gt;</th><th scope=col>&lt;dbl&gt;</th><th scope=col>&lt;dbl&gt;</th><th scope=col>&lt;dbl&gt;</th></tr>\n",
       "</thead>\n",
       "<tbody>\n",
       "\t<tr><td>Bootstrap0001</td><td>(Intercept)  </td><td>24.9758400</td><td>3.0818759</td><td>8.104103</td><td>1.778030e-13</td></tr>\n",
       "\t<tr><td>Bootstrap0001</td><td>bill_depth_mm</td><td> 0.7464232</td><td>0.1686056</td><td>4.427038</td><td>1.836646e-05</td></tr>\n",
       "\t<tr><td>Bootstrap0002</td><td>(Intercept)  </td><td>22.7620668</td><td>2.9875924</td><td>7.618866</td><td>2.747183e-12</td></tr>\n",
       "\t<tr><td>Bootstrap0002</td><td>bill_depth_mm</td><td> 0.8729209</td><td>0.1628271</td><td>5.361028</td><td>3.088239e-07</td></tr>\n",
       "\t<tr><td>Bootstrap0003</td><td>(Intercept)  </td><td>26.5720034</td><td>2.9196544</td><td>9.101078</td><td>5.374912e-16</td></tr>\n",
       "\t<tr><td>Bootstrap0003</td><td>bill_depth_mm</td><td> 0.6772573</td><td>0.1596040</td><td>4.243361</td><td>3.853680e-05</td></tr>\n",
       "</tbody>\n",
       "</table>\n"
      ],
      "text/latex": [
       "A tibble: 6 × 6\n",
       "\\begin{tabular}{llllll}\n",
       " id & term & estimate & std.error & statistic & p.value\\\\\n",
       " <chr> & <chr> & <dbl> & <dbl> & <dbl> & <dbl>\\\\\n",
       "\\hline\n",
       "\t Bootstrap0001 & (Intercept)   & 24.9758400 & 3.0818759 & 8.104103 & 1.778030e-13\\\\\n",
       "\t Bootstrap0001 & bill\\_depth\\_mm &  0.7464232 & 0.1686056 & 4.427038 & 1.836646e-05\\\\\n",
       "\t Bootstrap0002 & (Intercept)   & 22.7620668 & 2.9875924 & 7.618866 & 2.747183e-12\\\\\n",
       "\t Bootstrap0002 & bill\\_depth\\_mm &  0.8729209 & 0.1628271 & 5.361028 & 3.088239e-07\\\\\n",
       "\t Bootstrap0003 & (Intercept)   & 26.5720034 & 2.9196544 & 9.101078 & 5.374912e-16\\\\\n",
       "\t Bootstrap0003 & bill\\_depth\\_mm &  0.6772573 & 0.1596040 & 4.243361 & 3.853680e-05\\\\\n",
       "\\end{tabular}\n"
      ],
      "text/markdown": [
       "\n",
       "A tibble: 6 × 6\n",
       "\n",
       "| id &lt;chr&gt; | term &lt;chr&gt; | estimate &lt;dbl&gt; | std.error &lt;dbl&gt; | statistic &lt;dbl&gt; | p.value &lt;dbl&gt; |\n",
       "|---|---|---|---|---|---|\n",
       "| Bootstrap0001 | (Intercept)   | 24.9758400 | 3.0818759 | 8.104103 | 1.778030e-13 |\n",
       "| Bootstrap0001 | bill_depth_mm |  0.7464232 | 0.1686056 | 4.427038 | 1.836646e-05 |\n",
       "| Bootstrap0002 | (Intercept)   | 22.7620668 | 2.9875924 | 7.618866 | 2.747183e-12 |\n",
       "| Bootstrap0002 | bill_depth_mm |  0.8729209 | 0.1628271 | 5.361028 | 3.088239e-07 |\n",
       "| Bootstrap0003 | (Intercept)   | 26.5720034 | 2.9196544 | 9.101078 | 5.374912e-16 |\n",
       "| Bootstrap0003 | bill_depth_mm |  0.6772573 | 0.1596040 | 4.243361 | 3.853680e-05 |\n",
       "\n"
      ],
      "text/plain": [
       "  id            term          estimate   std.error statistic p.value     \n",
       "1 Bootstrap0001 (Intercept)   24.9758400 3.0818759 8.104103  1.778030e-13\n",
       "2 Bootstrap0001 bill_depth_mm  0.7464232 0.1686056 4.427038  1.836646e-05\n",
       "3 Bootstrap0002 (Intercept)   22.7620668 2.9875924 7.618866  2.747183e-12\n",
       "4 Bootstrap0002 bill_depth_mm  0.8729209 0.1628271 5.361028  3.088239e-07\n",
       "5 Bootstrap0003 (Intercept)   26.5720034 2.9196544 9.101078  5.374912e-16\n",
       "6 Bootstrap0003 bill_depth_mm  0.6772573 0.1596040 4.243361  3.853680e-05"
      ]
     },
     "metadata": {},
     "output_type": "display_data"
    }
   ],
   "source": [
    "boot_coefs = \n",
    "  boot_models |> \n",
    "  unnest(coef_info) |>\n",
    "  select(-splits, -model)\n",
    "\n",
    "boot_coefs |> head()"
   ]
  },
  {
   "cell_type": "code",
   "execution_count": 9,
   "id": "9feea450-2447-49d1-8825-2189170a6e97",
   "metadata": {
    "tags": [],
    "vscode": {
     "languageId": "r"
    }
   },
   "outputs": [
    {
     "data": {
      "text/html": [
       "<table class=\"dataframe\">\n",
       "<caption>A tibble: 2 × 6</caption>\n",
       "<thead>\n",
       "\t<tr><th scope=col>term</th><th scope=col>.lower</th><th scope=col>.estimate</th><th scope=col>.upper</th><th scope=col>.alpha</th><th scope=col>.method</th></tr>\n",
       "\t<tr><th scope=col>&lt;chr&gt;</th><th scope=col>&lt;dbl&gt;</th><th scope=col>&lt;dbl&gt;</th><th scope=col>&lt;dbl&gt;</th><th scope=col>&lt;dbl&gt;</th><th scope=col>&lt;chr&gt;</th></tr>\n",
       "</thead>\n",
       "<tbody>\n",
       "\t<tr><td>(Intercept)  </td><td>16.8059854</td><td>22.9281601</td><td>29.213626</td><td>0.05</td><td>percentile</td></tr>\n",
       "\t<tr><td>bill_depth_mm</td><td> 0.5199754</td><td> 0.8650785</td><td> 1.204156</td><td>0.05</td><td>percentile</td></tr>\n",
       "</tbody>\n",
       "</table>\n"
      ],
      "text/latex": [
       "A tibble: 2 × 6\n",
       "\\begin{tabular}{llllll}\n",
       " term & .lower & .estimate & .upper & .alpha & .method\\\\\n",
       " <chr> & <dbl> & <dbl> & <dbl> & <dbl> & <chr>\\\\\n",
       "\\hline\n",
       "\t (Intercept)   & 16.8059854 & 22.9281601 & 29.213626 & 0.05 & percentile\\\\\n",
       "\t bill\\_depth\\_mm &  0.5199754 &  0.8650785 &  1.204156 & 0.05 & percentile\\\\\n",
       "\\end{tabular}\n"
      ],
      "text/markdown": [
       "\n",
       "A tibble: 2 × 6\n",
       "\n",
       "| term &lt;chr&gt; | .lower &lt;dbl&gt; | .estimate &lt;dbl&gt; | .upper &lt;dbl&gt; | .alpha &lt;dbl&gt; | .method &lt;chr&gt; |\n",
       "|---|---|---|---|---|---|\n",
       "| (Intercept)   | 16.8059854 | 22.9281601 | 29.213626 | 0.05 | percentile |\n",
       "| bill_depth_mm |  0.5199754 |  0.8650785 |  1.204156 | 0.05 | percentile |\n",
       "\n"
      ],
      "text/plain": [
       "  term          .lower     .estimate  .upper    .alpha .method   \n",
       "1 (Intercept)   16.8059854 22.9281601 29.213626 0.05   percentile\n",
       "2 bill_depth_mm  0.5199754  0.8650785  1.204156 0.05   percentile"
      ]
     },
     "metadata": {},
     "output_type": "display_data"
    }
   ],
   "source": [
    "percentile_intervals = int_pctl(boot_models, coef_info)\n",
    "percentile_intervals"
   ]
  },
  {
   "cell_type": "markdown",
   "id": "a430eae2-d3bf-40f1-8cdd-94cd582866c8",
   "metadata": {},
   "source": [
    "## Visualize a subsample of models"
   ]
  },
  {
   "cell_type": "code",
   "execution_count": 10,
   "id": "8e5d155e-49d1-4463-82b2-190e9c6a9638",
   "metadata": {
    "tags": [],
    "vscode": {
     "languageId": "r"
    }
   },
   "outputs": [
    {
     "data": {
      "image/png": "[encoded data removed]",
      "text/plain": [
       "plot without title"
      ]
     },
     "metadata": {
      "image/png": {
       "height": 240,
       "width": 360
      }
     },
     "output_type": "display_data"
    }
   ],
   "source": [
    "boot_aug = boot_models |> \n",
    "    sample_n(20) |> \n",
    "    mutate(augmented = map(model, augment, new_data = adelie_data)) |> \n",
    "    unnest(augmented) |>\n",
    "    select(-model, -splits, -coef_info)\n",
    "\n",
    "ggplot(boot_aug, aes(x = bill_depth_mm, y = bill_length_mm)) +\n",
    "  geom_line(aes(y = .pred, group = id), alpha = .5, col = \"steelblue\") +\n",
    "  geom_point()"
   ]
  },
  {
   "cell_type": "markdown",
   "id": "4310ba0e-a7d4-42d2-b1eb-43d27b185734",
   "metadata": {},
   "source": [
    "## Model coefficient confidence intervals"
   ]
  },
  {
   "cell_type": "code",
   "execution_count": 12,
   "id": "4eb3cb56-3755-4636-b66f-d9ab32a81a97",
   "metadata": {
    "tags": [],
    "vscode": {
     "languageId": "r"
    }
   },
   "outputs": [
    {
     "data": {
      "image/png": "[encoded data removed]",
      "text/plain": [
       "plot without title"
      ]
     },
     "metadata": {
      "image/png": {
       "height": 240,
       "width": 480
      }
     },
     "output_type": "display_data"
    }
   ],
   "source": [
    "options(repr.plot.height = 4, repr.plot.width = 8)\n",
    "\n",
    "ggplot(boot_coefs) +\n",
    "    geom_histogram(bins = 30, data = boot_coefs, mapping = aes(x = estimate)) +\n",
    "    facet_wrap( ~ term, scales = \"free\") +\n",
    "    geom_rect(data = percentile_intervals, \n",
    "              mapping = aes(xmin = .lower, xmax = .upper, ymin = -Inf, ymax = Inf),\n",
    "              alpha = 0.35, fill = 'MediumAquaMarine')"
   ]
  },
  {
   "cell_type": "code",
   "execution_count": null,
   "id": "4f0c4c13",
   "metadata": {
    "vscode": {
     "languageId": "r"
    }
   },
   "outputs": [],
   "source": []
  }
 ],
 "metadata": {
  "kernelspec": {
   "display_name": "R",
   "language": "R",
   "name": "ir"
  },
  "language_info": {
   "codemirror_mode": "r",
   "file_extension": ".r",
   "mimetype": "text/x-r-source",
   "name": "R",
   "pygments_lexer": "r",
   "version": "4.4.1"
  }
 },
 "nbformat": 4,
 "nbformat_minor": 5
}
