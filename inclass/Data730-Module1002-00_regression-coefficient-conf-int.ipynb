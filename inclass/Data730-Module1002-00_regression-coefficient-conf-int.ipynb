{
 "cells": [
  {
   "cell_type": "code",
   "execution_count": 1,
   "id": "cd764607-5fa9-4b90-bdf5-67a0a8b8b60f",
   "metadata": {
    "tags": [],
    "vscode": {
     "languageId": "r"
    }
   },
   "outputs": [
    {
     "name": "stderr",
     "output_type": "stream",
     "text": [
      "── \u001b[1mAttaching packages\u001b[22m ────────────────────────────────────── tidymodels 1.2.0 ──\n",
      "\n",
      "\u001b[32m✔\u001b[39m \u001b[34mbroom       \u001b[39m 1.0.6     \u001b[32m✔\u001b[39m \u001b[34mrecipes     \u001b[39m 1.1.0\n",
      "\u001b[32m✔\u001b[39m \u001b[34mdials       \u001b[39m 1.3.0     \u001b[32m✔\u001b[39m \u001b[34mrsample     \u001b[39m 1.2.1\n",
      "\u001b[32m✔\u001b[39m \u001b[34mdplyr       \u001b[39m 1.1.4     \u001b[32m✔\u001b[39m \u001b[34mtibble      \u001b[39m 3.2.1\n",
      "\u001b[32m✔\u001b[39m \u001b[34mggplot2     \u001b[39m 3.5.1     \u001b[32m✔\u001b[39m \u001b[34mtidyr       \u001b[39m 1.3.1\n",
      "\u001b[32m✔\u001b[39m \u001b[34minfer       \u001b[39m 1.0.7     \u001b[32m✔\u001b[39m \u001b[34mtune        \u001b[39m 1.2.1\n",
      "\u001b[32m✔\u001b[39m \u001b[34mmodeldata   \u001b[39m 1.4.0     \u001b[32m✔\u001b[39m \u001b[34mworkflows   \u001b[39m 1.1.4\n",
      "\u001b[32m✔\u001b[39m \u001b[34mparsnip     \u001b[39m 1.2.1     \u001b[32m✔\u001b[39m \u001b[34mworkflowsets\u001b[39m 1.1.0\n",
      "\u001b[32m✔\u001b[39m \u001b[34mpurrr       \u001b[39m 1.0.2     \u001b[32m✔\u001b[39m \u001b[34myardstick   \u001b[39m 1.3.1\n",
      "\n",
      "── \u001b[1mConflicts\u001b[22m ───────────────────────────────────────── tidymodels_conflicts() ──\n",
      "\u001b[31m✖\u001b[39m \u001b[34mpurrr\u001b[39m::\u001b[32mdiscard()\u001b[39m masks \u001b[34mscales\u001b[39m::discard()\n",
      "\u001b[31m✖\u001b[39m \u001b[34mdplyr\u001b[39m::\u001b[32mfilter()\u001b[39m  masks \u001b[34mstats\u001b[39m::filter()\n",
      "\u001b[31m✖\u001b[39m \u001b[34mdplyr\u001b[39m::\u001b[32mlag()\u001b[39m     masks \u001b[34mstats\u001b[39m::lag()\n",
      "\u001b[31m✖\u001b[39m \u001b[34mrecipes\u001b[39m::\u001b[32mstep()\u001b[39m  masks \u001b[34mstats\u001b[39m::step()\n",
      "\u001b[34m•\u001b[39m Dig deeper into tidy modeling with R at \u001b[32mhttps://www.tmwr.org\u001b[39m\n",
      "\n",
      "── \u001b[1mAttaching core tidyverse packages\u001b[22m ──────────────────────── tidyverse 2.0.0 ──\n",
      "\u001b[32m✔\u001b[39m \u001b[34mforcats  \u001b[39m 1.0.0     \u001b[32m✔\u001b[39m \u001b[34mreadr    \u001b[39m 2.1.5\n",
      "\u001b[32m✔\u001b[39m \u001b[34mlubridate\u001b[39m 1.9.3     \u001b[32m✔\u001b[39m \u001b[34mstringr  \u001b[39m 1.5.1\n",
      "── \u001b[1mConflicts\u001b[22m ────────────────────────────────────────── tidyverse_conflicts() ──\n",
      "\u001b[31m✖\u001b[39m \u001b[34mreadr\u001b[39m::\u001b[32mcol_factor()\u001b[39m masks \u001b[34mscales\u001b[39m::col_factor()\n",
      "\u001b[31m✖\u001b[39m \u001b[34mpurrr\u001b[39m::\u001b[32mdiscard()\u001b[39m    masks \u001b[34mscales\u001b[39m::discard()\n",
      "\u001b[31m✖\u001b[39m \u001b[34mdplyr\u001b[39m::\u001b[32mfilter()\u001b[39m     masks \u001b[34mstats\u001b[39m::filter()\n",
      "\u001b[31m✖\u001b[39m \u001b[34mstringr\u001b[39m::\u001b[32mfixed()\u001b[39m    masks \u001b[34mrecipes\u001b[39m::fixed()\n",
      "\u001b[31m✖\u001b[39m \u001b[34mdplyr\u001b[39m::\u001b[32mlag()\u001b[39m        masks \u001b[34mstats\u001b[39m::lag()\n",
      "\u001b[31m✖\u001b[39m \u001b[34mreadr\u001b[39m::\u001b[32mspec()\u001b[39m       masks \u001b[34myardstick\u001b[39m::spec()\n",
      "\u001b[36mℹ\u001b[39m Use the conflicted package (\u001b[3m\u001b[34m<http://conflicted.r-lib.org/>\u001b[39m\u001b[23m) to force all conflicts to become errors\n",
      "\n",
      "Attaching package: 'palmerpenguins'\n",
      "\n",
      "\n",
      "The following object is masked from 'package:modeldata':\n",
      "\n",
      "    penguins\n",
      "\n",
      "\n"
     ]
    }
   ],
   "source": [
    "library('tidymodels')\n",
    "library('tidyverse')\n",
    "library('palmerpenguins')\n",
    "\n",
    "theme_set(theme_gray(base_size = 16))"
   ]
  },
  {
   "cell_type": "code",
   "execution_count": 13,
   "id": "1cd88c1a-c2e8-42a0-8275-bbbe1166738d",
   "metadata": {
    "tags": [],
    "vscode": {
     "languageId": "r"
    }
   },
   "outputs": [
    {
     "data": {
      "image/png": "[encoded data removed]",
      "text/plain": [
       "plot without title"
      ]
     },
     "metadata": {
      "image/png": {
       "height": 480,
       "width": 720
      }
     },
     "output_type": "display_data"
    }
   ],
   "source": [
    "# Adelie data from Week 2 lecture\n",
    "\n",
    "adelie_data = penguins |>\n",
    "    filter(species == 'Adelie') |>\n",
    "    select(bill_length_mm, bill_depth_mm, species) |>\n",
    "    drop_na()\n",
    "\n",
    "mod = linear_reg() |> set_engine(\"lm\")\n",
    "\n",
    "mod_fit = mod |> fit(bill_length_mm ~ bill_depth_mm, data = adelie_data)\n",
    "\n",
    "adelie_data2 = augment(mod_fit, adelie_data)\n",
    "\n",
    "options(repr.plot.height = 8, repr.plot.width = 12)\n",
    "\n",
    "ggplot(adelie_data2) +\n",
    "  geom_point(aes(x = bill_depth_mm, y = bill_length_mm)) +\n",
    "  geom_line(aes(x = bill_depth_mm, y = .pred), color = 'steelblue', linewidth = 1.2) +\n",
    "  geom_segment(aes(x = bill_depth_mm, xend = bill_depth_mm, y = .pred, yend = bill_length_mm),\n",
    "               color = 'firebrick',\n",
    "               alpha = 0.25)"
   ]
  },
  {
   "cell_type": "markdown",
   "id": "c8050d90-cf67-4654-a544-9c0df0ad5775",
   "metadata": {},
   "source": [
    "## Bootstrap resample and model"
   ]
  },
  {
   "cell_type": "code",
   "execution_count": 14,
   "id": "eb7e0a75-d37f-4dbc-89ad-2b99f98a9457",
   "metadata": {
    "tags": [],
    "vscode": {
     "languageId": "r"
    }
   },
   "outputs": [
    {
     "name": "stdout",
     "output_type": "stream",
     "text": [
      "Rows: 1,000\n",
      "Columns: 2\n",
      "$ splits \u001b[3m\u001b[90m<list>\u001b[39m\u001b[23m [<boot_split[151 x 64 x 151 x 3]>], [<boot_split[151 x 54 x 15…\n",
      "$ id     \u001b[3m\u001b[90m<chr>\u001b[39m\u001b[23m \"Bootstrap0001\", \"Bootstrap0002\", \"Bootstrap0003\", \"Bootstrap00…\n"
     ]
    },
    {
     "data": {
      "text/html": [
       "1000"
      ],
      "text/latex": [
       "1000"
      ],
      "text/markdown": [
       "1000"
      ],
      "text/plain": [
       "[1] 1000"
      ]
     },
     "metadata": {},
     "output_type": "display_data"
    }
   ],
   "source": [
    "boots = bootstraps(adelie_data, times = 1000)\n",
    "\n",
    "boots |> glimpse()\n",
    "boots |> nrow()"
   ]
  },
  {
   "cell_type": "code",
   "execution_count": 15,
   "id": "e16372a6-e427-4535-88c1-f24267b3e630",
   "metadata": {
    "tags": [],
    "vscode": {
     "languageId": "r"
    }
   },
   "outputs": [],
   "source": [
    "fit_mod_on_bootstrap = function(split) {\n",
    "    mod = linear_reg() |> set_engine(\"lm\")\n",
    "    mod_fit = mod |> fit(bill_length_mm ~ bill_depth_mm, data = as.data.frame(split))\n",
    "    return(mod_fit)\n",
    "}"
   ]
  },
  {
   "cell_type": "code",
   "execution_count": 16,
   "id": "6df6e00e-d15f-459d-8721-ff8a43a91933",
   "metadata": {
    "tags": [],
    "vscode": {
     "languageId": "r"
    }
   },
   "outputs": [
    {
     "data": {
      "text/html": [
       "<table class=\"dataframe\">\n",
       "<caption>A tibble: 2 × 5</caption>\n",
       "<thead>\n",
       "\t<tr><th scope=col>term</th><th scope=col>estimate</th><th scope=col>std.error</th><th scope=col>statistic</th><th scope=col>p.value</th></tr>\n",
       "\t<tr><th scope=col>&lt;chr&gt;</th><th scope=col>&lt;dbl&gt;</th><th scope=col>&lt;dbl&gt;</th><th scope=col>&lt;dbl&gt;</th><th scope=col>&lt;dbl&gt;</th></tr>\n",
       "</thead>\n",
       "<tbody>\n",
       "\t<tr><td>(Intercept)  </td><td>23.0680794</td><td>3.0342298</td><td>7.602615</td><td>3.007505e-12</td></tr>\n",
       "\t<tr><td>bill_depth_mm</td><td> 0.8570263</td><td>0.1650259</td><td>5.193285</td><td>6.674141e-07</td></tr>\n",
       "</tbody>\n",
       "</table>\n"
      ],
      "text/latex": [
       "A tibble: 2 × 5\n",
       "\\begin{tabular}{lllll}\n",
       " term & estimate & std.error & statistic & p.value\\\\\n",
       " <chr> & <dbl> & <dbl> & <dbl> & <dbl>\\\\\n",
       "\\hline\n",
       "\t (Intercept)   & 23.0680794 & 3.0342298 & 7.602615 & 3.007505e-12\\\\\n",
       "\t bill\\_depth\\_mm &  0.8570263 & 0.1650259 & 5.193285 & 6.674141e-07\\\\\n",
       "\\end{tabular}\n"
      ],
      "text/markdown": [
       "\n",
       "A tibble: 2 × 5\n",
       "\n",
       "| term &lt;chr&gt; | estimate &lt;dbl&gt; | std.error &lt;dbl&gt; | statistic &lt;dbl&gt; | p.value &lt;dbl&gt; |\n",
       "|---|---|---|---|---|\n",
       "| (Intercept)   | 23.0680794 | 3.0342298 | 7.602615 | 3.007505e-12 |\n",
       "| bill_depth_mm |  0.8570263 | 0.1650259 | 5.193285 | 6.674141e-07 |\n",
       "\n"
      ],
      "text/plain": [
       "  term          estimate   std.error statistic p.value     \n",
       "1 (Intercept)   23.0680794 3.0342298 7.602615  3.007505e-12\n",
       "2 bill_depth_mm  0.8570263 0.1650259 5.193285  6.674141e-07"
      ]
     },
     "metadata": {},
     "output_type": "display_data"
    }
   ],
   "source": [
    "fit_mod_on_bootstrap(adelie_data) |> tidy()"
   ]
  },
  {
   "cell_type": "code",
   "execution_count": 17,
   "id": "11683baf-5cc4-4b88-8081-bb8f8387a179",
   "metadata": {
    "tags": [],
    "vscode": {
     "languageId": "r"
    }
   },
   "outputs": [],
   "source": [
    "boot_models = boots |> \n",
    "  mutate(model = map(splits, fit_mod_on_bootstrap),\n",
    "         coef_info = map(model, tidy))"
   ]
  },
  {
   "cell_type": "code",
   "execution_count": 18,
   "id": "e68c0b79-78d7-480b-b9b2-e549f3f16aeb",
   "metadata": {
    "tags": [],
    "vscode": {
     "languageId": "r"
    }
   },
   "outputs": [
    {
     "name": "stdout",
     "output_type": "stream",
     "text": [
      "Rows: 1,000\n",
      "Columns: 4\n",
      "$ splits    \u001b[3m\u001b[90m<list>\u001b[39m\u001b[23m [<boot_split[151 x 64 x 151 x 3]>], [<boot_split[151 x 54 x…\n",
      "$ id        \u001b[3m\u001b[90m<chr>\u001b[39m\u001b[23m \"Bootstrap0001\", \"Bootstrap0002\", \"Bootstrap0003\", \"Bootstra…\n",
      "$ model     \u001b[3m\u001b[90m<list>\u001b[39m\u001b[23m [NULL, ~NULL, ~NULL, regression, FALSE, stats, formula, for…\n",
      "$ coef_info \u001b[3m\u001b[90m<list>\u001b[39m\u001b[23m [<tbl_df[2 x 5]>], [<tbl_df[2 x 5]>], [<tbl_df[2 x 5]>], [<…\n"
     ]
    }
   ],
   "source": [
    "boot_models |> glimpse()"
   ]
  },
  {
   "cell_type": "code",
   "execution_count": 20,
   "id": "c8894107-179f-4062-aa2b-251ecb1abb50",
   "metadata": {
    "tags": [],
    "vscode": {
     "languageId": "r"
    }
   },
   "outputs": [
    {
     "data": {
      "text/html": [
       "<ol>\n",
       "\t<li><table class=\"dataframe\">\n",
       "<caption>A tibble: 2 × 5</caption>\n",
       "<thead>\n",
       "\t<tr><th scope=col>term</th><th scope=col>estimate</th><th scope=col>std.error</th><th scope=col>statistic</th><th scope=col>p.value</th></tr>\n",
       "\t<tr><th scope=col>&lt;chr&gt;</th><th scope=col>&lt;dbl&gt;</th><th scope=col>&lt;dbl&gt;</th><th scope=col>&lt;dbl&gt;</th><th scope=col>&lt;dbl&gt;</th></tr>\n",
       "</thead>\n",
       "<tbody>\n",
       "\t<tr><td>(Intercept)  </td><td>23.3191155</td><td>2.9242453</td><td>7.974405</td><td>3.719270e-13</td></tr>\n",
       "\t<tr><td>bill_depth_mm</td><td> 0.8413951</td><td>0.1613719</td><td>5.214014</td><td>6.072916e-07</td></tr>\n",
       "</tbody>\n",
       "</table>\n",
       "</li>\n",
       "\t<li><table class=\"dataframe\">\n",
       "<caption>A tibble: 2 × 5</caption>\n",
       "<thead>\n",
       "\t<tr><th scope=col>term</th><th scope=col>estimate</th><th scope=col>std.error</th><th scope=col>statistic</th><th scope=col>p.value</th></tr>\n",
       "\t<tr><th scope=col>&lt;chr&gt;</th><th scope=col>&lt;dbl&gt;</th><th scope=col>&lt;dbl&gt;</th><th scope=col>&lt;dbl&gt;</th><th scope=col>&lt;dbl&gt;</th></tr>\n",
       "</thead>\n",
       "<tbody>\n",
       "\t<tr><td>(Intercept)  </td><td>24.5933680</td><td>2.6305288</td><td>9.349211</td><td>1.231634e-16</td></tr>\n",
       "\t<tr><td>bill_depth_mm</td><td> 0.7666492</td><td>0.1422058</td><td>5.391125</td><td>2.685125e-07</td></tr>\n",
       "</tbody>\n",
       "</table>\n",
       "</li>\n",
       "\t<li><table class=\"dataframe\">\n",
       "<caption>A tibble: 2 × 5</caption>\n",
       "<thead>\n",
       "\t<tr><th scope=col>term</th><th scope=col>estimate</th><th scope=col>std.error</th><th scope=col>statistic</th><th scope=col>p.value</th></tr>\n",
       "\t<tr><th scope=col>&lt;chr&gt;</th><th scope=col>&lt;dbl&gt;</th><th scope=col>&lt;dbl&gt;</th><th scope=col>&lt;dbl&gt;</th><th scope=col>&lt;dbl&gt;</th></tr>\n",
       "</thead>\n",
       "<tbody>\n",
       "\t<tr><td>(Intercept)  </td><td>21.4107967</td><td>3.2561043</td><td>6.575587</td><td>7.682320e-10</td></tr>\n",
       "\t<tr><td>bill_depth_mm</td><td> 0.9551483</td><td>0.1771342</td><td>5.392231</td><td>2.671339e-07</td></tr>\n",
       "</tbody>\n",
       "</table>\n",
       "</li>\n",
       "\t<li><table class=\"dataframe\">\n",
       "<caption>A tibble: 2 × 5</caption>\n",
       "<thead>\n",
       "\t<tr><th scope=col>term</th><th scope=col>estimate</th><th scope=col>std.error</th><th scope=col>statistic</th><th scope=col>p.value</th></tr>\n",
       "\t<tr><th scope=col>&lt;chr&gt;</th><th scope=col>&lt;dbl&gt;</th><th scope=col>&lt;dbl&gt;</th><th scope=col>&lt;dbl&gt;</th><th scope=col>&lt;dbl&gt;</th></tr>\n",
       "</thead>\n",
       "<tbody>\n",
       "\t<tr><td>(Intercept)  </td><td>18.796054</td><td>3.2582514</td><td>5.768755</td><td>4.461024e-08</td></tr>\n",
       "\t<tr><td>bill_depth_mm</td><td> 1.102383</td><td>0.1763061</td><td>6.252665</td><td>4.041304e-09</td></tr>\n",
       "</tbody>\n",
       "</table>\n",
       "</li>\n",
       "\t<li><table class=\"dataframe\">\n",
       "<caption>A tibble: 2 × 5</caption>\n",
       "<thead>\n",
       "\t<tr><th scope=col>term</th><th scope=col>estimate</th><th scope=col>std.error</th><th scope=col>statistic</th><th scope=col>p.value</th></tr>\n",
       "\t<tr><th scope=col>&lt;chr&gt;</th><th scope=col>&lt;dbl&gt;</th><th scope=col>&lt;dbl&gt;</th><th scope=col>&lt;dbl&gt;</th><th scope=col>&lt;dbl&gt;</th></tr>\n",
       "</thead>\n",
       "<tbody>\n",
       "\t<tr><td>(Intercept)  </td><td>24.1115985</td><td>3.3354209</td><td>7.228952</td><td>2.357091e-11</td></tr>\n",
       "\t<tr><td>bill_depth_mm</td><td> 0.7963556</td><td>0.1804695</td><td>4.412688</td><td>1.947635e-05</td></tr>\n",
       "</tbody>\n",
       "</table>\n",
       "</li>\n",
       "\t<li><table class=\"dataframe\">\n",
       "<caption>A tibble: 2 × 5</caption>\n",
       "<thead>\n",
       "\t<tr><th scope=col>term</th><th scope=col>estimate</th><th scope=col>std.error</th><th scope=col>statistic</th><th scope=col>p.value</th></tr>\n",
       "\t<tr><th scope=col>&lt;chr&gt;</th><th scope=col>&lt;dbl&gt;</th><th scope=col>&lt;dbl&gt;</th><th scope=col>&lt;dbl&gt;</th><th scope=col>&lt;dbl&gt;</th></tr>\n",
       "</thead>\n",
       "<tbody>\n",
       "\t<tr><td>(Intercept)  </td><td>25.0148765</td><td>2.9808143</td><td>8.391961</td><td>3.404638e-14</td></tr>\n",
       "\t<tr><td>bill_depth_mm</td><td> 0.7592699</td><td>0.1618112</td><td>4.692319</td><td>6.065466e-06</td></tr>\n",
       "</tbody>\n",
       "</table>\n",
       "</li>\n",
       "</ol>\n"
      ],
      "text/latex": [
       "\\begin{enumerate}\n",
       "\\item A tibble: 2 × 5\n",
       "\\begin{tabular}{lllll}\n",
       " term & estimate & std.error & statistic & p.value\\\\\n",
       " <chr> & <dbl> & <dbl> & <dbl> & <dbl>\\\\\n",
       "\\hline\n",
       "\t (Intercept)   & 23.3191155 & 2.9242453 & 7.974405 & 3.719270e-13\\\\\n",
       "\t bill\\_depth\\_mm &  0.8413951 & 0.1613719 & 5.214014 & 6.072916e-07\\\\\n",
       "\\end{tabular}\n",
       "\n",
       "\\item A tibble: 2 × 5\n",
       "\\begin{tabular}{lllll}\n",
       " term & estimate & std.error & statistic & p.value\\\\\n",
       " <chr> & <dbl> & <dbl> & <dbl> & <dbl>\\\\\n",
       "\\hline\n",
       "\t (Intercept)   & 24.5933680 & 2.6305288 & 9.349211 & 1.231634e-16\\\\\n",
       "\t bill\\_depth\\_mm &  0.7666492 & 0.1422058 & 5.391125 & 2.685125e-07\\\\\n",
       "\\end{tabular}\n",
       "\n",
       "\\item A tibble: 2 × 5\n",
       "\\begin{tabular}{lllll}\n",
       " term & estimate & std.error & statistic & p.value\\\\\n",
       " <chr> & <dbl> & <dbl> & <dbl> & <dbl>\\\\\n",
       "\\hline\n",
       "\t (Intercept)   & 21.4107967 & 3.2561043 & 6.575587 & 7.682320e-10\\\\\n",
       "\t bill\\_depth\\_mm &  0.9551483 & 0.1771342 & 5.392231 & 2.671339e-07\\\\\n",
       "\\end{tabular}\n",
       "\n",
       "\\item A tibble: 2 × 5\n",
       "\\begin{tabular}{lllll}\n",
       " term & estimate & std.error & statistic & p.value\\\\\n",
       " <chr> & <dbl> & <dbl> & <dbl> & <dbl>\\\\\n",
       "\\hline\n",
       "\t (Intercept)   & 18.796054 & 3.2582514 & 5.768755 & 4.461024e-08\\\\\n",
       "\t bill\\_depth\\_mm &  1.102383 & 0.1763061 & 6.252665 & 4.041304e-09\\\\\n",
       "\\end{tabular}\n",
       "\n",
       "\\item A tibble: 2 × 5\n",
       "\\begin{tabular}{lllll}\n",
       " term & estimate & std.error & statistic & p.value\\\\\n",
       " <chr> & <dbl> & <dbl> & <dbl> & <dbl>\\\\\n",
       "\\hline\n",
       "\t (Intercept)   & 24.1115985 & 3.3354209 & 7.228952 & 2.357091e-11\\\\\n",
       "\t bill\\_depth\\_mm &  0.7963556 & 0.1804695 & 4.412688 & 1.947635e-05\\\\\n",
       "\\end{tabular}\n",
       "\n",
       "\\item A tibble: 2 × 5\n",
       "\\begin{tabular}{lllll}\n",
       " term & estimate & std.error & statistic & p.value\\\\\n",
       " <chr> & <dbl> & <dbl> & <dbl> & <dbl>\\\\\n",
       "\\hline\n",
       "\t (Intercept)   & 25.0148765 & 2.9808143 & 8.391961 & 3.404638e-14\\\\\n",
       "\t bill\\_depth\\_mm &  0.7592699 & 0.1618112 & 4.692319 & 6.065466e-06\\\\\n",
       "\\end{tabular}\n",
       "\n",
       "\\end{enumerate}\n"
      ],
      "text/markdown": [
       "1. \n",
       "A tibble: 2 × 5\n",
       "\n",
       "| term &lt;chr&gt; | estimate &lt;dbl&gt; | std.error &lt;dbl&gt; | statistic &lt;dbl&gt; | p.value &lt;dbl&gt; |\n",
       "|---|---|---|---|---|\n",
       "| (Intercept)   | 23.3191155 | 2.9242453 | 7.974405 | 3.719270e-13 |\n",
       "| bill_depth_mm |  0.8413951 | 0.1613719 | 5.214014 | 6.072916e-07 |\n",
       "\n",
       "\n",
       "2. \n",
       "A tibble: 2 × 5\n",
       "\n",
       "| term &lt;chr&gt; | estimate &lt;dbl&gt; | std.error &lt;dbl&gt; | statistic &lt;dbl&gt; | p.value &lt;dbl&gt; |\n",
       "|---|---|---|---|---|\n",
       "| (Intercept)   | 24.5933680 | 2.6305288 | 9.349211 | 1.231634e-16 |\n",
       "| bill_depth_mm |  0.7666492 | 0.1422058 | 5.391125 | 2.685125e-07 |\n",
       "\n",
       "\n",
       "3. \n",
       "A tibble: 2 × 5\n",
       "\n",
       "| term &lt;chr&gt; | estimate &lt;dbl&gt; | std.error &lt;dbl&gt; | statistic &lt;dbl&gt; | p.value &lt;dbl&gt; |\n",
       "|---|---|---|---|---|\n",
       "| (Intercept)   | 21.4107967 | 3.2561043 | 6.575587 | 7.682320e-10 |\n",
       "| bill_depth_mm |  0.9551483 | 0.1771342 | 5.392231 | 2.671339e-07 |\n",
       "\n",
       "\n",
       "4. \n",
       "A tibble: 2 × 5\n",
       "\n",
       "| term &lt;chr&gt; | estimate &lt;dbl&gt; | std.error &lt;dbl&gt; | statistic &lt;dbl&gt; | p.value &lt;dbl&gt; |\n",
       "|---|---|---|---|---|\n",
       "| (Intercept)   | 18.796054 | 3.2582514 | 5.768755 | 4.461024e-08 |\n",
       "| bill_depth_mm |  1.102383 | 0.1763061 | 6.252665 | 4.041304e-09 |\n",
       "\n",
       "\n",
       "5. \n",
       "A tibble: 2 × 5\n",
       "\n",
       "| term &lt;chr&gt; | estimate &lt;dbl&gt; | std.error &lt;dbl&gt; | statistic &lt;dbl&gt; | p.value &lt;dbl&gt; |\n",
       "|---|---|---|---|---|\n",
       "| (Intercept)   | 24.1115985 | 3.3354209 | 7.228952 | 2.357091e-11 |\n",
       "| bill_depth_mm |  0.7963556 | 0.1804695 | 4.412688 | 1.947635e-05 |\n",
       "\n",
       "\n",
       "6. \n",
       "A tibble: 2 × 5\n",
       "\n",
       "| term &lt;chr&gt; | estimate &lt;dbl&gt; | std.error &lt;dbl&gt; | statistic &lt;dbl&gt; | p.value &lt;dbl&gt; |\n",
       "|---|---|---|---|---|\n",
       "| (Intercept)   | 25.0148765 | 2.9808143 | 8.391961 | 3.404638e-14 |\n",
       "| bill_depth_mm |  0.7592699 | 0.1618112 | 4.692319 | 6.065466e-06 |\n",
       "\n",
       "\n",
       "\n",
       "\n"
      ],
      "text/plain": [
       "[[1]]\n",
       "\u001b[90m# A tibble: 2 × 5\u001b[39m\n",
       "  term          estimate std.error statistic  p.value\n",
       "  \u001b[3m\u001b[90m<chr>\u001b[39m\u001b[23m            \u001b[3m\u001b[90m<dbl>\u001b[39m\u001b[23m     \u001b[3m\u001b[90m<dbl>\u001b[39m\u001b[23m     \u001b[3m\u001b[90m<dbl>\u001b[39m\u001b[23m    \u001b[3m\u001b[90m<dbl>\u001b[39m\u001b[23m\n",
       "\u001b[90m1\u001b[39m (Intercept)     23.3       2.92       7.97 3.72\u001b[90me\u001b[39m\u001b[31m-13\u001b[39m\n",
       "\u001b[90m2\u001b[39m bill_depth_mm    0.841     0.161      5.21 6.07\u001b[90me\u001b[39m\u001b[31m- 7\u001b[39m\n",
       "\n",
       "[[2]]\n",
       "\u001b[90m# A tibble: 2 × 5\u001b[39m\n",
       "  term          estimate std.error statistic  p.value\n",
       "  \u001b[3m\u001b[90m<chr>\u001b[39m\u001b[23m            \u001b[3m\u001b[90m<dbl>\u001b[39m\u001b[23m     \u001b[3m\u001b[90m<dbl>\u001b[39m\u001b[23m     \u001b[3m\u001b[90m<dbl>\u001b[39m\u001b[23m    \u001b[3m\u001b[90m<dbl>\u001b[39m\u001b[23m\n",
       "\u001b[90m1\u001b[39m (Intercept)     24.6       2.63       9.35 1.23\u001b[90me\u001b[39m\u001b[31m-16\u001b[39m\n",
       "\u001b[90m2\u001b[39m bill_depth_mm    0.767     0.142      5.39 2.69\u001b[90me\u001b[39m\u001b[31m- 7\u001b[39m\n",
       "\n",
       "[[3]]\n",
       "\u001b[90m# A tibble: 2 × 5\u001b[39m\n",
       "  term          estimate std.error statistic  p.value\n",
       "  \u001b[3m\u001b[90m<chr>\u001b[39m\u001b[23m            \u001b[3m\u001b[90m<dbl>\u001b[39m\u001b[23m     \u001b[3m\u001b[90m<dbl>\u001b[39m\u001b[23m     \u001b[3m\u001b[90m<dbl>\u001b[39m\u001b[23m    \u001b[3m\u001b[90m<dbl>\u001b[39m\u001b[23m\n",
       "\u001b[90m1\u001b[39m (Intercept)     21.4       3.26       6.58 7.68\u001b[90me\u001b[39m\u001b[31m-10\u001b[39m\n",
       "\u001b[90m2\u001b[39m bill_depth_mm    0.955     0.177      5.39 2.67\u001b[90me\u001b[39m\u001b[31m- 7\u001b[39m\n",
       "\n",
       "[[4]]\n",
       "\u001b[90m# A tibble: 2 × 5\u001b[39m\n",
       "  term          estimate std.error statistic       p.value\n",
       "  \u001b[3m\u001b[90m<chr>\u001b[39m\u001b[23m            \u001b[3m\u001b[90m<dbl>\u001b[39m\u001b[23m     \u001b[3m\u001b[90m<dbl>\u001b[39m\u001b[23m     \u001b[3m\u001b[90m<dbl>\u001b[39m\u001b[23m         \u001b[3m\u001b[90m<dbl>\u001b[39m\u001b[23m\n",
       "\u001b[90m1\u001b[39m (Intercept)      18.8      3.26       5.77 0.000\u001b[4m0\u001b[24m\u001b[4m0\u001b[24m\u001b[4m0\u001b[24m044\u001b[4m6\u001b[24m \n",
       "\u001b[90m2\u001b[39m bill_depth_mm     1.10     0.176      6.25 0.000\u001b[4m0\u001b[24m\u001b[4m0\u001b[24m\u001b[4m0\u001b[24m004\u001b[4m0\u001b[24m\u001b[4m4\u001b[24m\n",
       "\n",
       "[[5]]\n",
       "\u001b[90m# A tibble: 2 × 5\u001b[39m\n",
       "  term          estimate std.error statistic  p.value\n",
       "  \u001b[3m\u001b[90m<chr>\u001b[39m\u001b[23m            \u001b[3m\u001b[90m<dbl>\u001b[39m\u001b[23m     \u001b[3m\u001b[90m<dbl>\u001b[39m\u001b[23m     \u001b[3m\u001b[90m<dbl>\u001b[39m\u001b[23m    \u001b[3m\u001b[90m<dbl>\u001b[39m\u001b[23m\n",
       "\u001b[90m1\u001b[39m (Intercept)     24.1       3.34       7.23 2.36\u001b[90me\u001b[39m\u001b[31m-11\u001b[39m\n",
       "\u001b[90m2\u001b[39m bill_depth_mm    0.796     0.180      4.41 1.95\u001b[90me\u001b[39m\u001b[31m- 5\u001b[39m\n",
       "\n",
       "[[6]]\n",
       "\u001b[90m# A tibble: 2 × 5\u001b[39m\n",
       "  term          estimate std.error statistic  p.value\n",
       "  \u001b[3m\u001b[90m<chr>\u001b[39m\u001b[23m            \u001b[3m\u001b[90m<dbl>\u001b[39m\u001b[23m     \u001b[3m\u001b[90m<dbl>\u001b[39m\u001b[23m     \u001b[3m\u001b[90m<dbl>\u001b[39m\u001b[23m    \u001b[3m\u001b[90m<dbl>\u001b[39m\u001b[23m\n",
       "\u001b[90m1\u001b[39m (Intercept)     25.0       2.98       8.39 3.40\u001b[90me\u001b[39m\u001b[31m-14\u001b[39m\n",
       "\u001b[90m2\u001b[39m bill_depth_mm    0.759     0.162      4.69 6.07\u001b[90me\u001b[39m\u001b[31m- 6\u001b[39m\n"
      ]
     },
     "metadata": {},
     "output_type": "display_data"
    }
   ],
   "source": [
    "boot_models |> pull(coef_info) |> head()"
   ]
  },
  {
   "cell_type": "code",
   "execution_count": 8,
   "id": "f5130eb3-9c84-43a9-bfeb-1a81b1bc4649",
   "metadata": {
    "tags": [],
    "vscode": {
     "languageId": "r"
    }
   },
   "outputs": [
    {
     "data": {
      "text/html": [
       "<table class=\"dataframe\">\n",
       "<caption>A tibble: 6 × 6</caption>\n",
       "<thead>\n",
       "\t<tr><th scope=col>id</th><th scope=col>term</th><th scope=col>estimate</th><th scope=col>std.error</th><th scope=col>statistic</th><th scope=col>p.value</th></tr>\n",
       "\t<tr><th scope=col>&lt;chr&gt;</th><th scope=col>&lt;chr&gt;</th><th scope=col>&lt;dbl&gt;</th><th scope=col>&lt;dbl&gt;</th><th scope=col>&lt;dbl&gt;</th><th scope=col>&lt;dbl&gt;</th></tr>\n",
       "</thead>\n",
       "<tbody>\n",
       "\t<tr><td>Bootstrap0001</td><td>(Intercept)  </td><td>24.9758400</td><td>3.0818759</td><td>8.104103</td><td>1.778030e-13</td></tr>\n",
       "\t<tr><td>Bootstrap0001</td><td>bill_depth_mm</td><td> 0.7464232</td><td>0.1686056</td><td>4.427038</td><td>1.836646e-05</td></tr>\n",
       "\t<tr><td>Bootstrap0002</td><td>(Intercept)  </td><td>22.7620668</td><td>2.9875924</td><td>7.618866</td><td>2.747183e-12</td></tr>\n",
       "\t<tr><td>Bootstrap0002</td><td>bill_depth_mm</td><td> 0.8729209</td><td>0.1628271</td><td>5.361028</td><td>3.088239e-07</td></tr>\n",
       "\t<tr><td>Bootstrap0003</td><td>(Intercept)  </td><td>26.5720034</td><td>2.9196544</td><td>9.101078</td><td>5.374912e-16</td></tr>\n",
       "\t<tr><td>Bootstrap0003</td><td>bill_depth_mm</td><td> 0.6772573</td><td>0.1596040</td><td>4.243361</td><td>3.853680e-05</td></tr>\n",
       "</tbody>\n",
       "</table>\n"
      ],
      "text/latex": [
       "A tibble: 6 × 6\n",
       "\\begin{tabular}{llllll}\n",
       " id & term & estimate & std.error & statistic & p.value\\\\\n",
       " <chr> & <chr> & <dbl> & <dbl> & <dbl> & <dbl>\\\\\n",
       "\\hline\n",
       "\t Bootstrap0001 & (Intercept)   & 24.9758400 & 3.0818759 & 8.104103 & 1.778030e-13\\\\\n",
       "\t Bootstrap0001 & bill\\_depth\\_mm &  0.7464232 & 0.1686056 & 4.427038 & 1.836646e-05\\\\\n",
       "\t Bootstrap0002 & (Intercept)   & 22.7620668 & 2.9875924 & 7.618866 & 2.747183e-12\\\\\n",
       "\t Bootstrap0002 & bill\\_depth\\_mm &  0.8729209 & 0.1628271 & 5.361028 & 3.088239e-07\\\\\n",
       "\t Bootstrap0003 & (Intercept)   & 26.5720034 & 2.9196544 & 9.101078 & 5.374912e-16\\\\\n",
       "\t Bootstrap0003 & bill\\_depth\\_mm &  0.6772573 & 0.1596040 & 4.243361 & 3.853680e-05\\\\\n",
       "\\end{tabular}\n"
      ],
      "text/markdown": [
       "\n",
       "A tibble: 6 × 6\n",
       "\n",
       "| id &lt;chr&gt; | term &lt;chr&gt; | estimate &lt;dbl&gt; | std.error &lt;dbl&gt; | statistic &lt;dbl&gt; | p.value &lt;dbl&gt; |\n",
       "|---|---|---|---|---|---|\n",
       "| Bootstrap0001 | (Intercept)   | 24.9758400 | 3.0818759 | 8.104103 | 1.778030e-13 |\n",
       "| Bootstrap0001 | bill_depth_mm |  0.7464232 | 0.1686056 | 4.427038 | 1.836646e-05 |\n",
       "| Bootstrap0002 | (Intercept)   | 22.7620668 | 2.9875924 | 7.618866 | 2.747183e-12 |\n",
       "| Bootstrap0002 | bill_depth_mm |  0.8729209 | 0.1628271 | 5.361028 | 3.088239e-07 |\n",
       "| Bootstrap0003 | (Intercept)   | 26.5720034 | 2.9196544 | 9.101078 | 5.374912e-16 |\n",
       "| Bootstrap0003 | bill_depth_mm |  0.6772573 | 0.1596040 | 4.243361 | 3.853680e-05 |\n",
       "\n"
      ],
      "text/plain": [
       "  id            term          estimate   std.error statistic p.value     \n",
       "1 Bootstrap0001 (Intercept)   24.9758400 3.0818759 8.104103  1.778030e-13\n",
       "2 Bootstrap0001 bill_depth_mm  0.7464232 0.1686056 4.427038  1.836646e-05\n",
       "3 Bootstrap0002 (Intercept)   22.7620668 2.9875924 7.618866  2.747183e-12\n",
       "4 Bootstrap0002 bill_depth_mm  0.8729209 0.1628271 5.361028  3.088239e-07\n",
       "5 Bootstrap0003 (Intercept)   26.5720034 2.9196544 9.101078  5.374912e-16\n",
       "6 Bootstrap0003 bill_depth_mm  0.6772573 0.1596040 4.243361  3.853680e-05"
      ]
     },
     "metadata": {},
     "output_type": "display_data"
    }
   ],
   "source": [
    "boot_coefs = \n",
    "  boot_models |> \n",
    "  unnest(coef_info) |>\n",
    "  select(-splits, -model)\n",
    "\n",
    "boot_coefs |> head()"
   ]
  },
  {
   "cell_type": "code",
   "execution_count": null,
   "id": "9feea450-2447-49d1-8825-2189170a6e97",
   "metadata": {
    "tags": [],
    "vscode": {
     "languageId": "r"
    }
   },
   "outputs": [
    {
     "data": {
      "text/html": [
       "<table class=\"dataframe\">\n",
       "<caption>A tibble: 2 × 6</caption>\n",
       "<thead>\n",
       "\t<tr><th scope=col>term</th><th scope=col>.lower</th><th scope=col>.estimate</th><th scope=col>.upper</th><th scope=col>.alpha</th><th scope=col>.method</th></tr>\n",
       "\t<tr><th scope=col>&lt;chr&gt;</th><th scope=col>&lt;dbl&gt;</th><th scope=col>&lt;dbl&gt;</th><th scope=col>&lt;dbl&gt;</th><th scope=col>&lt;dbl&gt;</th><th scope=col>&lt;chr&gt;</th></tr>\n",
       "</thead>\n",
       "<tbody>\n",
       "\t<tr><td>(Intercept)  </td><td>16.8059854</td><td>22.9281601</td><td>29.213626</td><td>0.05</td><td>percentile</td></tr>\n",
       "\t<tr><td>bill_depth_mm</td><td> 0.5199754</td><td> 0.8650785</td><td> 1.204156</td><td>0.05</td><td>percentile</td></tr>\n",
       "</tbody>\n",
       "</table>\n"
      ],
      "text/latex": [
       "A tibble: 2 × 6\n",
       "\\begin{tabular}{llllll}\n",
       " term & .lower & .estimate & .upper & .alpha & .method\\\\\n",
       " <chr> & <dbl> & <dbl> & <dbl> & <dbl> & <chr>\\\\\n",
       "\\hline\n",
       "\t (Intercept)   & 16.8059854 & 22.9281601 & 29.213626 & 0.05 & percentile\\\\\n",
       "\t bill\\_depth\\_mm &  0.5199754 &  0.8650785 &  1.204156 & 0.05 & percentile\\\\\n",
       "\\end{tabular}\n"
      ],
      "text/markdown": [
       "\n",
       "A tibble: 2 × 6\n",
       "\n",
       "| term &lt;chr&gt; | .lower &lt;dbl&gt; | .estimate &lt;dbl&gt; | .upper &lt;dbl&gt; | .alpha &lt;dbl&gt; | .method &lt;chr&gt; |\n",
       "|---|---|---|---|---|---|\n",
       "| (Intercept)   | 16.8059854 | 22.9281601 | 29.213626 | 0.05 | percentile |\n",
       "| bill_depth_mm |  0.5199754 |  0.8650785 |  1.204156 | 0.05 | percentile |\n",
       "\n"
      ],
      "text/plain": [
       "  term          .lower     .estimate  .upper    .alpha .method   \n",
       "1 (Intercept)   16.8059854 22.9281601 29.213626 0.05   percentile\n",
       "2 bill_depth_mm  0.5199754  0.8650785  1.204156 0.05   percentile"
      ]
     },
     "metadata": {},
     "output_type": "display_data"
    }
   ],
   "source": [
    "percentile_intervals = int_pctl(boot_models, coef_info) # calculating confidence intervals\n",
    "percentile_intervals"
   ]
  },
  {
   "cell_type": "markdown",
   "id": "a430eae2-d3bf-40f1-8cdd-94cd582866c8",
   "metadata": {},
   "source": [
    "## Visualize a subsample of models"
   ]
  },
  {
   "cell_type": "code",
   "execution_count": 24,
   "id": "8e5d155e-49d1-4463-82b2-190e9c6a9638",
   "metadata": {
    "tags": [],
    "vscode": {
     "languageId": "r"
    }
   },
   "outputs": [
    {
     "data": {
      "image/png": "[encoded data removed]",
      "text/plain": [
       "plot without title"
      ]
     },
     "metadata": {
      "image/png": {
       "height": 480,
       "width": 720
      }
     },
     "output_type": "display_data"
    }
   ],
   "source": [
    "boot_aug = boot_models |> \n",
    "    sample_n(1000) |> \n",
    "    mutate(augmented = map(model, augment, new_data = adelie_data)) |> \n",
    "    unnest(augmented) |> # expands a list-column containing data frames into raws and columns\n",
    "    select(-model, -splits, -coef_info)\n",
    "\n",
    "ggplot(boot_aug, aes(x = bill_depth_mm, y = bill_length_mm)) +\n",
    "  geom_line(aes(y = .pred, group = id), alpha = .5, col = \"steelblue\") +\n",
    "  geom_point()"
   ]
  },
  {
   "cell_type": "markdown",
   "id": "4310ba0e-a7d4-42d2-b1eb-43d27b185734",
   "metadata": {},
   "source": [
    "## Model coefficient confidence intervals"
   ]
  },
  {
   "cell_type": "code",
   "execution_count": 25,
   "id": "4eb3cb56-3755-4636-b66f-d9ab32a81a97",
   "metadata": {
    "tags": [],
    "vscode": {
     "languageId": "r"
    }
   },
   "outputs": [
    {
     "data": {
      "image/png": "[encoded data removed]",
      "text/plain": [
       "plot without title"
      ]
     },
     "metadata": {
      "image/png": {
       "height": 240,
       "width": 480
      }
     },
     "output_type": "display_data"
    }
   ],
   "source": [
    "options(repr.plot.height = 4, repr.plot.width = 8)\n",
    "\n",
    "ggplot(boot_coefs) +\n",
    "    geom_histogram(bins = 30, data = boot_coefs, mapping = aes(x = estimate)) +\n",
    "    facet_wrap( ~ term, scales = \"free\") +\n",
    "    geom_rect(data = percentile_intervals, \n",
    "              mapping = aes(xmin = .lower, xmax = .upper, ymin = -Inf, ymax = Inf),\n",
    "              alpha = 0.35, fill = 'MediumAquaMarine')"
   ]
  },
  {
   "cell_type": "code",
   "execution_count": null,
   "id": "4f0c4c13",
   "metadata": {
    "vscode": {
     "languageId": "r"
    }
   },
   "outputs": [],
   "source": []
  }
 ],
 "metadata": {
  "kernelspec": {
   "display_name": "R",
   "language": "R",
   "name": "ir"
  },
  "language_info": {
   "codemirror_mode": "r",
   "file_extension": ".r",
   "mimetype": "text/x-r-source",
   "name": "R",
   "pygments_lexer": "r",
   "version": "4.4.1"
  }
 },
 "nbformat": 4,
 "nbformat_minor": 5
}
