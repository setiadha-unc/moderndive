{
 "cells": [
  {
   "cell_type": "code",
   "execution_count": 5,
   "metadata": {
    "vscode": {
     "languageId": "r"
    }
   },
   "outputs": [
    {
     "name": "stderr",
     "output_type": "stream",
     "text": [
      "── \u001b[1mAttaching core tidyverse packages\u001b[22m ──────────────────────── tidyverse 2.0.0 ──\n",
      "\u001b[32m✔\u001b[39m \u001b[34mdplyr    \u001b[39m 1.1.4     \u001b[32m✔\u001b[39m \u001b[34mreadr    \u001b[39m 2.1.5\n",
      "\u001b[32m✔\u001b[39m \u001b[34mforcats  \u001b[39m 1.0.0     \u001b[32m✔\u001b[39m \u001b[34mstringr  \u001b[39m 1.5.1\n",
      "\u001b[32m✔\u001b[39m \u001b[34mggplot2  \u001b[39m 3.5.1     \u001b[32m✔\u001b[39m \u001b[34mtibble   \u001b[39m 3.2.1\n",
      "\u001b[32m✔\u001b[39m \u001b[34mlubridate\u001b[39m 1.9.3     \u001b[32m✔\u001b[39m \u001b[34mtidyr    \u001b[39m 1.3.1\n",
      "── \u001b[1mConflicts\u001b[22m ────────────────────────────────────────── tidyverse_conflicts() ──\n",
      "\u001b[31m✖\u001b[39m \u001b[34mdplyr\u001b[39m::\u001b[32mfilter()\u001b[39m masks \u001b[34mstats\u001b[39m::filter()\n",
      "\u001b[31m✖\u001b[39m \u001b[34mdplyr\u001b[39m::\u001b[32mlag()\u001b[39m    masks \u001b[34mstats\u001b[39m::lag()\n",
      "\u001b[36mℹ\u001b[39m Use the conflicted package (\u001b[3m\u001b[34m<http://conflicted.r-lib.org/>\u001b[39m\u001b[23m) to force all conflicts to become errors\n"
     ]
    }
   ],
   "source": [
    "library('purrr')\n",
    "library('tidyverse')\n",
    "\n",
    "theme_set(theme_gray(base_size = 16))"
   ]
  },
  {
   "cell_type": "code",
   "execution_count": 6,
   "metadata": {
    "vscode": {
     "languageId": "r"
    }
   },
   "outputs": [
    {
     "data": {
      "text/html": [
       "<style>\n",
       ".list-inline {list-style: none; margin:0; padding: 0}\n",
       ".list-inline>li {display: inline-block}\n",
       ".list-inline>li:not(:last-child)::after {content: \"\\00b7\"; padding: 0 .5ex}\n",
       "</style>\n",
       "<ol class=list-inline><li>'heads'</li><li>'heads'</li><li>'heads'</li><li>'heads'</li><li>'heads'</li></ol>\n"
      ],
      "text/latex": [
       "\\begin{enumerate*}\n",
       "\\item 'heads'\n",
       "\\item 'heads'\n",
       "\\item 'heads'\n",
       "\\item 'heads'\n",
       "\\item 'heads'\n",
       "\\end{enumerate*}\n"
      ],
      "text/markdown": [
       "1. 'heads'\n",
       "2. 'heads'\n",
       "3. 'heads'\n",
       "4. 'heads'\n",
       "5. 'heads'\n",
       "\n",
       "\n"
      ],
      "text/plain": [
       "[1] \"heads\" \"heads\" \"heads\" \"heads\" \"heads\""
      ]
     },
     "metadata": {},
     "output_type": "display_data"
    }
   ],
   "source": [
    "tosses = c(rep('heads', 140), rep('tails', 110))\n",
    "\n",
    "tosses[1:5]"
   ]
  },
  {
   "cell_type": "code",
   "execution_count": 7,
   "metadata": {
    "vscode": {
     "languageId": "r"
    }
   },
   "outputs": [
    {
     "data": {
      "text/html": [
       "250"
      ],
      "text/latex": [
       "250"
      ],
      "text/markdown": [
       "250"
      ],
      "text/plain": [
       "[1] 250"
      ]
     },
     "metadata": {},
     "output_type": "display_data"
    }
   ],
   "source": [
    "length(tosses)"
   ]
  },
  {
   "cell_type": "code",
   "execution_count": 8,
   "metadata": {
    "vscode": {
     "languageId": "r"
    }
   },
   "outputs": [
    {
     "data": {
      "text/html": [
       "<table class=\"dataframe\">\n",
       "<caption>A data.frame: 6 × 4</caption>\n",
       "<thead>\n",
       "\t<tr><th></th><th scope=col>sample_id</th><th scope=col>outcome</th><th scope=col>n</th><th scope=col>difference_from_expected</th></tr>\n",
       "\t<tr><th></th><th scope=col>&lt;chr&gt;</th><th scope=col>&lt;chr&gt;</th><th scope=col>&lt;int&gt;</th><th scope=col>&lt;dbl&gt;</th></tr>\n",
       "</thead>\n",
       "<tbody>\n",
       "\t<tr><th scope=row>1</th><td>1</td><td>heads</td><td>141</td><td>16</td></tr>\n",
       "\t<tr><th scope=row>2</th><td>2</td><td>heads</td><td>134</td><td> 9</td></tr>\n",
       "\t<tr><th scope=row>3</th><td>3</td><td>heads</td><td>133</td><td> 8</td></tr>\n",
       "\t<tr><th scope=row>4</th><td>4</td><td>heads</td><td>139</td><td>14</td></tr>\n",
       "\t<tr><th scope=row>5</th><td>5</td><td>heads</td><td>135</td><td>10</td></tr>\n",
       "\t<tr><th scope=row>6</th><td>6</td><td>heads</td><td>138</td><td>13</td></tr>\n",
       "</tbody>\n",
       "</table>\n"
      ],
      "text/latex": [
       "A data.frame: 6 × 4\n",
       "\\begin{tabular}{r|llll}\n",
       "  & sample\\_id & outcome & n & difference\\_from\\_expected\\\\\n",
       "  & <chr> & <chr> & <int> & <dbl>\\\\\n",
       "\\hline\n",
       "\t1 & 1 & heads & 141 & 16\\\\\n",
       "\t2 & 2 & heads & 134 &  9\\\\\n",
       "\t3 & 3 & heads & 133 &  8\\\\\n",
       "\t4 & 4 & heads & 139 & 14\\\\\n",
       "\t5 & 5 & heads & 135 & 10\\\\\n",
       "\t6 & 6 & heads & 138 & 13\\\\\n",
       "\\end{tabular}\n"
      ],
      "text/markdown": [
       "\n",
       "A data.frame: 6 × 4\n",
       "\n",
       "| <!--/--> | sample_id &lt;chr&gt; | outcome &lt;chr&gt; | n &lt;int&gt; | difference_from_expected &lt;dbl&gt; |\n",
       "|---|---|---|---|---|\n",
       "| 1 | 1 | heads | 141 | 16 |\n",
       "| 2 | 2 | heads | 134 |  9 |\n",
       "| 3 | 3 | heads | 133 |  8 |\n",
       "| 4 | 4 | heads | 139 | 14 |\n",
       "| 5 | 5 | heads | 135 | 10 |\n",
       "| 6 | 6 | heads | 138 | 13 |\n",
       "\n"
      ],
      "text/plain": [
       "  sample_id outcome n   difference_from_expected\n",
       "1 1         heads   141 16                      \n",
       "2 2         heads   134  9                      \n",
       "3 3         heads   133  8                      \n",
       "4 4         heads   139 14                      \n",
       "5 5         heads   135 10                      \n",
       "6 6         heads   138 13                      "
      ]
     },
     "metadata": {},
     "output_type": "display_data"
    }
   ],
   "source": [
    "bootstrap_resample = function(tosses, expected = 125) {\n",
    "\n",
    "result = sample(tosses, replace = TRUE)\n",
    "\n",
    "result_df = data.frame(outcome = result) |>\n",
    "    count(outcome) |>\n",
    "    filter(outcome == 'heads') |>\n",
    "    mutate(difference_from_expected = n - expected)\n",
    "\n",
    "return(result_df)\n",
    "}\n",
    "\n",
    "n_resamplings = 1000\n",
    "\n",
    "samples_df = map_df(1:n_resamplings, ~bootstrap_resample(tosses), .id = 'sample_id')\n",
    "\n",
    "samples_df |> head()"
   ]
  },
  {
   "cell_type": "code",
   "execution_count": 9,
   "metadata": {
    "vscode": {
     "languageId": "r"
    }
   },
   "outputs": [
    {
     "data": {
      "text/html": [
       "<table class=\"dataframe\">\n",
       "<caption>A tibble: 1 × 2</caption>\n",
       "<thead>\n",
       "\t<tr><th scope=col>0.025</th><th scope=col>0.975</th></tr>\n",
       "\t<tr><th scope=col>&lt;dbl&gt;</th><th scope=col>&lt;dbl&gt;</th></tr>\n",
       "</thead>\n",
       "<tbody>\n",
       "\t<tr><td>-0.025</td><td>30.025</td></tr>\n",
       "</tbody>\n",
       "</table>\n"
      ],
      "text/latex": [
       "A tibble: 1 × 2\n",
       "\\begin{tabular}{ll}\n",
       " 0.025 & 0.975\\\\\n",
       " <dbl> & <dbl>\\\\\n",
       "\\hline\n",
       "\t -0.025 & 30.025\\\\\n",
       "\\end{tabular}\n"
      ],
      "text/markdown": [
       "\n",
       "A tibble: 1 × 2\n",
       "\n",
       "| 0.025 &lt;dbl&gt; | 0.975 &lt;dbl&gt; |\n",
       "|---|---|\n",
       "| -0.025 | 30.025 |\n",
       "\n"
      ],
      "text/plain": [
       "  0.025  0.975 \n",
       "1 -0.025 30.025"
      ]
     },
     "metadata": {},
     "output_type": "display_data"
    }
   ],
   "source": [
    "get_percentiles = function(x, q=c(0.025, 0.5, 0.975)) {\n",
    "    tibble(value = quantile(x, q), percentile = q)\n",
    "}\n",
    "\n",
    "percentile_df = samples_df |>\n",
    "    reframe(get_percentiles(difference_from_expected, q=c(0.025, 0.975))) |>\n",
    "    tidyr::pivot_wider(names_from = percentile)\n",
    "    \n",
    "percentile_df"
   ]
  },
  {
   "cell_type": "code",
   "execution_count": 10,
   "metadata": {
    "vscode": {
     "languageId": "r"
    }
   },
   "outputs": [
    {
     "name": "stderr",
     "output_type": "stream",
     "text": [
      "\u001b[1m\u001b[22m`stat_bin()` using `bins = 30`. Pick better value with `binwidth`.\n"
     ]
    },
    {
     "data": {
      "image/png": "[encoded data removed]",
      "text/plain": [
       "plot without title"
      ]
     },
     "metadata": {
      "image/png": {
       "height": 240,
       "width": 420
      }
     },
     "output_type": "display_data"
    }
   ],
   "source": [
    "options(repr.plot.width = 7, repr.plot.height = 4)\n",
    "\n",
    "p = ggplot() + \n",
    "    geom_rect(data = percentile_df, \n",
    "              mapping = aes(xmin = `0.025`, xmax = `0.975`, ymin = -Inf, ymax = Inf),\n",
    "              alpha = 0.35, fill = 'MediumAquaMarine') +\n",
    "    geom_histogram(data = samples_df, mapping = aes(x = difference_from_expected)) +\n",
    "    geom_vline(xintercept = 0, color = 'firebrick', linewidth = 1)\n",
    "\n",
    "p"
   ]
  },
  {
   "cell_type": "code",
   "execution_count": null,
   "metadata": {
    "vscode": {
     "languageId": "r"
    }
   },
   "outputs": [],
   "source": []
  }
 ],
 "metadata": {
  "kernelspec": {
   "display_name": "R",
   "language": "R",
   "name": "ir"
  },
  "language_info": {
   "codemirror_mode": "r",
   "file_extension": ".r",
   "mimetype": "text/x-r-source",
   "name": "R",
   "pygments_lexer": "r",
   "version": "4.4.1"
  }
 },
 "nbformat": 4,
 "nbformat_minor": 2
}
