{
 "cells": [
  {
   "cell_type": "code",
   "execution_count": 1,
   "id": "1c1ba376-f126-4480-9bcf-535e7da8f2c8",
   "metadata": {
    "vscode": {
     "languageId": "r"
    }
   },
   "outputs": [],
   "source": [
    "library('palmerpenguins')"
   ]
  },
  {
   "cell_type": "code",
   "execution_count": 2,
   "id": "b1d30a90-8339-43be-bb6e-20b9d48d1c99",
   "metadata": {
    "vscode": {
     "languageId": "r"
    }
   },
   "outputs": [
    {
     "name": "stderr",
     "output_type": "stream",
     "text": [
      "── \u001b[1mAttaching packages\u001b[22m ─────────────────────────────────────────────────────────────────────────────────────────────────────────── tidymodels 1.1.1 ──\n",
      "\n",
      "\u001b[32m✔\u001b[39m \u001b[34mbroom       \u001b[39m 1.0.5     \u001b[32m✔\u001b[39m \u001b[34mrecipes     \u001b[39m 1.0.9\n",
      "\u001b[32m✔\u001b[39m \u001b[34mdials       \u001b[39m 1.2.0     \u001b[32m✔\u001b[39m \u001b[34mrsample     \u001b[39m 1.2.0\n",
      "\u001b[32m✔\u001b[39m \u001b[34mdplyr       \u001b[39m 1.1.4     \u001b[32m✔\u001b[39m \u001b[34mtibble      \u001b[39m 3.2.1\n",
      "\u001b[32m✔\u001b[39m \u001b[34mggplot2     \u001b[39m 3.4.4     \u001b[32m✔\u001b[39m \u001b[34mtidyr       \u001b[39m 1.3.1\n",
      "\u001b[32m✔\u001b[39m \u001b[34minfer       \u001b[39m 1.0.5     \u001b[32m✔\u001b[39m \u001b[34mtune        \u001b[39m 1.1.2\n",
      "\u001b[32m✔\u001b[39m \u001b[34mmodeldata   \u001b[39m 1.3.0     \u001b[32m✔\u001b[39m \u001b[34mworkflows   \u001b[39m 1.1.3\n",
      "\u001b[32m✔\u001b[39m \u001b[34mparsnip     \u001b[39m 1.1.1     \u001b[32m✔\u001b[39m \u001b[34mworkflowsets\u001b[39m 1.0.1\n",
      "\u001b[32m✔\u001b[39m \u001b[34mpurrr       \u001b[39m 1.0.2     \u001b[32m✔\u001b[39m \u001b[34myardstick   \u001b[39m 1.3.0\n",
      "\n",
      "── \u001b[1mConflicts\u001b[22m ────────────────────────────────────────────────────────────────────────────────────────────────────────────── tidymodels_conflicts() ──\n",
      "\u001b[31m✖\u001b[39m \u001b[34mpurrr\u001b[39m::\u001b[32mdiscard()\u001b[39m masks \u001b[34mscales\u001b[39m::discard()\n",
      "\u001b[31m✖\u001b[39m \u001b[34mdplyr\u001b[39m::\u001b[32mfilter()\u001b[39m  masks \u001b[34mstats\u001b[39m::filter()\n",
      "\u001b[31m✖\u001b[39m \u001b[34mdplyr\u001b[39m::\u001b[32mlag()\u001b[39m     masks \u001b[34mstats\u001b[39m::lag()\n",
      "\u001b[31m✖\u001b[39m \u001b[34mrecipes\u001b[39m::\u001b[32mstep()\u001b[39m  masks \u001b[34mstats\u001b[39m::step()\n",
      "\u001b[34m•\u001b[39m Use \u001b[32mtidymodels_prefer()\u001b[39m to resolve common conflicts.\n",
      "\n"
     ]
    }
   ],
   "source": [
    "library('tidymodels')"
   ]
  },
  {
   "cell_type": "code",
   "execution_count": 10,
   "id": "09b377af-bf7f-44db-852c-0e3091595d3f",
   "metadata": {
    "vscode": {
     "languageId": "r"
    }
   },
   "outputs": [
    {
     "name": "stderr",
     "output_type": "stream",
     "text": [
      "Loading required package: rpart\n",
      "\n",
      "\n",
      "Attaching package: ‘rpart’\n",
      "\n",
      "\n",
      "The following object is masked from ‘package:dials’:\n",
      "\n",
      "    prune\n",
      "\n",
      "\n"
     ]
    }
   ],
   "source": [
    "library('rpart.plot')"
   ]
  },
  {
   "cell_type": "code",
   "execution_count": 3,
   "id": "5268d46a-c43c-49bd-a7ac-1b1ddeae9bd7",
   "metadata": {
    "vscode": {
     "languageId": "r"
    }
   },
   "outputs": [
    {
     "data": {
      "text/html": [
       "<table class=\"dataframe\">\n",
       "<caption>A tibble: 6 × 7</caption>\n",
       "<thead>\n",
       "\t<tr><th scope=col>species</th><th scope=col>island</th><th scope=col>bill_length_mm</th><th scope=col>bill_depth_mm</th><th scope=col>flipper_length_mm</th><th scope=col>body_mass_g</th><th scope=col>sex</th></tr>\n",
       "\t<tr><th scope=col>&lt;fct&gt;</th><th scope=col>&lt;fct&gt;</th><th scope=col>&lt;dbl&gt;</th><th scope=col>&lt;dbl&gt;</th><th scope=col>&lt;int&gt;</th><th scope=col>&lt;int&gt;</th><th scope=col>&lt;fct&gt;</th></tr>\n",
       "</thead>\n",
       "<tbody>\n",
       "\t<tr><td>Adelie</td><td>Torgersen</td><td>39.1</td><td>18.7</td><td>181</td><td>3750</td><td>male  </td></tr>\n",
       "\t<tr><td>Adelie</td><td>Torgersen</td><td>39.5</td><td>17.4</td><td>186</td><td>3800</td><td>female</td></tr>\n",
       "\t<tr><td>Adelie</td><td>Torgersen</td><td>40.3</td><td>18.0</td><td>195</td><td>3250</td><td>female</td></tr>\n",
       "\t<tr><td>Adelie</td><td>Torgersen</td><td>36.7</td><td>19.3</td><td>193</td><td>3450</td><td>female</td></tr>\n",
       "\t<tr><td>Adelie</td><td>Torgersen</td><td>39.3</td><td>20.6</td><td>190</td><td>3650</td><td>male  </td></tr>\n",
       "\t<tr><td>Adelie</td><td>Torgersen</td><td>38.9</td><td>17.8</td><td>181</td><td>3625</td><td>female</td></tr>\n",
       "</tbody>\n",
       "</table>\n"
      ],
      "text/latex": [
       "A tibble: 6 × 7\n",
       "\\begin{tabular}{lllllll}\n",
       " species & island & bill\\_length\\_mm & bill\\_depth\\_mm & flipper\\_length\\_mm & body\\_mass\\_g & sex\\\\\n",
       " <fct> & <fct> & <dbl> & <dbl> & <int> & <int> & <fct>\\\\\n",
       "\\hline\n",
       "\t Adelie & Torgersen & 39.1 & 18.7 & 181 & 3750 & male  \\\\\n",
       "\t Adelie & Torgersen & 39.5 & 17.4 & 186 & 3800 & female\\\\\n",
       "\t Adelie & Torgersen & 40.3 & 18.0 & 195 & 3250 & female\\\\\n",
       "\t Adelie & Torgersen & 36.7 & 19.3 & 193 & 3450 & female\\\\\n",
       "\t Adelie & Torgersen & 39.3 & 20.6 & 190 & 3650 & male  \\\\\n",
       "\t Adelie & Torgersen & 38.9 & 17.8 & 181 & 3625 & female\\\\\n",
       "\\end{tabular}\n"
      ],
      "text/markdown": [
       "\n",
       "A tibble: 6 × 7\n",
       "\n",
       "| species &lt;fct&gt; | island &lt;fct&gt; | bill_length_mm &lt;dbl&gt; | bill_depth_mm &lt;dbl&gt; | flipper_length_mm &lt;int&gt; | body_mass_g &lt;int&gt; | sex &lt;fct&gt; |\n",
       "|---|---|---|---|---|---|---|\n",
       "| Adelie | Torgersen | 39.1 | 18.7 | 181 | 3750 | male   |\n",
       "| Adelie | Torgersen | 39.5 | 17.4 | 186 | 3800 | female |\n",
       "| Adelie | Torgersen | 40.3 | 18.0 | 195 | 3250 | female |\n",
       "| Adelie | Torgersen | 36.7 | 19.3 | 193 | 3450 | female |\n",
       "| Adelie | Torgersen | 39.3 | 20.6 | 190 | 3650 | male   |\n",
       "| Adelie | Torgersen | 38.9 | 17.8 | 181 | 3625 | female |\n",
       "\n"
      ],
      "text/plain": [
       "  species island    bill_length_mm bill_depth_mm flipper_length_mm body_mass_g\n",
       "1 Adelie  Torgersen 39.1           18.7          181               3750       \n",
       "2 Adelie  Torgersen 39.5           17.4          186               3800       \n",
       "3 Adelie  Torgersen 40.3           18.0          195               3250       \n",
       "4 Adelie  Torgersen 36.7           19.3          193               3450       \n",
       "5 Adelie  Torgersen 39.3           20.6          190               3650       \n",
       "6 Adelie  Torgersen 38.9           17.8          181               3625       \n",
       "  sex   \n",
       "1 male  \n",
       "2 female\n",
       "3 female\n",
       "4 female\n",
       "5 male  \n",
       "6 female"
      ]
     },
     "metadata": {},
     "output_type": "display_data"
    }
   ],
   "source": [
    "penguins2 = penguins |> drop_na()\n",
    "\n",
    "penguins2 |> head()"
   ]
  },
  {
   "cell_type": "code",
   "execution_count": 18,
   "id": "fb2f9a3f-75c4-4a42-91ea-c0294122901c",
   "metadata": {
    "vscode": {
     "languageId": "r"
    }
   },
   "outputs": [
    {
     "data": {
      "text/html": [
       "<table class=\"dataframe\">\n",
       "<caption>A tibble: 3 × 2</caption>\n",
       "<thead>\n",
       "\t<tr><th scope=col>species</th><th scope=col>n</th></tr>\n",
       "\t<tr><th scope=col>&lt;fct&gt;</th><th scope=col>&lt;int&gt;</th></tr>\n",
       "</thead>\n",
       "<tbody>\n",
       "\t<tr><td>Adelie   </td><td>146</td></tr>\n",
       "\t<tr><td>Chinstrap</td><td> 68</td></tr>\n",
       "\t<tr><td>Gentoo   </td><td>119</td></tr>\n",
       "</tbody>\n",
       "</table>\n"
      ],
      "text/latex": [
       "A tibble: 3 × 2\n",
       "\\begin{tabular}{ll}\n",
       " species & n\\\\\n",
       " <fct> & <int>\\\\\n",
       "\\hline\n",
       "\t Adelie    & 146\\\\\n",
       "\t Chinstrap &  68\\\\\n",
       "\t Gentoo    & 119\\\\\n",
       "\\end{tabular}\n"
      ],
      "text/markdown": [
       "\n",
       "A tibble: 3 × 2\n",
       "\n",
       "| species &lt;fct&gt; | n &lt;int&gt; |\n",
       "|---|---|\n",
       "| Adelie    | 146 |\n",
       "| Chinstrap |  68 |\n",
       "| Gentoo    | 119 |\n",
       "\n"
      ],
      "text/plain": [
       "  species   n  \n",
       "1 Adelie    146\n",
       "2 Chinstrap  68\n",
       "3 Gentoo    119"
      ]
     },
     "metadata": {},
     "output_type": "display_data"
    }
   ],
   "source": [
    "penguins2 |>\n",
    "    count(species)"
   ]
  },
  {
   "cell_type": "code",
   "execution_count": 5,
   "id": "3817ed43-0a7a-4715-af06-b26f50b4111e",
   "metadata": {
    "vscode": {
     "languageId": "r"
    }
   },
   "outputs": [
    {
     "data": {
      "text/html": [
       "<table class=\"dataframe\">\n",
       "<caption>A tibble: 5 × 2</caption>\n",
       "<thead>\n",
       "\t<tr><th scope=col>engine</th><th scope=col>mode</th></tr>\n",
       "\t<tr><th scope=col>&lt;chr&gt;</th><th scope=col>&lt;chr&gt;</th></tr>\n",
       "</thead>\n",
       "<tbody>\n",
       "\t<tr><td>rpart</td><td>classification</td></tr>\n",
       "\t<tr><td>rpart</td><td>regression    </td></tr>\n",
       "\t<tr><td>C5.0 </td><td>classification</td></tr>\n",
       "\t<tr><td>spark</td><td>classification</td></tr>\n",
       "\t<tr><td>spark</td><td>regression    </td></tr>\n",
       "</tbody>\n",
       "</table>\n"
      ],
      "text/latex": [
       "A tibble: 5 × 2\n",
       "\\begin{tabular}{ll}\n",
       " engine & mode\\\\\n",
       " <chr> & <chr>\\\\\n",
       "\\hline\n",
       "\t rpart & classification\\\\\n",
       "\t rpart & regression    \\\\\n",
       "\t C5.0  & classification\\\\\n",
       "\t spark & classification\\\\\n",
       "\t spark & regression    \\\\\n",
       "\\end{tabular}\n"
      ],
      "text/markdown": [
       "\n",
       "A tibble: 5 × 2\n",
       "\n",
       "| engine &lt;chr&gt; | mode &lt;chr&gt; |\n",
       "|---|---|\n",
       "| rpart | classification |\n",
       "| rpart | regression     |\n",
       "| C5.0  | classification |\n",
       "| spark | classification |\n",
       "| spark | regression     |\n",
       "\n"
      ],
      "text/plain": [
       "  engine mode          \n",
       "1 rpart  classification\n",
       "2 rpart  regression    \n",
       "3 C5.0   classification\n",
       "4 spark  classification\n",
       "5 spark  regression    "
      ]
     },
     "metadata": {},
     "output_type": "display_data"
    }
   ],
   "source": [
    "show_engines('decision_tree')"
   ]
  },
  {
   "cell_type": "code",
   "execution_count": 6,
   "id": "96416808-da01-4b6d-b7d9-7d5d308a5492",
   "metadata": {
    "vscode": {
     "languageId": "r"
    }
   },
   "outputs": [],
   "source": [
    "mod = decision_tree() |>\n",
    "    set_engine('rpart') |>\n",
    "    set_mode('classification')\n",
    "\n",
    "mod_fit = mod |> fit(species ~ ., data = penguins2)"
   ]
  },
  {
   "cell_type": "code",
   "execution_count": 15,
   "id": "16a9e87a-8be5-4097-a87a-d48293242fc9",
   "metadata": {
    "vscode": {
     "languageId": "r"
    }
   },
   "outputs": [],
   "source": [
    "# augment(mod_fit, penguins2) |> head()"
   ]
  },
  {
   "cell_type": "code",
   "execution_count": 1,
   "id": "a3a98f9d-e11a-4292-a8e9-97c2bc27a341",
   "metadata": {
    "vscode": {
     "languageId": "r"
    }
   },
   "outputs": [
    {
     "ename": "ERROR",
     "evalue": "Error in rpart.plot(mod_fit$fit): could not find function \"rpart.plot\"\n",
     "output_type": "error",
     "traceback": [
      "Error in rpart.plot(mod_fit$fit): could not find function \"rpart.plot\"\nTraceback:\n"
     ]
    }
   ],
   "source": [
    "options(repr.plot.height = 7, repr.plot.width = 6)\n",
    "\n",
    "rpart.plot(mod_fit$fit)"
   ]
  },
  {
   "cell_type": "code",
   "execution_count": 33,
   "id": "df732701-db28-4f5f-a5f4-e54e6de5717a",
   "metadata": {
    "vscode": {
     "languageId": "r"
    }
   },
   "outputs": [],
   "source": [
    "mod = rand_forest(trees = 1000) |>\n",
    "    set_engine('ranger', importance = 'impurity',) |>\n",
    "    set_mode('classification')\n",
    "\n",
    "mod_fit = mod |> fit(species ~ ., data = penguins2)"
   ]
  },
  {
   "cell_type": "code",
   "execution_count": 34,
   "id": "cb57fbc2-dd17-4157-813c-1a833ef42d6c",
   "metadata": {
    "vscode": {
     "languageId": "r"
    }
   },
   "outputs": [
    {
     "data": {
      "text/plain": [
       "parsnip model object\n",
       "\n",
       "Ranger result\n",
       "\n",
       "Call:\n",
       " ranger::ranger(x = maybe_data_frame(x), y = y, num.trees = ~1000,      importance = ~\"impurity\", num.threads = 1, verbose = FALSE,      seed = sample.int(10^5, 1), probability = TRUE) \n",
       "\n",
       "Type:                             Probability estimation \n",
       "Number of trees:                  1000 \n",
       "Sample size:                      333 \n",
       "Number of independent variables:  6 \n",
       "Mtry:                             2 \n",
       "Target node size:                 10 \n",
       "Variable importance mode:         impurity \n",
       "Splitrule:                        gini \n",
       "OOB prediction error (Brier s.):  0.01640279 "
      ]
     },
     "metadata": {},
     "output_type": "display_data"
    }
   ],
   "source": [
    "mod_fit"
   ]
  },
  {
   "cell_type": "code",
   "execution_count": 26,
   "id": "64ad87da-48ac-4afc-b6bf-f1e7cd2b8c08",
   "metadata": {
    "vscode": {
     "languageId": "r"
    }
   },
   "outputs": [],
   "source": [
    "# augment(mod_fit, penguins2) |> tail(50)"
   ]
  },
  {
   "cell_type": "code",
   "execution_count": 29,
   "id": "dd0fbb36-befc-48c1-8b6b-16b8f8c76cfb",
   "metadata": {
    "vscode": {
     "languageId": "r"
    }
   },
   "outputs": [
    {
     "name": "stderr",
     "output_type": "stream",
     "text": [
      "\n",
      "Attaching package: ‘vip’\n",
      "\n",
      "\n",
      "The following object is masked from ‘package:utils’:\n",
      "\n",
      "    vi\n",
      "\n",
      "\n"
     ]
    }
   ],
   "source": [
    "library('vip')"
   ]
  },
  {
   "cell_type": "code",
   "execution_count": 42,
   "id": "673c6007-1a3c-4ced-9254-93ccb027c560",
   "metadata": {
    "vscode": {
     "languageId": "r"
    }
   },
   "outputs": [
    {
     "data": {
      "image/png": "[encoded data removed]",
      "text/plain": [
       "plot without title"
      ]
     },
     "metadata": {
      "image/png": {
       "height": 500,
       "width": 750
      }
     },
     "output_type": "display_data"
    }
   ],
   "source": [
    "options(repr.plot.height = 4)\n",
    "\n",
    "mod_fit |> extract_fit_engine() |> vip(num_features = 5)"
   ]
  }
 ],
 "metadata": {
  "kernelspec": {
   "display_name": "R",
   "language": "R",
   "name": "ir"
  },
  "language_info": {
   "codemirror_mode": "r",
   "file_extension": ".r",
   "mimetype": "text/x-r-source",
   "name": "R",
   "pygments_lexer": "r",
   "version": "4.4.1"
  }
 },
 "nbformat": 4,
 "nbformat_minor": 5
}
