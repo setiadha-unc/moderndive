{
 "cells": [
  {
   "cell_type": "code",
   "execution_count": 12,
   "id": "3c3cce88-b41e-4205-bebc-18b3d37fa5c2",
   "metadata": {
    "tags": [],
    "vscode": {
     "languageId": "r"
    }
   },
   "outputs": [
    {
     "name": "stderr",
     "output_type": "stream",
     "text": [
      "── \u001b[1mAttaching core tidyverse packages\u001b[22m ──────────────────────── tidyverse 2.0.0 ──\n",
      "\u001b[32m✔\u001b[39m \u001b[34mdplyr    \u001b[39m 1.1.4     \u001b[32m✔\u001b[39m \u001b[34mreadr    \u001b[39m 2.1.5\n",
      "\u001b[32m✔\u001b[39m \u001b[34mforcats  \u001b[39m 1.0.0     \u001b[32m✔\u001b[39m \u001b[34mstringr  \u001b[39m 1.5.1\n",
      "\u001b[32m✔\u001b[39m \u001b[34mggplot2  \u001b[39m 3.5.1     \u001b[32m✔\u001b[39m \u001b[34mtibble   \u001b[39m 3.2.1\n",
      "\u001b[32m✔\u001b[39m \u001b[34mlubridate\u001b[39m 1.9.3     \u001b[32m✔\u001b[39m \u001b[34mtidyr    \u001b[39m 1.3.1\n",
      "── \u001b[1mConflicts\u001b[22m ────────────────────────────────────────── tidyverse_conflicts() ──\n",
      "\u001b[31m✖\u001b[39m \u001b[34mdplyr\u001b[39m::\u001b[32mfilter()\u001b[39m masks \u001b[34mstats\u001b[39m::filter()\n",
      "\u001b[31m✖\u001b[39m \u001b[34mdplyr\u001b[39m::\u001b[32mlag()\u001b[39m    masks \u001b[34mstats\u001b[39m::lag()\n",
      "\u001b[36mℹ\u001b[39m Use the conflicted package (\u001b[3m\u001b[34m<http://conflicted.r-lib.org/>\u001b[39m\u001b[23m) to force all conflicts to become errors\n"
     ]
    }
   ],
   "source": [
    "library(\"purrr\")\n",
    "library(\"tidyverse\")\n",
    "\n",
    "theme_set(theme_gray(base_size = 16))"
   ]
  },
  {
   "cell_type": "markdown",
   "id": "d39df790-cbe1-437d-8b7d-6c65abe57c9a",
   "metadata": {},
   "source": [
    "Workflow for hypthesis testing:\n",
    "\n",
    "1. Calculate test statistic from actual data\n",
    "1. Simulate data under the null model\n",
    "1. Calculcate test statistic values from simulated data\n",
    "1. Count how often simulated test statistic values exceed actual test statistic"
   ]
  },
  {
   "cell_type": "markdown",
   "id": "d43b9a0b-9251-4278-8c6d-f1f9fb6bd6c5",
   "metadata": {},
   "source": [
    "## Calculate test statistic"
   ]
  },
  {
   "cell_type": "code",
   "execution_count": 13,
   "id": "2e566f83-a9e9-4c11-beb0-c52ce3b38121",
   "metadata": {
    "tags": [],
    "vscode": {
     "languageId": "r"
    }
   },
   "outputs": [
    {
     "data": {
      "text/html": [
       "15"
      ],
      "text/latex": [
       "15"
      ],
      "text/markdown": [
       "15"
      ],
      "text/plain": [
       "[1] 15"
      ]
     },
     "metadata": {},
     "output_type": "display_data"
    }
   ],
   "source": [
    "# Difference between 140 (observed) and 125 (expected for a fair coin)\n",
    "\n",
    "observed <- 140 # number of heads\n",
    "expected <- 125 # fair coin\n",
    "\n",
    "test_statistic <- abs(observed - expected)\n",
    "test_statistic"
   ]
  },
  {
   "cell_type": "code",
   "execution_count": 4,
   "id": "b2996c6d",
   "metadata": {
    "vscode": {
     "languageId": "r"
    }
   },
   "outputs": [
    {
     "data": {
      "text/html": [
       "<style>\n",
       ".list-inline {list-style: none; margin:0; padding: 0}\n",
       ".list-inline>li {display: inline-block}\n",
       ".list-inline>li:not(:last-child)::after {content: \"\\00b7\"; padding: 0 .5ex}\n",
       "</style>\n",
       "<ol class=list-inline><li>0.708049698267132</li><li>0.915830893907696</li><li>0.57582378690131</li><li>0.629393323557451</li><li>0.614987059496343</li><li>0.534309652866796</li><li>0.861071624793112</li><li>0.195976094808429</li><li>0.833671969361603</li><li>0.458241876214743</li></ol>\n"
      ],
      "text/latex": [
       "\\begin{enumerate*}\n",
       "\\item 0.708049698267132\n",
       "\\item 0.915830893907696\n",
       "\\item 0.57582378690131\n",
       "\\item 0.629393323557451\n",
       "\\item 0.614987059496343\n",
       "\\item 0.534309652866796\n",
       "\\item 0.861071624793112\n",
       "\\item 0.195976094808429\n",
       "\\item 0.833671969361603\n",
       "\\item 0.458241876214743\n",
       "\\end{enumerate*}\n"
      ],
      "text/markdown": [
       "1. 0.708049698267132\n",
       "2. 0.915830893907696\n",
       "3. 0.57582378690131\n",
       "4. 0.629393323557451\n",
       "5. 0.614987059496343\n",
       "6. 0.534309652866796\n",
       "7. 0.861071624793112\n",
       "8. 0.195976094808429\n",
       "9. 0.833671969361603\n",
       "10. 0.458241876214743\n",
       "\n",
       "\n"
      ],
      "text/plain": [
       " [1] 0.7080497 0.9158309 0.5758238 0.6293933 0.6149871 0.5343097 0.8610716\n",
       " [8] 0.1959761 0.8336720 0.4582419"
      ]
     },
     "metadata": {},
     "output_type": "display_data"
    }
   ],
   "source": [
    "runif(10)"
   ]
  },
  {
   "cell_type": "code",
   "execution_count": 5,
   "id": "5583c6da",
   "metadata": {
    "vscode": {
     "languageId": "r"
    }
   },
   "outputs": [
    {
     "data": {
      "text/html": [
       "<style>\n",
       ".list-inline {list-style: none; margin:0; padding: 0}\n",
       ".list-inline>li {display: inline-block}\n",
       ".list-inline>li:not(:last-child)::after {content: \"\\00b7\"; padding: 0 .5ex}\n",
       "</style>\n",
       "<ol class=list-inline><li>FALSE</li><li>TRUE</li><li>FALSE</li><li>TRUE</li><li>TRUE</li><li>FALSE</li><li>TRUE</li><li>TRUE</li><li>TRUE</li><li>FALSE</li></ol>\n"
      ],
      "text/latex": [
       "\\begin{enumerate*}\n",
       "\\item FALSE\n",
       "\\item TRUE\n",
       "\\item FALSE\n",
       "\\item TRUE\n",
       "\\item TRUE\n",
       "\\item FALSE\n",
       "\\item TRUE\n",
       "\\item TRUE\n",
       "\\item TRUE\n",
       "\\item FALSE\n",
       "\\end{enumerate*}\n"
      ],
      "text/markdown": [
       "1. FALSE\n",
       "2. TRUE\n",
       "3. FALSE\n",
       "4. TRUE\n",
       "5. TRUE\n",
       "6. FALSE\n",
       "7. TRUE\n",
       "8. TRUE\n",
       "9. TRUE\n",
       "10. FALSE\n",
       "\n",
       "\n"
      ],
      "text/plain": [
       " [1] FALSE  TRUE FALSE  TRUE  TRUE FALSE  TRUE  TRUE  TRUE FALSE"
      ]
     },
     "metadata": {},
     "output_type": "display_data"
    }
   ],
   "source": [
    "runif(10) < 0.5"
   ]
  },
  {
   "cell_type": "code",
   "execution_count": 2,
   "id": "562d261a-f3f2-4dd9-bf54-3777804d7148",
   "metadata": {
    "tags": [],
    "vscode": {
     "languageId": "r"
    }
   },
   "outputs": [],
   "source": [
    "toss <- function(sample_size) {\n",
    "  n_heads <- sum(runif(sample_size) < 0.5)\n",
    "  return(n_heads)\n",
    "}"
   ]
  },
  {
   "cell_type": "code",
   "execution_count": 8,
   "id": "6d26599c-8105-4015-9e36-272020326546",
   "metadata": {
    "tags": [],
    "vscode": {
     "languageId": "r"
    }
   },
   "outputs": [],
   "source": [
    "simulate <- function(sample_size, n_samples) {\n",
    "  n_heads <- map_vec(1:n_samples, ~ toss(sample_size))\n",
    "  return(n_heads)\n",
    "}"
   ]
  },
  {
   "cell_type": "code",
   "execution_count": 19,
   "id": "d9705a7c-e437-4e46-86a0-b54cc261f194",
   "metadata": {
    "tags": [],
    "vscode": {
     "languageId": "r"
    }
   },
   "outputs": [
    {
     "data": {
      "text/html": [
       "<table class=\"dataframe\">\n",
       "<caption>A tibble: 6 × 1</caption>\n",
       "<thead>\n",
       "\t<tr><th scope=col>n_heads</th></tr>\n",
       "\t<tr><th scope=col>&lt;int&gt;</th></tr>\n",
       "</thead>\n",
       "<tbody>\n",
       "\t<tr><td>119</td></tr>\n",
       "\t<tr><td>135</td></tr>\n",
       "\t<tr><td>133</td></tr>\n",
       "\t<tr><td>121</td></tr>\n",
       "\t<tr><td>119</td></tr>\n",
       "\t<tr><td>134</td></tr>\n",
       "</tbody>\n",
       "</table>\n"
      ],
      "text/latex": [
       "A tibble: 6 × 1\n",
       "\\begin{tabular}{l}\n",
       " n\\_heads\\\\\n",
       " <int>\\\\\n",
       "\\hline\n",
       "\t 119\\\\\n",
       "\t 135\\\\\n",
       "\t 133\\\\\n",
       "\t 121\\\\\n",
       "\t 119\\\\\n",
       "\t 134\\\\\n",
       "\\end{tabular}\n"
      ],
      "text/markdown": [
       "\n",
       "A tibble: 6 × 1\n",
       "\n",
       "| n_heads &lt;int&gt; |\n",
       "|---|\n",
       "| 119 |\n",
       "| 135 |\n",
       "| 133 |\n",
       "| 121 |\n",
       "| 119 |\n",
       "| 134 |\n",
       "\n"
      ],
      "text/plain": [
       "  n_heads\n",
       "1 119    \n",
       "2 135    \n",
       "3 133    \n",
       "4 121    \n",
       "5 119    \n",
       "6 134    "
      ]
     },
     "metadata": {},
     "output_type": "display_data"
    }
   ],
   "source": [
    "n_heads <- simulate(sample_size = 250, n_samples = 10000)\n",
    "\n",
    "outcomes_df <- tibble(n_heads = n_heads)\n",
    "\n",
    "outcomes_df |> head()"
   ]
  },
  {
   "cell_type": "code",
   "execution_count": null,
   "id": "cef95d7e-56bb-45c1-8eaf-a1e97dbbde2d",
   "metadata": {
    "tags": [],
    "vscode": {
     "languageId": "r"
    }
   },
   "outputs": [
    {
     "name": "stderr",
     "output_type": "stream",
     "text": [
      "\u001b[1m\u001b[22m`stat_bin()` using `bins = 30`. Pick better value with `binwidth`.\n"
     ]
    },
    {
     "data": {
      "image/png": "[encoded data removed]",
      "text/plain": [
       "plot without title"
      ]
     },
     "metadata": {
      "image/png": {
       "height": 240,
       "width": 420
      }
     },
     "output_type": "display_data"
    }
   ],
   "source": [
    "options(repr.plot.width = 7, repr.plot.height = 4)\n",
    "\n",
    "p <- ggplot(outcomes_df, aes(x = n_heads)) +\n",
    "  geom_histogram(color = \"steelblue\", fill = \"steelblue\", alpha = 0.7) +\n",
    "  geom_vline(xintercept = 125, color = \"firebrick\")\n",
    "\n",
    "p"
   ]
  },
  {
   "cell_type": "code",
   "execution_count": 16,
   "id": "f1db26de-dfd9-4a8f-9e82-aeeee92ba607",
   "metadata": {
    "tags": [],
    "vscode": {
     "languageId": "r"
    }
   },
   "outputs": [
    {
     "data": {
      "text/html": [
       "<style>\n",
       ".list-inline {list-style: none; margin:0; padding: 0}\n",
       ".list-inline>li {display: inline-block}\n",
       ".list-inline>li:not(:last-child)::after {content: \"\\00b7\"; padding: 0 .5ex}\n",
       "</style>\n",
       "<ol class=list-inline><li>12</li><li>4</li><li>1</li><li>12</li><li>17</li></ol>\n"
      ],
      "text/latex": [
       "\\begin{enumerate*}\n",
       "\\item 12\n",
       "\\item 4\n",
       "\\item 1\n",
       "\\item 12\n",
       "\\item 17\n",
       "\\end{enumerate*}\n"
      ],
      "text/markdown": [
       "1. 12\n",
       "2. 4\n",
       "3. 1\n",
       "4. 12\n",
       "5. 17\n",
       "\n",
       "\n"
      ],
      "text/plain": [
       "[1] 12  4  1 12 17"
      ]
     },
     "metadata": {},
     "output_type": "display_data"
    }
   ],
   "source": [
    "test_statistic_simulated = abs(n_heads - expected)\n",
    "\n",
    "test_statistic_simulated[1:5]"
   ]
  },
  {
   "cell_type": "code",
   "execution_count": 17,
   "id": "76c54a61-12fb-4d7e-968c-b6dea85e06c3",
   "metadata": {
    "tags": [],
    "vscode": {
     "languageId": "r"
    }
   },
   "outputs": [
    {
     "data": {
      "text/html": [
       "0.0678"
      ],
      "text/latex": [
       "0.0678"
      ],
      "text/markdown": [
       "0.0678"
      ],
      "text/plain": [
       "[1] 0.0678"
      ]
     },
     "metadata": {},
     "output_type": "display_data"
    }
   ],
   "source": [
    "sum(test_statistic_simulated >= test_statistic) / length(test_statistic_simulated)"
   ]
  },
  {
   "cell_type": "code",
   "execution_count": 18,
   "id": "9e99dae2-e412-4634-b543-3be786a7d2b7",
   "metadata": {
    "tags": [],
    "vscode": {
     "languageId": "r"
    }
   },
   "outputs": [
    {
     "data": {
      "text/html": [
       "0.0678"
      ],
      "text/latex": [
       "0.0678"
      ],
      "text/markdown": [
       "0.0678"
      ],
      "text/plain": [
       "[1] 0.0678"
      ]
     },
     "metadata": {},
     "output_type": "display_data"
    }
   ],
   "source": [
    "(test_statistic_simulated >= test_statistic) |> mean()"
   ]
  },
  {
   "cell_type": "markdown",
   "id": "4d7ededa-e726-4d4d-a487-cfe8329f5d74",
   "metadata": {},
   "source": [
    "## Bonus"
   ]
  },
  {
   "cell_type": "markdown",
   "id": "673abc10-a838-4788-84b5-8094c4bbf583",
   "metadata": {},
   "source": [
    "For Python example see \"Inference in three hours and more time for the good stuff\" by [Allen Downey](https://www.allendowney.com/blog/) at this link:\n",
    "[https://docs.google.com/presentation/d/1S24Ov2B2TImtiU1UFhPt-BaqS2OgqUZPWnQuS2kKtnA/edit?usp=sharing](https://docs.google.com/presentation/d/1S24Ov2B2TImtiU1UFhPt-BaqS2OgqUZPWnQuS2kKtnA/edit?usp=sharing)"
   ]
  }
 ],
 "metadata": {
  "kernelspec": {
   "display_name": "R",
   "language": "R",
   "name": "ir"
  },
  "language_info": {
   "codemirror_mode": "r",
   "file_extension": ".r",
   "mimetype": "text/x-r-source",
   "name": "R",
   "pygments_lexer": "r",
   "version": "4.4.1"
  }
 },
 "nbformat": 4,
 "nbformat_minor": 5
}
