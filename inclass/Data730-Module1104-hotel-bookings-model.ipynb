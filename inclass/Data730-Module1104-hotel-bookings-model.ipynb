{
 "cells": [
  {
   "cell_type": "markdown",
   "id": "4c6afe7a-2026-4c0f-9330-2d51ece10445",
   "metadata": {},
   "source": [
    "Start by loading the `tidymodels` package..."
   ]
  },
  {
   "cell_type": "code",
   "execution_count": 1,
   "id": "e0016e1a-d255-4cb7-9198-b1cb757c65f1",
   "metadata": {
    "vscode": {
     "languageId": "r"
    }
   },
   "outputs": [
    {
     "name": "stderr",
     "output_type": "stream",
     "text": [
      "── \u001b[1mAttaching packages\u001b[22m ────────────────────────────────────── tidymodels 1.2.0 ──\n",
      "\n",
      "\u001b[32m✔\u001b[39m \u001b[34mbroom       \u001b[39m 1.0.6     \u001b[32m✔\u001b[39m \u001b[34mrecipes     \u001b[39m 1.1.0\n",
      "\u001b[32m✔\u001b[39m \u001b[34mdials       \u001b[39m 1.3.0     \u001b[32m✔\u001b[39m \u001b[34mrsample     \u001b[39m 1.2.1\n",
      "\u001b[32m✔\u001b[39m \u001b[34mdplyr       \u001b[39m 1.1.4     \u001b[32m✔\u001b[39m \u001b[34mtibble      \u001b[39m 3.2.1\n",
      "\u001b[32m✔\u001b[39m \u001b[34mggplot2     \u001b[39m 3.5.1     \u001b[32m✔\u001b[39m \u001b[34mtidyr       \u001b[39m 1.3.1\n",
      "\u001b[32m✔\u001b[39m \u001b[34minfer       \u001b[39m 1.0.7     \u001b[32m✔\u001b[39m \u001b[34mtune        \u001b[39m 1.2.1\n",
      "\u001b[32m✔\u001b[39m \u001b[34mmodeldata   \u001b[39m 1.4.0     \u001b[32m✔\u001b[39m \u001b[34mworkflows   \u001b[39m 1.1.4\n",
      "\u001b[32m✔\u001b[39m \u001b[34mparsnip     \u001b[39m 1.2.1     \u001b[32m✔\u001b[39m \u001b[34mworkflowsets\u001b[39m 1.1.0\n",
      "\u001b[32m✔\u001b[39m \u001b[34mpurrr       \u001b[39m 1.0.2     \u001b[32m✔\u001b[39m \u001b[34myardstick   \u001b[39m 1.3.1\n",
      "\n",
      "── \u001b[1mConflicts\u001b[22m ───────────────────────────────────────── tidymodels_conflicts() ──\n",
      "\u001b[31m✖\u001b[39m \u001b[34mpurrr\u001b[39m::\u001b[32mdiscard()\u001b[39m masks \u001b[34mscales\u001b[39m::discard()\n",
      "\u001b[31m✖\u001b[39m \u001b[34mdplyr\u001b[39m::\u001b[32mfilter()\u001b[39m  masks \u001b[34mstats\u001b[39m::filter()\n",
      "\u001b[31m✖\u001b[39m \u001b[34mdplyr\u001b[39m::\u001b[32mlag()\u001b[39m     masks \u001b[34mstats\u001b[39m::lag()\n",
      "\u001b[31m✖\u001b[39m \u001b[34mrecipes\u001b[39m::\u001b[32mstep()\u001b[39m  masks \u001b[34mstats\u001b[39m::step()\n",
      "\u001b[34m•\u001b[39m Learn how to get started at \u001b[32mhttps://www.tidymodels.org/start/\u001b[39m\n",
      "\n"
     ]
    }
   ],
   "source": [
    "library(\"tidymodels\")"
   ]
  },
  {
   "cell_type": "markdown",
   "id": "c19dd902-7659-4915-91f9-6591ea87537f",
   "metadata": {},
   "source": [
    "Let's work with [hotel bookings data](https://github.com/rfordatascience/tidytuesday/blob/master/data/2020/2020-02-11/readme.md) from TidyTuesday. "
   ]
  },
  {
   "cell_type": "code",
   "execution_count": 2,
   "id": "a3440bf4-e884-4c37-80bd-bd54ca3c6a05",
   "metadata": {
    "vscode": {
     "languageId": "r"
    }
   },
   "outputs": [
    {
     "data": {
      "text/html": [
       "<table class=\"dataframe\">\n",
       "<caption>A tibble: 6 × 23</caption>\n",
       "<thead>\n",
       "\t<tr><th scope=col>hotel</th><th scope=col>lead_time</th><th scope=col>stays_in_weekend_nights</th><th scope=col>stays_in_week_nights</th><th scope=col>adults</th><th scope=col>children</th><th scope=col>meal</th><th scope=col>country</th><th scope=col>market_segment</th><th scope=col>distribution_channel</th><th scope=col>⋯</th><th scope=col>reserved_room_type</th><th scope=col>assigned_room_type</th><th scope=col>booking_changes</th><th scope=col>deposit_type</th><th scope=col>days_in_waiting_list</th><th scope=col>customer_type</th><th scope=col>average_daily_rate</th><th scope=col>required_car_parking_spaces</th><th scope=col>total_of_special_requests</th><th scope=col>arrival_date</th></tr>\n",
       "\t<tr><th scope=col>&lt;fct&gt;</th><th scope=col>&lt;dbl&gt;</th><th scope=col>&lt;dbl&gt;</th><th scope=col>&lt;dbl&gt;</th><th scope=col>&lt;dbl&gt;</th><th scope=col>&lt;fct&gt;</th><th scope=col>&lt;fct&gt;</th><th scope=col>&lt;fct&gt;</th><th scope=col>&lt;fct&gt;</th><th scope=col>&lt;fct&gt;</th><th scope=col>⋯</th><th scope=col>&lt;fct&gt;</th><th scope=col>&lt;fct&gt;</th><th scope=col>&lt;dbl&gt;</th><th scope=col>&lt;fct&gt;</th><th scope=col>&lt;dbl&gt;</th><th scope=col>&lt;fct&gt;</th><th scope=col>&lt;dbl&gt;</th><th scope=col>&lt;fct&gt;</th><th scope=col>&lt;dbl&gt;</th><th scope=col>&lt;date&gt;</th></tr>\n",
       "</thead>\n",
       "<tbody>\n",
       "\t<tr><td>City_Hotel  </td><td>217</td><td>1</td><td>3</td><td>2</td><td>none</td><td>BB</td><td>DEU</td><td>Offline_TA/TO</td><td>TA/TO </td><td>⋯</td><td>A</td><td>A</td><td>0</td><td>No_Deposit</td><td>0</td><td>Transient-Party</td><td> 80.75</td><td>none</td><td>1</td><td>2016-09-01</td></tr>\n",
       "\t<tr><td>City_Hotel  </td><td>  2</td><td>0</td><td>1</td><td>2</td><td>none</td><td>BB</td><td>PRT</td><td>Direct       </td><td>Direct</td><td>⋯</td><td>D</td><td>K</td><td>0</td><td>No_Deposit</td><td>0</td><td>Transient      </td><td>170.00</td><td>none</td><td>3</td><td>2017-08-25</td></tr>\n",
       "\t<tr><td>Resort_Hotel</td><td> 95</td><td>2</td><td>5</td><td>2</td><td>none</td><td>BB</td><td>GBR</td><td>Online_TA    </td><td>TA/TO </td><td>⋯</td><td>A</td><td>A</td><td>2</td><td>No_Deposit</td><td>0</td><td>Transient      </td><td>  8.00</td><td>none</td><td>2</td><td>2016-11-19</td></tr>\n",
       "\t<tr><td>Resort_Hotel</td><td>143</td><td>2</td><td>6</td><td>2</td><td>none</td><td>HB</td><td>ROU</td><td>Online_TA    </td><td>TA/TO </td><td>⋯</td><td>A</td><td>A</td><td>0</td><td>No_Deposit</td><td>0</td><td>Transient      </td><td> 81.00</td><td>none</td><td>1</td><td>2016-04-26</td></tr>\n",
       "\t<tr><td>Resort_Hotel</td><td>136</td><td>1</td><td>4</td><td>2</td><td>none</td><td>HB</td><td>PRT</td><td>Direct       </td><td>Direct</td><td>⋯</td><td>F</td><td>F</td><td>0</td><td>No_Deposit</td><td>0</td><td>Transient      </td><td>157.60</td><td>none</td><td>4</td><td>2016-12-28</td></tr>\n",
       "\t<tr><td>City_Hotel  </td><td> 67</td><td>2</td><td>2</td><td>2</td><td>none</td><td>SC</td><td>GBR</td><td>Online_TA    </td><td>TA/TO </td><td>⋯</td><td>A</td><td>A</td><td>0</td><td>No_Deposit</td><td>0</td><td>Transient      </td><td> 49.09</td><td>none</td><td>1</td><td>2016-03-13</td></tr>\n",
       "</tbody>\n",
       "</table>\n"
      ],
      "text/latex": [
       "A tibble: 6 × 23\n",
       "\\begin{tabular}{lllllllllllllllllllll}\n",
       " hotel & lead\\_time & stays\\_in\\_weekend\\_nights & stays\\_in\\_week\\_nights & adults & children & meal & country & market\\_segment & distribution\\_channel & ⋯ & reserved\\_room\\_type & assigned\\_room\\_type & booking\\_changes & deposit\\_type & days\\_in\\_waiting\\_list & customer\\_type & average\\_daily\\_rate & required\\_car\\_parking\\_spaces & total\\_of\\_special\\_requests & arrival\\_date\\\\\n",
       " <fct> & <dbl> & <dbl> & <dbl> & <dbl> & <fct> & <fct> & <fct> & <fct> & <fct> & ⋯ & <fct> & <fct> & <dbl> & <fct> & <dbl> & <fct> & <dbl> & <fct> & <dbl> & <date>\\\\\n",
       "\\hline\n",
       "\t City\\_Hotel   & 217 & 1 & 3 & 2 & none & BB & DEU & Offline\\_TA/TO & TA/TO  & ⋯ & A & A & 0 & No\\_Deposit & 0 & Transient-Party &  80.75 & none & 1 & 2016-09-01\\\\\n",
       "\t City\\_Hotel   &   2 & 0 & 1 & 2 & none & BB & PRT & Direct        & Direct & ⋯ & D & K & 0 & No\\_Deposit & 0 & Transient       & 170.00 & none & 3 & 2017-08-25\\\\\n",
       "\t Resort\\_Hotel &  95 & 2 & 5 & 2 & none & BB & GBR & Online\\_TA     & TA/TO  & ⋯ & A & A & 2 & No\\_Deposit & 0 & Transient       &   8.00 & none & 2 & 2016-11-19\\\\\n",
       "\t Resort\\_Hotel & 143 & 2 & 6 & 2 & none & HB & ROU & Online\\_TA     & TA/TO  & ⋯ & A & A & 0 & No\\_Deposit & 0 & Transient       &  81.00 & none & 1 & 2016-04-26\\\\\n",
       "\t Resort\\_Hotel & 136 & 1 & 4 & 2 & none & HB & PRT & Direct        & Direct & ⋯ & F & F & 0 & No\\_Deposit & 0 & Transient       & 157.60 & none & 4 & 2016-12-28\\\\\n",
       "\t City\\_Hotel   &  67 & 2 & 2 & 2 & none & SC & GBR & Online\\_TA     & TA/TO  & ⋯ & A & A & 0 & No\\_Deposit & 0 & Transient       &  49.09 & none & 1 & 2016-03-13\\\\\n",
       "\\end{tabular}\n"
      ],
      "text/markdown": [
       "\n",
       "A tibble: 6 × 23\n",
       "\n",
       "| hotel &lt;fct&gt; | lead_time &lt;dbl&gt; | stays_in_weekend_nights &lt;dbl&gt; | stays_in_week_nights &lt;dbl&gt; | adults &lt;dbl&gt; | children &lt;fct&gt; | meal &lt;fct&gt; | country &lt;fct&gt; | market_segment &lt;fct&gt; | distribution_channel &lt;fct&gt; | ⋯ ⋯ | reserved_room_type &lt;fct&gt; | assigned_room_type &lt;fct&gt; | booking_changes &lt;dbl&gt; | deposit_type &lt;fct&gt; | days_in_waiting_list &lt;dbl&gt; | customer_type &lt;fct&gt; | average_daily_rate &lt;dbl&gt; | required_car_parking_spaces &lt;fct&gt; | total_of_special_requests &lt;dbl&gt; | arrival_date &lt;date&gt; |\n",
       "|---|---|---|---|---|---|---|---|---|---|---|---|---|---|---|---|---|---|---|---|---|\n",
       "| City_Hotel   | 217 | 1 | 3 | 2 | none | BB | DEU | Offline_TA/TO | TA/TO  | ⋯ | A | A | 0 | No_Deposit | 0 | Transient-Party |  80.75 | none | 1 | 2016-09-01 |\n",
       "| City_Hotel   |   2 | 0 | 1 | 2 | none | BB | PRT | Direct        | Direct | ⋯ | D | K | 0 | No_Deposit | 0 | Transient       | 170.00 | none | 3 | 2017-08-25 |\n",
       "| Resort_Hotel |  95 | 2 | 5 | 2 | none | BB | GBR | Online_TA     | TA/TO  | ⋯ | A | A | 2 | No_Deposit | 0 | Transient       |   8.00 | none | 2 | 2016-11-19 |\n",
       "| Resort_Hotel | 143 | 2 | 6 | 2 | none | HB | ROU | Online_TA     | TA/TO  | ⋯ | A | A | 0 | No_Deposit | 0 | Transient       |  81.00 | none | 1 | 2016-04-26 |\n",
       "| Resort_Hotel | 136 | 1 | 4 | 2 | none | HB | PRT | Direct        | Direct | ⋯ | F | F | 0 | No_Deposit | 0 | Transient       | 157.60 | none | 4 | 2016-12-28 |\n",
       "| City_Hotel   |  67 | 2 | 2 | 2 | none | SC | GBR | Online_TA     | TA/TO  | ⋯ | A | A | 0 | No_Deposit | 0 | Transient       |  49.09 | none | 1 | 2016-03-13 |\n",
       "\n"
      ],
      "text/plain": [
       "  hotel        lead_time stays_in_weekend_nights stays_in_week_nights adults\n",
       "1 City_Hotel   217       1                       3                    2     \n",
       "2 City_Hotel     2       0                       1                    2     \n",
       "3 Resort_Hotel  95       2                       5                    2     \n",
       "4 Resort_Hotel 143       2                       6                    2     \n",
       "5 Resort_Hotel 136       1                       4                    2     \n",
       "6 City_Hotel    67       2                       2                    2     \n",
       "  children meal country market_segment distribution_channel ⋯\n",
       "1 none     BB   DEU     Offline_TA/TO  TA/TO                ⋯\n",
       "2 none     BB   PRT     Direct         Direct               ⋯\n",
       "3 none     BB   GBR     Online_TA      TA/TO                ⋯\n",
       "4 none     HB   ROU     Online_TA      TA/TO                ⋯\n",
       "5 none     HB   PRT     Direct         Direct               ⋯\n",
       "6 none     SC   GBR     Online_TA      TA/TO                ⋯\n",
       "  reserved_room_type assigned_room_type booking_changes deposit_type\n",
       "1 A                  A                  0               No_Deposit  \n",
       "2 D                  K                  0               No_Deposit  \n",
       "3 A                  A                  2               No_Deposit  \n",
       "4 A                  A                  0               No_Deposit  \n",
       "5 F                  F                  0               No_Deposit  \n",
       "6 A                  A                  0               No_Deposit  \n",
       "  days_in_waiting_list customer_type   average_daily_rate\n",
       "1 0                    Transient-Party  80.75            \n",
       "2 0                    Transient       170.00            \n",
       "3 0                    Transient         8.00            \n",
       "4 0                    Transient        81.00            \n",
       "5 0                    Transient       157.60            \n",
       "6 0                    Transient        49.09            \n",
       "  required_car_parking_spaces total_of_special_requests arrival_date\n",
       "1 none                        1                         2016-09-01  \n",
       "2 none                        3                         2017-08-25  \n",
       "3 none                        2                         2016-11-19  \n",
       "4 none                        1                         2016-04-26  \n",
       "5 none                        4                         2016-12-28  \n",
       "6 none                        1                         2016-03-13  "
      ]
     },
     "metadata": {},
     "output_type": "display_data"
    }
   ],
   "source": [
    "hotels <-\n",
    "  readr::read_csv(\"https://tidymodels.org/start/case-study/hotels.csv\", col_types = readr::cols()) |>\n",
    "  mutate(across(where(is.character), as.factor)) # turns all categorical columns into factors\n",
    "\n",
    "hotels |> head()"
   ]
  },
  {
   "cell_type": "markdown",
   "id": "f06360e4-3193-4b3e-a5ea-8b10114a788e",
   "metadata": {},
   "source": [
    "Each row is a \"stay\" and we want to predict whether the stay included children given the other features."
   ]
  },
  {
   "cell_type": "markdown",
   "id": "c42fc696-78f2-4566-b6d7-d5aa63224894",
   "metadata": {},
   "source": [
    "We'll want to extract a bit more information from the `arrival_date` column. So, let's make a `recipe`."
   ]
  },
  {
   "cell_type": "code",
   "execution_count": 3,
   "id": "57bbe244-26a5-457d-a590-5c9c3b73a881",
   "metadata": {
    "vscode": {
     "languageId": "r"
    }
   },
   "outputs": [],
   "source": [
    "rec = recipe(children ~ ., data = hotels) |>\n",
    "    step_date(arrival_date) |>\n",
    "    step_holiday(arrival_date) |>\n",
    "    step_rm(arrival_date) |>\n",
    "    prep()"
   ]
  },
  {
   "cell_type": "markdown",
   "id": "786a3e66-ca41-4d47-bf8b-5960b5110355",
   "metadata": {},
   "source": [
    "What does this recipe do? Look at the transformed data with \"juice\"."
   ]
  },
  {
   "cell_type": "code",
   "execution_count": 4,
   "id": "f2dc7e10-74a1-4268-a60e-13abcb4dd55f",
   "metadata": {
    "vscode": {
     "languageId": "r"
    }
   },
   "outputs": [
    {
     "data": {
      "text/html": [
       "<table class=\"dataframe\">\n",
       "<caption>A tibble: 6 × 28</caption>\n",
       "<thead>\n",
       "\t<tr><th scope=col>hotel</th><th scope=col>lead_time</th><th scope=col>stays_in_weekend_nights</th><th scope=col>stays_in_week_nights</th><th scope=col>adults</th><th scope=col>meal</th><th scope=col>country</th><th scope=col>market_segment</th><th scope=col>distribution_channel</th><th scope=col>is_repeated_guest</th><th scope=col>⋯</th><th scope=col>average_daily_rate</th><th scope=col>required_car_parking_spaces</th><th scope=col>total_of_special_requests</th><th scope=col>children</th><th scope=col>arrival_date_dow</th><th scope=col>arrival_date_month</th><th scope=col>arrival_date_year</th><th scope=col>arrival_date_LaborDay</th><th scope=col>arrival_date_NewYearsDay</th><th scope=col>arrival_date_ChristmasDay</th></tr>\n",
       "\t<tr><th scope=col>&lt;fct&gt;</th><th scope=col>&lt;dbl&gt;</th><th scope=col>&lt;dbl&gt;</th><th scope=col>&lt;dbl&gt;</th><th scope=col>&lt;dbl&gt;</th><th scope=col>&lt;fct&gt;</th><th scope=col>&lt;fct&gt;</th><th scope=col>&lt;fct&gt;</th><th scope=col>&lt;fct&gt;</th><th scope=col>&lt;dbl&gt;</th><th scope=col>⋯</th><th scope=col>&lt;dbl&gt;</th><th scope=col>&lt;fct&gt;</th><th scope=col>&lt;dbl&gt;</th><th scope=col>&lt;fct&gt;</th><th scope=col>&lt;fct&gt;</th><th scope=col>&lt;fct&gt;</th><th scope=col>&lt;int&gt;</th><th scope=col>&lt;int&gt;</th><th scope=col>&lt;int&gt;</th><th scope=col>&lt;int&gt;</th></tr>\n",
       "</thead>\n",
       "<tbody>\n",
       "\t<tr><td>City_Hotel  </td><td>217</td><td>1</td><td>3</td><td>2</td><td>BB</td><td>DEU</td><td>Offline_TA/TO</td><td>TA/TO </td><td>0</td><td>⋯</td><td> 80.75</td><td>none</td><td>1</td><td>none</td><td>Thu</td><td>Sep</td><td>2016</td><td>0</td><td>0</td><td>0</td></tr>\n",
       "\t<tr><td>City_Hotel  </td><td>  2</td><td>0</td><td>1</td><td>2</td><td>BB</td><td>PRT</td><td>Direct       </td><td>Direct</td><td>0</td><td>⋯</td><td>170.00</td><td>none</td><td>3</td><td>none</td><td>Fri</td><td>Aug</td><td>2017</td><td>0</td><td>0</td><td>0</td></tr>\n",
       "\t<tr><td>Resort_Hotel</td><td> 95</td><td>2</td><td>5</td><td>2</td><td>BB</td><td>GBR</td><td>Online_TA    </td><td>TA/TO </td><td>0</td><td>⋯</td><td>  8.00</td><td>none</td><td>2</td><td>none</td><td>Sat</td><td>Nov</td><td>2016</td><td>0</td><td>0</td><td>0</td></tr>\n",
       "\t<tr><td>Resort_Hotel</td><td>143</td><td>2</td><td>6</td><td>2</td><td>HB</td><td>ROU</td><td>Online_TA    </td><td>TA/TO </td><td>0</td><td>⋯</td><td> 81.00</td><td>none</td><td>1</td><td>none</td><td>Tue</td><td>Apr</td><td>2016</td><td>0</td><td>0</td><td>0</td></tr>\n",
       "\t<tr><td>Resort_Hotel</td><td>136</td><td>1</td><td>4</td><td>2</td><td>HB</td><td>PRT</td><td>Direct       </td><td>Direct</td><td>0</td><td>⋯</td><td>157.60</td><td>none</td><td>4</td><td>none</td><td>Wed</td><td>Dec</td><td>2016</td><td>0</td><td>0</td><td>0</td></tr>\n",
       "\t<tr><td>City_Hotel  </td><td> 67</td><td>2</td><td>2</td><td>2</td><td>SC</td><td>GBR</td><td>Online_TA    </td><td>TA/TO </td><td>0</td><td>⋯</td><td> 49.09</td><td>none</td><td>1</td><td>none</td><td>Sun</td><td>Mar</td><td>2016</td><td>0</td><td>0</td><td>0</td></tr>\n",
       "</tbody>\n",
       "</table>\n"
      ],
      "text/latex": [
       "A tibble: 6 × 28\n",
       "\\begin{tabular}{lllllllllllllllllllll}\n",
       " hotel & lead\\_time & stays\\_in\\_weekend\\_nights & stays\\_in\\_week\\_nights & adults & meal & country & market\\_segment & distribution\\_channel & is\\_repeated\\_guest & ⋯ & average\\_daily\\_rate & required\\_car\\_parking\\_spaces & total\\_of\\_special\\_requests & children & arrival\\_date\\_dow & arrival\\_date\\_month & arrival\\_date\\_year & arrival\\_date\\_LaborDay & arrival\\_date\\_NewYearsDay & arrival\\_date\\_ChristmasDay\\\\\n",
       " <fct> & <dbl> & <dbl> & <dbl> & <dbl> & <fct> & <fct> & <fct> & <fct> & <dbl> & ⋯ & <dbl> & <fct> & <dbl> & <fct> & <fct> & <fct> & <int> & <int> & <int> & <int>\\\\\n",
       "\\hline\n",
       "\t City\\_Hotel   & 217 & 1 & 3 & 2 & BB & DEU & Offline\\_TA/TO & TA/TO  & 0 & ⋯ &  80.75 & none & 1 & none & Thu & Sep & 2016 & 0 & 0 & 0\\\\\n",
       "\t City\\_Hotel   &   2 & 0 & 1 & 2 & BB & PRT & Direct        & Direct & 0 & ⋯ & 170.00 & none & 3 & none & Fri & Aug & 2017 & 0 & 0 & 0\\\\\n",
       "\t Resort\\_Hotel &  95 & 2 & 5 & 2 & BB & GBR & Online\\_TA     & TA/TO  & 0 & ⋯ &   8.00 & none & 2 & none & Sat & Nov & 2016 & 0 & 0 & 0\\\\\n",
       "\t Resort\\_Hotel & 143 & 2 & 6 & 2 & HB & ROU & Online\\_TA     & TA/TO  & 0 & ⋯ &  81.00 & none & 1 & none & Tue & Apr & 2016 & 0 & 0 & 0\\\\\n",
       "\t Resort\\_Hotel & 136 & 1 & 4 & 2 & HB & PRT & Direct        & Direct & 0 & ⋯ & 157.60 & none & 4 & none & Wed & Dec & 2016 & 0 & 0 & 0\\\\\n",
       "\t City\\_Hotel   &  67 & 2 & 2 & 2 & SC & GBR & Online\\_TA     & TA/TO  & 0 & ⋯ &  49.09 & none & 1 & none & Sun & Mar & 2016 & 0 & 0 & 0\\\\\n",
       "\\end{tabular}\n"
      ],
      "text/markdown": [
       "\n",
       "A tibble: 6 × 28\n",
       "\n",
       "| hotel &lt;fct&gt; | lead_time &lt;dbl&gt; | stays_in_weekend_nights &lt;dbl&gt; | stays_in_week_nights &lt;dbl&gt; | adults &lt;dbl&gt; | meal &lt;fct&gt; | country &lt;fct&gt; | market_segment &lt;fct&gt; | distribution_channel &lt;fct&gt; | is_repeated_guest &lt;dbl&gt; | ⋯ ⋯ | average_daily_rate &lt;dbl&gt; | required_car_parking_spaces &lt;fct&gt; | total_of_special_requests &lt;dbl&gt; | children &lt;fct&gt; | arrival_date_dow &lt;fct&gt; | arrival_date_month &lt;fct&gt; | arrival_date_year &lt;int&gt; | arrival_date_LaborDay &lt;int&gt; | arrival_date_NewYearsDay &lt;int&gt; | arrival_date_ChristmasDay &lt;int&gt; |\n",
       "|---|---|---|---|---|---|---|---|---|---|---|---|---|---|---|---|---|---|---|---|---|\n",
       "| City_Hotel   | 217 | 1 | 3 | 2 | BB | DEU | Offline_TA/TO | TA/TO  | 0 | ⋯ |  80.75 | none | 1 | none | Thu | Sep | 2016 | 0 | 0 | 0 |\n",
       "| City_Hotel   |   2 | 0 | 1 | 2 | BB | PRT | Direct        | Direct | 0 | ⋯ | 170.00 | none | 3 | none | Fri | Aug | 2017 | 0 | 0 | 0 |\n",
       "| Resort_Hotel |  95 | 2 | 5 | 2 | BB | GBR | Online_TA     | TA/TO  | 0 | ⋯ |   8.00 | none | 2 | none | Sat | Nov | 2016 | 0 | 0 | 0 |\n",
       "| Resort_Hotel | 143 | 2 | 6 | 2 | HB | ROU | Online_TA     | TA/TO  | 0 | ⋯ |  81.00 | none | 1 | none | Tue | Apr | 2016 | 0 | 0 | 0 |\n",
       "| Resort_Hotel | 136 | 1 | 4 | 2 | HB | PRT | Direct        | Direct | 0 | ⋯ | 157.60 | none | 4 | none | Wed | Dec | 2016 | 0 | 0 | 0 |\n",
       "| City_Hotel   |  67 | 2 | 2 | 2 | SC | GBR | Online_TA     | TA/TO  | 0 | ⋯ |  49.09 | none | 1 | none | Sun | Mar | 2016 | 0 | 0 | 0 |\n",
       "\n"
      ],
      "text/plain": [
       "  hotel        lead_time stays_in_weekend_nights stays_in_week_nights adults\n",
       "1 City_Hotel   217       1                       3                    2     \n",
       "2 City_Hotel     2       0                       1                    2     \n",
       "3 Resort_Hotel  95       2                       5                    2     \n",
       "4 Resort_Hotel 143       2                       6                    2     \n",
       "5 Resort_Hotel 136       1                       4                    2     \n",
       "6 City_Hotel    67       2                       2                    2     \n",
       "  meal country market_segment distribution_channel is_repeated_guest ⋯\n",
       "1 BB   DEU     Offline_TA/TO  TA/TO                0                 ⋯\n",
       "2 BB   PRT     Direct         Direct               0                 ⋯\n",
       "3 BB   GBR     Online_TA      TA/TO                0                 ⋯\n",
       "4 HB   ROU     Online_TA      TA/TO                0                 ⋯\n",
       "5 HB   PRT     Direct         Direct               0                 ⋯\n",
       "6 SC   GBR     Online_TA      TA/TO                0                 ⋯\n",
       "  average_daily_rate required_car_parking_spaces total_of_special_requests\n",
       "1  80.75             none                        1                        \n",
       "2 170.00             none                        3                        \n",
       "3   8.00             none                        2                        \n",
       "4  81.00             none                        1                        \n",
       "5 157.60             none                        4                        \n",
       "6  49.09             none                        1                        \n",
       "  children arrival_date_dow arrival_date_month arrival_date_year\n",
       "1 none     Thu              Sep                2016             \n",
       "2 none     Fri              Aug                2017             \n",
       "3 none     Sat              Nov                2016             \n",
       "4 none     Tue              Apr                2016             \n",
       "5 none     Wed              Dec                2016             \n",
       "6 none     Sun              Mar                2016             \n",
       "  arrival_date_LaborDay arrival_date_NewYearsDay arrival_date_ChristmasDay\n",
       "1 0                     0                        0                        \n",
       "2 0                     0                        0                        \n",
       "3 0                     0                        0                        \n",
       "4 0                     0                        0                        \n",
       "5 0                     0                        0                        \n",
       "6 0                     0                        0                        "
      ]
     },
     "metadata": {},
     "output_type": "display_data"
    }
   ],
   "source": [
    "rec |> juice() |> head()"
   ]
  },
  {
   "cell_type": "markdown",
   "id": "3e33bfac-521c-4af6-8bea-5349f6c2546d",
   "metadata": {},
   "source": [
    "Let's start with a decision tree. "
   ]
  },
  {
   "cell_type": "code",
   "execution_count": 5,
   "id": "704b51a9-e57c-445f-8569-15fff2d70c0a",
   "metadata": {
    "vscode": {
     "languageId": "r"
    }
   },
   "outputs": [],
   "source": [
    "mod = decision_tree() |>\n",
    "    set_engine('rpart') |>\n",
    "    set_mode('classification')"
   ]
  },
  {
   "cell_type": "code",
   "execution_count": 6,
   "id": "26f97b8a",
   "metadata": {
    "vscode": {
     "languageId": "r"
    }
   },
   "outputs": [],
   "source": [
    "mod_fit = mod |> fit(children ~ ., data = hotels)"
   ]
  },
  {
   "cell_type": "code",
   "execution_count": 8,
   "id": "6637cc85",
   "metadata": {
    "vscode": {
     "languageId": "r"
    }
   },
   "outputs": [
    {
     "data": {
      "text/html": [
       "<table class=\"dataframe\">\n",
       "<caption>A tibble: 6 × 26</caption>\n",
       "<thead>\n",
       "\t<tr><th scope=col>.pred_class</th><th scope=col>.pred_children</th><th scope=col>.pred_none</th><th scope=col>hotel</th><th scope=col>lead_time</th><th scope=col>stays_in_weekend_nights</th><th scope=col>stays_in_week_nights</th><th scope=col>adults</th><th scope=col>children</th><th scope=col>meal</th><th scope=col>⋯</th><th scope=col>reserved_room_type</th><th scope=col>assigned_room_type</th><th scope=col>booking_changes</th><th scope=col>deposit_type</th><th scope=col>days_in_waiting_list</th><th scope=col>customer_type</th><th scope=col>average_daily_rate</th><th scope=col>required_car_parking_spaces</th><th scope=col>total_of_special_requests</th><th scope=col>arrival_date</th></tr>\n",
       "\t<tr><th scope=col>&lt;fct&gt;</th><th scope=col>&lt;dbl&gt;</th><th scope=col>&lt;dbl&gt;</th><th scope=col>&lt;fct&gt;</th><th scope=col>&lt;dbl&gt;</th><th scope=col>&lt;dbl&gt;</th><th scope=col>&lt;dbl&gt;</th><th scope=col>&lt;dbl&gt;</th><th scope=col>&lt;fct&gt;</th><th scope=col>&lt;fct&gt;</th><th scope=col>⋯</th><th scope=col>&lt;fct&gt;</th><th scope=col>&lt;fct&gt;</th><th scope=col>&lt;dbl&gt;</th><th scope=col>&lt;fct&gt;</th><th scope=col>&lt;dbl&gt;</th><th scope=col>&lt;fct&gt;</th><th scope=col>&lt;dbl&gt;</th><th scope=col>&lt;fct&gt;</th><th scope=col>&lt;dbl&gt;</th><th scope=col>&lt;date&gt;</th></tr>\n",
       "</thead>\n",
       "<tbody>\n",
       "\t<tr><td>none</td><td>0.05075292</td><td>0.9492471</td><td>City_Hotel  </td><td>217</td><td>1</td><td>3</td><td>2</td><td>none</td><td>BB</td><td>⋯</td><td>A</td><td>A</td><td>0</td><td>No_Deposit</td><td>0</td><td>Transient-Party</td><td> 80.75</td><td>none</td><td>1</td><td>2016-09-01</td></tr>\n",
       "\t<tr><td>none</td><td>0.05075292</td><td>0.9492471</td><td>City_Hotel  </td><td>  2</td><td>0</td><td>1</td><td>2</td><td>none</td><td>BB</td><td>⋯</td><td>D</td><td>K</td><td>0</td><td>No_Deposit</td><td>0</td><td>Transient      </td><td>170.00</td><td>none</td><td>3</td><td>2017-08-25</td></tr>\n",
       "\t<tr><td>none</td><td>0.05075292</td><td>0.9492471</td><td>Resort_Hotel</td><td> 95</td><td>2</td><td>5</td><td>2</td><td>none</td><td>BB</td><td>⋯</td><td>A</td><td>A</td><td>2</td><td>No_Deposit</td><td>0</td><td>Transient      </td><td>  8.00</td><td>none</td><td>2</td><td>2016-11-19</td></tr>\n",
       "\t<tr><td>none</td><td>0.05075292</td><td>0.9492471</td><td>Resort_Hotel</td><td>143</td><td>2</td><td>6</td><td>2</td><td>none</td><td>HB</td><td>⋯</td><td>A</td><td>A</td><td>0</td><td>No_Deposit</td><td>0</td><td>Transient      </td><td> 81.00</td><td>none</td><td>1</td><td>2016-04-26</td></tr>\n",
       "\t<tr><td>none</td><td>0.30278884</td><td>0.6972112</td><td>Resort_Hotel</td><td>136</td><td>1</td><td>4</td><td>2</td><td>none</td><td>HB</td><td>⋯</td><td>F</td><td>F</td><td>0</td><td>No_Deposit</td><td>0</td><td>Transient      </td><td>157.60</td><td>none</td><td>4</td><td>2016-12-28</td></tr>\n",
       "\t<tr><td>none</td><td>0.05075292</td><td>0.9492471</td><td>City_Hotel  </td><td> 67</td><td>2</td><td>2</td><td>2</td><td>none</td><td>SC</td><td>⋯</td><td>A</td><td>A</td><td>0</td><td>No_Deposit</td><td>0</td><td>Transient      </td><td> 49.09</td><td>none</td><td>1</td><td>2016-03-13</td></tr>\n",
       "</tbody>\n",
       "</table>\n"
      ],
      "text/latex": [
       "A tibble: 6 × 26\n",
       "\\begin{tabular}{lllllllllllllllllllll}\n",
       " .pred\\_class & .pred\\_children & .pred\\_none & hotel & lead\\_time & stays\\_in\\_weekend\\_nights & stays\\_in\\_week\\_nights & adults & children & meal & ⋯ & reserved\\_room\\_type & assigned\\_room\\_type & booking\\_changes & deposit\\_type & days\\_in\\_waiting\\_list & customer\\_type & average\\_daily\\_rate & required\\_car\\_parking\\_spaces & total\\_of\\_special\\_requests & arrival\\_date\\\\\n",
       " <fct> & <dbl> & <dbl> & <fct> & <dbl> & <dbl> & <dbl> & <dbl> & <fct> & <fct> & ⋯ & <fct> & <fct> & <dbl> & <fct> & <dbl> & <fct> & <dbl> & <fct> & <dbl> & <date>\\\\\n",
       "\\hline\n",
       "\t none & 0.05075292 & 0.9492471 & City\\_Hotel   & 217 & 1 & 3 & 2 & none & BB & ⋯ & A & A & 0 & No\\_Deposit & 0 & Transient-Party &  80.75 & none & 1 & 2016-09-01\\\\\n",
       "\t none & 0.05075292 & 0.9492471 & City\\_Hotel   &   2 & 0 & 1 & 2 & none & BB & ⋯ & D & K & 0 & No\\_Deposit & 0 & Transient       & 170.00 & none & 3 & 2017-08-25\\\\\n",
       "\t none & 0.05075292 & 0.9492471 & Resort\\_Hotel &  95 & 2 & 5 & 2 & none & BB & ⋯ & A & A & 2 & No\\_Deposit & 0 & Transient       &   8.00 & none & 2 & 2016-11-19\\\\\n",
       "\t none & 0.05075292 & 0.9492471 & Resort\\_Hotel & 143 & 2 & 6 & 2 & none & HB & ⋯ & A & A & 0 & No\\_Deposit & 0 & Transient       &  81.00 & none & 1 & 2016-04-26\\\\\n",
       "\t none & 0.30278884 & 0.6972112 & Resort\\_Hotel & 136 & 1 & 4 & 2 & none & HB & ⋯ & F & F & 0 & No\\_Deposit & 0 & Transient       & 157.60 & none & 4 & 2016-12-28\\\\\n",
       "\t none & 0.05075292 & 0.9492471 & City\\_Hotel   &  67 & 2 & 2 & 2 & none & SC & ⋯ & A & A & 0 & No\\_Deposit & 0 & Transient       &  49.09 & none & 1 & 2016-03-13\\\\\n",
       "\\end{tabular}\n"
      ],
      "text/markdown": [
       "\n",
       "A tibble: 6 × 26\n",
       "\n",
       "| .pred_class &lt;fct&gt; | .pred_children &lt;dbl&gt; | .pred_none &lt;dbl&gt; | hotel &lt;fct&gt; | lead_time &lt;dbl&gt; | stays_in_weekend_nights &lt;dbl&gt; | stays_in_week_nights &lt;dbl&gt; | adults &lt;dbl&gt; | children &lt;fct&gt; | meal &lt;fct&gt; | ⋯ ⋯ | reserved_room_type &lt;fct&gt; | assigned_room_type &lt;fct&gt; | booking_changes &lt;dbl&gt; | deposit_type &lt;fct&gt; | days_in_waiting_list &lt;dbl&gt; | customer_type &lt;fct&gt; | average_daily_rate &lt;dbl&gt; | required_car_parking_spaces &lt;fct&gt; | total_of_special_requests &lt;dbl&gt; | arrival_date &lt;date&gt; |\n",
       "|---|---|---|---|---|---|---|---|---|---|---|---|---|---|---|---|---|---|---|---|---|\n",
       "| none | 0.05075292 | 0.9492471 | City_Hotel   | 217 | 1 | 3 | 2 | none | BB | ⋯ | A | A | 0 | No_Deposit | 0 | Transient-Party |  80.75 | none | 1 | 2016-09-01 |\n",
       "| none | 0.05075292 | 0.9492471 | City_Hotel   |   2 | 0 | 1 | 2 | none | BB | ⋯ | D | K | 0 | No_Deposit | 0 | Transient       | 170.00 | none | 3 | 2017-08-25 |\n",
       "| none | 0.05075292 | 0.9492471 | Resort_Hotel |  95 | 2 | 5 | 2 | none | BB | ⋯ | A | A | 2 | No_Deposit | 0 | Transient       |   8.00 | none | 2 | 2016-11-19 |\n",
       "| none | 0.05075292 | 0.9492471 | Resort_Hotel | 143 | 2 | 6 | 2 | none | HB | ⋯ | A | A | 0 | No_Deposit | 0 | Transient       |  81.00 | none | 1 | 2016-04-26 |\n",
       "| none | 0.30278884 | 0.6972112 | Resort_Hotel | 136 | 1 | 4 | 2 | none | HB | ⋯ | F | F | 0 | No_Deposit | 0 | Transient       | 157.60 | none | 4 | 2016-12-28 |\n",
       "| none | 0.05075292 | 0.9492471 | City_Hotel   |  67 | 2 | 2 | 2 | none | SC | ⋯ | A | A | 0 | No_Deposit | 0 | Transient       |  49.09 | none | 1 | 2016-03-13 |\n",
       "\n"
      ],
      "text/plain": [
       "  .pred_class .pred_children .pred_none hotel        lead_time\n",
       "1 none        0.05075292     0.9492471  City_Hotel   217      \n",
       "2 none        0.05075292     0.9492471  City_Hotel     2      \n",
       "3 none        0.05075292     0.9492471  Resort_Hotel  95      \n",
       "4 none        0.05075292     0.9492471  Resort_Hotel 143      \n",
       "5 none        0.30278884     0.6972112  Resort_Hotel 136      \n",
       "6 none        0.05075292     0.9492471  City_Hotel    67      \n",
       "  stays_in_weekend_nights stays_in_week_nights adults children meal ⋯\n",
       "1 1                       3                    2      none     BB   ⋯\n",
       "2 0                       1                    2      none     BB   ⋯\n",
       "3 2                       5                    2      none     BB   ⋯\n",
       "4 2                       6                    2      none     HB   ⋯\n",
       "5 1                       4                    2      none     HB   ⋯\n",
       "6 2                       2                    2      none     SC   ⋯\n",
       "  reserved_room_type assigned_room_type booking_changes deposit_type\n",
       "1 A                  A                  0               No_Deposit  \n",
       "2 D                  K                  0               No_Deposit  \n",
       "3 A                  A                  2               No_Deposit  \n",
       "4 A                  A                  0               No_Deposit  \n",
       "5 F                  F                  0               No_Deposit  \n",
       "6 A                  A                  0               No_Deposit  \n",
       "  days_in_waiting_list customer_type   average_daily_rate\n",
       "1 0                    Transient-Party  80.75            \n",
       "2 0                    Transient       170.00            \n",
       "3 0                    Transient         8.00            \n",
       "4 0                    Transient        81.00            \n",
       "5 0                    Transient       157.60            \n",
       "6 0                    Transient        49.09            \n",
       "  required_car_parking_spaces total_of_special_requests arrival_date\n",
       "1 none                        1                         2016-09-01  \n",
       "2 none                        3                         2017-08-25  \n",
       "3 none                        2                         2016-11-19  \n",
       "4 none                        1                         2016-04-26  \n",
       "5 none                        4                         2016-12-28  \n",
       "6 none                        1                         2016-03-13  "
      ]
     },
     "metadata": {},
     "output_type": "display_data"
    }
   ],
   "source": [
    "augment(mod_fit, hotels) |> head()"
   ]
  },
  {
   "cell_type": "code",
   "execution_count": 12,
   "id": "b1de06eb",
   "metadata": {
    "vscode": {
     "languageId": "r"
    }
   },
   "outputs": [
    {
     "name": "stderr",
     "output_type": "stream",
     "text": [
      "Warning message:\n",
      "\"package 'rpart.plot' was built under R version 4.4.2\"\n",
      "Loading required package: rpart\n",
      "\n",
      "\n",
      "Attaching package: 'rpart'\n",
      "\n",
      "\n",
      "The following object is masked from 'package:dials':\n",
      "\n",
      "    prune\n",
      "\n",
      "\n"
     ]
    }
   ],
   "source": [
    "library('rpart.plot')"
   ]
  },
  {
   "cell_type": "markdown",
   "id": "e2b8f7b5-a3a8-4099-b2b0-29771c8811b9",
   "metadata": {},
   "source": [
    "Use the snippet below to visualize the tree. What is the first split?\n",
    "\n",
    "```r\n",
    "rpart.plot::rpart.plot(mod_fit$fit)\n",
    "```"
   ]
  },
  {
   "cell_type": "code",
   "execution_count": 16,
   "id": "892cfa70",
   "metadata": {
    "vscode": {
     "languageId": "r"
    }
   },
   "outputs": [
    {
     "name": "stderr",
     "output_type": "stream",
     "text": [
      "Warning message:\n",
      "\"Cannot retrieve the data used to build the model (so cannot determine roundint and is.binary for the variables).\n",
      "To silence this warning:\n",
      "    Call rpart.plot with roundint=FALSE,\n",
      "    or rebuild the rpart model with model=TRUE.\"\n"
     ]
    },
    {
     "data": {
      "image/png": "[encoded data removed]",
      "text/plain": [
       "plot without title"
      ]
     },
     "metadata": {
      "image/png": {
       "height": 840,
       "width": 1080
      }
     },
     "output_type": "display_data"
    }
   ],
   "source": [
    "options(repr.plot.height = 14, repr.plot.width = 18)\n",
    "theme_set(theme_gray(base_size = 16))\n",
    "rpart.plot(mod_fit$fit)"
   ]
  },
  {
   "cell_type": "markdown",
   "id": "da6b48d4-3f11-4dab-86fb-189a04e6845d",
   "metadata": {},
   "source": [
    "Fit `mod` using the data from your prepped recipe. (Hint: remember `juice`)."
   ]
  },
  {
   "cell_type": "code",
   "execution_count": 19,
   "id": "c55d5b10",
   "metadata": {
    "vscode": {
     "languageId": "r"
    }
   },
   "outputs": [
    {
     "name": "stderr",
     "output_type": "stream",
     "text": [
      "Installing package into 'C:/Users/agung/AppData/Local/R/win-library/4.4'\n",
      "(as 'lib' is unspecified)\n",
      "\n",
      "also installing the dependency 'RcppEigen'\n",
      "\n",
      "\n"
     ]
    },
    {
     "name": "stdout",
     "output_type": "stream",
     "text": [
      "\n",
      "  There is a binary version available but the source version is later:\n",
      "       binary source needs_compilation\n",
      "ranger 0.16.0 0.17.0              TRUE\n",
      "\n",
      "  Binaries will be installed\n",
      "package 'RcppEigen' successfully unpacked and MD5 sums checked\n",
      "package 'ranger' successfully unpacked and MD5 sums checked\n",
      "\n",
      "The downloaded binary packages are in\n",
      "\tC:\\Users\\agung\\AppData\\Local\\Temp\\RtmpCEZLjW\\downloaded_packages\n"
     ]
    }
   ],
   "source": [
    "install.packages(\"ranger\")"
   ]
  },
  {
   "cell_type": "markdown",
   "id": "02d0ad38-a48e-4a62-a792-e2b1099477bf",
   "metadata": {},
   "source": [
    "Now create a `random_forest` model and fit it to the transformed `hotels` data.\n",
    "\n",
    "1. the `mode` should be \"classification\", and,\n",
    "2. add `importance = \"impurity\"` to `set_engine` so we can calculate feature importances with the model."
   ]
  },
  {
   "cell_type": "code",
   "execution_count": 20,
   "id": "850b6234-951b-46ff-99d8-0c8576918db4",
   "metadata": {
    "vscode": {
     "languageId": "r"
    }
   },
   "outputs": [],
   "source": [
    "mod_tree = rand_forest(trees = 1000) |>\n",
    "    set_engine('ranger', importance = 'impurity',) |>\n",
    "    set_mode('classification')\n",
    "\n",
    "mod_fit_tree = mod_tree |> fit(children ~ ., data = hotels)"
   ]
  },
  {
   "cell_type": "code",
   "execution_count": 21,
   "id": "b242e3ff",
   "metadata": {
    "vscode": {
     "languageId": "r"
    }
   },
   "outputs": [
    {
     "data": {
      "text/plain": [
       "parsnip model object\n",
       "\n",
       "Ranger result\n",
       "\n",
       "Call:\n",
       " ranger::ranger(x = maybe_data_frame(x), y = y, num.trees = ~1000,      importance = ~\"impurity\", num.threads = 1, verbose = FALSE,      seed = sample.int(10^5, 1), probability = TRUE) \n",
       "\n",
       "Type:                             Probability estimation \n",
       "Number of trees:                  1000 \n",
       "Sample size:                      50000 \n",
       "Number of independent variables:  22 \n",
       "Mtry:                             4 \n",
       "Target node size:                 10 \n",
       "Variable importance mode:         impurity \n",
       "Splitrule:                        gini \n",
       "OOB prediction error (Brier s.):  0.04189474 "
      ]
     },
     "metadata": {},
     "output_type": "display_data"
    }
   ],
   "source": [
    "mod_fit_tree"
   ]
  },
  {
   "cell_type": "code",
   "execution_count": 23,
   "id": "55bc13e0",
   "metadata": {
    "vscode": {
     "languageId": "r"
    }
   },
   "outputs": [
    {
     "data": {
      "text/html": [
       "<table class=\"dataframe\">\n",
       "<caption>A tibble: 6 × 26</caption>\n",
       "<thead>\n",
       "\t<tr><th scope=col>.pred_class</th><th scope=col>.pred_children</th><th scope=col>.pred_none</th><th scope=col>hotel</th><th scope=col>lead_time</th><th scope=col>stays_in_weekend_nights</th><th scope=col>stays_in_week_nights</th><th scope=col>adults</th><th scope=col>children</th><th scope=col>meal</th><th scope=col>⋯</th><th scope=col>reserved_room_type</th><th scope=col>assigned_room_type</th><th scope=col>booking_changes</th><th scope=col>deposit_type</th><th scope=col>days_in_waiting_list</th><th scope=col>customer_type</th><th scope=col>average_daily_rate</th><th scope=col>required_car_parking_spaces</th><th scope=col>total_of_special_requests</th><th scope=col>arrival_date</th></tr>\n",
       "\t<tr><th scope=col>&lt;fct&gt;</th><th scope=col>&lt;dbl&gt;</th><th scope=col>&lt;dbl&gt;</th><th scope=col>&lt;fct&gt;</th><th scope=col>&lt;dbl&gt;</th><th scope=col>&lt;dbl&gt;</th><th scope=col>&lt;dbl&gt;</th><th scope=col>&lt;dbl&gt;</th><th scope=col>&lt;fct&gt;</th><th scope=col>&lt;fct&gt;</th><th scope=col>⋯</th><th scope=col>&lt;fct&gt;</th><th scope=col>&lt;fct&gt;</th><th scope=col>&lt;dbl&gt;</th><th scope=col>&lt;fct&gt;</th><th scope=col>&lt;dbl&gt;</th><th scope=col>&lt;fct&gt;</th><th scope=col>&lt;dbl&gt;</th><th scope=col>&lt;fct&gt;</th><th scope=col>&lt;dbl&gt;</th><th scope=col>&lt;date&gt;</th></tr>\n",
       "</thead>\n",
       "<tbody>\n",
       "\t<tr><td>none</td><td>0.002184764</td><td>0.9978152</td><td>City_Hotel  </td><td>217</td><td>1</td><td>3</td><td>2</td><td>none</td><td>BB</td><td>⋯</td><td>A</td><td>A</td><td>0</td><td>No_Deposit</td><td>0</td><td>Transient-Party</td><td> 80.75</td><td>none</td><td>1</td><td>2016-09-01</td></tr>\n",
       "\t<tr><td>none</td><td>0.238853291</td><td>0.7611467</td><td>City_Hotel  </td><td>  2</td><td>0</td><td>1</td><td>2</td><td>none</td><td>BB</td><td>⋯</td><td>D</td><td>K</td><td>0</td><td>No_Deposit</td><td>0</td><td>Transient      </td><td>170.00</td><td>none</td><td>3</td><td>2017-08-25</td></tr>\n",
       "\t<tr><td>none</td><td>0.121510564</td><td>0.8784894</td><td>Resort_Hotel</td><td> 95</td><td>2</td><td>5</td><td>2</td><td>none</td><td>BB</td><td>⋯</td><td>A</td><td>A</td><td>2</td><td>No_Deposit</td><td>0</td><td>Transient      </td><td>  8.00</td><td>none</td><td>2</td><td>2016-11-19</td></tr>\n",
       "\t<tr><td>none</td><td>0.019605873</td><td>0.9803941</td><td>Resort_Hotel</td><td>143</td><td>2</td><td>6</td><td>2</td><td>none</td><td>HB</td><td>⋯</td><td>A</td><td>A</td><td>0</td><td>No_Deposit</td><td>0</td><td>Transient      </td><td> 81.00</td><td>none</td><td>1</td><td>2016-04-26</td></tr>\n",
       "\t<tr><td>none</td><td>0.170343539</td><td>0.8296565</td><td>Resort_Hotel</td><td>136</td><td>1</td><td>4</td><td>2</td><td>none</td><td>HB</td><td>⋯</td><td>F</td><td>F</td><td>0</td><td>No_Deposit</td><td>0</td><td>Transient      </td><td>157.60</td><td>none</td><td>4</td><td>2016-12-28</td></tr>\n",
       "\t<tr><td>none</td><td>0.008451239</td><td>0.9915488</td><td>City_Hotel  </td><td> 67</td><td>2</td><td>2</td><td>2</td><td>none</td><td>SC</td><td>⋯</td><td>A</td><td>A</td><td>0</td><td>No_Deposit</td><td>0</td><td>Transient      </td><td> 49.09</td><td>none</td><td>1</td><td>2016-03-13</td></tr>\n",
       "</tbody>\n",
       "</table>\n"
      ],
      "text/latex": [
       "A tibble: 6 × 26\n",
       "\\begin{tabular}{lllllllllllllllllllll}\n",
       " .pred\\_class & .pred\\_children & .pred\\_none & hotel & lead\\_time & stays\\_in\\_weekend\\_nights & stays\\_in\\_week\\_nights & adults & children & meal & ⋯ & reserved\\_room\\_type & assigned\\_room\\_type & booking\\_changes & deposit\\_type & days\\_in\\_waiting\\_list & customer\\_type & average\\_daily\\_rate & required\\_car\\_parking\\_spaces & total\\_of\\_special\\_requests & arrival\\_date\\\\\n",
       " <fct> & <dbl> & <dbl> & <fct> & <dbl> & <dbl> & <dbl> & <dbl> & <fct> & <fct> & ⋯ & <fct> & <fct> & <dbl> & <fct> & <dbl> & <fct> & <dbl> & <fct> & <dbl> & <date>\\\\\n",
       "\\hline\n",
       "\t none & 0.002184764 & 0.9978152 & City\\_Hotel   & 217 & 1 & 3 & 2 & none & BB & ⋯ & A & A & 0 & No\\_Deposit & 0 & Transient-Party &  80.75 & none & 1 & 2016-09-01\\\\\n",
       "\t none & 0.238853291 & 0.7611467 & City\\_Hotel   &   2 & 0 & 1 & 2 & none & BB & ⋯ & D & K & 0 & No\\_Deposit & 0 & Transient       & 170.00 & none & 3 & 2017-08-25\\\\\n",
       "\t none & 0.121510564 & 0.8784894 & Resort\\_Hotel &  95 & 2 & 5 & 2 & none & BB & ⋯ & A & A & 2 & No\\_Deposit & 0 & Transient       &   8.00 & none & 2 & 2016-11-19\\\\\n",
       "\t none & 0.019605873 & 0.9803941 & Resort\\_Hotel & 143 & 2 & 6 & 2 & none & HB & ⋯ & A & A & 0 & No\\_Deposit & 0 & Transient       &  81.00 & none & 1 & 2016-04-26\\\\\n",
       "\t none & 0.170343539 & 0.8296565 & Resort\\_Hotel & 136 & 1 & 4 & 2 & none & HB & ⋯ & F & F & 0 & No\\_Deposit & 0 & Transient       & 157.60 & none & 4 & 2016-12-28\\\\\n",
       "\t none & 0.008451239 & 0.9915488 & City\\_Hotel   &  67 & 2 & 2 & 2 & none & SC & ⋯ & A & A & 0 & No\\_Deposit & 0 & Transient       &  49.09 & none & 1 & 2016-03-13\\\\\n",
       "\\end{tabular}\n"
      ],
      "text/markdown": [
       "\n",
       "A tibble: 6 × 26\n",
       "\n",
       "| .pred_class &lt;fct&gt; | .pred_children &lt;dbl&gt; | .pred_none &lt;dbl&gt; | hotel &lt;fct&gt; | lead_time &lt;dbl&gt; | stays_in_weekend_nights &lt;dbl&gt; | stays_in_week_nights &lt;dbl&gt; | adults &lt;dbl&gt; | children &lt;fct&gt; | meal &lt;fct&gt; | ⋯ ⋯ | reserved_room_type &lt;fct&gt; | assigned_room_type &lt;fct&gt; | booking_changes &lt;dbl&gt; | deposit_type &lt;fct&gt; | days_in_waiting_list &lt;dbl&gt; | customer_type &lt;fct&gt; | average_daily_rate &lt;dbl&gt; | required_car_parking_spaces &lt;fct&gt; | total_of_special_requests &lt;dbl&gt; | arrival_date &lt;date&gt; |\n",
       "|---|---|---|---|---|---|---|---|---|---|---|---|---|---|---|---|---|---|---|---|---|\n",
       "| none | 0.002184764 | 0.9978152 | City_Hotel   | 217 | 1 | 3 | 2 | none | BB | ⋯ | A | A | 0 | No_Deposit | 0 | Transient-Party |  80.75 | none | 1 | 2016-09-01 |\n",
       "| none | 0.238853291 | 0.7611467 | City_Hotel   |   2 | 0 | 1 | 2 | none | BB | ⋯ | D | K | 0 | No_Deposit | 0 | Transient       | 170.00 | none | 3 | 2017-08-25 |\n",
       "| none | 0.121510564 | 0.8784894 | Resort_Hotel |  95 | 2 | 5 | 2 | none | BB | ⋯ | A | A | 2 | No_Deposit | 0 | Transient       |   8.00 | none | 2 | 2016-11-19 |\n",
       "| none | 0.019605873 | 0.9803941 | Resort_Hotel | 143 | 2 | 6 | 2 | none | HB | ⋯ | A | A | 0 | No_Deposit | 0 | Transient       |  81.00 | none | 1 | 2016-04-26 |\n",
       "| none | 0.170343539 | 0.8296565 | Resort_Hotel | 136 | 1 | 4 | 2 | none | HB | ⋯ | F | F | 0 | No_Deposit | 0 | Transient       | 157.60 | none | 4 | 2016-12-28 |\n",
       "| none | 0.008451239 | 0.9915488 | City_Hotel   |  67 | 2 | 2 | 2 | none | SC | ⋯ | A | A | 0 | No_Deposit | 0 | Transient       |  49.09 | none | 1 | 2016-03-13 |\n",
       "\n"
      ],
      "text/plain": [
       "  .pred_class .pred_children .pred_none hotel        lead_time\n",
       "1 none        0.002184764    0.9978152  City_Hotel   217      \n",
       "2 none        0.238853291    0.7611467  City_Hotel     2      \n",
       "3 none        0.121510564    0.8784894  Resort_Hotel  95      \n",
       "4 none        0.019605873    0.9803941  Resort_Hotel 143      \n",
       "5 none        0.170343539    0.8296565  Resort_Hotel 136      \n",
       "6 none        0.008451239    0.9915488  City_Hotel    67      \n",
       "  stays_in_weekend_nights stays_in_week_nights adults children meal ⋯\n",
       "1 1                       3                    2      none     BB   ⋯\n",
       "2 0                       1                    2      none     BB   ⋯\n",
       "3 2                       5                    2      none     BB   ⋯\n",
       "4 2                       6                    2      none     HB   ⋯\n",
       "5 1                       4                    2      none     HB   ⋯\n",
       "6 2                       2                    2      none     SC   ⋯\n",
       "  reserved_room_type assigned_room_type booking_changes deposit_type\n",
       "1 A                  A                  0               No_Deposit  \n",
       "2 D                  K                  0               No_Deposit  \n",
       "3 A                  A                  2               No_Deposit  \n",
       "4 A                  A                  0               No_Deposit  \n",
       "5 F                  F                  0               No_Deposit  \n",
       "6 A                  A                  0               No_Deposit  \n",
       "  days_in_waiting_list customer_type   average_daily_rate\n",
       "1 0                    Transient-Party  80.75            \n",
       "2 0                    Transient       170.00            \n",
       "3 0                    Transient         8.00            \n",
       "4 0                    Transient        81.00            \n",
       "5 0                    Transient       157.60            \n",
       "6 0                    Transient        49.09            \n",
       "  required_car_parking_spaces total_of_special_requests arrival_date\n",
       "1 none                        1                         2016-09-01  \n",
       "2 none                        3                         2017-08-25  \n",
       "3 none                        2                         2016-11-19  \n",
       "4 none                        1                         2016-04-26  \n",
       "5 none                        4                         2016-12-28  \n",
       "6 none                        1                         2016-03-13  "
      ]
     },
     "metadata": {},
     "output_type": "display_data"
    },
    {
     "data": {
      "text/html": [
       "<table class=\"dataframe\">\n",
       "<caption>A tibble: 6 × 26</caption>\n",
       "<thead>\n",
       "\t<tr><th scope=col>.pred_class</th><th scope=col>.pred_children</th><th scope=col>.pred_none</th><th scope=col>hotel</th><th scope=col>lead_time</th><th scope=col>stays_in_weekend_nights</th><th scope=col>stays_in_week_nights</th><th scope=col>adults</th><th scope=col>children</th><th scope=col>meal</th><th scope=col>⋯</th><th scope=col>reserved_room_type</th><th scope=col>assigned_room_type</th><th scope=col>booking_changes</th><th scope=col>deposit_type</th><th scope=col>days_in_waiting_list</th><th scope=col>customer_type</th><th scope=col>average_daily_rate</th><th scope=col>required_car_parking_spaces</th><th scope=col>total_of_special_requests</th><th scope=col>arrival_date</th></tr>\n",
       "\t<tr><th scope=col>&lt;fct&gt;</th><th scope=col>&lt;dbl&gt;</th><th scope=col>&lt;dbl&gt;</th><th scope=col>&lt;fct&gt;</th><th scope=col>&lt;dbl&gt;</th><th scope=col>&lt;dbl&gt;</th><th scope=col>&lt;dbl&gt;</th><th scope=col>&lt;dbl&gt;</th><th scope=col>&lt;fct&gt;</th><th scope=col>&lt;fct&gt;</th><th scope=col>⋯</th><th scope=col>&lt;fct&gt;</th><th scope=col>&lt;fct&gt;</th><th scope=col>&lt;dbl&gt;</th><th scope=col>&lt;fct&gt;</th><th scope=col>&lt;dbl&gt;</th><th scope=col>&lt;fct&gt;</th><th scope=col>&lt;dbl&gt;</th><th scope=col>&lt;fct&gt;</th><th scope=col>&lt;dbl&gt;</th><th scope=col>&lt;date&gt;</th></tr>\n",
       "</thead>\n",
       "<tbody>\n",
       "\t<tr><td>none</td><td>0.001786322</td><td>0.9982137</td><td>City_Hotel  </td><td> 73</td><td>0</td><td>2</td><td>2</td><td>none    </td><td>SC</td><td>⋯</td><td>A</td><td>A</td><td>0</td><td>No_Deposit</td><td>0</td><td>Transient</td><td> 79.20</td><td>none</td><td>1</td><td>2017-01-27</td></tr>\n",
       "\t<tr><td>none</td><td>0.393470033</td><td>0.6065300</td><td>Resort_Hotel</td><td>172</td><td>0</td><td>2</td><td>2</td><td>children</td><td>BB</td><td>⋯</td><td>A</td><td>A</td><td>1</td><td>No_Deposit</td><td>0</td><td>Transient</td><td> 73.39</td><td>none</td><td>1</td><td>2016-10-07</td></tr>\n",
       "\t<tr><td>none</td><td>0.110422193</td><td>0.8895778</td><td>Resort_Hotel</td><td> 48</td><td>0</td><td>4</td><td>2</td><td>none    </td><td>FB</td><td>⋯</td><td>A</td><td>B</td><td>2</td><td>No_Deposit</td><td>0</td><td>Transient</td><td>158.00</td><td>none</td><td>0</td><td>2015-09-01</td></tr>\n",
       "\t<tr><td>none</td><td>0.007673885</td><td>0.9923261</td><td>City_Hotel  </td><td>155</td><td>0</td><td>4</td><td>2</td><td>none    </td><td>BB</td><td>⋯</td><td>A</td><td>A</td><td>0</td><td>No_Deposit</td><td>0</td><td>Transient</td><td> 82.50</td><td>none</td><td>1</td><td>2017-07-26</td></tr>\n",
       "\t<tr><td>none</td><td>0.459660027</td><td>0.5403400</td><td>Resort_Hotel</td><td>140</td><td>2</td><td>5</td><td>2</td><td>none    </td><td>HB</td><td>⋯</td><td>G</td><td>G</td><td>0</td><td>No_Deposit</td><td>0</td><td>Transient</td><td>143.00</td><td>none</td><td>0</td><td>2016-04-28</td></tr>\n",
       "\t<tr><td>none</td><td>0.150958296</td><td>0.8490417</td><td>City_Hotel  </td><td> 12</td><td>2</td><td>1</td><td>2</td><td>none    </td><td>BB</td><td>⋯</td><td>A</td><td>A</td><td>0</td><td>No_Deposit</td><td>0</td><td>Transient</td><td>171.33</td><td>none</td><td>1</td><td>2016-09-18</td></tr>\n",
       "</tbody>\n",
       "</table>\n"
      ],
      "text/latex": [
       "A tibble: 6 × 26\n",
       "\\begin{tabular}{lllllllllllllllllllll}\n",
       " .pred\\_class & .pred\\_children & .pred\\_none & hotel & lead\\_time & stays\\_in\\_weekend\\_nights & stays\\_in\\_week\\_nights & adults & children & meal & ⋯ & reserved\\_room\\_type & assigned\\_room\\_type & booking\\_changes & deposit\\_type & days\\_in\\_waiting\\_list & customer\\_type & average\\_daily\\_rate & required\\_car\\_parking\\_spaces & total\\_of\\_special\\_requests & arrival\\_date\\\\\n",
       " <fct> & <dbl> & <dbl> & <fct> & <dbl> & <dbl> & <dbl> & <dbl> & <fct> & <fct> & ⋯ & <fct> & <fct> & <dbl> & <fct> & <dbl> & <fct> & <dbl> & <fct> & <dbl> & <date>\\\\\n",
       "\\hline\n",
       "\t none & 0.001786322 & 0.9982137 & City\\_Hotel   &  73 & 0 & 2 & 2 & none     & SC & ⋯ & A & A & 0 & No\\_Deposit & 0 & Transient &  79.20 & none & 1 & 2017-01-27\\\\\n",
       "\t none & 0.393470033 & 0.6065300 & Resort\\_Hotel & 172 & 0 & 2 & 2 & children & BB & ⋯ & A & A & 1 & No\\_Deposit & 0 & Transient &  73.39 & none & 1 & 2016-10-07\\\\\n",
       "\t none & 0.110422193 & 0.8895778 & Resort\\_Hotel &  48 & 0 & 4 & 2 & none     & FB & ⋯ & A & B & 2 & No\\_Deposit & 0 & Transient & 158.00 & none & 0 & 2015-09-01\\\\\n",
       "\t none & 0.007673885 & 0.9923261 & City\\_Hotel   & 155 & 0 & 4 & 2 & none     & BB & ⋯ & A & A & 0 & No\\_Deposit & 0 & Transient &  82.50 & none & 1 & 2017-07-26\\\\\n",
       "\t none & 0.459660027 & 0.5403400 & Resort\\_Hotel & 140 & 2 & 5 & 2 & none     & HB & ⋯ & G & G & 0 & No\\_Deposit & 0 & Transient & 143.00 & none & 0 & 2016-04-28\\\\\n",
       "\t none & 0.150958296 & 0.8490417 & City\\_Hotel   &  12 & 2 & 1 & 2 & none     & BB & ⋯ & A & A & 0 & No\\_Deposit & 0 & Transient & 171.33 & none & 1 & 2016-09-18\\\\\n",
       "\\end{tabular}\n"
      ],
      "text/markdown": [
       "\n",
       "A tibble: 6 × 26\n",
       "\n",
       "| .pred_class &lt;fct&gt; | .pred_children &lt;dbl&gt; | .pred_none &lt;dbl&gt; | hotel &lt;fct&gt; | lead_time &lt;dbl&gt; | stays_in_weekend_nights &lt;dbl&gt; | stays_in_week_nights &lt;dbl&gt; | adults &lt;dbl&gt; | children &lt;fct&gt; | meal &lt;fct&gt; | ⋯ ⋯ | reserved_room_type &lt;fct&gt; | assigned_room_type &lt;fct&gt; | booking_changes &lt;dbl&gt; | deposit_type &lt;fct&gt; | days_in_waiting_list &lt;dbl&gt; | customer_type &lt;fct&gt; | average_daily_rate &lt;dbl&gt; | required_car_parking_spaces &lt;fct&gt; | total_of_special_requests &lt;dbl&gt; | arrival_date &lt;date&gt; |\n",
       "|---|---|---|---|---|---|---|---|---|---|---|---|---|---|---|---|---|---|---|---|---|\n",
       "| none | 0.001786322 | 0.9982137 | City_Hotel   |  73 | 0 | 2 | 2 | none     | SC | ⋯ | A | A | 0 | No_Deposit | 0 | Transient |  79.20 | none | 1 | 2017-01-27 |\n",
       "| none | 0.393470033 | 0.6065300 | Resort_Hotel | 172 | 0 | 2 | 2 | children | BB | ⋯ | A | A | 1 | No_Deposit | 0 | Transient |  73.39 | none | 1 | 2016-10-07 |\n",
       "| none | 0.110422193 | 0.8895778 | Resort_Hotel |  48 | 0 | 4 | 2 | none     | FB | ⋯ | A | B | 2 | No_Deposit | 0 | Transient | 158.00 | none | 0 | 2015-09-01 |\n",
       "| none | 0.007673885 | 0.9923261 | City_Hotel   | 155 | 0 | 4 | 2 | none     | BB | ⋯ | A | A | 0 | No_Deposit | 0 | Transient |  82.50 | none | 1 | 2017-07-26 |\n",
       "| none | 0.459660027 | 0.5403400 | Resort_Hotel | 140 | 2 | 5 | 2 | none     | HB | ⋯ | G | G | 0 | No_Deposit | 0 | Transient | 143.00 | none | 0 | 2016-04-28 |\n",
       "| none | 0.150958296 | 0.8490417 | City_Hotel   |  12 | 2 | 1 | 2 | none     | BB | ⋯ | A | A | 0 | No_Deposit | 0 | Transient | 171.33 | none | 1 | 2016-09-18 |\n",
       "\n"
      ],
      "text/plain": [
       "  .pred_class .pred_children .pred_none hotel        lead_time\n",
       "1 none        0.001786322    0.9982137  City_Hotel    73      \n",
       "2 none        0.393470033    0.6065300  Resort_Hotel 172      \n",
       "3 none        0.110422193    0.8895778  Resort_Hotel  48      \n",
       "4 none        0.007673885    0.9923261  City_Hotel   155      \n",
       "5 none        0.459660027    0.5403400  Resort_Hotel 140      \n",
       "6 none        0.150958296    0.8490417  City_Hotel    12      \n",
       "  stays_in_weekend_nights stays_in_week_nights adults children meal ⋯\n",
       "1 0                       2                    2      none     SC   ⋯\n",
       "2 0                       2                    2      children BB   ⋯\n",
       "3 0                       4                    2      none     FB   ⋯\n",
       "4 0                       4                    2      none     BB   ⋯\n",
       "5 2                       5                    2      none     HB   ⋯\n",
       "6 2                       1                    2      none     BB   ⋯\n",
       "  reserved_room_type assigned_room_type booking_changes deposit_type\n",
       "1 A                  A                  0               No_Deposit  \n",
       "2 A                  A                  1               No_Deposit  \n",
       "3 A                  B                  2               No_Deposit  \n",
       "4 A                  A                  0               No_Deposit  \n",
       "5 G                  G                  0               No_Deposit  \n",
       "6 A                  A                  0               No_Deposit  \n",
       "  days_in_waiting_list customer_type average_daily_rate\n",
       "1 0                    Transient      79.20            \n",
       "2 0                    Transient      73.39            \n",
       "3 0                    Transient     158.00            \n",
       "4 0                    Transient      82.50            \n",
       "5 0                    Transient     143.00            \n",
       "6 0                    Transient     171.33            \n",
       "  required_car_parking_spaces total_of_special_requests arrival_date\n",
       "1 none                        1                         2017-01-27  \n",
       "2 none                        1                         2016-10-07  \n",
       "3 none                        0                         2015-09-01  \n",
       "4 none                        1                         2017-07-26  \n",
       "5 none                        0                         2016-04-28  \n",
       "6 none                        1                         2016-09-18  "
      ]
     },
     "metadata": {},
     "output_type": "display_data"
    }
   ],
   "source": [
    "augment(mod_fit_tree, hotels) |> head()\n",
    "augment(mod_fit_tree, hotels) |> tail()"
   ]
  },
  {
   "cell_type": "markdown",
   "id": "c92b4371-2c51-4124-8e8f-29f1a4decde4",
   "metadata": {},
   "source": [
    "We can plot the feature importances. Pipe your fitted model into `extract_fit_parsnip()` and then into `vip(num_features = 20)`."
   ]
  },
  {
   "cell_type": "code",
   "execution_count": 24,
   "id": "4fa1f375-66db-4e59-8ec6-78b8cb39b4f7",
   "metadata": {
    "vscode": {
     "languageId": "r"
    }
   },
   "outputs": [
    {
     "name": "stderr",
     "output_type": "stream",
     "text": [
      "Warning message:\n",
      "\"package 'vip' was built under R version 4.4.2\"\n",
      "\n",
      "Attaching package: 'vip'\n",
      "\n",
      "\n",
      "The following object is masked from 'package:utils':\n",
      "\n",
      "    vi\n",
      "\n",
      "\n"
     ]
    },
    {
     "data": {
      "image/png": "[encoded data removed]",
      "text/plain": [
       "plot without title"
      ]
     },
     "metadata": {
      "image/png": {
       "height": 480,
       "width": 1080
      }
     },
     "output_type": "display_data"
    }
   ],
   "source": [
    "library('vip')\n",
    "options(repr.plot.height = 8)\n",
    "\n",
    "mod_fit_tree |> extract_fit_engine() |> vip(num_features = 5)"
   ]
  }
 ],
 "metadata": {
  "kernelspec": {
   "display_name": "R",
   "language": "R",
   "name": "ir"
  },
  "language_info": {
   "codemirror_mode": "r",
   "file_extension": ".r",
   "mimetype": "text/x-r-source",
   "name": "R",
   "pygments_lexer": "r",
   "version": "4.4.1"
  }
 },
 "nbformat": 4,
 "nbformat_minor": 5
}
