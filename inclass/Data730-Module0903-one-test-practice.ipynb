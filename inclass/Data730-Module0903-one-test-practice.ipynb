{
 "cells": [
  {
   "cell_type": "code",
   "execution_count": 1,
   "id": "d7fdfe7b-8132-418d-b64a-3ad3037e6676",
   "metadata": {
    "vscode": {
     "languageId": "r"
    }
   },
   "outputs": [
    {
     "name": "stderr",
     "output_type": "stream",
     "text": [
      "── \u001b[1mAttaching core tidyverse packages\u001b[22m ──────────────────────── tidyverse 2.0.0 ──\n",
      "\u001b[32m✔\u001b[39m \u001b[34mdplyr    \u001b[39m 1.1.4     \u001b[32m✔\u001b[39m \u001b[34mreadr    \u001b[39m 2.1.5\n",
      "\u001b[32m✔\u001b[39m \u001b[34mforcats  \u001b[39m 1.0.0     \u001b[32m✔\u001b[39m \u001b[34mstringr  \u001b[39m 1.5.1\n",
      "\u001b[32m✔\u001b[39m \u001b[34mggplot2  \u001b[39m 3.5.1     \u001b[32m✔\u001b[39m \u001b[34mtibble   \u001b[39m 3.2.1\n",
      "\u001b[32m✔\u001b[39m \u001b[34mlubridate\u001b[39m 1.9.3     \u001b[32m✔\u001b[39m \u001b[34mtidyr    \u001b[39m 1.3.1\n",
      "── \u001b[1mConflicts\u001b[22m ────────────────────────────────────────── tidyverse_conflicts() ──\n",
      "\u001b[31m✖\u001b[39m \u001b[34mdplyr\u001b[39m::\u001b[32mfilter()\u001b[39m masks \u001b[34mstats\u001b[39m::filter()\n",
      "\u001b[31m✖\u001b[39m \u001b[34mdplyr\u001b[39m::\u001b[32mlag()\u001b[39m    masks \u001b[34mstats\u001b[39m::lag()\n",
      "\u001b[36mℹ\u001b[39m Use the conflicted package (\u001b[3m\u001b[34m<http://conflicted.r-lib.org/>\u001b[39m\u001b[23m) to force all conflicts to become errors\n"
     ]
    }
   ],
   "source": [
    "library('purrr')\n",
    "library('tidyverse')"
   ]
  },
  {
   "cell_type": "markdown",
   "id": "dd3a95b4-2edd-4ca7-be1c-783fb5e5a9a4",
   "metadata": {},
   "source": [
    "Consider this example from [Think Stats 2e](https://greenteapress.com/wp/think-stats-2e/): \n",
    "\n",
    "You operate a casino and a player at one of your craps tables is winning. You suspect the player has employed\n",
    "a crooked die. You collect the following data for the players first 60 rolls with the die in question."
   ]
  },
  {
   "cell_type": "code",
   "execution_count": null,
   "id": "08699110-c0a6-46c6-bbe1-c43af607c440",
   "metadata": {
    "vscode": {
     "languageId": "r"
    }
   },
   "outputs": [
    {
     "data": {
      "text/html": [
       "<table class=\"dataframe\">\n",
       "<caption>A tibble: 6 × 2</caption>\n",
       "<thead>\n",
       "\t<tr><th scope=col>die_roll</th><th scope=col>count</th></tr>\n",
       "\t<tr><th scope=col>&lt;dbl&gt;</th><th scope=col>&lt;dbl&gt;</th></tr>\n",
       "</thead>\n",
       "<tbody>\n",
       "\t<tr><td>1</td><td> 8</td></tr>\n",
       "\t<tr><td>2</td><td> 9</td></tr>\n",
       "\t<tr><td>3</td><td>19</td></tr>\n",
       "\t<tr><td>4</td><td> 5</td></tr>\n",
       "\t<tr><td>5</td><td> 8</td></tr>\n",
       "\t<tr><td>6</td><td>11</td></tr>\n",
       "</tbody>\n",
       "</table>\n"
      ],
      "text/latex": [
       "A tibble: 6 × 2\n",
       "\\begin{tabular}{ll}\n",
       " die\\_roll & count\\\\\n",
       " <dbl> & <dbl>\\\\\n",
       "\\hline\n",
       "\t 1 &  8\\\\\n",
       "\t 2 &  9\\\\\n",
       "\t 3 & 19\\\\\n",
       "\t 4 &  5\\\\\n",
       "\t 5 &  8\\\\\n",
       "\t 6 & 11\\\\\n",
       "\\end{tabular}\n"
      ],
      "text/markdown": [
       "\n",
       "A tibble: 6 × 2\n",
       "\n",
       "| die_roll &lt;dbl&gt; | count &lt;dbl&gt; |\n",
       "|---|---|\n",
       "| 1 |  8 |\n",
       "| 2 |  9 |\n",
       "| 3 | 19 |\n",
       "| 4 |  5 |\n",
       "| 5 |  8 |\n",
       "| 6 | 11 |\n",
       "\n"
      ],
      "text/plain": [
       "  die_roll count\n",
       "1 1         8   \n",
       "2 2         9   \n",
       "3 3        19   \n",
       "4 4         5   \n",
       "5 5         8   \n",
       "6 6        11   "
      ]
     },
     "metadata": {},
     "output_type": "display_data"
    }
   ],
   "source": [
    "observed_data = tribble(\n",
    "    ~die_roll, ~count,\n",
    "     1,          8,\n",
    "     2,          9,\n",
    "     3,         19,\n",
    "     4,          5,\n",
    "     5,          8,\n",
    "     6,          11\n",
    ")\n",
    "\n",
    "observed_data"
   ]
  },
  {
   "cell_type": "markdown",
   "id": "9a2b38e9-dbc8-4835-92e2-5867dc30702a",
   "metadata": {},
   "source": [
    "Let's select a \"test statistic\" quantify how the observed data deviates from what we would expect *on average* from a fair die. Then we can find the null distribution of the test statistic and leverage that distribution to investigate the fairness of the suspicious die."
   ]
  },
  {
   "cell_type": "markdown",
   "id": "2c2d4a40-00cc-4d49-8dae-871dc518553c",
   "metadata": {},
   "source": [
    "The following is a table that represents a fair die:"
   ]
  },
  {
   "cell_type": "code",
   "execution_count": 12,
   "id": "352005d4-0c63-4ce5-b1a2-68490d7e1aaf",
   "metadata": {
    "vscode": {
     "languageId": "r"
    }
   },
   "outputs": [
    {
     "data": {
      "text/html": [
       "<table class=\"dataframe\">\n",
       "<caption>A tibble: 6 × 1</caption>\n",
       "<thead>\n",
       "\t<tr><th scope=col>die_roll</th></tr>\n",
       "\t<tr><th scope=col>&lt;dbl&gt;</th></tr>\n",
       "</thead>\n",
       "<tbody>\n",
       "\t<tr><td>1</td></tr>\n",
       "\t<tr><td>2</td></tr>\n",
       "\t<tr><td>3</td></tr>\n",
       "\t<tr><td>4</td></tr>\n",
       "\t<tr><td>5</td></tr>\n",
       "\t<tr><td>6</td></tr>\n",
       "</tbody>\n",
       "</table>\n"
      ],
      "text/latex": [
       "A tibble: 6 × 1\n",
       "\\begin{tabular}{l}\n",
       " die\\_roll\\\\\n",
       " <dbl>\\\\\n",
       "\\hline\n",
       "\t 1\\\\\n",
       "\t 2\\\\\n",
       "\t 3\\\\\n",
       "\t 4\\\\\n",
       "\t 5\\\\\n",
       "\t 6\\\\\n",
       "\\end{tabular}\n"
      ],
      "text/markdown": [
       "\n",
       "A tibble: 6 × 1\n",
       "\n",
       "| die_roll &lt;dbl&gt; |\n",
       "|---|\n",
       "| 1 |\n",
       "| 2 |\n",
       "| 3 |\n",
       "| 4 |\n",
       "| 5 |\n",
       "| 6 |\n",
       "\n"
      ],
      "text/plain": [
       "  die_roll\n",
       "1 1       \n",
       "2 2       \n",
       "3 3       \n",
       "4 4       \n",
       "5 5       \n",
       "6 6       "
      ]
     },
     "metadata": {},
     "output_type": "display_data"
    }
   ],
   "source": [
    "fair_die = tribble(\n",
    "    ~die_roll,\n",
    "    1,\n",
    "    2,\n",
    "    3,\n",
    "    4,\n",
    "    5, \n",
    "    6\n",
    ")\n",
    "\n",
    "fair_die"
   ]
  },
  {
   "cell_type": "markdown",
   "id": "d5d1aa03-f15f-48f8-9a13-ac2cbb7e785a",
   "metadata": {},
   "source": [
    "We can use the `slice_sample` with `replace = TRUE` to simulate a \"n\" dice rolls."
   ]
  },
  {
   "cell_type": "code",
   "execution_count": 4,
   "id": "dd7598ab-fe11-4b7c-90a9-c0036b1c1d5f",
   "metadata": {
    "vscode": {
     "languageId": "r"
    }
   },
   "outputs": [
    {
     "data": {
      "text/html": [
       "<table class=\"dataframe\">\n",
       "<caption>A tibble: 10 × 1</caption>\n",
       "<thead>\n",
       "\t<tr><th scope=col>die_roll</th></tr>\n",
       "\t<tr><th scope=col>&lt;dbl&gt;</th></tr>\n",
       "</thead>\n",
       "<tbody>\n",
       "\t<tr><td>3</td></tr>\n",
       "\t<tr><td>4</td></tr>\n",
       "\t<tr><td>1</td></tr>\n",
       "\t<tr><td>4</td></tr>\n",
       "\t<tr><td>1</td></tr>\n",
       "\t<tr><td>3</td></tr>\n",
       "\t<tr><td>4</td></tr>\n",
       "\t<tr><td>5</td></tr>\n",
       "\t<tr><td>2</td></tr>\n",
       "\t<tr><td>2</td></tr>\n",
       "</tbody>\n",
       "</table>\n"
      ],
      "text/latex": [
       "A tibble: 10 × 1\n",
       "\\begin{tabular}{l}\n",
       " die\\_roll\\\\\n",
       " <dbl>\\\\\n",
       "\\hline\n",
       "\t 3\\\\\n",
       "\t 4\\\\\n",
       "\t 1\\\\\n",
       "\t 4\\\\\n",
       "\t 1\\\\\n",
       "\t 3\\\\\n",
       "\t 4\\\\\n",
       "\t 5\\\\\n",
       "\t 2\\\\\n",
       "\t 2\\\\\n",
       "\\end{tabular}\n"
      ],
      "text/markdown": [
       "\n",
       "A tibble: 10 × 1\n",
       "\n",
       "| die_roll &lt;dbl&gt; |\n",
       "|---|\n",
       "| 3 |\n",
       "| 4 |\n",
       "| 1 |\n",
       "| 4 |\n",
       "| 1 |\n",
       "| 3 |\n",
       "| 4 |\n",
       "| 5 |\n",
       "| 2 |\n",
       "| 2 |\n",
       "\n"
      ],
      "text/plain": [
       "   die_roll\n",
       "1  3       \n",
       "2  4       \n",
       "3  1       \n",
       "4  4       \n",
       "5  1       \n",
       "6  3       \n",
       "7  4       \n",
       "8  5       \n",
       "9  2       \n",
       "10 2       "
      ]
     },
     "metadata": {},
     "output_type": "display_data"
    }
   ],
   "source": [
    "slice_sample(fair_die, n = 10, replace = TRUE)"
   ]
  },
  {
   "cell_type": "markdown",
   "id": "29205eb2-86ca-4052-a2ff-9d50759484a5",
   "metadata": {},
   "source": [
    "The following is a function that calcuates the absolute deviance for a set of \"n\" rolls from what we would expect from a fair dice *on average*.\n",
    "\n",
    "```r\n",
    "abs_deviance = function(roll_frequencies) {\n",
    "    n = sum(roll_frequencies)\n",
    "    expected = n / 6\n",
    "    abs(roll_frequencies - expected) |> sum()\n",
    "}\n",
    "\n",
    "```"
   ]
  },
  {
   "cell_type": "markdown",
   "id": "789a0e73-ca28-4129-9a63-eadab09b790a",
   "metadata": {},
   "source": [
    "Create this function in the cell below and calculate \"absolute deviance\" for the suspicious die.\n",
    "\n",
    "(**Hint:** use `summarize(abs_dev = abs_deviance(count))`)"
   ]
  },
  {
   "cell_type": "code",
   "execution_count": 7,
   "id": "401f6d25-ac49-4d5f-88a8-978d0957e70f",
   "metadata": {
    "vscode": {
     "languageId": "r"
    }
   },
   "outputs": [],
   "source": [
    "abs_deviance = function(roll_frequencies) {\n",
    "    n = sum(roll_frequencies)\n",
    "    expected = n / 6\n",
    "    abs(roll_frequencies - expected) |> sum()\n",
    "}"
   ]
  },
  {
   "cell_type": "code",
   "execution_count": 9,
   "id": "f45823c4",
   "metadata": {
    "vscode": {
     "languageId": "r"
    }
   },
   "outputs": [
    {
     "data": {
      "text/html": [
       "<table class=\"dataframe\">\n",
       "<caption>A tibble: 1 × 1</caption>\n",
       "<thead>\n",
       "\t<tr><th scope=col>abs_dev</th></tr>\n",
       "\t<tr><th scope=col>&lt;dbl&gt;</th></tr>\n",
       "</thead>\n",
       "<tbody>\n",
       "\t<tr><td>20</td></tr>\n",
       "</tbody>\n",
       "</table>\n"
      ],
      "text/latex": [
       "A tibble: 1 × 1\n",
       "\\begin{tabular}{l}\n",
       " abs\\_dev\\\\\n",
       " <dbl>\\\\\n",
       "\\hline\n",
       "\t 20\\\\\n",
       "\\end{tabular}\n"
      ],
      "text/markdown": [
       "\n",
       "A tibble: 1 × 1\n",
       "\n",
       "| abs_dev &lt;dbl&gt; |\n",
       "|---|\n",
       "| 20 |\n",
       "\n"
      ],
      "text/plain": [
       "  abs_dev\n",
       "1 20     "
      ]
     },
     "metadata": {},
     "output_type": "display_data"
    }
   ],
   "source": [
    "observed_data |> summarize(abs_dev = abs_deviance(count))"
   ]
  },
  {
   "cell_type": "markdown",
   "id": "9dc4d8fe-a095-48b7-b564-21051c7463cf",
   "metadata": {},
   "source": [
    "The `purrr` code below generates simulates rolling a fair die 60 times for 1,000 iterations.\n",
    "\n",
    "```r\n",
    "n_iterations = 1000\n",
    "n_rolls = 60\n",
    "\n",
    "1:n_iterations |> map_dfr(~slice_sample(fair_die, n = 60, replace = TRUE), .id = 'replicate')\n",
    "\n",
    "```\n",
    "\n",
    "Run this code and collect the output in a table called `simulated_data`."
   ]
  },
  {
   "cell_type": "code",
   "execution_count": 14,
   "id": "040cb0b0-4d25-4c43-9935-35d6c6e5932e",
   "metadata": {
    "vscode": {
     "languageId": "r"
    }
   },
   "outputs": [
    {
     "data": {
      "text/html": [
       "<table class=\"dataframe\">\n",
       "<caption>A tibble: 6 × 2</caption>\n",
       "<thead>\n",
       "\t<tr><th scope=col>replicate</th><th scope=col>die_roll</th></tr>\n",
       "\t<tr><th scope=col>&lt;chr&gt;</th><th scope=col>&lt;dbl&gt;</th></tr>\n",
       "</thead>\n",
       "<tbody>\n",
       "\t<tr><td>1</td><td>3</td></tr>\n",
       "\t<tr><td>1</td><td>2</td></tr>\n",
       "\t<tr><td>1</td><td>3</td></tr>\n",
       "\t<tr><td>1</td><td>5</td></tr>\n",
       "\t<tr><td>1</td><td>6</td></tr>\n",
       "\t<tr><td>1</td><td>4</td></tr>\n",
       "</tbody>\n",
       "</table>\n"
      ],
      "text/latex": [
       "A tibble: 6 × 2\n",
       "\\begin{tabular}{ll}\n",
       " replicate & die\\_roll\\\\\n",
       " <chr> & <dbl>\\\\\n",
       "\\hline\n",
       "\t 1 & 3\\\\\n",
       "\t 1 & 2\\\\\n",
       "\t 1 & 3\\\\\n",
       "\t 1 & 5\\\\\n",
       "\t 1 & 6\\\\\n",
       "\t 1 & 4\\\\\n",
       "\\end{tabular}\n"
      ],
      "text/markdown": [
       "\n",
       "A tibble: 6 × 2\n",
       "\n",
       "| replicate &lt;chr&gt; | die_roll &lt;dbl&gt; |\n",
       "|---|---|\n",
       "| 1 | 3 |\n",
       "| 1 | 2 |\n",
       "| 1 | 3 |\n",
       "| 1 | 5 |\n",
       "| 1 | 6 |\n",
       "| 1 | 4 |\n",
       "\n"
      ],
      "text/plain": [
       "  replicate die_roll\n",
       "1 1         3       \n",
       "2 1         2       \n",
       "3 1         3       \n",
       "4 1         5       \n",
       "5 1         6       \n",
       "6 1         4       "
      ]
     },
     "metadata": {},
     "output_type": "display_data"
    },
    {
     "data": {
      "text/html": [
       "<table class=\"dataframe\">\n",
       "<caption>A tibble: 6 × 2</caption>\n",
       "<thead>\n",
       "\t<tr><th scope=col>replicate</th><th scope=col>die_roll</th></tr>\n",
       "\t<tr><th scope=col>&lt;chr&gt;</th><th scope=col>&lt;dbl&gt;</th></tr>\n",
       "</thead>\n",
       "<tbody>\n",
       "\t<tr><td>1000</td><td>6</td></tr>\n",
       "\t<tr><td>1000</td><td>4</td></tr>\n",
       "\t<tr><td>1000</td><td>6</td></tr>\n",
       "\t<tr><td>1000</td><td>6</td></tr>\n",
       "\t<tr><td>1000</td><td>3</td></tr>\n",
       "\t<tr><td>1000</td><td>6</td></tr>\n",
       "</tbody>\n",
       "</table>\n"
      ],
      "text/latex": [
       "A tibble: 6 × 2\n",
       "\\begin{tabular}{ll}\n",
       " replicate & die\\_roll\\\\\n",
       " <chr> & <dbl>\\\\\n",
       "\\hline\n",
       "\t 1000 & 6\\\\\n",
       "\t 1000 & 4\\\\\n",
       "\t 1000 & 6\\\\\n",
       "\t 1000 & 6\\\\\n",
       "\t 1000 & 3\\\\\n",
       "\t 1000 & 6\\\\\n",
       "\\end{tabular}\n"
      ],
      "text/markdown": [
       "\n",
       "A tibble: 6 × 2\n",
       "\n",
       "| replicate &lt;chr&gt; | die_roll &lt;dbl&gt; |\n",
       "|---|---|\n",
       "| 1000 | 6 |\n",
       "| 1000 | 4 |\n",
       "| 1000 | 6 |\n",
       "| 1000 | 6 |\n",
       "| 1000 | 3 |\n",
       "| 1000 | 6 |\n",
       "\n"
      ],
      "text/plain": [
       "  replicate die_roll\n",
       "1 1000      6       \n",
       "2 1000      4       \n",
       "3 1000      6       \n",
       "4 1000      6       \n",
       "5 1000      3       \n",
       "6 1000      6       "
      ]
     },
     "metadata": {},
     "output_type": "display_data"
    }
   ],
   "source": [
    "n_iterations <- 1000\n",
    "n_rolls <- 60\n",
    "\n",
    "simulated_data <- 1:n_iterations |> map_dfr(~slice_sample(fair_die, n = n_rolls, replace = TRUE), .id = 'replicate')\n",
    "\n",
    "simulated_data |> head()\n",
    "simulated_data |> tail()"
   ]
  },
  {
   "cell_type": "markdown",
   "id": "32579dae-1e29-4733-8ffe-3c4b42068f16",
   "metadata": {},
   "source": [
    "Now we are ready to calculate the null distribution of our test statistic!\n",
    "\n",
    "Using `simulated_data`,\n",
    "1. `group_by` the `replicate` variable (add `.drop = FALSE` to make sure you include zero frequency counts),\n",
    "2. `count` the frequency of `die_roll`. Last, \n",
    "3. `summarize` each group using the `abs_deviance` function from above. Call you new column `abs_dev`.\n",
    "\n",
    "Capture the output into a table called `abs_dev_null_dist`."
   ]
  },
  {
   "cell_type": "code",
   "execution_count": 19,
   "id": "fb2628c0-649e-4cfc-96ca-5eb8e4840b11",
   "metadata": {
    "vscode": {
     "languageId": "r"
    }
   },
   "outputs": [
    {
     "data": {
      "text/html": [
       "<table class=\"dataframe\">\n",
       "<caption>A tibble: 6 × 2</caption>\n",
       "<thead>\n",
       "\t<tr><th scope=col>replicate</th><th scope=col>abs_dev</th></tr>\n",
       "\t<tr><th scope=col>&lt;chr&gt;</th><th scope=col>&lt;dbl&gt;</th></tr>\n",
       "</thead>\n",
       "<tbody>\n",
       "\t<tr><td>1   </td><td>14</td></tr>\n",
       "\t<tr><td>10  </td><td>10</td></tr>\n",
       "\t<tr><td>100 </td><td>16</td></tr>\n",
       "\t<tr><td>1000</td><td>10</td></tr>\n",
       "\t<tr><td>101 </td><td>14</td></tr>\n",
       "\t<tr><td>102 </td><td>18</td></tr>\n",
       "</tbody>\n",
       "</table>\n"
      ],
      "text/latex": [
       "A tibble: 6 × 2\n",
       "\\begin{tabular}{ll}\n",
       " replicate & abs\\_dev\\\\\n",
       " <chr> & <dbl>\\\\\n",
       "\\hline\n",
       "\t 1    & 14\\\\\n",
       "\t 10   & 10\\\\\n",
       "\t 100  & 16\\\\\n",
       "\t 1000 & 10\\\\\n",
       "\t 101  & 14\\\\\n",
       "\t 102  & 18\\\\\n",
       "\\end{tabular}\n"
      ],
      "text/markdown": [
       "\n",
       "A tibble: 6 × 2\n",
       "\n",
       "| replicate &lt;chr&gt; | abs_dev &lt;dbl&gt; |\n",
       "|---|---|\n",
       "| 1    | 14 |\n",
       "| 10   | 10 |\n",
       "| 100  | 16 |\n",
       "| 1000 | 10 |\n",
       "| 101  | 14 |\n",
       "| 102  | 18 |\n",
       "\n"
      ],
      "text/plain": [
       "  replicate abs_dev\n",
       "1 1         14     \n",
       "2 10        10     \n",
       "3 100       16     \n",
       "4 1000      10     \n",
       "5 101       14     \n",
       "6 102       18     "
      ]
     },
     "metadata": {},
     "output_type": "display_data"
    },
    {
     "data": {
      "text/html": [
       "<table class=\"dataframe\">\n",
       "<caption>A tibble: 6 × 2</caption>\n",
       "<thead>\n",
       "\t<tr><th scope=col>replicate</th><th scope=col>abs_dev</th></tr>\n",
       "\t<tr><th scope=col>&lt;chr&gt;</th><th scope=col>&lt;dbl&gt;</th></tr>\n",
       "</thead>\n",
       "<tbody>\n",
       "\t<tr><td>994</td><td>14</td></tr>\n",
       "\t<tr><td>995</td><td> 8</td></tr>\n",
       "\t<tr><td>996</td><td>12</td></tr>\n",
       "\t<tr><td>997</td><td>20</td></tr>\n",
       "\t<tr><td>998</td><td>12</td></tr>\n",
       "\t<tr><td>999</td><td>10</td></tr>\n",
       "</tbody>\n",
       "</table>\n"
      ],
      "text/latex": [
       "A tibble: 6 × 2\n",
       "\\begin{tabular}{ll}\n",
       " replicate & abs\\_dev\\\\\n",
       " <chr> & <dbl>\\\\\n",
       "\\hline\n",
       "\t 994 & 14\\\\\n",
       "\t 995 &  8\\\\\n",
       "\t 996 & 12\\\\\n",
       "\t 997 & 20\\\\\n",
       "\t 998 & 12\\\\\n",
       "\t 999 & 10\\\\\n",
       "\\end{tabular}\n"
      ],
      "text/markdown": [
       "\n",
       "A tibble: 6 × 2\n",
       "\n",
       "| replicate &lt;chr&gt; | abs_dev &lt;dbl&gt; |\n",
       "|---|---|\n",
       "| 994 | 14 |\n",
       "| 995 |  8 |\n",
       "| 996 | 12 |\n",
       "| 997 | 20 |\n",
       "| 998 | 12 |\n",
       "| 999 | 10 |\n",
       "\n"
      ],
      "text/plain": [
       "  replicate abs_dev\n",
       "1 994       14     \n",
       "2 995        8     \n",
       "3 996       12     \n",
       "4 997       20     \n",
       "5 998       12     \n",
       "6 999       10     "
      ]
     },
     "metadata": {},
     "output_type": "display_data"
    }
   ],
   "source": [
    "abs_dev_null_dist <- simulated_data |> group_by(replicate, .drop = FALSE) |> \n",
    "  count(die_roll) |>\n",
    "  summarize(abs_dev = abs_deviance(n))\n",
    "\n",
    "abs_dev_null_dist |> head()\n",
    "abs_dev_null_dist |> tail()"
   ]
  },
  {
   "cell_type": "markdown",
   "id": "df834c63-b588-445e-be5c-47e628749932",
   "metadata": {},
   "source": [
    "Plot a histogram of `abs_dev`. Use `geom_vline` to show the positon of our the test statistic calculated from the suspicious die."
   ]
  },
  {
   "cell_type": "code",
   "execution_count": 24,
   "id": "f99a1a8d-2c30-4fd0-a570-a6ee77a87cd4",
   "metadata": {
    "vscode": {
     "languageId": "r"
    }
   },
   "outputs": [
    {
     "data": {
      "image/png": "[encoded data removed]",
      "text/plain": [
       "plot without title"
      ]
     },
     "metadata": {
      "image/png": {
       "height": 420,
       "width": 420
      }
     },
     "output_type": "display_data"
    }
   ],
   "source": [
    "abs_dev_null_dist |> ggplot(aes(x = abs_dev)) +\n",
    "  geom_histogram(binwidth = 2) +\n",
    "  geom_vline(xintercept = 20)"
   ]
  },
  {
   "cell_type": "markdown",
   "id": "0e2ae775-1aa0-4fd7-8993-7eff95dce788",
   "metadata": {},
   "source": [
    "Can you calculate a \"p-value\" for our suspicous die using the null distribution and the observed test statistic?"
   ]
  },
  {
   "cell_type": "code",
   "execution_count": 27,
   "id": "b573dd63-b6e8-48b7-a41a-6a20a68fc6d6",
   "metadata": {
    "vscode": {
     "languageId": "r"
    }
   },
   "outputs": [
    {
     "data": {
      "text/html": [
       "<table class=\"dataframe\">\n",
       "<caption>A tibble: 1 × 1</caption>\n",
       "<thead>\n",
       "\t<tr><th scope=col>p_value</th></tr>\n",
       "\t<tr><th scope=col>&lt;dbl&gt;</th></tr>\n",
       "</thead>\n",
       "<tbody>\n",
       "\t<tr><td>0.122</td></tr>\n",
       "</tbody>\n",
       "</table>\n"
      ],
      "text/latex": [
       "A tibble: 1 × 1\n",
       "\\begin{tabular}{l}\n",
       " p\\_value\\\\\n",
       " <dbl>\\\\\n",
       "\\hline\n",
       "\t 0.122\\\\\n",
       "\\end{tabular}\n"
      ],
      "text/markdown": [
       "\n",
       "A tibble: 1 × 1\n",
       "\n",
       "| p_value &lt;dbl&gt; |\n",
       "|---|\n",
       "| 0.122 |\n",
       "\n"
      ],
      "text/plain": [
       "  p_value\n",
       "1 0.122  "
      ]
     },
     "metadata": {},
     "output_type": "display_data"
    }
   ],
   "source": [
    "abs_dev_null_dist |> mutate(extreme = abs_dev >= 20) |> summarize(p_value = sum(extreme) / n())"
   ]
  },
  {
   "cell_type": "markdown",
   "id": "89ecbeb7-71de-4b40-885b-6a33f9e217e2",
   "metadata": {},
   "source": [
    "Redo the steps above but this time use the [Chi square](https://en.wikipedia.org/wiki/Chi-squared_test) statistic. The **Chi square** test statistic simply quantifies the sum of squared differences from expected values divided by the expected value.\n",
    "\n",
    "You can re-use `simulated_data`.\n",
    "\n",
    "Here is a function in `R`:\n",
    "\n",
    "```r\n",
    "chi_square = function(roll_frequencies) {\n",
    "    n = sum(roll_frequencies)\n",
    "    expected = n / 6\n",
    "    sum((roll_frequencies - expected)**2 / expected)\n",
    "}\n",
    "\n",
    "```"
   ]
  },
  {
   "cell_type": "code",
   "execution_count": 30,
   "id": "a67e4f4f-c177-4524-9e84-255a12694471",
   "metadata": {
    "vscode": {
     "languageId": "r"
    }
   },
   "outputs": [
    {
     "data": {
      "image/png": "[encoded data removed]",
      "text/plain": [
       "plot without title"
      ]
     },
     "metadata": {
      "image/png": {
       "height": 420,
       "width": 420
      }
     },
     "output_type": "display_data"
    }
   ],
   "source": [
    "chi_square = function(roll_frequencies) {\n",
    "    n = sum(roll_frequencies)\n",
    "    expected = n / 6\n",
    "    sum((roll_frequencies - expected)**2 / expected)\n",
    "}\n",
    "chi_square_null_dist = simulated_data |>\n",
    "  group_by(replicate, .drop = FALSE) |>\n",
    "  count(die_roll) |>\n",
    "  summarize(chi_square = chi_square(n))\n",
    "\n",
    "ggplot(chi_square_null_dist, aes(x = chi_square)) +\n",
    "  geom_histogram(binwidth = 1) +\n",
    "  geom_vline(xintercept = 20)"
   ]
  },
  {
   "cell_type": "code",
   "execution_count": 32,
   "id": "0d0aeda9",
   "metadata": {
    "vscode": {
     "languageId": "r"
    }
   },
   "outputs": [
    {
     "data": {
      "text/html": [
       "<table class=\"dataframe\">\n",
       "<caption>A tibble: 6 × 2</caption>\n",
       "<thead>\n",
       "\t<tr><th scope=col>replicate</th><th scope=col>chi_square</th></tr>\n",
       "\t<tr><th scope=col>&lt;chr&gt;</th><th scope=col>&lt;dbl&gt;</th></tr>\n",
       "</thead>\n",
       "<tbody>\n",
       "\t<tr><td>1   </td><td>3.8</td></tr>\n",
       "\t<tr><td>10  </td><td>3.6</td></tr>\n",
       "\t<tr><td>100 </td><td>6.6</td></tr>\n",
       "\t<tr><td>1000</td><td>1.8</td></tr>\n",
       "\t<tr><td>101 </td><td>5.4</td></tr>\n",
       "\t<tr><td>102 </td><td>7.0</td></tr>\n",
       "</tbody>\n",
       "</table>\n"
      ],
      "text/latex": [
       "A tibble: 6 × 2\n",
       "\\begin{tabular}{ll}\n",
       " replicate & chi\\_square\\\\\n",
       " <chr> & <dbl>\\\\\n",
       "\\hline\n",
       "\t 1    & 3.8\\\\\n",
       "\t 10   & 3.6\\\\\n",
       "\t 100  & 6.6\\\\\n",
       "\t 1000 & 1.8\\\\\n",
       "\t 101  & 5.4\\\\\n",
       "\t 102  & 7.0\\\\\n",
       "\\end{tabular}\n"
      ],
      "text/markdown": [
       "\n",
       "A tibble: 6 × 2\n",
       "\n",
       "| replicate &lt;chr&gt; | chi_square &lt;dbl&gt; |\n",
       "|---|---|\n",
       "| 1    | 3.8 |\n",
       "| 10   | 3.6 |\n",
       "| 100  | 6.6 |\n",
       "| 1000 | 1.8 |\n",
       "| 101  | 5.4 |\n",
       "| 102  | 7.0 |\n",
       "\n"
      ],
      "text/plain": [
       "  replicate chi_square\n",
       "1 1         3.8       \n",
       "2 10        3.6       \n",
       "3 100       6.6       \n",
       "4 1000      1.8       \n",
       "5 101       5.4       \n",
       "6 102       7.0       "
      ]
     },
     "metadata": {},
     "output_type": "display_data"
    },
    {
     "data": {
      "text/html": [
       "<table class=\"dataframe\">\n",
       "<caption>A tibble: 6 × 2</caption>\n",
       "<thead>\n",
       "\t<tr><th scope=col>replicate</th><th scope=col>chi_square</th></tr>\n",
       "\t<tr><th scope=col>&lt;chr&gt;</th><th scope=col>&lt;dbl&gt;</th></tr>\n",
       "</thead>\n",
       "<tbody>\n",
       "\t<tr><td>994</td><td> 5.4</td></tr>\n",
       "\t<tr><td>995</td><td> 1.4</td></tr>\n",
       "\t<tr><td>996</td><td> 2.8</td></tr>\n",
       "\t<tr><td>997</td><td>13.2</td></tr>\n",
       "\t<tr><td>998</td><td> 3.4</td></tr>\n",
       "\t<tr><td>999</td><td> 2.0</td></tr>\n",
       "</tbody>\n",
       "</table>\n"
      ],
      "text/latex": [
       "A tibble: 6 × 2\n",
       "\\begin{tabular}{ll}\n",
       " replicate & chi\\_square\\\\\n",
       " <chr> & <dbl>\\\\\n",
       "\\hline\n",
       "\t 994 &  5.4\\\\\n",
       "\t 995 &  1.4\\\\\n",
       "\t 996 &  2.8\\\\\n",
       "\t 997 & 13.2\\\\\n",
       "\t 998 &  3.4\\\\\n",
       "\t 999 &  2.0\\\\\n",
       "\\end{tabular}\n"
      ],
      "text/markdown": [
       "\n",
       "A tibble: 6 × 2\n",
       "\n",
       "| replicate &lt;chr&gt; | chi_square &lt;dbl&gt; |\n",
       "|---|---|\n",
       "| 994 |  5.4 |\n",
       "| 995 |  1.4 |\n",
       "| 996 |  2.8 |\n",
       "| 997 | 13.2 |\n",
       "| 998 |  3.4 |\n",
       "| 999 |  2.0 |\n",
       "\n"
      ],
      "text/plain": [
       "  replicate chi_square\n",
       "1 994        5.4      \n",
       "2 995        1.4      \n",
       "3 996        2.8      \n",
       "4 997       13.2      \n",
       "5 998        3.4      \n",
       "6 999        2.0      "
      ]
     },
     "metadata": {},
     "output_type": "display_data"
    }
   ],
   "source": [
    "chi_square_null_dist |> head()\n",
    "chi_square_null_dist |> tail()"
   ]
  },
  {
   "cell_type": "markdown",
   "id": "c7e1909c-8168-404a-b548-5df34ab58eef",
   "metadata": {},
   "source": [
    "Is the \"p-value\" using the Chi square test statistic lower or higher than that calcuated using \"absolute deviance\" as the test statistic? "
   ]
  },
  {
   "cell_type": "code",
   "execution_count": null,
   "id": "1c72772d-1a3c-436f-8afa-1a8f1e1b225e",
   "metadata": {
    "vscode": {
     "languageId": "r"
    }
   },
   "outputs": [
    {
     "data": {
      "text/html": [
       "<table class=\"dataframe\">\n",
       "<caption>A tibble: 1 × 1</caption>\n",
       "<thead>\n",
       "\t<tr><th scope=col>p_value</th></tr>\n",
       "\t<tr><th scope=col>&lt;dbl&gt;</th></tr>\n",
       "</thead>\n",
       "<tbody>\n",
       "\t<tr><td>0.003</td></tr>\n",
       "</tbody>\n",
       "</table>\n"
      ],
      "text/latex": [
       "A tibble: 1 × 1\n",
       "\\begin{tabular}{l}\n",
       " p\\_value\\\\\n",
       " <dbl>\\\\\n",
       "\\hline\n",
       "\t 0.003\\\\\n",
       "\\end{tabular}\n"
      ],
      "text/markdown": [
       "\n",
       "A tibble: 1 × 1\n",
       "\n",
       "| p_value &lt;dbl&gt; |\n",
       "|---|\n",
       "| 0.003 |\n",
       "\n"
      ],
      "text/plain": [
       "  p_value\n",
       "1 0.003  "
      ]
     },
     "metadata": {},
     "output_type": "display_data"
    },
    {
     "ename": "",
     "evalue": "",
     "output_type": "error",
     "traceback": [
      "\u001b[1;31mThe Kernel crashed while executing code in the current cell or a previous cell. \n",
      "\u001b[1;31mPlease review the code in the cell(s) to identify a possible cause of the failure. \n",
      "\u001b[1;31mClick <a href='https://aka.ms/vscodeJupyterKernelCrash'>here</a> for more info. \n",
      "\u001b[1;31mView Jupyter <a href='command:jupyter.viewOutput'>log</a> for further details."
     ]
    }
   ],
   "source": [
    "chi_square_null_dist |> mutate(extreme = chi_square >= 20) |> summarize(p_value = sum(extreme) / n())"
   ]
  },
  {
   "cell_type": "markdown",
   "id": "47fb70d8",
   "metadata": {
    "vscode": {
     "languageId": "r"
    }
   },
   "source": [
    "# p-value <br />\n",
    "Chi Square vs. Absolute Deviance<br />\n",
    "0.003 vs. 0.122"
   ]
  },
  {
   "cell_type": "markdown",
   "id": "98702ada",
   "metadata": {},
   "source": []
  }
 ],
 "metadata": {
  "kernelspec": {
   "display_name": "R",
   "language": "R",
   "name": "ir"
  },
  "language_info": {
   "codemirror_mode": "r",
   "file_extension": ".r",
   "mimetype": "text/x-r-source",
   "name": "R",
   "pygments_lexer": "r",
   "version": "4.4.1"
  }
 },
 "nbformat": 4,
 "nbformat_minor": 5
}
