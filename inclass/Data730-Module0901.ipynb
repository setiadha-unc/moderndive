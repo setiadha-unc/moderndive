{
 "cells": [
  {
   "cell_type": "code",
   "execution_count": 3,
   "metadata": {
    "vscode": {
     "languageId": "r"
    }
   },
   "outputs": [],
   "source": [
    "library(\"infer\")\n",
    "library(\"tidyverse\")"
   ]
  },
  {
   "cell_type": "markdown",
   "metadata": {},
   "source": [
    "# Fair coin example with infer package"
   ]
  },
  {
   "cell_type": "code",
   "execution_count": 14,
   "metadata": {
    "vscode": {
     "languageId": "r"
    }
   },
   "outputs": [
    {
     "data": {
      "text/html": [
       "<table class=\"dataframe\">\n",
       "<caption>A data.frame: 6 × 1</caption>\n",
       "<thead>\n",
       "\t<tr><th></th><th scope=col>toss</th></tr>\n",
       "\t<tr><th></th><th scope=col>&lt;chr&gt;</th></tr>\n",
       "</thead>\n",
       "<tbody>\n",
       "\t<tr><th scope=row>1</th><td>heads</td></tr>\n",
       "\t<tr><th scope=row>2</th><td>heads</td></tr>\n",
       "\t<tr><th scope=row>3</th><td>heads</td></tr>\n",
       "\t<tr><th scope=row>4</th><td>heads</td></tr>\n",
       "\t<tr><th scope=row>5</th><td>heads</td></tr>\n",
       "\t<tr><th scope=row>6</th><td>heads</td></tr>\n",
       "</tbody>\n",
       "</table>\n"
      ],
      "text/latex": [
       "A data.frame: 6 × 1\n",
       "\\begin{tabular}{r|l}\n",
       "  & toss\\\\\n",
       "  & <chr>\\\\\n",
       "\\hline\n",
       "\t1 & heads\\\\\n",
       "\t2 & heads\\\\\n",
       "\t3 & heads\\\\\n",
       "\t4 & heads\\\\\n",
       "\t5 & heads\\\\\n",
       "\t6 & heads\\\\\n",
       "\\end{tabular}\n"
      ],
      "text/markdown": [
       "\n",
       "A data.frame: 6 × 1\n",
       "\n",
       "| <!--/--> | toss &lt;chr&gt; |\n",
       "|---|---|\n",
       "| 1 | heads |\n",
       "| 2 | heads |\n",
       "| 3 | heads |\n",
       "| 4 | heads |\n",
       "| 5 | heads |\n",
       "| 6 | heads |\n",
       "\n"
      ],
      "text/plain": [
       "  toss \n",
       "1 heads\n",
       "2 heads\n",
       "3 heads\n",
       "4 heads\n",
       "5 heads\n",
       "6 heads"
      ]
     },
     "metadata": {},
     "output_type": "display_data"
    },
    {
     "data": {
      "text/html": [
       "<table class=\"dataframe\">\n",
       "<caption>A data.frame: 6 × 1</caption>\n",
       "<thead>\n",
       "\t<tr><th></th><th scope=col>toss</th></tr>\n",
       "\t<tr><th></th><th scope=col>&lt;chr&gt;</th></tr>\n",
       "</thead>\n",
       "<tbody>\n",
       "\t<tr><th scope=row>245</th><td>tails</td></tr>\n",
       "\t<tr><th scope=row>246</th><td>tails</td></tr>\n",
       "\t<tr><th scope=row>247</th><td>tails</td></tr>\n",
       "\t<tr><th scope=row>248</th><td>tails</td></tr>\n",
       "\t<tr><th scope=row>249</th><td>tails</td></tr>\n",
       "\t<tr><th scope=row>250</th><td>tails</td></tr>\n",
       "</tbody>\n",
       "</table>\n"
      ],
      "text/latex": [
       "A data.frame: 6 × 1\n",
       "\\begin{tabular}{r|l}\n",
       "  & toss\\\\\n",
       "  & <chr>\\\\\n",
       "\\hline\n",
       "\t245 & tails\\\\\n",
       "\t246 & tails\\\\\n",
       "\t247 & tails\\\\\n",
       "\t248 & tails\\\\\n",
       "\t249 & tails\\\\\n",
       "\t250 & tails\\\\\n",
       "\\end{tabular}\n"
      ],
      "text/markdown": [
       "\n",
       "A data.frame: 6 × 1\n",
       "\n",
       "| <!--/--> | toss &lt;chr&gt; |\n",
       "|---|---|\n",
       "| 245 | tails |\n",
       "| 246 | tails |\n",
       "| 247 | tails |\n",
       "| 248 | tails |\n",
       "| 249 | tails |\n",
       "| 250 | tails |\n",
       "\n"
      ],
      "text/plain": [
       "    toss \n",
       "245 tails\n",
       "246 tails\n",
       "247 tails\n",
       "248 tails\n",
       "249 tails\n",
       "250 tails"
      ]
     },
     "metadata": {},
     "output_type": "display_data"
    },
    {
     "data": {
      "text/html": [
       "250"
      ],
      "text/latex": [
       "250"
      ],
      "text/markdown": [
       "250"
      ],
      "text/plain": [
       "[1] 250"
      ]
     },
     "metadata": {},
     "output_type": "display_data"
    }
   ],
   "source": [
    "heads_140 = data.frame(\n",
    "  toss = c(rep(\"heads\", 140), rep(\"tails\", 250 - 140))\n",
    ")\n",
    "\n",
    "heads_140 |> head()\n",
    "heads_140 |> tail()\n",
    "heads_140 |> nrow()"
   ]
  },
  {
   "cell_type": "code",
   "execution_count": 13,
   "metadata": {
    "vscode": {
     "languageId": "r"
    }
   },
   "outputs": [
    {
     "data": {
      "text/html": [
       "<table class=\"dataframe\">\n",
       "<caption>A data.frame: 2 × 2</caption>\n",
       "<thead>\n",
       "\t<tr><th scope=col>toss</th><th scope=col>n</th></tr>\n",
       "\t<tr><th scope=col>&lt;chr&gt;</th><th scope=col>&lt;int&gt;</th></tr>\n",
       "</thead>\n",
       "<tbody>\n",
       "\t<tr><td>heads</td><td>140</td></tr>\n",
       "\t<tr><td>tails</td><td>110</td></tr>\n",
       "</tbody>\n",
       "</table>\n"
      ],
      "text/latex": [
       "A data.frame: 2 × 2\n",
       "\\begin{tabular}{ll}\n",
       " toss & n\\\\\n",
       " <chr> & <int>\\\\\n",
       "\\hline\n",
       "\t heads & 140\\\\\n",
       "\t tails & 110\\\\\n",
       "\\end{tabular}\n"
      ],
      "text/markdown": [
       "\n",
       "A data.frame: 2 × 2\n",
       "\n",
       "| toss &lt;chr&gt; | n &lt;int&gt; |\n",
       "|---|---|\n",
       "| heads | 140 |\n",
       "| tails | 110 |\n",
       "\n"
      ],
      "text/plain": [
       "  toss  n  \n",
       "1 heads 140\n",
       "2 tails 110"
      ]
     },
     "metadata": {},
     "output_type": "display_data"
    }
   ],
   "source": [
    "heads_140 |> count(toss)"
   ]
  },
  {
   "cell_type": "code",
   "execution_count": 12,
   "metadata": {
    "vscode": {
     "languageId": "r"
    }
   },
   "outputs": [
    {
     "data": {
      "text/html": [
       "<table class=\"dataframe\">\n",
       "<caption>A infer: 1 × 1</caption>\n",
       "<thead>\n",
       "\t<tr><th scope=col>stat</th></tr>\n",
       "\t<tr><th scope=col>&lt;int&gt;</th></tr>\n",
       "</thead>\n",
       "<tbody>\n",
       "\t<tr><td>140</td></tr>\n",
       "</tbody>\n",
       "</table>\n"
      ],
      "text/latex": [
       "A infer: 1 × 1\n",
       "\\begin{tabular}{l}\n",
       " stat\\\\\n",
       " <int>\\\\\n",
       "\\hline\n",
       "\t 140\\\\\n",
       "\\end{tabular}\n"
      ],
      "text/markdown": [
       "\n",
       "A infer: 1 × 1\n",
       "\n",
       "| stat &lt;int&gt; |\n",
       "|---|\n",
       "| 140 |\n",
       "\n"
      ],
      "text/plain": [
       "  stat\n",
       "1 140 "
      ]
     },
     "metadata": {},
     "output_type": "display_data"
    }
   ],
   "source": [
    "obs_n_heads = heads_140 |>\n",
    "    specify(response = toss, success = \"heads\") |>\n",
    "    calculate(stat = \"count\")\n",
    "\n",
    "obs_n_heads"
   ]
  },
  {
   "cell_type": "code",
   "execution_count": 11,
   "metadata": {
    "vscode": {
     "languageId": "r"
    }
   },
   "outputs": [
    {
     "data": {
      "text/html": [
       "<table class=\"dataframe\">\n",
       "<caption>A data.frame: 1 × 1</caption>\n",
       "<thead>\n",
       "\t<tr><th scope=col>stat</th></tr>\n",
       "\t<tr><th scope=col>&lt;int&gt;</th></tr>\n",
       "</thead>\n",
       "<tbody>\n",
       "\t<tr><td>140</td></tr>\n",
       "</tbody>\n",
       "</table>\n"
      ],
      "text/latex": [
       "A data.frame: 1 × 1\n",
       "\\begin{tabular}{l}\n",
       " stat\\\\\n",
       " <int>\\\\\n",
       "\\hline\n",
       "\t 140\\\\\n",
       "\\end{tabular}\n"
      ],
      "text/markdown": [
       "\n",
       "A data.frame: 1 × 1\n",
       "\n",
       "| stat &lt;int&gt; |\n",
       "|---|\n",
       "| 140 |\n",
       "\n"
      ],
      "text/plain": [
       "  stat\n",
       "1 140 "
      ]
     },
     "metadata": {},
     "output_type": "display_data"
    }
   ],
   "source": [
    "heads_140 |>\n",
    "    summarize(stat = sum(toss == 'heads'))"
   ]
  },
  {
   "cell_type": "code",
   "execution_count": 10,
   "metadata": {
    "vscode": {
     "languageId": "r"
    }
   },
   "outputs": [
    {
     "data": {
      "text/html": [
       "<table class=\"dataframe\">\n",
       "<caption>A infer: 6 × 2</caption>\n",
       "<thead>\n",
       "\t<tr><th scope=col>replicate</th><th scope=col>stat</th></tr>\n",
       "\t<tr><th scope=col>&lt;int&gt;</th><th scope=col>&lt;int&gt;</th></tr>\n",
       "</thead>\n",
       "<tbody>\n",
       "\t<tr><td>1</td><td>117</td></tr>\n",
       "\t<tr><td>2</td><td>121</td></tr>\n",
       "\t<tr><td>3</td><td>130</td></tr>\n",
       "\t<tr><td>4</td><td>137</td></tr>\n",
       "\t<tr><td>5</td><td>125</td></tr>\n",
       "\t<tr><td>6</td><td>122</td></tr>\n",
       "</tbody>\n",
       "</table>\n"
      ],
      "text/latex": [
       "A infer: 6 × 2\n",
       "\\begin{tabular}{ll}\n",
       " replicate & stat\\\\\n",
       " <int> & <int>\\\\\n",
       "\\hline\n",
       "\t 1 & 117\\\\\n",
       "\t 2 & 121\\\\\n",
       "\t 3 & 130\\\\\n",
       "\t 4 & 137\\\\\n",
       "\t 5 & 125\\\\\n",
       "\t 6 & 122\\\\\n",
       "\\end{tabular}\n"
      ],
      "text/markdown": [
       "\n",
       "A infer: 6 × 2\n",
       "\n",
       "| replicate &lt;int&gt; | stat &lt;int&gt; |\n",
       "|---|---|\n",
       "| 1 | 117 |\n",
       "| 2 | 121 |\n",
       "| 3 | 130 |\n",
       "| 4 | 137 |\n",
       "| 5 | 125 |\n",
       "| 6 | 122 |\n",
       "\n"
      ],
      "text/plain": [
       "  replicate stat\n",
       "1 1         117 \n",
       "2 2         121 \n",
       "3 3         130 \n",
       "4 4         137 \n",
       "5 5         125 \n",
       "6 6         122 "
      ]
     },
     "metadata": {},
     "output_type": "display_data"
    }
   ],
   "source": [
    "null_dist = heads_140 |>\n",
    "    specify(response = toss, success = 'heads') |>\n",
    "    hypothesize('point', p = 0.5) |>\n",
    "    generate(reps = 1000, type = 'draw') |>\n",
    "    calculate(stat = 'count')\n",
    "\n",
    "null_dist |> head()"
   ]
  },
  {
   "cell_type": "code",
   "execution_count": 15,
   "metadata": {
    "vscode": {
     "languageId": "r"
    }
   },
   "outputs": [
    {
     "data": {
      "image/png": "[encoded data removed]",
      "text/plain": [
       "plot without title"
      ]
     },
     "metadata": {
      "image/png": {
       "height": 420,
       "width": 420
      }
     },
     "output_type": "display_data"
    }
   ],
   "source": [
    "null_dist |>\n",
    "  visualize() +\n",
    "  shade_p_value(obs_stat = obs_n_heads, direction = \"two-sided\")"
   ]
  },
  {
   "cell_type": "code",
   "execution_count": 9,
   "metadata": {
    "vscode": {
     "languageId": "r"
    }
   },
   "outputs": [
    {
     "data": {
      "text/html": [
       "<table class=\"dataframe\">\n",
       "<caption>A tibble: 1 × 1</caption>\n",
       "<thead>\n",
       "\t<tr><th scope=col>p_value</th></tr>\n",
       "\t<tr><th scope=col>&lt;dbl&gt;</th></tr>\n",
       "</thead>\n",
       "<tbody>\n",
       "\t<tr><td>0.058</td></tr>\n",
       "</tbody>\n",
       "</table>\n"
      ],
      "text/latex": [
       "A tibble: 1 × 1\n",
       "\\begin{tabular}{l}\n",
       " p\\_value\\\\\n",
       " <dbl>\\\\\n",
       "\\hline\n",
       "\t 0.058\\\\\n",
       "\\end{tabular}\n"
      ],
      "text/markdown": [
       "\n",
       "A tibble: 1 × 1\n",
       "\n",
       "| p_value &lt;dbl&gt; |\n",
       "|---|\n",
       "| 0.058 |\n",
       "\n"
      ],
      "text/plain": [
       "  p_value\n",
       "1 0.058  "
      ]
     },
     "metadata": {},
     "output_type": "display_data"
    }
   ],
   "source": [
    "\n",
    "null_dist |> get_p_value(obs_stat = 140, direction = 'two-sided')"
   ]
  },
  {
   "cell_type": "code",
   "execution_count": 10,
   "metadata": {
    "vscode": {
     "languageId": "r"
    }
   },
   "outputs": [
    {
     "ename": "ERROR",
     "evalue": "Error: 'nsfg_simple.csv' does not exist in current working directory ('c:/Users/agung/Data 730/moderndive/inclass').\n",
     "output_type": "error",
     "traceback": [
      "Error: 'nsfg_simple.csv' does not exist in current working directory ('c:/Users/agung/Data 730/moderndive/inclass').\nTraceback:\n",
      "1. read_csv(\"nsfg_simple.csv\", col_types = cols())",
      "2. vroom::vroom(file, delim = \",\", col_names = col_names, col_types = col_types, \n .     col_select = {\n .         {\n .             col_select\n .         }\n .     }, id = id, .name_repair = name_repair, skip = skip, n_max = n_max, \n .     na = na, quote = quote, comment = comment, skip_empty_rows = skip_empty_rows, \n .     trim_ws = trim_ws, escape_double = TRUE, escape_backslash = FALSE, \n .     locale = locale, guess_max = guess_max, show_col_types = show_col_types, \n .     progress = progress, altrep = lazy, num_threads = num_threads)",
      "3. vroom_(file, delim = delim %||% col_types$delim, col_names = col_names, \n .     col_types = col_types, id = id, skip = skip, col_select = col_select, \n .     name_repair = .name_repair, na = na, quote = quote, trim_ws = trim_ws, \n .     escape_double = escape_double, escape_backslash = escape_backslash, \n .     comment = comment, skip_empty_rows = skip_empty_rows, locale = locale, \n .     guess_max = guess_max, n_max = n_max, altrep = vroom_altrep(altrep), \n .     num_threads = num_threads, progress = progress)",
      "4. (function (path, write = FALSE) \n . {\n .     if (is.raw(path)) {\n .         return(rawConnection(path, \"rb\"))\n .     }\n .     if (!is.character(path)) {\n .         return(path)\n .     }\n .     if (is_url(path)) {\n .         if (requireNamespace(\"curl\", quietly = TRUE)) {\n .             con <- curl::curl(path)\n .         }\n .         else {\n .             inform(\"`curl` package not installed, falling back to using `url()`\")\n .             con <- url(path)\n .         }\n .         ext <- tolower(tools::file_ext(path))\n .         return(switch(ext, zip = , bz2 = , xz = {\n .             close(con)\n .             stop(\"Reading from remote `\", ext, \"` compressed files is not supported,\\n\", \n .                 \"  download the files locally first.\", call. = FALSE)\n .         }, gz = gzcon(con), con))\n .     }\n .     path <- enc2utf8(path)\n .     p <- split_path_ext(basename_utf8(path))\n .     if (write) {\n .         path <- normalizePath_utf8(path, mustWork = FALSE)\n .     }\n .     else {\n .         path <- check_path(path)\n .     }\n .     if (is_installed(\"archive\")) {\n .         formats <- archive_formats(p$extension)\n .         extension <- p$extension\n .         while (is.null(formats) && nzchar(extension)) {\n .             extension <- split_path_ext(extension)$extension\n .             formats <- archive_formats(extension)\n .         }\n .         if (!is.null(formats)) {\n .             p$extension <- extension\n .             if (write) {\n .                 if (is.null(formats[[1]])) {\n .                   return(archive::file_write(path, filter = formats[[2]]))\n .                 }\n .                 return(archive::archive_write(path, p$path, format = formats[[1]], \n .                   filter = formats[[2]]))\n .             }\n .             if (is.null(formats[[1]])) {\n .                 return(archive::file_read(path, filter = formats[[2]]))\n .             }\n .             return(archive::archive_read(path, format = formats[[1]], \n .                 filter = formats[[2]]))\n .         }\n .     }\n .     if (!write) {\n .         compression <- detect_compression(path)\n .     }\n .     else {\n .         compression <- NA\n .     }\n .     if (is.na(compression)) {\n .         compression <- tools::file_ext(path)\n .     }\n .     if (write && compression == \"zip\") {\n .         stop(\"Can only read from, not write to, .zip\", call. = FALSE)\n .     }\n .     switch(compression, gz = gzfile(path, \"\"), bz2 = bzfile(path, \n .         \"\"), xz = xzfile(path, \"\"), zip = zipfile(path, \"\"), \n .         if (!has_trailing_newline(path)) {\n .             file(path)\n .         } else {\n .             path\n .         })\n . })(\"nsfg_simple.csv\")",
      "5. check_path(path)",
      "6. stop(\"'\", path, \"' does not exist\", if (!is_absolute_path(path)) {\n .     paste0(\" in current working directory ('\", getwd(), \"')\")\n . }, \".\", call. = FALSE)"
     ]
    }
   ],
   "source": [
    "nsfg = read_csv('nsfg_simple.csv', col_types = cols())\n",
    "\n",
    "nsfg |> head()"
   ]
  },
  {
   "cell_type": "code",
   "execution_count": null,
   "metadata": {
    "vscode": {
     "languageId": "r"
    }
   },
   "outputs": [],
   "source": [
    "nsfg |> summarize(cor_coef = cor(agepreg, totalwgt_lb, method = \"pearson\"))"
   ]
  },
  {
   "cell_type": "code",
   "execution_count": null,
   "metadata": {
    "vscode": {
     "languageId": "r"
    }
   },
   "outputs": [],
   "source": [
    "nsfg |>\n",
    "  specify(response = totalwgt_lb, explanatory = agepreg) |>\n",
    "  calculate(stat = \"correlation\")"
   ]
  },
  {
   "cell_type": "code",
   "execution_count": null,
   "metadata": {
    "vscode": {
     "languageId": "r"
    }
   },
   "outputs": [],
   "source": [
    "null_dist_nsfg = nsfg |>\n",
    "  specify(response = totalwgt_lb, explanatory = agepreg) |>\n",
    "  hypothesize(\"independence\") |>\n",
    "  generate(reps = 1000, type = \"permute\") |>\n",
    "  calculate(stat = \"correlation\")\n",
    "\n",
    "null_dist_nsfg |> head()"
   ]
  },
  {
   "cell_type": "code",
   "execution_count": null,
   "metadata": {
    "vscode": {
     "languageId": "r"
    }
   },
   "outputs": [],
   "source": [
    "null_dist_nsfg |> \n",
    "    visualize() + \n",
    "    shade_p_value(obs_stat = 0.0688, direction = 'two-sided')"
   ]
  },
  {
   "cell_type": "code",
   "execution_count": null,
   "metadata": {
    "vscode": {
     "languageId": "r"
    }
   },
   "outputs": [],
   "source": [
    "nsfg |> get_p_value(obs_stat = 0.06883397, direction = 'two-sided')"
   ]
  },
  {
   "cell_type": "code",
   "execution_count": null,
   "metadata": {
    "vscode": {
     "languageId": "r"
    }
   },
   "outputs": [],
   "source": [
    "ggplot(nsfg, aes(x = agepreg, totalwgt_lb)) + \n",
    "    geom_point(alpha = 0.1) +\n",
    "    stat_smooth(method = 'lm')"
   ]
  }
 ],
 "metadata": {
  "kernelspec": {
   "display_name": "R",
   "language": "R",
   "name": "ir"
  },
  "language_info": {
   "codemirror_mode": "r",
   "file_extension": ".r",
   "mimetype": "text/x-r-source",
   "name": "R",
   "pygments_lexer": "r",
   "version": "4.4.1"
  }
 },
 "nbformat": 4,
 "nbformat_minor": 2
}
