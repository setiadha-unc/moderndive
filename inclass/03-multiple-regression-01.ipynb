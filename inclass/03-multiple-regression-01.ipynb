{
 "cells": [
  {
   "cell_type": "markdown",
   "id": "b4d0785d-0167-4601-bbca-bd2da03d14b1",
   "metadata": {},
   "source": [
    "Load 📈`tidymodels` and the 🐧`palmerpenguins` packages"
   ]
  },
  {
   "cell_type": "code",
   "execution_count": 2,
   "id": "1b590c82-30fc-4512-a423-dc57f2faaf87",
   "metadata": {
    "vscode": {
     "languageId": "r"
    }
   },
   "outputs": [
    {
     "name": "stderr",
     "output_type": "stream",
     "text": [
      "── \u001b[1mAttaching core tidyverse packages\u001b[22m ──────────────────────── tidyverse 2.0.0 ──\n",
      "\u001b[32m✔\u001b[39m \u001b[34mdplyr    \u001b[39m 1.1.4     \u001b[32m✔\u001b[39m \u001b[34mreadr    \u001b[39m 2.1.5\n",
      "\u001b[32m✔\u001b[39m \u001b[34mforcats  \u001b[39m 1.0.0     \u001b[32m✔\u001b[39m \u001b[34mstringr  \u001b[39m 1.5.1\n",
      "\u001b[32m✔\u001b[39m \u001b[34mggplot2  \u001b[39m 3.5.1     \u001b[32m✔\u001b[39m \u001b[34mtibble   \u001b[39m 3.2.1\n",
      "\u001b[32m✔\u001b[39m \u001b[34mlubridate\u001b[39m 1.9.3     \u001b[32m✔\u001b[39m \u001b[34mtidyr    \u001b[39m 1.3.1\n",
      "\u001b[32m✔\u001b[39m \u001b[34mpurrr    \u001b[39m 1.0.2     \n",
      "── \u001b[1mConflicts\u001b[22m ────────────────────────────────────────── tidyverse_conflicts() ──\n",
      "\u001b[31m✖\u001b[39m \u001b[34mdplyr\u001b[39m::\u001b[32mfilter()\u001b[39m masks \u001b[34mstats\u001b[39m::filter()\n",
      "\u001b[31m✖\u001b[39m \u001b[34mdplyr\u001b[39m::\u001b[32mlag()\u001b[39m    masks \u001b[34mstats\u001b[39m::lag()\n",
      "\u001b[36mℹ\u001b[39m Use the conflicted package (\u001b[3m\u001b[34m<http://conflicted.r-lib.org/>\u001b[39m\u001b[23m) to force all conflicts to become errors\n",
      "── \u001b[1mAttaching packages\u001b[22m ────────────────────────────────────── tidymodels 1.2.0 ──\n",
      "\n",
      "\u001b[32m✔\u001b[39m \u001b[34mbroom       \u001b[39m 1.0.6     \u001b[32m✔\u001b[39m \u001b[34mrsample     \u001b[39m 1.2.1\n",
      "\u001b[32m✔\u001b[39m \u001b[34mdials       \u001b[39m 1.3.0     \u001b[32m✔\u001b[39m \u001b[34mtune        \u001b[39m 1.2.1\n",
      "\u001b[32m✔\u001b[39m \u001b[34minfer       \u001b[39m 1.0.7     \u001b[32m✔\u001b[39m \u001b[34mworkflows   \u001b[39m 1.1.4\n",
      "\u001b[32m✔\u001b[39m \u001b[34mmodeldata   \u001b[39m 1.4.0     \u001b[32m✔\u001b[39m \u001b[34mworkflowsets\u001b[39m 1.1.0\n",
      "\u001b[32m✔\u001b[39m \u001b[34mparsnip     \u001b[39m 1.2.1     \u001b[32m✔\u001b[39m \u001b[34myardstick   \u001b[39m 1.3.1\n",
      "\u001b[32m✔\u001b[39m \u001b[34mrecipes     \u001b[39m 1.1.0     \n",
      "\n",
      "── \u001b[1mConflicts\u001b[22m ───────────────────────────────────────── tidymodels_conflicts() ──\n",
      "\u001b[31m✖\u001b[39m \u001b[34mscales\u001b[39m::\u001b[32mdiscard()\u001b[39m masks \u001b[34mpurrr\u001b[39m::discard()\n",
      "\u001b[31m✖\u001b[39m \u001b[34mdplyr\u001b[39m::\u001b[32mfilter()\u001b[39m   masks \u001b[34mstats\u001b[39m::filter()\n",
      "\u001b[31m✖\u001b[39m \u001b[34mrecipes\u001b[39m::\u001b[32mfixed()\u001b[39m  masks \u001b[34mstringr\u001b[39m::fixed()\n",
      "\u001b[31m✖\u001b[39m \u001b[34mdplyr\u001b[39m::\u001b[32mlag()\u001b[39m      masks \u001b[34mstats\u001b[39m::lag()\n",
      "\u001b[31m✖\u001b[39m \u001b[34myardstick\u001b[39m::\u001b[32mspec()\u001b[39m masks \u001b[34mreadr\u001b[39m::spec()\n",
      "\u001b[31m✖\u001b[39m \u001b[34mrecipes\u001b[39m::\u001b[32mstep()\u001b[39m   masks \u001b[34mstats\u001b[39m::step()\n",
      "\u001b[34m•\u001b[39m Learn how to get started at \u001b[32mhttps://www.tidymodels.org/start/\u001b[39m\n",
      "\n",
      "\n",
      "Attaching package: 'palmerpenguins'\n",
      "\n",
      "\n",
      "The following object is masked from 'package:modeldata':\n",
      "\n",
      "    penguins\n",
      "\n",
      "\n"
     ]
    }
   ],
   "source": [
    "library(\"tidyverse\")\n",
    "library(\"tidymodels\")\n",
    "library(\"palmerpenguins\")"
   ]
  },
  {
   "cell_type": "markdown",
   "id": "65de5c4a-474f-40ce-a35f-09aa90ed8fae",
   "metadata": {},
   "source": [
    "Let's model penguin bill length using bill depth and penguin species as explanatory variables."
   ]
  },
  {
   "cell_type": "markdown",
   "id": "330d3140-3bbc-4362-a9f7-490e9324b3d9",
   "metadata": {},
   "source": [
    "First we need to prepare our training data for the model. We can use a `tidymodels` recipe for this..."
   ]
  },
  {
   "cell_type": "markdown",
   "id": "1c3ce203-3350-48d0-ab64-74c9ddbe733d",
   "metadata": {},
   "source": [
    "Create a `recipe` that dummy encodes the `species` variable. Make sure to \"prep\" your recipe. Use `juice` and `glimpse` to inspect your training data.\n"
   ]
  },
  {
   "cell_type": "code",
   "execution_count": 3,
   "id": "615e0098-8068-4eff-86ea-a2042ea1f01d",
   "metadata": {
    "vscode": {
     "languageId": "r"
    }
   },
   "outputs": [
    {
     "name": "stdout",
     "output_type": "stream",
     "text": [
      "Rows: 342\n",
      "Columns: 4\n",
      "$ bill_length_mm    \u001b[3m\u001b[90m<dbl>\u001b[39m\u001b[23m 39.1, 39.5, 40.3, 36.7, 39.3, 38.9, 39.2, 34.1, 42.0…\n",
      "$ bill_depth_mm     \u001b[3m\u001b[90m<dbl>\u001b[39m\u001b[23m 18.7, 17.4, 18.0, 19.3, 20.6, 17.8, 19.6, 18.1, 20.2…\n",
      "$ species_Chinstrap \u001b[3m\u001b[90m<dbl>\u001b[39m\u001b[23m 0, 0, 0, 0, 0, 0, 0, 0, 0, 0, 0, 0, 0, 0, 0, 0, 0, 0…\n",
      "$ species_Gentoo    \u001b[3m\u001b[90m<dbl>\u001b[39m\u001b[23m 0, 0, 0, 0, 0, 0, 0, 0, 0, 0, 0, 0, 0, 0, 0, 0, 0, 0…\n"
     ]
    }
   ],
   "source": [
    "# Hint the initial formula will be bill_length_mm ~ bill_depth_mm + species\n",
    "\n",
    "rec <- recipe(bill_depth_mm ~ bill_length_mm + species, data = penguins) |>\n",
    "  step_naomit(everything()) |>\n",
    "  step_dummy(species) |>\n",
    "  prep()\n",
    "\n",
    "rec |> juice() |> glimpse()"
   ]
  },
  {
   "cell_type": "markdown",
   "id": "cdd80a67-99cb-4953-9770-370618d43257",
   "metadata": {},
   "source": [
    "Now let's build train a linear model with our data from above"
   ]
  },
  {
   "cell_type": "code",
   "execution_count": 4,
   "id": "c5c6430a-f65a-4154-8a32-23bef8d585de",
   "metadata": {
    "vscode": {
     "languageId": "r"
    }
   },
   "outputs": [
    {
     "name": "stderr",
     "output_type": "stream",
     "text": [
      "Warning message in prep(rec, penguins):\n",
      "\"\u001b[1m\u001b[22m\u001b[33m!\u001b[39m The previous data will be used by `prep()`.\n",
      "\u001b[36mℹ\u001b[39m The data passed using `training` will be ignored.\"\n"
     ]
    },
    {
     "data": {
      "text/html": [
       "<table class=\"dataframe\">\n",
       "<caption>A tibble: 4 × 5</caption>\n",
       "<thead>\n",
       "\t<tr><th scope=col>term</th><th scope=col>estimate</th><th scope=col>std.error</th><th scope=col>statistic</th><th scope=col>p.value</th></tr>\n",
       "\t<tr><th scope=col>&lt;chr&gt;</th><th scope=col>&lt;dbl&gt;</th><th scope=col>&lt;dbl&gt;</th><th scope=col>&lt;dbl&gt;</th><th scope=col>&lt;dbl&gt;</th></tr>\n",
       "</thead>\n",
       "<tbody>\n",
       "\t<tr><td>(Intercept)      </td><td>13.216370</td><td>2.2475424</td><td> 5.880365</td><td>9.834290e-09</td></tr>\n",
       "\t<tr><td>bill_depth_mm    </td><td> 1.394011</td><td>0.1219961</td><td>11.426679</td><td>8.661124e-26</td></tr>\n",
       "\t<tr><td>species_Chinstrap</td><td> 9.938955</td><td>0.3677851</td><td>27.023812</td><td>1.810788e-86</td></tr>\n",
       "\t<tr><td>species_Gentoo   </td><td>13.403279</td><td>0.5118140</td><td>26.187795</td><td>2.421386e-83</td></tr>\n",
       "</tbody>\n",
       "</table>\n"
      ],
      "text/latex": [
       "A tibble: 4 × 5\n",
       "\\begin{tabular}{lllll}\n",
       " term & estimate & std.error & statistic & p.value\\\\\n",
       " <chr> & <dbl> & <dbl> & <dbl> & <dbl>\\\\\n",
       "\\hline\n",
       "\t (Intercept)       & 13.216370 & 2.2475424 &  5.880365 & 9.834290e-09\\\\\n",
       "\t bill\\_depth\\_mm     &  1.394011 & 0.1219961 & 11.426679 & 8.661124e-26\\\\\n",
       "\t species\\_Chinstrap &  9.938955 & 0.3677851 & 27.023812 & 1.810788e-86\\\\\n",
       "\t species\\_Gentoo    & 13.403279 & 0.5118140 & 26.187795 & 2.421386e-83\\\\\n",
       "\\end{tabular}\n"
      ],
      "text/markdown": [
       "\n",
       "A tibble: 4 × 5\n",
       "\n",
       "| term &lt;chr&gt; | estimate &lt;dbl&gt; | std.error &lt;dbl&gt; | statistic &lt;dbl&gt; | p.value &lt;dbl&gt; |\n",
       "|---|---|---|---|---|\n",
       "| (Intercept)       | 13.216370 | 2.2475424 |  5.880365 | 9.834290e-09 |\n",
       "| bill_depth_mm     |  1.394011 | 0.1219961 | 11.426679 | 8.661124e-26 |\n",
       "| species_Chinstrap |  9.938955 | 0.3677851 | 27.023812 | 1.810788e-86 |\n",
       "| species_Gentoo    | 13.403279 | 0.5118140 | 26.187795 | 2.421386e-83 |\n",
       "\n"
      ],
      "text/plain": [
       "  term              estimate  std.error statistic p.value     \n",
       "1 (Intercept)       13.216370 2.2475424  5.880365 9.834290e-09\n",
       "2 bill_depth_mm      1.394011 0.1219961 11.426679 8.661124e-26\n",
       "3 species_Chinstrap  9.938955 0.3677851 27.023812 1.810788e-86\n",
       "4 species_Gentoo    13.403279 0.5118140 26.187795 2.421386e-83"
      ]
     },
     "metadata": {},
     "output_type": "display_data"
    }
   ],
   "source": [
    "# Hint the formula will be bill_length_mm ~ .\n",
    "rec_prepped <- prep(rec, penguins)\n",
    "mod <- linear_reg() |> set_engine(\"lm\")\n",
    "mod_fit <- mod |> fit(bill_length_mm ~ ., data = juice(rec))\n",
    "tidy(mod_fit)"
   ]
  },
  {
   "cell_type": "markdown",
   "id": "898aee0f-c2d8-44c9-b51a-4e99e53b769e",
   "metadata": {},
   "source": [
    "Use the `tidy` function to report the model parameters."
   ]
  },
  {
   "cell_type": "code",
   "execution_count": 5,
   "id": "476985d2-ee4f-40ab-a6fa-928d6a1bc7ed",
   "metadata": {
    "vscode": {
     "languageId": "r"
    }
   },
   "outputs": [
    {
     "data": {
      "text/html": [
       "<table class=\"dataframe\">\n",
       "<caption>A tibble: 4 × 5</caption>\n",
       "<thead>\n",
       "\t<tr><th scope=col>term</th><th scope=col>estimate</th><th scope=col>std.error</th><th scope=col>statistic</th><th scope=col>p.value</th></tr>\n",
       "\t<tr><th scope=col>&lt;chr&gt;</th><th scope=col>&lt;dbl&gt;</th><th scope=col>&lt;dbl&gt;</th><th scope=col>&lt;dbl&gt;</th><th scope=col>&lt;dbl&gt;</th></tr>\n",
       "</thead>\n",
       "<tbody>\n",
       "\t<tr><td>(Intercept)      </td><td>13.216370</td><td>2.2475424</td><td> 5.880365</td><td>9.834290e-09</td></tr>\n",
       "\t<tr><td>bill_depth_mm    </td><td> 1.394011</td><td>0.1219961</td><td>11.426679</td><td>8.661124e-26</td></tr>\n",
       "\t<tr><td>species_Chinstrap</td><td> 9.938955</td><td>0.3677851</td><td>27.023812</td><td>1.810788e-86</td></tr>\n",
       "\t<tr><td>species_Gentoo   </td><td>13.403279</td><td>0.5118140</td><td>26.187795</td><td>2.421386e-83</td></tr>\n",
       "</tbody>\n",
       "</table>\n"
      ],
      "text/latex": [
       "A tibble: 4 × 5\n",
       "\\begin{tabular}{lllll}\n",
       " term & estimate & std.error & statistic & p.value\\\\\n",
       " <chr> & <dbl> & <dbl> & <dbl> & <dbl>\\\\\n",
       "\\hline\n",
       "\t (Intercept)       & 13.216370 & 2.2475424 &  5.880365 & 9.834290e-09\\\\\n",
       "\t bill\\_depth\\_mm     &  1.394011 & 0.1219961 & 11.426679 & 8.661124e-26\\\\\n",
       "\t species\\_Chinstrap &  9.938955 & 0.3677851 & 27.023812 & 1.810788e-86\\\\\n",
       "\t species\\_Gentoo    & 13.403279 & 0.5118140 & 26.187795 & 2.421386e-83\\\\\n",
       "\\end{tabular}\n"
      ],
      "text/markdown": [
       "\n",
       "A tibble: 4 × 5\n",
       "\n",
       "| term &lt;chr&gt; | estimate &lt;dbl&gt; | std.error &lt;dbl&gt; | statistic &lt;dbl&gt; | p.value &lt;dbl&gt; |\n",
       "|---|---|---|---|---|\n",
       "| (Intercept)       | 13.216370 | 2.2475424 |  5.880365 | 9.834290e-09 |\n",
       "| bill_depth_mm     |  1.394011 | 0.1219961 | 11.426679 | 8.661124e-26 |\n",
       "| species_Chinstrap |  9.938955 | 0.3677851 | 27.023812 | 1.810788e-86 |\n",
       "| species_Gentoo    | 13.403279 | 0.5118140 | 26.187795 | 2.421386e-83 |\n",
       "\n"
      ],
      "text/plain": [
       "  term              estimate  std.error statistic p.value     \n",
       "1 (Intercept)       13.216370 2.2475424  5.880365 9.834290e-09\n",
       "2 bill_depth_mm      1.394011 0.1219961 11.426679 8.661124e-26\n",
       "3 species_Chinstrap  9.938955 0.3677851 27.023812 1.810788e-86\n",
       "4 species_Gentoo    13.403279 0.5118140 26.187795 2.421386e-83"
      ]
     },
     "metadata": {},
     "output_type": "display_data"
    }
   ],
   "source": [
    "tidy(mod_fit)"
   ]
  },
  {
   "cell_type": "markdown",
   "id": "6b8e97dd-fb2d-42ac-97b2-0093296702a8",
   "metadata": {},
   "source": [
    "Run the code below to visualize the model."
   ]
  },
  {
   "cell_type": "code",
   "execution_count": 7,
   "id": "4b3bd28c-b1a4-410b-856b-1037acae9452",
   "metadata": {
    "vscode": {
     "languageId": "r"
    }
   },
   "outputs": [
    {
     "name": "stderr",
     "output_type": "stream",
     "text": [
      "Warning message:\n",
      "\"\u001b[1m\u001b[22mRemoved 2 rows containing non-finite outside the scale range\n",
      "(`stat_parallel_slopes()`).\"\n"
     ]
    },
    {
     "data": {
      "image/png": "[encoded data removed]",
      "text/plain": [
       "plot without title"
      ]
     },
     "metadata": {
      "image/png": {
       "height": 420,
       "width": 420
      }
     },
     "output_type": "display_data"
    }
   ],
   "source": [
    "p <- ggplot(penguins, aes(x = bill_depth_mm, y = bill_length_mm, color = species)) +\n",
    "  geom_point(na.rm = T) +\n",
    "  scale_color_brewer(palette = 'Set2') +\n",
    "  # geom_smooth(method = \"lm\")\n",
    "  moderndive::geom_parallel_slopes()\n",
    "\n",
    "p"
   ]
  },
  {
   "cell_type": "markdown",
   "id": "5a53384d-c7a2-4e9b-a8de-37a7a5f4fc09",
   "metadata": {},
   "source": [
    "Copy your cell from above with your \"recipe\" code and paste it below. **Add a step to make an interaction variable (use `step_interact(~ bill_depth_mm:starts_with(\"species\"))`)** "
   ]
  },
  {
   "cell_type": "code",
   "execution_count": 12,
   "id": "61a8b084-8c03-43d6-a8b3-4749d6a49507",
   "metadata": {
    "vscode": {
     "languageId": "r"
    }
   },
   "outputs": [
    {
     "ename": "ERROR",
     "evalue": "\u001b[1m\u001b[33mError\u001b[39m in `ggplot_add()`:\u001b[22m\n\u001b[1m\u001b[22m\u001b[33m!\u001b[39m Can't add `step_interact(~bill_depth_mm:starts_with(\"species\"))` to a\n  \u001b[34m<ggplot>\u001b[39m object.\n",
     "output_type": "error",
     "traceback": [
      "\u001b[1m\u001b[33mError\u001b[39m in `ggplot_add()`:\u001b[22m\n\u001b[1m\u001b[22m\u001b[33m!\u001b[39m Can't add `step_interact(~bill_depth_mm:starts_with(\"species\"))` to a\n  \u001b[34m<ggplot>\u001b[39m object.\nTraceback:\n",
      "1. `+.gg`(ggplot(penguins, aes(x = bill_depth_mm, y = bill_length_mm, \n .     color = species)) + geom_point(na.rm = T) + scale_color_brewer(palette = \"Set2\"), \n .     step_interact(~bill_depth_mm:starts_with(\"species\")))",
      "2. add_ggplot(e1, e2, e2name)",
      "3. ggplot_add(object, p, objectname)",
      "4. ggplot_add.default(object, p, objectname)",
      "5. cli::cli_abort(\"Can't add {.var {object_name}} to a {.cls ggplot} object.\")",
      "6. rlang::abort(message, ..., call = call, use_cli_format = TRUE, \n .     .frame = .frame)",
      "7. signal_abort(cnd, .file)"
     ]
    }
   ],
   "source": [
    "p <- ggplot(penguins, aes(x = bill_depth_mm, y = bill_length_mm, color = species)) +\n",
    "  geom_point(na.rm = T) +\n",
    "  scale_color_brewer(palette = 'Set2') +\n",
    "  # geom_smooth(method = \"lm\")\n",
    "  step_interact(~ bill_depth_mm:starts_with(\"species\")) +\n",
    "  moderndive::geom_parallel_slopes()\n"
   ]
  },
  {
   "cell_type": "markdown",
   "id": "583d2d53-e078-4f9b-8895-1d3cd9a836af",
   "metadata": {},
   "source": [
    "Build your model with the interaction variable."
   ]
  },
  {
   "cell_type": "code",
   "execution_count": null,
   "id": "2e3bc6ae-4909-4973-927f-b3ccd8cb2e34",
   "metadata": {
    "vscode": {
     "languageId": "r"
    }
   },
   "outputs": [],
   "source": [
    "\n",
    "\n"
   ]
  },
  {
   "cell_type": "markdown",
   "id": "d693ab01-e8fe-4662-8f7c-00ac93e10d4c",
   "metadata": {},
   "source": [
    "Visualize the model with the following code:"
   ]
  },
  {
   "cell_type": "code",
   "execution_count": null,
   "id": "b2682fa7-d2f5-424b-aa67-4d699be63423",
   "metadata": {
    "vscode": {
     "languageId": "r"
    }
   },
   "outputs": [],
   "source": [
    "p = ggplot(penguins, aes(x = bill_depth_mm, y = bill_length_mm, color = species)) +\n",
    "    geom_point(na.rm = T) +\n",
    "    scale_color_brewer(palette = 'Set2') +\n",
    "    geom_smooth(method = \"lm\")\n",
    "    # moderndive::geom_parallel_slopes()\n",
    "\n",
    "p"
   ]
  },
  {
   "cell_type": "markdown",
   "id": "958683e7-97ba-4e82-a3c9-a769d47adfe3",
   "metadata": {},
   "source": [
    "Which model do you prefer?"
   ]
  },
  {
   "cell_type": "markdown",
   "id": "537dd862-9c24-4848-86af-ebaf4005b842",
   "metadata": {},
   "source": [
    "You can use glance to find some model metrics. E.g.\n",
    "\n",
    "```r\n",
    "glance(mod_fit)\n",
    "```"
   ]
  },
  {
   "cell_type": "markdown",
   "id": "161d725e-aa2d-45f1-904d-9a4321306d40",
   "metadata": {},
   "source": [
    "How do the models compare with respect to adjusted coefficient of determination?"
   ]
  },
  {
   "cell_type": "code",
   "execution_count": null,
   "id": "fb29a982-6fb1-47b3-8019-273863698ece",
   "metadata": {
    "vscode": {
     "languageId": "r"
    }
   },
   "outputs": [],
   "source": []
  }
 ],
 "metadata": {
  "kernelspec": {
   "display_name": "R",
   "language": "R",
   "name": "ir"
  },
  "language_info": {
   "codemirror_mode": "r",
   "file_extension": ".r",
   "mimetype": "text/x-r-source",
   "name": "R",
   "pygments_lexer": "r",
   "version": "4.4.1"
  }
 },
 "nbformat": 4,
 "nbformat_minor": 5
}
