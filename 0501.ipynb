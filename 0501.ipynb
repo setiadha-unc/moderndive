{
 "cells": [
  {
   "cell_type": "code",
   "execution_count": 1,
   "id": "6ad4eab7-963d-4a1d-be98-436e68b4bb41",
   "metadata": {
    "tags": []
   },
   "outputs": [
    {
     "name": "stderr",
     "output_type": "stream",
     "text": [
      "Warning message:\n",
      "“Your system is mis-configured: ‘/var/db/timezone/localtime’ is not a symlink”\n",
      "Warning message:\n",
      "“‘/var/db/timezone/localtime’ is not identical to any known timezone file”\n",
      "── \u001b[1mAttaching core tidyverse packages\u001b[22m ──────────────────────── tidyverse 2.0.0 ──\n",
      "\u001b[32m✔\u001b[39m \u001b[34mdplyr    \u001b[39m 1.1.4     \u001b[32m✔\u001b[39m \u001b[34mreadr    \u001b[39m 2.1.5\n",
      "\u001b[32m✔\u001b[39m \u001b[34mforcats  \u001b[39m 1.0.0     \u001b[32m✔\u001b[39m \u001b[34mstringr  \u001b[39m 1.5.1\n",
      "\u001b[32m✔\u001b[39m \u001b[34mggplot2  \u001b[39m 3.5.1     \u001b[32m✔\u001b[39m \u001b[34mtibble   \u001b[39m 3.2.1\n",
      "\u001b[32m✔\u001b[39m \u001b[34mlubridate\u001b[39m 1.9.3     \u001b[32m✔\u001b[39m \u001b[34mtidyr    \u001b[39m 1.3.1\n",
      "\u001b[32m✔\u001b[39m \u001b[34mpurrr    \u001b[39m 1.0.2     \n",
      "── \u001b[1mConflicts\u001b[22m ────────────────────────────────────────── tidyverse_conflicts() ──\n",
      "\u001b[31m✖\u001b[39m \u001b[34mdplyr\u001b[39m::\u001b[32mfilter()\u001b[39m masks \u001b[34mstats\u001b[39m::filter()\n",
      "\u001b[31m✖\u001b[39m \u001b[34mdplyr\u001b[39m::\u001b[32mlag()\u001b[39m    masks \u001b[34mstats\u001b[39m::lag()\n",
      "\u001b[36mℹ\u001b[39m Use the conflicted package (\u001b[3m\u001b[34m<http://conflicted.r-lib.org/>\u001b[39m\u001b[23m) to force all conflicts to become errors\n"
     ]
    }
   ],
   "source": [
    "library('tidyverse')\n",
    "library('moderndive')\n",
    "library('skimr')"
   ]
  },
  {
   "cell_type": "code",
   "execution_count": 2,
   "id": "114658ab-6920-4c8a-be0f-d99bffd9e1c1",
   "metadata": {
    "tags": []
   },
   "outputs": [
    {
     "name": "stdout",
     "output_type": "stream",
     "text": [
      "Rows: 463\n",
      "Columns: 14\n",
      "$ ID           \u001b[3m\u001b[90m<int>\u001b[39m\u001b[23m 1, 2, 3, 4, 5, 6, 7, 8, 9, 10, 11, 12, 13, 14, 15, 16, 17…\n",
      "$ prof_ID      \u001b[3m\u001b[90m<int>\u001b[39m\u001b[23m 1, 1, 1, 1, 2, 2, 2, 3, 3, 4, 4, 4, 4, 4, 4, 4, 4, 5, 5, …\n",
      "$ score        \u001b[3m\u001b[90m<dbl>\u001b[39m\u001b[23m 4.7, 4.1, 3.9, 4.8, 4.6, 4.3, 2.8, 4.1, 3.4, 4.5, 3.8, 4.…\n",
      "$ age          \u001b[3m\u001b[90m<int>\u001b[39m\u001b[23m 36, 36, 36, 36, 59, 59, 59, 51, 51, 40, 40, 40, 40, 40, 4…\n",
      "$ bty_avg      \u001b[3m\u001b[90m<dbl>\u001b[39m\u001b[23m 5.000, 5.000, 5.000, 5.000, 3.000, 3.000, 3.000, 3.333, 3…\n",
      "$ gender       \u001b[3m\u001b[90m<fct>\u001b[39m\u001b[23m female, female, female, female, male, male, male, male, m…\n",
      "$ ethnicity    \u001b[3m\u001b[90m<fct>\u001b[39m\u001b[23m minority, minority, minority, minority, not minority, not…\n",
      "$ language     \u001b[3m\u001b[90m<fct>\u001b[39m\u001b[23m english, english, english, english, english, english, eng…\n",
      "$ rank         \u001b[3m\u001b[90m<fct>\u001b[39m\u001b[23m tenure track, tenure track, tenure track, tenure track, t…\n",
      "$ pic_outfit   \u001b[3m\u001b[90m<fct>\u001b[39m\u001b[23m not formal, not formal, not formal, not formal, not forma…\n",
      "$ pic_color    \u001b[3m\u001b[90m<fct>\u001b[39m\u001b[23m color, color, color, color, color, color, color, color, c…\n",
      "$ cls_did_eval \u001b[3m\u001b[90m<int>\u001b[39m\u001b[23m 24, 86, 76, 77, 17, 35, 39, 55, 111, 40, 24, 24, 17, 14, …\n",
      "$ cls_students \u001b[3m\u001b[90m<int>\u001b[39m\u001b[23m 43, 125, 125, 123, 20, 40, 44, 55, 195, 46, 27, 25, 20, 2…\n",
      "$ cls_level    \u001b[3m\u001b[90m<fct>\u001b[39m\u001b[23m upper, upper, upper, upper, upper, upper, upper, upper, u…\n"
     ]
    }
   ],
   "source": [
    "glimpse(evals)"
   ]
  },
  {
   "cell_type": "code",
   "execution_count": 4,
   "id": "f5ab0183-3db0-4af6-957c-6acfa61e6cdb",
   "metadata": {
    "tags": []
   },
   "outputs": [
    {
     "name": "stdout",
     "output_type": "stream",
     "text": [
      "Rows: 463\n",
      "Columns: 5\n",
      "$ ID      \u001b[3m\u001b[90m<int>\u001b[39m\u001b[23m 1, 2, 3, 4, 5, 6, 7, 8, 9, 10, 11, 12, 13, 14, 15, 16, 17, 18,…\n",
      "$ score   \u001b[3m\u001b[90m<dbl>\u001b[39m\u001b[23m 4.7, 4.1, 3.9, 4.8, 4.6, 4.3, 2.8, 4.1, 3.4, 4.5, 3.8, 4.5, 4.…\n",
      "$ bty_avg \u001b[3m\u001b[90m<dbl>\u001b[39m\u001b[23m 5.000, 5.000, 5.000, 5.000, 3.000, 3.000, 3.000, 3.333, 3.333,…\n",
      "$ age     \u001b[3m\u001b[90m<int>\u001b[39m\u001b[23m 36, 36, 36, 36, 59, 59, 59, 51, 51, 40, 40, 40, 40, 40, 40, 40…\n",
      "$ gender  \u001b[3m\u001b[90m<fct>\u001b[39m\u001b[23m female, female, female, female, male, male, male, male, male, …\n"
     ]
    }
   ],
   "source": [
    "evals_ch5 <- evals |> select(ID, score, bty_avg, age, gender)\n",
    "glimpse(evals_ch5)"
   ]
  },
  {
   "cell_type": "code",
   "execution_count": 5,
   "id": "651d31cd-9046-444d-83ff-e83b1a15eda6",
   "metadata": {
    "tags": []
   },
   "outputs": [
    {
     "data": {
      "text/html": [
       "<table class=\"dataframe\">\n",
       "<caption>A tibble: 5 × 5</caption>\n",
       "<thead>\n",
       "\t<tr><th scope=col>ID</th><th scope=col>score</th><th scope=col>bty_avg</th><th scope=col>age</th><th scope=col>gender</th></tr>\n",
       "\t<tr><th scope=col>&lt;int&gt;</th><th scope=col>&lt;dbl&gt;</th><th scope=col>&lt;dbl&gt;</th><th scope=col>&lt;int&gt;</th><th scope=col>&lt;fct&gt;</th></tr>\n",
       "</thead>\n",
       "<tbody>\n",
       "\t<tr><td>231</td><td>4.0</td><td>6.500</td><td>49</td><td>male  </td></tr>\n",
       "\t<tr><td>431</td><td>4.5</td><td>5.833</td><td>33</td><td>male  </td></tr>\n",
       "\t<tr><td> 37</td><td>4.5</td><td>4.000</td><td>51</td><td>female</td></tr>\n",
       "\t<tr><td> 35</td><td>3.5</td><td>4.167</td><td>33</td><td>female</td></tr>\n",
       "\t<tr><td>457</td><td>4.6</td><td>6.833</td><td>32</td><td>male  </td></tr>\n",
       "</tbody>\n",
       "</table>\n"
      ],
      "text/latex": [
       "A tibble: 5 × 5\n",
       "\\begin{tabular}{lllll}\n",
       " ID & score & bty\\_avg & age & gender\\\\\n",
       " <int> & <dbl> & <dbl> & <int> & <fct>\\\\\n",
       "\\hline\n",
       "\t 231 & 4.0 & 6.500 & 49 & male  \\\\\n",
       "\t 431 & 4.5 & 5.833 & 33 & male  \\\\\n",
       "\t  37 & 4.5 & 4.000 & 51 & female\\\\\n",
       "\t  35 & 3.5 & 4.167 & 33 & female\\\\\n",
       "\t 457 & 4.6 & 6.833 & 32 & male  \\\\\n",
       "\\end{tabular}\n"
      ],
      "text/markdown": [
       "\n",
       "A tibble: 5 × 5\n",
       "\n",
       "| ID &lt;int&gt; | score &lt;dbl&gt; | bty_avg &lt;dbl&gt; | age &lt;int&gt; | gender &lt;fct&gt; |\n",
       "|---|---|---|---|---|\n",
       "| 231 | 4.0 | 6.500 | 49 | male   |\n",
       "| 431 | 4.5 | 5.833 | 33 | male   |\n",
       "|  37 | 4.5 | 4.000 | 51 | female |\n",
       "|  35 | 3.5 | 4.167 | 33 | female |\n",
       "| 457 | 4.6 | 6.833 | 32 | male   |\n",
       "\n"
      ],
      "text/plain": [
       "  ID  score bty_avg age gender\n",
       "1 231 4.0   6.500   49  male  \n",
       "2 431 4.5   5.833   33  male  \n",
       "3  37 4.5   4.000   51  female\n",
       "4  35 3.5   4.167   33  female\n",
       "5 457 4.6   6.833   32  male  "
      ]
     },
     "metadata": {},
     "output_type": "display_data"
    }
   ],
   "source": [
    "evals_ch5 |> sample_n(5)"
   ]
  },
  {
   "cell_type": "code",
   "execution_count": 6,
   "id": "59ae711d-0e10-4688-96e0-f6b16d879acd",
   "metadata": {
    "tags": []
   },
   "outputs": [
    {
     "data": {
      "text/html": [
       "<table class=\"dataframe\">\n",
       "<caption>A tibble: 1 × 4</caption>\n",
       "<thead>\n",
       "\t<tr><th scope=col>mean_score</th><th scope=col>med_score</th><th scope=col>mean_btyavg</th><th scope=col>med_btyavg</th></tr>\n",
       "\t<tr><th scope=col>&lt;dbl&gt;</th><th scope=col>&lt;dbl&gt;</th><th scope=col>&lt;dbl&gt;</th><th scope=col>&lt;dbl&gt;</th></tr>\n",
       "</thead>\n",
       "<tbody>\n",
       "\t<tr><td>4.17473</td><td>4.3</td><td>4.417844</td><td>4.333</td></tr>\n",
       "</tbody>\n",
       "</table>\n"
      ],
      "text/latex": [
       "A tibble: 1 × 4\n",
       "\\begin{tabular}{llll}\n",
       " mean\\_score & med\\_score & mean\\_btyavg & med\\_btyavg\\\\\n",
       " <dbl> & <dbl> & <dbl> & <dbl>\\\\\n",
       "\\hline\n",
       "\t 4.17473 & 4.3 & 4.417844 & 4.333\\\\\n",
       "\\end{tabular}\n"
      ],
      "text/markdown": [
       "\n",
       "A tibble: 1 × 4\n",
       "\n",
       "| mean_score &lt;dbl&gt; | med_score &lt;dbl&gt; | mean_btyavg &lt;dbl&gt; | med_btyavg &lt;dbl&gt; |\n",
       "|---|---|---|---|\n",
       "| 4.17473 | 4.3 | 4.417844 | 4.333 |\n",
       "\n"
      ],
      "text/plain": [
       "  mean_score med_score mean_btyavg med_btyavg\n",
       "1 4.17473    4.3       4.417844    4.333     "
      ]
     },
     "metadata": {},
     "output_type": "display_data"
    }
   ],
   "source": [
    "evals_ch5 |> summarize(mean_score = mean(score), med_score = median(score), mean_btyavg = mean(bty_avg), med_btyavg = median(bty_avg))"
   ]
  },
  {
   "cell_type": "code",
   "execution_count": 11,
   "id": "a62dfafb-fc12-4221-939e-6448a9463dec",
   "metadata": {
    "tags": []
   },
   "outputs": [
    {
     "name": "stdout",
     "output_type": "stream",
     "text": [
      "── Data Summary ────────────────────────\n",
      "                           Values                      \n",
      "Name                       select(evals_ch5, score, ...\n",
      "Number of rows             463                         \n",
      "Number of columns          2                           \n",
      "_______________________                                \n",
      "Column type frequency:                                 \n",
      "  numeric                  2                           \n",
      "________________________                               \n",
      "Group variables            None                        \n",
      "\n",
      "── Variable type: numeric ──────────────────────────────────────────────────────\n",
      "  skim_variable n_missing complete_rate mean    sd   p0  p25  p50 p75 p100 hist \n",
      "\u001b[90m1\u001b[39m score                 0             1 4.17 0.544 2.3  3.8  4.3  4.6 5    ▁▁▅▇▇\n",
      "\u001b[90m2\u001b[39m bty_avg               0             1 4.42 1.53  1.67 3.17 4.33 5.5 8.17 ▃▇▇▃▂\n"
     ]
    },
    {
     "ename": "ERROR",
     "evalue": "Error in is.null(text_repr) || nchar(text_repr) == 0L: 'length = 12' in coercion to 'logical(1)'\n",
     "output_type": "error",
     "traceback": [
      "Error in is.null(text_repr) || nchar(text_repr) == 0L: 'length = 12' in coercion to 'logical(1)'\nTraceback:\n"
     ]
    }
   ],
   "source": [
    "skim_ch5 <- evals_ch5 |> select(score, bty_avg) |> skim()\n",
    "skim_ch5"
   ]
  },
  {
   "cell_type": "code",
   "execution_count": null,
   "id": "00472fdc-065d-4d88-a43f-fd0771ebb083",
   "metadata": {},
   "outputs": [],
   "source": []
  }
 ],
 "metadata": {
  "kernelspec": {
   "display_name": ".conda-data730:R",
   "language": "R",
   "name": "conda-env-.conda-data730-r"
  },
  "language_info": {
   "codemirror_mode": "r",
   "file_extension": ".r",
   "mimetype": "text/x-r-source",
   "name": "R",
   "pygments_lexer": "r",
   "version": "4.3.3"
  }
 },
 "nbformat": 4,
 "nbformat_minor": 5
}
